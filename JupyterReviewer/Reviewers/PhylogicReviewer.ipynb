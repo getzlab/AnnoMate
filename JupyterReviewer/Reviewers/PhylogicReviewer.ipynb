{
 "cells": [
  {
   "cell_type": "markdown",
   "id": "47f81ac9",
   "metadata": {
    "pycharm": {
     "name": "#%% md\n"
    }
   },
   "source": [
    "# Phylogic Reviewer"
   ]
  },
  {
   "cell_type": "code",
   "execution_count": 1,
   "id": "cd5a4c6f",
   "metadata": {
    "pycharm": {
     "is_executing": true,
     "name": "#%%\n"
    }
   },
   "outputs": [],
   "source": [
    "%load_ext autoreload\n",
    "%autoreload 2"
   ]
  },
  {
   "cell_type": "code",
   "execution_count": 2,
   "id": "b4bb095f",
   "metadata": {
    "pycharm": {
     "name": "#%%\n"
    }
   },
   "outputs": [],
   "source": [
    "from JupyterReviewer.Reviewers.PhylogicReviewer import PhylogicReviewer\n",
    "from JupyterReviewer.ReviewData import ReviewDataAnnotation\n",
    "from JupyterReviewer.ReviewDataApp import AppComponent\n",
    "\n",
    "import pandas as pd\n",
    "from dash import html"
   ]
  },
  {
   "cell_type": "markdown",
   "id": "1bd978bf",
   "metadata": {
    "pycharm": {
     "name": "#%% md\n"
    }
   },
   "source": [
    "## Edit the code below according to the commented directions"
   ]
  },
  {
   "cell_type": "code",
   "execution_count": null,
   "outputs": [],
   "source": [
    "participant_df = pd.read_csv(f'../../example_notebooks/example_data/participant_75.tsv', sep='\\t', index_col='entity:participant_id')\n",
    "sample_df = pd.read_csv('../../example_notebooks/example_data/pairs_75.tsv', sep='\\t', index_col='Sample_ID')\n"
   ],
   "metadata": {
    "collapsed": false,
    "pycharm": {
     "name": "#%%\n"
    }
   }
  },
  {
   "cell_type": "code",
   "execution_count": null,
   "outputs": [],
   "source": [
    "reviewer = PhylogicReviewer()\n",
    "\n",
    "reviewer.set_review_data(\n",
    "    # Enter the file path where you would like your pkl file of your review data to be stored\n",
    "    review_data_fn='../test_Phylogic_Reviewer_test1.pkl',\n",
    "    # Breifly describe the source of your data and its purpose\n",
    "    description='Test phylogic review',\n",
    "    # Enter the file path to your data to be reviewed\n",
    "    df=participant_df\n",
    ")\n",
    "\n",
    "reviewer.set_review_app(sample_data_df='/Users/cmesser/Documents/Projects/participant_reviewer/pairs_75.tsv', preprocess_data_dir='../../example_notebooks/example_data/test_preprocess/')\n",
    "reviewer.set_default_review_data_annotations_configuration()"
   ],
   "metadata": {
    "collapsed": false,
    "pycharm": {
     "name": "#%%\n"
    }
   }
  },
  {
   "cell_type": "markdown",
   "id": "040af090",
   "metadata": {
    "pycharm": {
     "name": "#%% md\n"
    }
   },
   "source": [
    "## Run"
   ]
  },
  {
   "cell_type": "code",
   "execution_count": 5,
   "id": "ee299041",
   "metadata": {
    "pycharm": {
     "name": "#%%\n"
    }
   },
   "outputs": [
    {
     "name": "stdout",
     "output_type": "stream",
     "text": [
      "Dash app running on http://0.0.0.0:8088/\n"
     ]
    }
   ],
   "source": [
    "reviewer.run(mode='external', port=8088)"
   ]
  },
  {
   "cell_type": "code",
   "execution_count": 101,
   "id": "4dc2a865-d334-44af-a29d-bb15c05b72cb",
   "metadata": {
    "pycharm": {
     "name": "#%%\n"
    },
    "tags": []
   },
   "outputs": [],
   "source": [
    "sample_data_df=pd.read_csv('/Users/cmesser/Documents/Projects/participant_reviewer/pairs_75.tsv', sep='\\t').set_index('entity:pair_id')\n",
    "data_df = pd.read_csv(f'/Users/cmesser/Documents/Projects/participant_reviewer/participant_75.tsv', sep='\\t').set_index('entity:participant_id')\n",
    "from cnv_suite import switch_contigs\n",
    "mut_ccfs_df = switch_contigs(pd.read_csv(data_df.loc['GBM.ICB-75']['mut_ccfs'], sep='\\t'))\n",
    "mut_ccfs_df['Chromosome'] = mut_ccfs_df['Chromosome'].astype(int)  # todo change\n",
    "seg_df = []\n",
    "for sample_id in sample_data_df.sort_values('collection_date_dfd').index.tolist():\n",
    "    this_seg_df = pd.read_csv(sample_data_df.loc[sample_id, 'alleliccapseg_tsv'], sep='\\t')\n",
    "    this_seg_df['Sample_ID'] = sample_id\n",
    "    seg_df.append(this_seg_df)\n",
    "seg_trees = cnv_suite.get_segment_interval_trees(pd.concat(seg_df))"
   ]
  },
  {
   "cell_type": "code",
   "execution_count": 102,
   "id": "7eae7e84-13a3-44e9-b069-61d94a382de1",
   "metadata": {
    "pycharm": {
     "name": "#%%\n"
    }
   },
   "outputs": [],
   "source": [
    "tup = seg_trees[22][10000000].pop().data['GBM.ICB-75-19.778.A1-Post3']"
   ]
  },
  {
   "cell_type": "code",
   "execution_count": 103,
   "id": "d42047ac-9090-4291-8055-03c47c499439",
   "metadata": {
    "pycharm": {
     "name": "#%%\n"
    }
   },
   "outputs": [
    {
     "ename": "KeyError",
     "evalue": "'pop from an empty set'",
     "output_type": "error",
     "traceback": [
      "\u001B[0;31m---------------------------------------------------------------------------\u001B[0m",
      "\u001B[0;31mKeyError\u001B[0m                                  Traceback (most recent call last)",
      "\u001B[0;32m/var/folders/ls/mgh17n292wz2h9p3r5_25mm40000gp/T/ipykernel_57847/1399700353.py\u001B[0m in \u001B[0;36m<module>\u001B[0;34m\u001B[0m\n\u001B[0;32m----> 1\u001B[0;31m \u001B[0mmut_ccfs_df\u001B[0m \u001B[0;34m=\u001B[0m \u001B[0mcnv_suite\u001B[0m\u001B[0;34m.\u001B[0m\u001B[0mapply_segment_data_to_df\u001B[0m\u001B[0;34m(\u001B[0m\u001B[0mmut_ccfs_df\u001B[0m\u001B[0;34m,\u001B[0m \u001B[0mseg_trees\u001B[0m\u001B[0;34m)\u001B[0m\u001B[0;34m\u001B[0m\u001B[0;34m\u001B[0m\u001B[0m\n\u001B[0m",
      "\u001B[0;32m~/PycharmProjects/reviewer_tools/JupyterReviewer/venv_JupyterReviewer/lib/python3.7/site-packages/cnv_suite/utils/cnv_helper_methods.py\u001B[0m in \u001B[0;36mapply_segment_data_to_df\u001B[0;34m(df, seg_trees)\u001B[0m\n\u001B[1;32m    170\u001B[0m     data = [return_seg_data_at_loci(seg_trees, s, c, p) for s, c, p in zip(df_copy['Sample_ID'],\n\u001B[1;32m    171\u001B[0m                                                                            \u001B[0mdf_copy\u001B[0m\u001B[0;34m[\u001B[0m\u001B[0;34m'Chromosome'\u001B[0m\u001B[0;34m]\u001B[0m\u001B[0;34m,\u001B[0m\u001B[0;34m\u001B[0m\u001B[0;34m\u001B[0m\u001B[0m\n\u001B[0;32m--> 172\u001B[0;31m                                                                            df_copy['Start_position'])]\n\u001B[0m\u001B[1;32m    173\u001B[0m     \u001B[0;31m# get columns from one of the dicts in data\u001B[0m\u001B[0;34m\u001B[0m\u001B[0;34m\u001B[0m\u001B[0;34m\u001B[0m\u001B[0m\n\u001B[1;32m    174\u001B[0m     \u001B[0mcol_names\u001B[0m \u001B[0;34m=\u001B[0m \u001B[0;34m[\u001B[0m\u001B[0;34m'No_Segment_Data'\u001B[0m\u001B[0;34m]\u001B[0m\u001B[0;34m\u001B[0m\u001B[0;34m\u001B[0m\u001B[0m\n",
      "\u001B[0;32m~/PycharmProjects/reviewer_tools/JupyterReviewer/venv_JupyterReviewer/lib/python3.7/site-packages/cnv_suite/utils/cnv_helper_methods.py\u001B[0m in \u001B[0;36m<listcomp>\u001B[0;34m(.0)\u001B[0m\n\u001B[1;32m    168\u001B[0m         \u001B[0mdf_copy\u001B[0m\u001B[0;34m[\u001B[0m\u001B[0;34m'Sample_ID'\u001B[0m\u001B[0;34m]\u001B[0m \u001B[0;34m=\u001B[0m \u001B[0;34m'SAMPLE'\u001B[0m\u001B[0;34m\u001B[0m\u001B[0;34m\u001B[0m\u001B[0m\n\u001B[1;32m    169\u001B[0m \u001B[0;34m\u001B[0m\u001B[0m\n\u001B[0;32m--> 170\u001B[0;31m     data = [return_seg_data_at_loci(seg_trees, s, c, p) for s, c, p in zip(df_copy['Sample_ID'],\n\u001B[0m\u001B[1;32m    171\u001B[0m                                                                            \u001B[0mdf_copy\u001B[0m\u001B[0;34m[\u001B[0m\u001B[0;34m'Chromosome'\u001B[0m\u001B[0;34m]\u001B[0m\u001B[0;34m,\u001B[0m\u001B[0;34m\u001B[0m\u001B[0;34m\u001B[0m\u001B[0m\n\u001B[1;32m    172\u001B[0m                                                                            df_copy['Start_position'])]\n",
      "\u001B[0;32m~/PycharmProjects/reviewer_tools/JupyterReviewer/venv_JupyterReviewer/lib/python3.7/site-packages/cnv_suite/utils/cnv_helper_methods.py\u001B[0m in \u001B[0;36mreturn_seg_data_at_loci\u001B[0;34m(seg_trees, sample, contig, pos)\u001B[0m\n\u001B[1;32m    150\u001B[0m     \u001B[0;31m# todo make sure contig is int\u001B[0m\u001B[0;34m\u001B[0m\u001B[0;34m\u001B[0m\u001B[0;34m\u001B[0m\u001B[0m\n\u001B[1;32m    151\u001B[0m     \u001B[0;32mtry\u001B[0m\u001B[0;34m:\u001B[0m\u001B[0;34m\u001B[0m\u001B[0;34m\u001B[0m\u001B[0m\n\u001B[0;32m--> 152\u001B[0;31m         \u001B[0mdata\u001B[0m \u001B[0;34m=\u001B[0m \u001B[0mseg_trees\u001B[0m\u001B[0;34m[\u001B[0m\u001B[0mcontig\u001B[0m \u001B[0;34m-\u001B[0m \u001B[0;36m1\u001B[0m\u001B[0;34m]\u001B[0m\u001B[0;34m[\u001B[0m\u001B[0mpos\u001B[0m\u001B[0;34m]\u001B[0m\u001B[0;34m.\u001B[0m\u001B[0mpop\u001B[0m\u001B[0;34m(\u001B[0m\u001B[0;34m)\u001B[0m\u001B[0;34m.\u001B[0m\u001B[0mdata\u001B[0m\u001B[0;34m[\u001B[0m\u001B[0msample\u001B[0m\u001B[0;34m]\u001B[0m  \u001B[0;31m# only one hit, because of split_overlaps\u001B[0m\u001B[0;34m\u001B[0m\u001B[0;34m\u001B[0m\u001B[0m\n\u001B[0m\u001B[1;32m    153\u001B[0m     \u001B[0;32mexcept\u001B[0m \u001B[0mIndexError\u001B[0m \u001B[0;32mor\u001B[0m \u001B[0mKeyError\u001B[0m\u001B[0;34m:\u001B[0m  \u001B[0;31m# no segment at given loci\u001B[0m\u001B[0;34m\u001B[0m\u001B[0;34m\u001B[0m\u001B[0m\n\u001B[1;32m    154\u001B[0m         \u001B[0;32mreturn\u001B[0m \u001B[0;32mNone\u001B[0m\u001B[0;34m\u001B[0m\u001B[0;34m\u001B[0m\u001B[0m\n",
      "\u001B[0;31mKeyError\u001B[0m: 'pop from an empty set'"
     ]
    }
   ],
   "source": [
    "mut_ccfs_df = cnv_suite.apply_segment_data_to_df(mut_ccfs_df, seg_trees)"
   ]
  },
  {
   "cell_type": "code",
   "execution_count": 62,
   "id": "c6b27eae-39d1-41b5-b1bd-03e61b00d6f3",
   "metadata": {
    "pycharm": {
     "name": "#%%\n"
    }
   },
   "outputs": [],
   "source": [
    "seg_df = []\n",
    "for sample_id in sample_data_df.sort_values('collection_date_dfd').index.tolist():\n",
    "    this_seg_df = pd.read_csv(sample_data_df.loc[sample_id, 'alleliccapseg_tsv'], sep='\\t')\n",
    "    this_seg_df['Sample_ID'] = sample_id\n",
    "    seg_df.append(this_seg_df)"
   ]
  },
  {
   "cell_type": "code",
   "execution_count": 63,
   "id": "f970f54f-589d-46ac-b508-41dc1c1cd8c5",
   "metadata": {
    "pycharm": {
     "name": "#%%\n"
    }
   },
   "outputs": [],
   "source": [
    "import cnv_suite\n",
    "seg_trees = cnv_suite.get_segment_interval_trees(pd.concat(seg_df))"
   ]
  },
  {
   "cell_type": "code",
   "execution_count": 77,
   "id": "f613c707-d4b8-44a8-bd14-434cf31c13c2",
   "metadata": {
    "pycharm": {
     "name": "#%%\n"
    }
   },
   "outputs": [
    {
     "data": {
      "text/plain": [
       "Data_Tuple(n_probes=512.0, length=46014200.0, n_hets=0.0, f=1.0, tau=1.92736020387392, sigma_tau=0.0088302649739119, mu_minor=0.001, sigma_minor=1e-05, mu_major=0.96368010193696, sigma_major=0.0044151324869559, SegLabelCNLOH=2.0, Cluster_assignment='0')"
      ]
     },
     "execution_count": 77,
     "metadata": {},
     "output_type": "execute_result"
    }
   ],
   "source": [
    "seg_trees[22][10000000].pop().data['GBM.ICB-75-19.778.A1-Post3_pair']"
   ]
  },
  {
   "cell_type": "code",
   "execution_count": 59,
   "id": "5d852fa8-c6fe-4a79-9e39-b30124ea0668",
   "metadata": {
    "pycharm": {
     "name": "#%%\n"
    }
   },
   "outputs": [
    {
     "data": {
      "text/html": [
       "<div>\n",
       "<style scoped>\n",
       "    .dataframe tbody tr th:only-of-type {\n",
       "        vertical-align: middle;\n",
       "    }\n",
       "\n",
       "    .dataframe tbody tr th {\n",
       "        vertical-align: top;\n",
       "    }\n",
       "\n",
       "    .dataframe thead th {\n",
       "        text-align: right;\n",
       "    }\n",
       "</style>\n",
       "<table border=\"1\" class=\"dataframe\">\n",
       "  <thead>\n",
       "    <tr style=\"text-align: right;\">\n",
       "      <th></th>\n",
       "      <th>Chromosome</th>\n",
       "      <th>Start.bp</th>\n",
       "      <th>End.bp</th>\n",
       "      <th>n_probes</th>\n",
       "      <th>length</th>\n",
       "      <th>n_hets</th>\n",
       "      <th>f</th>\n",
       "      <th>tau</th>\n",
       "      <th>sigma.tau</th>\n",
       "      <th>mu.minor</th>\n",
       "      <th>sigma.minor</th>\n",
       "      <th>mu.major</th>\n",
       "      <th>sigma.major</th>\n",
       "      <th>SegLabelCNLOH</th>\n",
       "    </tr>\n",
       "  </thead>\n",
       "  <tbody>\n",
       "    <tr>\n",
       "      <th>0</th>\n",
       "      <td>1</td>\n",
       "      <td>3301782</td>\n",
       "      <td>247769352</td>\n",
       "      <td>10328</td>\n",
       "      <td>244467570</td>\n",
       "      <td>1246</td>\n",
       "      <td>0.5</td>\n",
       "      <td>2.008057</td>\n",
       "      <td>0.001671</td>\n",
       "      <td>1.004028</td>\n",
       "      <td>0.000902</td>\n",
       "      <td>1.004028</td>\n",
       "      <td>0.000902</td>\n",
       "      <td>2</td>\n",
       "    </tr>\n",
       "    <tr>\n",
       "      <th>1</th>\n",
       "      <td>2</td>\n",
       "      <td>669714</td>\n",
       "      <td>242447435</td>\n",
       "      <td>7669</td>\n",
       "      <td>241777721</td>\n",
       "      <td>866</td>\n",
       "      <td>0.5</td>\n",
       "      <td>2.018693</td>\n",
       "      <td>0.001949</td>\n",
       "      <td>1.009347</td>\n",
       "      <td>0.001324</td>\n",
       "      <td>1.009347</td>\n",
       "      <td>0.001324</td>\n",
       "      <td>2</td>\n",
       "    </tr>\n",
       "    <tr>\n",
       "      <th>2</th>\n",
       "      <td>3</td>\n",
       "      <td>2861217</td>\n",
       "      <td>197518280</td>\n",
       "      <td>6216</td>\n",
       "      <td>194657063</td>\n",
       "      <td>797</td>\n",
       "      <td>0.5</td>\n",
       "      <td>2.017244</td>\n",
       "      <td>0.002163</td>\n",
       "      <td>1.008622</td>\n",
       "      <td>0.001343</td>\n",
       "      <td>1.008622</td>\n",
       "      <td>0.001343</td>\n",
       "      <td>2</td>\n",
       "    </tr>\n",
       "    <tr>\n",
       "      <th>3</th>\n",
       "      <td>4</td>\n",
       "      <td>1067055</td>\n",
       "      <td>187629348</td>\n",
       "      <td>3988</td>\n",
       "      <td>186562293</td>\n",
       "      <td>544</td>\n",
       "      <td>0.5</td>\n",
       "      <td>2.038958</td>\n",
       "      <td>0.002730</td>\n",
       "      <td>1.019479</td>\n",
       "      <td>0.001862</td>\n",
       "      <td>1.019479</td>\n",
       "      <td>0.001862</td>\n",
       "      <td>2</td>\n",
       "    </tr>\n",
       "    <tr>\n",
       "      <th>4</th>\n",
       "      <td>5</td>\n",
       "      <td>916053</td>\n",
       "      <td>139941102</td>\n",
       "      <td>3056</td>\n",
       "      <td>139025049</td>\n",
       "      <td>369</td>\n",
       "      <td>0.5</td>\n",
       "      <td>2.034637</td>\n",
       "      <td>0.003112</td>\n",
       "      <td>1.017318</td>\n",
       "      <td>0.002184</td>\n",
       "      <td>1.017318</td>\n",
       "      <td>0.002184</td>\n",
       "      <td>2</td>\n",
       "    </tr>\n",
       "    <tr>\n",
       "      <th>...</th>\n",
       "      <td>...</td>\n",
       "      <td>...</td>\n",
       "      <td>...</td>\n",
       "      <td>...</td>\n",
       "      <td>...</td>\n",
       "      <td>...</td>\n",
       "      <td>...</td>\n",
       "      <td>...</td>\n",
       "      <td>...</td>\n",
       "      <td>...</td>\n",
       "      <td>...</td>\n",
       "      <td>...</td>\n",
       "      <td>...</td>\n",
       "      <td>...</td>\n",
       "    </tr>\n",
       "    <tr>\n",
       "      <th>499</th>\n",
       "      <td>22</td>\n",
       "      <td>38504103</td>\n",
       "      <td>38506506</td>\n",
       "      <td>3</td>\n",
       "      <td>2403</td>\n",
       "      <td>0</td>\n",
       "      <td>NaN</td>\n",
       "      <td>1.312567</td>\n",
       "      <td>0.092936</td>\n",
       "      <td>NaN</td>\n",
       "      <td>NaN</td>\n",
       "      <td>NaN</td>\n",
       "      <td>NaN</td>\n",
       "      <td>2</td>\n",
       "    </tr>\n",
       "    <tr>\n",
       "      <th>500</th>\n",
       "      <td>22</td>\n",
       "      <td>38508375</td>\n",
       "      <td>49145654</td>\n",
       "      <td>783</td>\n",
       "      <td>10637279</td>\n",
       "      <td>70</td>\n",
       "      <td>0.5</td>\n",
       "      <td>1.874862</td>\n",
       "      <td>0.008202</td>\n",
       "      <td>0.937431</td>\n",
       "      <td>0.006140</td>\n",
       "      <td>0.937431</td>\n",
       "      <td>0.006140</td>\n",
       "      <td>2</td>\n",
       "    </tr>\n",
       "    <tr>\n",
       "      <th>501</th>\n",
       "      <td>23</td>\n",
       "      <td>3228710</td>\n",
       "      <td>49242910</td>\n",
       "      <td>512</td>\n",
       "      <td>46014200</td>\n",
       "      <td>0</td>\n",
       "      <td>1.0</td>\n",
       "      <td>1.943732</td>\n",
       "      <td>0.012962</td>\n",
       "      <td>0.001000</td>\n",
       "      <td>0.000010</td>\n",
       "      <td>0.971866</td>\n",
       "      <td>0.006481</td>\n",
       "      <td>2</td>\n",
       "    </tr>\n",
       "    <tr>\n",
       "      <th>502</th>\n",
       "      <td>23</td>\n",
       "      <td>49301489</td>\n",
       "      <td>49361324</td>\n",
       "      <td>14</td>\n",
       "      <td>59835</td>\n",
       "      <td>0</td>\n",
       "      <td>1.0</td>\n",
       "      <td>1.010432</td>\n",
       "      <td>0.040878</td>\n",
       "      <td>0.001000</td>\n",
       "      <td>0.000010</td>\n",
       "      <td>0.505216</td>\n",
       "      <td>0.020439</td>\n",
       "      <td>2</td>\n",
       "    </tr>\n",
       "    <tr>\n",
       "      <th>503</th>\n",
       "      <td>23</td>\n",
       "      <td>49365112</td>\n",
       "      <td>155239777</td>\n",
       "      <td>1186</td>\n",
       "      <td>105874665</td>\n",
       "      <td>0</td>\n",
       "      <td>1.0</td>\n",
       "      <td>1.895683</td>\n",
       "      <td>0.008307</td>\n",
       "      <td>0.001000</td>\n",
       "      <td>0.000010</td>\n",
       "      <td>0.947841</td>\n",
       "      <td>0.004154</td>\n",
       "      <td>2</td>\n",
       "    </tr>\n",
       "  </tbody>\n",
       "</table>\n",
       "<p>1224 rows × 14 columns</p>\n",
       "</div>"
      ],
      "text/plain": [
       "     Chromosome  Start.bp     End.bp  n_probes     length  n_hets    f  \\\n",
       "0             1   3301782  247769352     10328  244467570    1246  0.5   \n",
       "1             2    669714  242447435      7669  241777721     866  0.5   \n",
       "2             3   2861217  197518280      6216  194657063     797  0.5   \n",
       "3             4   1067055  187629348      3988  186562293     544  0.5   \n",
       "4             5    916053  139941102      3056  139025049     369  0.5   \n",
       "..          ...       ...        ...       ...        ...     ...  ...   \n",
       "499          22  38504103   38506506         3       2403       0  NaN   \n",
       "500          22  38508375   49145654       783   10637279      70  0.5   \n",
       "501          23   3228710   49242910       512   46014200       0  1.0   \n",
       "502          23  49301489   49361324        14      59835       0  1.0   \n",
       "503          23  49365112  155239777      1186  105874665       0  1.0   \n",
       "\n",
       "          tau  sigma.tau  mu.minor  sigma.minor  mu.major  sigma.major  \\\n",
       "0    2.008057   0.001671  1.004028     0.000902  1.004028     0.000902   \n",
       "1    2.018693   0.001949  1.009347     0.001324  1.009347     0.001324   \n",
       "2    2.017244   0.002163  1.008622     0.001343  1.008622     0.001343   \n",
       "3    2.038958   0.002730  1.019479     0.001862  1.019479     0.001862   \n",
       "4    2.034637   0.003112  1.017318     0.002184  1.017318     0.002184   \n",
       "..        ...        ...       ...          ...       ...          ...   \n",
       "499  1.312567   0.092936       NaN          NaN       NaN          NaN   \n",
       "500  1.874862   0.008202  0.937431     0.006140  0.937431     0.006140   \n",
       "501  1.943732   0.012962  0.001000     0.000010  0.971866     0.006481   \n",
       "502  1.010432   0.040878  0.001000     0.000010  0.505216     0.020439   \n",
       "503  1.895683   0.008307  0.001000     0.000010  0.947841     0.004154   \n",
       "\n",
       "     SegLabelCNLOH  \n",
       "0                2  \n",
       "1                2  \n",
       "2                2  \n",
       "3                2  \n",
       "4                2  \n",
       "..             ...  \n",
       "499              2  \n",
       "500              2  \n",
       "501              2  \n",
       "502              2  \n",
       "503              2  \n",
       "\n",
       "[1224 rows x 14 columns]"
      ]
     },
     "execution_count": 59,
     "metadata": {},
     "output_type": "execute_result"
    }
   ],
   "source": [
    "pd.concat(seg_df.values())"
   ]
  },
  {
   "cell_type": "code",
   "execution_count": null,
   "id": "acd02bcb-8144-429a-b6f4-fc186dbfcc7c",
   "metadata": {
    "pycharm": {
     "name": "#%%\n"
    }
   },
   "outputs": [],
   "source": []
  },
  {
   "cell_type": "markdown",
   "id": "f4a11a31-6580-4b5c-8fcf-04783d701f30",
   "metadata": {
    "pycharm": {
     "name": "#%% md\n"
    }
   },
   "source": [
    "### Test plotting"
   ]
  },
  {
   "cell_type": "code",
   "execution_count": 50,
   "id": "2488236c-b837-45f6-b99b-402b3fb89b92",
   "metadata": {
    "pycharm": {
     "name": "#%%\n"
    }
   },
   "outputs": [],
   "source": [
    "#from PhylogicReviewer import ccf_pmf_plot\n",
    "import pandas as pd\n",
    "import re\n",
    "import plotly.express as px\n",
    "\n",
    "df = pd.DataFrame([['ONC106612', 'gs://fc-secure-c1d8f0c8-dc8c-418a-ac13-561b18de3d8e/1dc35867-4c57-487e-bcdd-e39820462211/phylogicndt/b007b77f-c150-490f-9d55-7ace9eb495dd/call-clustering/ONC106612.mut_ccfs.txt'], ['ONC110293', 'gs://fc-secure-c1d8f0c8-dc8c-418a-ac13-561b18de3d8e/1dc35867-4c57-487e-bcdd-e39820462211/phylogicndt/598b3916-a3b8-49dd-a3cb-bfb8ab8cd08e/call-clustering/cacheCopy/ONC110293.mut_ccfs.txt']], columns=['participant_id', 'mut_ccfs'])\n",
    "df.set_index('participant_id', inplace=True)\n",
    "mut_ids = ['13:67799823C>A', '3:99568657T>C', '17:1558752G>A']\n",
    "samples = ['17318_13_OCT_052219', '17318_13_BB_111119']\n"
   ]
  },
  {
   "cell_type": "code",
   "execution_count": null,
   "id": "467ac8c9",
   "metadata": {
    "collapsed": false,
    "jupyter": {
     "outputs_hidden": false
    },
    "pycharm": {
     "name": "#%%\n"
    }
   },
   "outputs": [],
   "source": [
    "def ccf_pmf_plot(data_df, idx, mut_ids, sample_selection, group_clusters=False):\n",
    "    \"\"\"Plots the CCF pmf distribution for the chosen mutation(s).\n",
    "\n",
    "    Notes\n",
    "    -----\n",
    "    - Displays the pmf distribution as a normalized histogram\n",
    "    - Samples are shown in separate rows\n",
    "    - Clusters displayed with different colors, with adjacent bars\n",
    "    \n",
    "    TODO\n",
    "    ----\n",
    "    - Add a star (*) above the mode for each mutation\n",
    "    - Add an indication of mean?\n",
    "\n",
    "    \"\"\"\n",
    "    mut_ccfs_df = pd.read_csv(data_df.loc[idx, 'mut_ccfs'], sep='\\t')\n",
    "    mut_ccfs_df['unique_mut_id'] = mut_ccfs_df.apply(get_unique_identifier, axis=1)\n",
    "    chosen_muts_df = mut_ccfs_df[mut_ccfs_df['unique_mut_id'].isin(mut_ids)].copy()\n",
    "\n",
    "    ccfs_headers = [re.search('.*[01].[0-9]+', i) for i in mut_ccfs_df.columns]\n",
    "    ccfs_headers = [x.group() for x in ccfs_headers if x]\n",
    "    ccfs_header_dict = {i: re.search('[01].[0-9]+', i).group() for i in ccfs_headers}\n",
    "\n",
    "    #pmf_plot = make_subplots(1, len(sample_selection))\n",
    "    stacked_muts = chosen_muts_df.set_index(['Sample_ID', 'unique_mut_id', 'Cluster_Assignment'])[\n",
    "        ccfs_headers].stack().reset_index().rename(columns={'level_3': 'CCF', 0: 'Probability'}).replace(ccfs_header_dict)\n",
    "    if group_clusters:\n",
    "        stacked_muts['Cluster_Assignment'] = stacked_muts['Cluster_Assignment'].astype(str)\n",
    "        fig = px.histogram(stacked_muts, x='CCF', y='Probability', facet_row='Sample_ID', barmode='group', height=300*len(sample_selection), color='Cluster_Assignment', histfunc='avg', color_discrete_map=get_phylogic_color_scale())\n",
    "    else:\n",
    "        fig = px.histogram(stacked_muts, x='CCF', y='Probability', facet_row='Sample_ID', barmode='group', height=300*len(sample_selection), color='unique_mut_id', labels={'unique_mut_id': 'Mutation'})\n",
    "        mut_label_dict = {x['unique_mut_id']: f\"{x['Hugo_Symbol']} - {x['Chromosome']}:{x['Start_position']}\" for idx, x in chosen_muts_df.drop_duplicates('unique_mut_id').iterrows()}\n",
    "        fig.for_each_trace(lambda t: t.update(name = mut_label_dict[t.name]))\n",
    "\n",
    "    fig.update_layout(xaxis_tickangle=0, xaxis_ticklabelstep=5)\n",
    "    fig.update_yaxes(matches=None)\n",
    "    \n",
    "    return fig\n",
    "\n",
    "\n",
    "def get_unique_identifier(row, chrom='Chromosome', start_pos='Start_position',\n",
    "                          ref='Reference_Allele', alt='Tumor_Seq_Allele'):\n",
    "    \"\"\"Generates unique string for this mutation, including contig, start position, ref and alt alleles.\n",
    "\n",
    "    Does not include End Position, for this field is not present in mut_ccfs Phylogic output. However, specification of both the alt and ref alleles are enough to distinguish InDels.\n",
    "\n",
    "    :param row: pd.Series giving the data for one mutation from a maf or maf-like dataframe\n",
    "    :param chrom: the name of the contig/chromosome column/field; default: Chromosome\n",
    "    :param start_pos: the name of the start position column/field; default: Start_position\n",
    "    :param ref: the name of the reference allele column/field; default: Reference_Allele\n",
    "    :param alt: the name of the alternate allele column/field; default: Tumor_Seq_Allele\n",
    "    \"\"\"\n",
    "    return f\"{row[chrom]}:{row[start_pos]}{row[ref]}>{row[alt]}\""
   ]
  },
  {
   "cell_type": "code",
   "execution_count": null,
   "id": "0b49b9f2",
   "metadata": {
    "collapsed": false,
    "jupyter": {
     "outputs_hidden": false
    },
    "pycharm": {
     "name": "#%%\n"
    }
   },
   "outputs": [],
   "source": [
    "fig = ccf_pmf_plot(df, 'ONC106612', mut_ids, samples)"
   ]
  },
  {
   "cell_type": "code",
   "execution_count": null,
   "id": "94bc2953",
   "metadata": {
    "collapsed": false,
    "jupyter": {
     "outputs_hidden": false
    },
    "pycharm": {
     "name": "#%%\n"
    }
   },
   "outputs": [],
   "source": [
    "fig.show()"
   ]
  },
  {
   "cell_type": "code",
   "execution_count": null,
   "id": "454ef94e",
   "metadata": {
    "collapsed": false,
    "jupyter": {
     "outputs_hidden": false
    },
    "pycharm": {
     "name": "#%%\n"
    }
   },
   "outputs": [],
   "source": [
    "fig.update_yaxes(matches=None)"
   ]
  },
  {
   "cell_type": "code",
   "execution_count": null,
   "id": "afb1744d",
   "metadata": {
    "collapsed": false,
    "jupyter": {
     "outputs_hidden": false
    },
    "pycharm": {
     "name": "#%%\n"
    }
   },
   "outputs": [],
   "source": [
    "mut_ccfs_df = pd.read_csv(df.loc['ONC106612', 'mut_ccfs'], sep='\\t')\n",
    "mut_ccfs_df['unique_mut_id'] = mut_ccfs_df.apply(get_unique_identifier, axis=1)\n",
    "chosen_muts_df = mut_ccfs_df[mut_ccfs_df['unique_mut_id'].isin(mut_ids)].copy()"
   ]
  },
  {
   "cell_type": "code",
   "execution_count": null,
   "id": "90fdd07a",
   "metadata": {
    "collapsed": false,
    "jupyter": {
     "outputs_hidden": false
    },
    "pycharm": {
     "name": "#%%\n"
    }
   },
   "outputs": [],
   "source": [
    "chosen_muts_df.drop_duplicates('unique_mut_id').iteritems()"
   ]
  },
  {
   "cell_type": "code",
   "execution_count": null,
   "id": "3fa6be77",
   "metadata": {
    "collapsed": false,
    "jupyter": {
     "outputs_hidden": false
    },
    "pycharm": {
     "name": "#%%\n"
    }
   },
   "outputs": [],
   "source": [
    "mut_label_dict = {x['unique_mut_id']: f\"{x['Hugo_Symbol']} - {x['Chromosome']}:{x['Start_position']}\" for idx, x in chosen_muts_df.drop_duplicates('unique_mut_id').iterrows()}\n"
   ]
  },
  {
   "cell_type": "code",
   "execution_count": null,
   "id": "16ea6cba",
   "metadata": {
    "collapsed": false,
    "jupyter": {
     "outputs_hidden": false
    },
    "pycharm": {
     "name": "#%%\n"
    }
   },
   "outputs": [],
   "source": [
    "mut_label_dict"
   ]
  },
  {
   "cell_type": "code",
   "execution_count": 52,
   "id": "95325486-b35b-4bab-92e8-c5280f11f551",
   "metadata": {
    "pycharm": {
     "name": "#%%\n"
    }
   },
   "outputs": [],
   "source": [
    "mut_ccfs_df = pd.read_csv(df.loc['ONC106612', 'mut_ccfs'], sep='\\t')\n",
    "mut_ccfs_df['unique_mut_id'] = mut_ccfs_df.apply(get_unique_identifier, axis=1)\n",
    "chosen_muts_df = mut_ccfs_df[mut_ccfs_df['unique_mut_id'].isin(mut_ids)].copy()"
   ]
  },
  {
   "cell_type": "code",
   "execution_count": 55,
   "id": "9ae67043-636b-4096-aed1-22eb922b7a14",
   "metadata": {
    "pycharm": {
     "name": "#%%\n"
    }
   },
   "outputs": [
    {
     "data": {
      "text/plain": [
       "<generator object DataFrame.iteritems at 0x14acdea50>"
      ]
     },
     "execution_count": 55,
     "metadata": {},
     "output_type": "execute_result"
    }
   ],
   "source": [
    "chosen_muts_df.drop_duplicates('unique_mut_id').iteritems()"
   ]
  },
  {
   "cell_type": "code",
   "execution_count": 57,
   "id": "f0b07d4f-cf5d-44ad-acc1-ed1cab0423a8",
   "metadata": {
    "pycharm": {
     "name": "#%%\n"
    }
   },
   "outputs": [],
   "source": [
    "mut_label_dict = {x['unique_mut_id']: f\"{x['Hugo_Symbol']} - {x['Chromosome']}:{x['Start_position']}\" for idx, x in chosen_muts_df.drop_duplicates('unique_mut_id').iterrows()}\n"
   ]
  },
  {
   "cell_type": "code",
   "execution_count": 58,
   "id": "1f735a2a-4325-4590-859c-186864e392be",
   "metadata": {
    "pycharm": {
     "name": "#%%\n"
    }
   },
   "outputs": [
    {
     "data": {
      "text/plain": [
       "{'13:67799823C>A': 'PCDH9 - 13:67799823',\n",
       " '3:99568657T>C': 'FILIP1L - 3:99568657',\n",
       " '17:1558752G>A': 'PRPF8 - 17:1558752'}"
      ]
     },
     "execution_count": 58,
     "metadata": {},
     "output_type": "execute_result"
    }
   ],
   "source": [
    "mut_label_dict"
   ]
  },
  {
   "cell_type": "code",
   "execution_count": 38,
   "id": "6ed4acd6-0d11-4e8d-a925-5e18e01021e7",
   "metadata": {
    "pycharm": {
     "name": "#%%\n"
    }
   },
   "outputs": [],
   "source": [
    "def get_phylogic_color_scale():\n",
    "    phylogic_color_list = [[166, 17, 129],\n",
    "                           [39, 140, 24],\n",
    "                           [103, 200, 243],\n",
    "                           [248, 139, 16],\n",
    "                           [16, 49, 41],\n",
    "                           [93, 119, 254],\n",
    "                           [152, 22, 26],\n",
    "                           [104, 236, 172],\n",
    "                           [249, 142, 135],\n",
    "                           [55, 18, 48],\n",
    "                           [83, 82, 22],\n",
    "                           [247, 36, 36],\n",
    "                           [0, 79, 114],\n",
    "                           [243, 65, 132],\n",
    "                           [60, 185, 179],\n",
    "                           [185, 177, 243],\n",
    "                           [139, 34, 67],\n",
    "                           [178, 41, 186],\n",
    "                           [58, 146, 231],\n",
    "                           [130, 159, 21],\n",
    "                           [161, 91, 243],\n",
    "                           [131, 61, 17],\n",
    "                           [248, 75, 81],\n",
    "                           [32, 75, 32],\n",
    "                           [45, 109, 116],\n",
    "                           [255, 169, 199],\n",
    "                           [55, 179, 113],\n",
    "                           [34, 42, 3],\n",
    "                           [56, 121, 166],\n",
    "                           [172, 60, 15],\n",
    "                           [115, 76, 204],\n",
    "                           [21, 61, 73],\n",
    "                           [67, 21, 74],  # Additional colors, uglier and bad\n",
    "                           [123, 88, 112],\n",
    "                           [87, 106, 46],\n",
    "                           [37, 66, 58],\n",
    "                           [132, 79, 62],\n",
    "                           [71, 58, 32],\n",
    "                           [59, 104, 114],\n",
    "                           [46, 107, 90],\n",
    "                           [84, 68, 73],\n",
    "                           [90, 97, 124],\n",
    "                           [121, 66, 76],\n",
    "                           [104, 93, 48],\n",
    "                           [49, 67, 82],\n",
    "                           [71, 95, 65],\n",
    "                           [127, 85, 44],  # even more additional colors, gray\n",
    "                           [88, 79, 92],\n",
    "                           [220, 212, 194],\n",
    "                           [35, 34, 36],\n",
    "                           [200, 220, 224],\n",
    "                           [73, 81, 69],\n",
    "                           [224, 199, 206],\n",
    "                           [120, 127, 113],\n",
    "                           [142, 148, 166],\n",
    "                           [153, 167, 156],\n",
    "                           [162, 139, 145],\n",
    "                           [0, 0, 0]]  # black\n",
    "    colors_dict = {str(i): get_hex_string(c) for i, c in enumerate(phylogic_color_list)}\n",
    "    return colors_dict\n",
    "\n",
    "\n",
    "def get_hex_string(c):\n",
    "    return '#{:02X}{:02X}{:02X}'.format(*c)"
   ]
  },
  {
   "cell_type": "code",
   "execution_count": null,
   "id": "3cd9d2c1-8f48-4239-affb-de1caffff4dc",
   "metadata": {
    "pycharm": {
     "name": "#%%\n"
    }
   },
   "outputs": [],
   "source": []
  }
 ],
 "metadata": {
  "kernelspec": {
   "display_name": "Python 3 (ipykernel)",
   "language": "python",
   "name": "python3"
  },
  "language_info": {
   "codemirror_mode": {
    "name": "ipython",
    "version": 3
   },
   "file_extension": ".py",
   "mimetype": "text/x-python",
   "name": "python",
   "nbconvert_exporter": "python",
   "pygments_lexer": "ipython3",
   "version": "3.7.8"
  }
 },
 "nbformat": 4,
 "nbformat_minor": 5
}