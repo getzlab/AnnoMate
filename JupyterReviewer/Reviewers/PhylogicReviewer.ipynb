{
 "cells": [
  {
   "cell_type": "markdown",
   "id": "47f81ac9",
   "metadata": {
    "pycharm": {
     "name": "#%% md\n"
    }
   },
   "source": [
    "# Phylogic Reviewer"
   ]
  },
  {
   "cell_type": "code",
   "execution_count": 8,
   "id": "cd5a4c6f",
   "metadata": {
    "pycharm": {
     "is_executing": true,
     "name": "#%%\n"
    }
   },
   "outputs": [
    {
     "name": "stdout",
     "output_type": "stream",
     "text": [
      "The autoreload extension is already loaded. To reload it, use:\n",
      "  %reload_ext autoreload\n"
     ]
    }
   ],
   "source": [
    "%load_ext autoreload\n",
    "%autoreload 2"
   ]
  },
  {
   "cell_type": "code",
   "execution_count": 9,
   "id": "b4bb095f",
   "metadata": {
    "pycharm": {
     "name": "#%%\n"
    }
   },
   "outputs": [],
   "source": [
    "from JupyterReviewer.Reviewers.PhylogicReviewer import PhylogicReviewer\n",
    "from JupyterReviewer.ReviewData import ReviewDataAnnotation\n",
    "from JupyterReviewer.ReviewDataApp import AppComponent\n",
    "\n",
    "import pandas as pd\n",
    "from dash import html"
   ]
  },
  {
   "cell_type": "markdown",
   "id": "1bd978bf",
   "metadata": {
    "pycharm": {
     "name": "#%% md\n"
    }
   },
   "source": [
    "## Edit the code below according to the commented directions"
   ]
  },
  {
   "cell_type": "code",
   "execution_count": 10,
   "id": "6e1cbb13-5bd3-4e72-a5bd-0236091184ca",
   "metadata": {
    "pycharm": {
     "name": "#%%\n"
    }
   },
   "outputs": [],
   "source": [
    "participant_df = pd.read_csv(f'../../example_notebooks/example_data/participant_75.tsv', sep='\\t', index_col='entity:participant_id')\n",
    "sample_df = pd.read_csv('../../example_notebooks/example_data/pairs_75.tsv', sep='\\t', index_col='Sample_ID')\n"
   ]
  },
  {
   "cell_type": "code",
   "execution_count": null,
   "outputs": [],
   "source": [
    "reviewer = PhylogicReviewer()\n",
    "\n",
    "reviewer.set_review_data(\n",
    "    # Enter the file path where you would like your pkl file of your review data to be stored\n",
    "    review_data_fn='../test_Phylogic_Reviewer_test13.pkl',\n",
    "    # Breifly describe the source of your data and its purpose\n",
    "    description='Test phylogic review',\n",
    "    # Enter the file path to your data to be reviewed\n",
    "    df=participant_df\n",
    ")\n",
    "\n",
    "reviewer.set_review_app(sample_data_df=sample_df, preprocess_data_dir='../../example_notebooks/example_data/test_preprocess/')\n",
    "reviewer.set_default_review_data_annotations_configuration()"
   ],
   "metadata": {
    "collapsed": false,
    "pycharm": {
     "name": "#%%\n"
    }
   }
  },
  {
   "cell_type": "markdown",
   "source": [
    "## Run"
   ],
   "metadata": {
    "collapsed": false,
    "pycharm": {
     "name": "#%% md\n"
    }
   }
  },
  {
   "cell_type": "code",
   "execution_count": null,
   "outputs": [],
   "source": [
    "reviewer.run(mode='external', port=8088)"
   ],
   "metadata": {
    "collapsed": false,
    "pycharm": {
     "name": "#%%\n"
    }
   }
  },
  {
   "cell_type": "code",
   "execution_count": null,
   "id": "03f70c90",
   "metadata": {
    "collapsed": false,
    "jupyter": {
     "outputs_hidden": false
    },
    "pycharm": {
     "name": "#%%\n"
    }
   },
   "outputs": [],
   "source": [
    "tup = seg_trees[22][10000000].pop().data['GBM.ICB-75-19.778.A1-Post3']"
   ]
  },
  {
   "cell_type": "code",
   "execution_count": null,
   "id": "0d2f3323",
   "metadata": {
    "collapsed": false,
    "jupyter": {
     "outputs_hidden": false
    },
    "pycharm": {
     "name": "#%%\n"
    }
   },
   "outputs": [],
   "source": [
    "mut_ccfs_df = cnv_suite.apply_segment_data_to_df(mut_ccfs_df, seg_trees)"
   ]
  },
  {
   "cell_type": "code",
   "execution_count": null,
   "id": "5d4fc3a6",
   "metadata": {
    "collapsed": false,
    "jupyter": {
     "outputs_hidden": false
    },
    "pycharm": {
     "name": "#%%\n"
    }
   },
   "outputs": [],
   "source": [
    "seg_df = []\n",
    "for sample_id in sample_data_df.sort_values('collection_date_dfd').index.tolist():\n",
    "    this_seg_df = pd.read_csv(sample_data_df.loc[sample_id, 'alleliccapseg_tsv'], sep='\\t')\n",
    "    this_seg_df['Sample_ID'] = sample_id\n",
    "    seg_df.append(this_seg_df)"
   ]
  },
  {
   "cell_type": "code",
   "execution_count": null,
   "id": "dbc6eee2",
   "metadata": {
    "collapsed": false,
    "jupyter": {
     "outputs_hidden": false
    },
    "pycharm": {
     "name": "#%%\n"
    }
   },
   "outputs": [],
   "source": [
    "import cnv_suite\n",
    "seg_trees = cnv_suite.get_segment_interval_trees(pd.concat(seg_df))"
   ]
  },
  {
   "cell_type": "code",
   "execution_count": null,
   "id": "64ca1590",
   "metadata": {
    "collapsed": false,
    "jupyter": {
     "outputs_hidden": false
    },
    "pycharm": {
     "name": "#%%\n"
    }
   },
   "outputs": [],
   "source": [
    "seg_trees[22][10000000].pop().data['GBM.ICB-75-19.778.A1-Post3_pair']"
   ]
  },
  {
   "cell_type": "code",
   "execution_count": null,
   "id": "932f7fe7",
   "metadata": {
    "collapsed": false,
    "jupyter": {
     "outputs_hidden": false
    },
    "pycharm": {
     "name": "#%%\n"
    }
   },
   "outputs": [],
   "source": [
    "pd.concat(seg_df.values())"
   ]
  },
  {
   "cell_type": "code",
   "execution_count": null,
   "id": "2bdf8552",
   "metadata": {
    "collapsed": false,
    "jupyter": {
     "outputs_hidden": false
    },
    "pycharm": {
     "name": "#%%\n"
    }
   },
   "outputs": [],
   "source": []
  },
  {
   "cell_type": "markdown",
   "id": "960c042c",
   "metadata": {
    "pycharm": {
     "name": "#%% md\n"
    }
   },
   "source": [
    "### Test plotting"
   ]
  },
  {
   "cell_type": "code",
   "execution_count": null,
   "id": "294010ee",
   "metadata": {
    "collapsed": false,
    "jupyter": {
     "outputs_hidden": false
    },
    "pycharm": {
     "name": "#%%\n"
    }
   },
   "outputs": [],
   "source": [
    "#from PhylogicReviewer import ccf_pmf_plot\n",
    "import pandas as pd\n",
    "import re\n",
    "import plotly.express as px\n",
    "\n",
    "df = pd.DataFrame([['ONC106612', 'gs://fc-secure-c1d8f0c8-dc8c-418a-ac13-561b18de3d8e/1dc35867-4c57-487e-bcdd-e39820462211/phylogicndt/b007b77f-c150-490f-9d55-7ace9eb495dd/call-clustering/ONC106612.mut_ccfs.txt'], ['ONC110293', 'gs://fc-secure-c1d8f0c8-dc8c-418a-ac13-561b18de3d8e/1dc35867-4c57-487e-bcdd-e39820462211/phylogicndt/598b3916-a3b8-49dd-a3cb-bfb8ab8cd08e/call-clustering/cacheCopy/ONC110293.mut_ccfs.txt']], columns=['participant_id', 'mut_ccfs'])\n",
    "df.set_index('participant_id', inplace=True)\n",
    "mut_ids = ['13:67799823C>A', '3:99568657T>C', '17:1558752G>A']\n",
    "samples = ['17318_13_OCT_052219', '17318_13_BB_111119']\n"
   ]
  },
  {
   "cell_type": "code",
   "execution_count": null,
   "id": "b38c2c2e",
   "metadata": {
    "collapsed": false,
    "jupyter": {
     "outputs_hidden": false
    },
    "pycharm": {
     "name": "#%%\n"
    }
   },
   "outputs": [],
   "source": [
    "def ccf_pmf_plot(data_df, idx, mut_ids, sample_selection, group_clusters=False):\n",
    "    \"\"\"Plots the CCF pmf distribution for the chosen mutation(s).\n",
    "\n",
    "    Notes\n",
    "    -----\n",
    "    - Displays the pmf distribution as a normalized histogram\n",
    "    - Samples are shown in separate rows\n",
    "    - Clusters displayed with different colors, with adjacent bars\n",
    "    \n",
    "    TODO\n",
    "    ----\n",
    "    - Add a star (*) above the mode for each mutation\n",
    "    - Add an indication of mean?\n",
    "\n",
    "    \"\"\"\n",
    "    mut_ccfs_df = pd.read_csv(data_df.loc[idx, 'mut_ccfs'], sep='\\t')\n",
    "    mut_ccfs_df['unique_mut_id'] = mut_ccfs_df.apply(get_unique_identifier, axis=1)\n",
    "    chosen_muts_df = mut_ccfs_df[mut_ccfs_df['unique_mut_id'].isin(mut_ids)].copy()\n",
    "\n",
    "    ccfs_headers = [re.search('.*[01].[0-9]+', i) for i in mut_ccfs_df.columns]\n",
    "    ccfs_headers = [x.group() for x in ccfs_headers if x]\n",
    "    ccfs_header_dict = {i: re.search('[01].[0-9]+', i).group() for i in ccfs_headers}\n",
    "\n",
    "    #pmf_plot = make_subplots(1, len(sample_selection))\n",
    "    stacked_muts = chosen_muts_df.set_index(['Sample_ID', 'unique_mut_id', 'Cluster_Assignment'])[\n",
    "        ccfs_headers].stack().reset_index().rename(columns={'level_3': 'CCF', 0: 'Probability'}).replace(ccfs_header_dict)\n",
    "    if group_clusters:\n",
    "        stacked_muts['Cluster_Assignment'] = stacked_muts['Cluster_Assignment'].astype(str)\n",
    "        fig = px.histogram(stacked_muts, x='CCF', y='Probability', facet_row='Sample_ID', barmode='group', height=300*len(sample_selection), color='Cluster_Assignment', histfunc='avg', color_discrete_map=get_phylogic_color_scale())\n",
    "    else:\n",
    "        fig = px.histogram(stacked_muts, x='CCF', y='Probability', facet_row='Sample_ID', barmode='group', height=300*len(sample_selection), color='unique_mut_id', labels={'unique_mut_id': 'Mutation'})\n",
    "        mut_label_dict = {x['unique_mut_id']: f\"{x['Hugo_Symbol']} - {x['Chromosome']}:{x['Start_position']}\" for idx, x in chosen_muts_df.drop_duplicates('unique_mut_id').iterrows()}\n",
    "        fig.for_each_trace(lambda t: t.update(name = mut_label_dict[t.name]))\n",
    "\n",
    "    fig.update_layout(xaxis_tickangle=0, xaxis_ticklabelstep=5)\n",
    "    fig.update_yaxes(matches=None)\n",
    "    \n",
    "    return fig\n",
    "\n",
    "\n",
    "def get_unique_identifier(row, chrom='Chromosome', start_pos='Start_position',\n",
    "                          ref='Reference_Allele', alt='Tumor_Seq_Allele'):\n",
    "    \"\"\"Generates unique string for this mutation, including contig, start position, ref and alt alleles.\n",
    "\n",
    "    Does not include End Position, for this field is not present in mut_ccfs Phylogic output. However, specification of both the alt and ref alleles are enough to distinguish InDels.\n",
    "\n",
    "    :param row: pd.Series giving the data for one mutation from a maf or maf-like dataframe\n",
    "    :param chrom: the name of the contig/chromosome column/field; default: Chromosome\n",
    "    :param start_pos: the name of the start position column/field; default: Start_position\n",
    "    :param ref: the name of the reference allele column/field; default: Reference_Allele\n",
    "    :param alt: the name of the alternate allele column/field; default: Tumor_Seq_Allele\n",
    "    \"\"\"\n",
    "    return f\"{row[chrom]}:{row[start_pos]}{row[ref]}>{row[alt]}\""
   ]
  },
  {
   "cell_type": "code",
   "execution_count": null,
   "id": "82a4d5fc",
   "metadata": {
    "collapsed": false,
    "jupyter": {
     "outputs_hidden": false
    },
    "pycharm": {
     "name": "#%%\n"
    }
   },
   "outputs": [],
   "source": [
    "fig = ccf_pmf_plot(df, 'ONC106612', mut_ids, samples)"
   ]
  },
  {
   "cell_type": "code",
   "execution_count": null,
   "id": "a5e0685c",
   "metadata": {
    "collapsed": false,
    "jupyter": {
     "outputs_hidden": false
    },
    "pycharm": {
     "name": "#%%\n"
    }
   },
   "outputs": [],
   "source": [
    "fig.show()"
   ]
  },
  {
   "cell_type": "code",
   "execution_count": null,
   "id": "f08815c2",
   "metadata": {
    "collapsed": false,
    "jupyter": {
     "outputs_hidden": false
    },
    "pycharm": {
     "name": "#%%\n"
    }
   },
   "outputs": [],
   "source": [
    "fig.update_yaxes(matches=None)"
   ]
  },
  {
   "cell_type": "code",
   "execution_count": null,
   "id": "eb11d9fa",
   "metadata": {
    "collapsed": false,
    "jupyter": {
     "outputs_hidden": false
    },
    "pycharm": {
     "name": "#%%\n"
    }
   },
   "outputs": [],
   "source": [
    "mut_ccfs_df = pd.read_csv(df.loc['ONC106612', 'mut_ccfs'], sep='\\t')\n",
    "mut_ccfs_df['unique_mut_id'] = mut_ccfs_df.apply(get_unique_identifier, axis=1)\n",
    "chosen_muts_df = mut_ccfs_df[mut_ccfs_df['unique_mut_id'].isin(mut_ids)].copy()"
   ]
  },
  {
   "cell_type": "code",
   "execution_count": null,
   "id": "39365e82",
   "metadata": {
    "collapsed": false,
    "jupyter": {
     "outputs_hidden": false
    },
    "pycharm": {
     "name": "#%%\n"
    }
   },
   "outputs": [],
   "source": [
    "chosen_muts_df.drop_duplicates('unique_mut_id').iteritems()"
   ]
  },
  {
   "cell_type": "code",
   "execution_count": null,
   "id": "ee6bd507",
   "metadata": {
    "collapsed": false,
    "jupyter": {
     "outputs_hidden": false
    },
    "pycharm": {
     "name": "#%%\n"
    }
   },
   "outputs": [],
   "source": [
    "mut_label_dict = {x['unique_mut_id']: f\"{x['Hugo_Symbol']} - {x['Chromosome']}:{x['Start_position']}\" for idx, x in chosen_muts_df.drop_duplicates('unique_mut_id').iterrows()}\n"
   ]
  },
  {
   "cell_type": "code",
   "execution_count": null,
   "id": "be4f94eb",
   "metadata": {
    "collapsed": false,
    "jupyter": {
     "outputs_hidden": false
    },
    "pycharm": {
     "name": "#%%\n"
    }
   },
   "outputs": [],
   "source": [
    "mut_label_dict"
   ]
  },
  {
   "cell_type": "code",
   "execution_count": null,
   "id": "2a15942a",
   "metadata": {
    "collapsed": false,
    "jupyter": {
     "outputs_hidden": false
    },
    "pycharm": {
     "name": "#%%\n"
    }
   },
   "outputs": [],
   "source": [
    "mut_ccfs_df = pd.read_csv(df.loc['ONC106612', 'mut_ccfs'], sep='\\t')\n",
    "mut_ccfs_df['unique_mut_id'] = mut_ccfs_df.apply(get_unique_identifier, axis=1)\n",
    "chosen_muts_df = mut_ccfs_df[mut_ccfs_df['unique_mut_id'].isin(mut_ids)].copy()"
   ]
  },
  {
   "cell_type": "code",
   "execution_count": null,
   "id": "d379db86",
   "metadata": {
    "collapsed": false,
    "jupyter": {
     "outputs_hidden": false
    },
    "pycharm": {
     "name": "#%%\n"
    }
   },
   "outputs": [],
   "source": [
    "chosen_muts_df.drop_duplicates('unique_mut_id').iteritems()"
   ]
  },
  {
   "cell_type": "code",
   "execution_count": null,
   "id": "6225da89",
   "metadata": {
    "collapsed": false,
    "jupyter": {
     "outputs_hidden": false
    },
    "pycharm": {
     "name": "#%%\n"
    }
   },
   "outputs": [],
   "source": [
    "mut_label_dict = {x['unique_mut_id']: f\"{x['Hugo_Symbol']} - {x['Chromosome']}:{x['Start_position']}\" for idx, x in chosen_muts_df.drop_duplicates('unique_mut_id').iterrows()}\n"
   ]
  },
  {
   "cell_type": "code",
   "execution_count": null,
   "id": "c2da2fa4",
   "metadata": {
    "collapsed": false,
    "jupyter": {
     "outputs_hidden": false
    },
    "pycharm": {
     "name": "#%%\n"
    }
   },
   "outputs": [],
   "source": [
    "mut_label_dict"
   ]
  },
  {
   "cell_type": "code",
   "execution_count": null,
   "id": "4de1a3e7",
   "metadata": {
    "collapsed": false,
    "jupyter": {
     "outputs_hidden": false
    },
    "pycharm": {
     "name": "#%%\n"
    }
   },
   "outputs": [],
   "source": [
    "def get_phylogic_color_scale():\n",
    "    phylogic_color_list = [[166, 17, 129],\n",
    "                           [39, 140, 24],\n",
    "                           [103, 200, 243],\n",
    "                           [248, 139, 16],\n",
    "                           [16, 49, 41],\n",
    "                           [93, 119, 254],\n",
    "                           [152, 22, 26],\n",
    "                           [104, 236, 172],\n",
    "                           [249, 142, 135],\n",
    "                           [55, 18, 48],\n",
    "                           [83, 82, 22],\n",
    "                           [247, 36, 36],\n",
    "                           [0, 79, 114],\n",
    "                           [243, 65, 132],\n",
    "                           [60, 185, 179],\n",
    "                           [185, 177, 243],\n",
    "                           [139, 34, 67],\n",
    "                           [178, 41, 186],\n",
    "                           [58, 146, 231],\n",
    "                           [130, 159, 21],\n",
    "                           [161, 91, 243],\n",
    "                           [131, 61, 17],\n",
    "                           [248, 75, 81],\n",
    "                           [32, 75, 32],\n",
    "                           [45, 109, 116],\n",
    "                           [255, 169, 199],\n",
    "                           [55, 179, 113],\n",
    "                           [34, 42, 3],\n",
    "                           [56, 121, 166],\n",
    "                           [172, 60, 15],\n",
    "                           [115, 76, 204],\n",
    "                           [21, 61, 73],\n",
    "                           [67, 21, 74],  # Additional colors, uglier and bad\n",
    "                           [123, 88, 112],\n",
    "                           [87, 106, 46],\n",
    "                           [37, 66, 58],\n",
    "                           [132, 79, 62],\n",
    "                           [71, 58, 32],\n",
    "                           [59, 104, 114],\n",
    "                           [46, 107, 90],\n",
    "                           [84, 68, 73],\n",
    "                           [90, 97, 124],\n",
    "                           [121, 66, 76],\n",
    "                           [104, 93, 48],\n",
    "                           [49, 67, 82],\n",
    "                           [71, 95, 65],\n",
    "                           [127, 85, 44],  # even more additional colors, gray\n",
    "                           [88, 79, 92],\n",
    "                           [220, 212, 194],\n",
    "                           [35, 34, 36],\n",
    "                           [200, 220, 224],\n",
    "                           [73, 81, 69],\n",
    "                           [224, 199, 206],\n",
    "                           [120, 127, 113],\n",
    "                           [142, 148, 166],\n",
    "                           [153, 167, 156],\n",
    "                           [162, 139, 145],\n",
    "                           [0, 0, 0]]  # black\n",
    "    colors_dict = {str(i): get_hex_string(c) for i, c in enumerate(phylogic_color_list)}\n",
    "    return colors_dict\n",
    "\n",
    "\n",
    "def get_hex_string(c):\n",
    "    return '#{:02X}{:02X}{:02X}'.format(*c)"
   ]
  },
  {
   "cell_type": "code",
   "execution_count": null,
   "id": "82d5411c",
   "metadata": {
    "collapsed": false,
    "jupyter": {
     "outputs_hidden": false
    },
    "pycharm": {
     "name": "#%%\n"
    }
   },
   "outputs": [],
   "source": []
  },
  {
   "cell_type": "code",
   "execution_count": null,
   "id": "41e184c5",
   "metadata": {
    "collapsed": false,
    "jupyter": {
     "outputs_hidden": false
    },
    "pycharm": {
     "name": "#%%\n"
    }
   },
   "outputs": [],
   "source": [
    "from JupyterReviewer.AppComponents.utils import get_unique_identifier\n",
    "from cnv_suite import switch_contigs, get_segment_interval_trees, apply_segment_data_to_df\n",
    "\n",
    "idx = 'GBM.ICB-75'\n",
    "sample_selection = []\n",
    "samples_df = sample_df.copy()\n",
    "\n",
    "maf_df = pd.read_csv(participant_df.loc[idx, 'maf_fn'], sep='\\t')\n",
    "start_pos = maf_df.columns[maf_df.columns.isin(['Start_position', 'Start_Position'])][0]\n",
    "alt = maf_df.columns[maf_df.columns.isin(['Tumor_Seq_Allele2', 'Tumor_Seq_Allele'])][0]\n",
    "maf_df['id'] = maf_df.apply(lambda x: get_unique_identifier(x, start_pos=start_pos, alt=alt), axis=1)\n",
    "maf_df.set_index('id', inplace=True, drop=False)\n",
    "\n",
    "# if selected_mutation_rows:\n",
    "#     maf_df = maf_df.loc[selected_mutation_rows]\n",
    "# elif filtered_mutation_rows:\n",
    "#     maf_df = maf_df.loc[filtered_mutation_rows]\n",
    "# else (if all mutations in table are filtered out and none selected): use all mutations\n",
    "\n",
    "sample_list = samples_df[samples_df['participant_id'] == idx].index.tolist()\n",
    "# restrict sample selection to only two samples at a time\n",
    "sample_selection_corrected = [sample_list[0]] if sample_selection == [] else sample_selection[:2]\n",
    "\n",
    "# sigmas_val = 'Show CNV Sigmas' in sigmas\n",
    "\n",
    "# if color == 'Differential':\n",
    "#     segment_colors = 'difference'\n",
    "# elif color == 'Cluster':\n",
    "#     segment_colors = 'cluster'\n",
    "# # unsure about clonal/subclonal\n",
    "# else:\n",
    "#     segment_colors = color\n",
    "\n",
    "seg_df = []\n",
    "for sample_id in sample_list:\n",
    "    this_seg_df = pd.read_csv(samples_df.loc[sample_id, 'cnv_seg_fn'], sep='\\t')\n",
    "    this_seg_df['Sample_ID'] = sample_id\n",
    "    seg_df.append(this_seg_df)\n",
    "\n",
    "maf_df = maf_df[maf_df.Sample_ID.isin(sample_list)]\n",
    "maf_df = switch_contigs(maf_df)\n",
    "maf_df['Chromosome'] = maf_df['Chromosome'].astype(int)\n",
    "\n",
    "seg_trees = get_segment_interval_trees(pd.concat(seg_df))\n",
    "maf_df = apply_segment_data_to_df(maf_df, seg_trees)"
   ]
  },
  {
   "cell_type": "code",
   "execution_count": null,
   "id": "0ddaa88b",
   "metadata": {
    "collapsed": false,
    "jupyter": {
     "outputs_hidden": false
    },
    "pycharm": {
     "name": "#%%\n"
    }
   },
   "outputs": [],
   "source": [
    "import importlib\n",
    "import cnv_suite\n",
    "importlib.reload(cnv_suite)"
   ]
  },
  {
   "cell_type": "code",
   "execution_count": null,
   "id": "3cd9d2c1-8f48-4239-affb-de1caffff4dc",
   "metadata": {
    "pycharm": {
     "name": "#%%\n"
    }
   },
   "outputs": [],
   "source": []
  },
  {
   "cell_type": "code",
   "execution_count": 35,
   "id": "2734331d-c9ba-4103-8fb2-1372e6a8455e",
   "metadata": {},
   "outputs": [],
   "source": [
    "from JupyterReviewer.AppComponents.utils import get_unique_identifier\n",
    "from cnv_suite import switch_contigs, get_segment_interval_trees, apply_segment_data_to_df\n",
    "\n",
    "idx = 'GBM.ICB-75'\n",
    "sample_selection = []\n",
    "samples_df = sample_df.copy()\n",
    "\n",
    "maf_df = pd.read_csv(participant_df.loc[idx, 'maf_fn'], sep='\\t')\n",
    "start_pos = maf_df.columns[maf_df.columns.isin(['Start_position', 'Start_Position'])][0]\n",
    "alt = maf_df.columns[maf_df.columns.isin(['Tumor_Seq_Allele2', 'Tumor_Seq_Allele'])][0]\n",
    "maf_df['id'] = maf_df.apply(lambda x: get_unique_identifier(x, start_pos=start_pos, alt=alt), axis=1)\n",
    "maf_df.set_index('id', inplace=True, drop=False)\n",
    "\n",
    "# if selected_mutation_rows:\n",
    "#     maf_df = maf_df.loc[selected_mutation_rows]\n",
    "# elif filtered_mutation_rows:\n",
    "#     maf_df = maf_df.loc[filtered_mutation_rows]\n",
    "# else (if all mutations in table are filtered out and none selected): use all mutations\n",
    "\n",
    "sample_list = samples_df[samples_df['participant_id'] == idx].index.tolist()\n",
    "# restrict sample selection to only two samples at a time\n",
    "sample_selection_corrected = [sample_list[0]] if sample_selection == [] else sample_selection[:2]\n",
    "\n",
    "# sigmas_val = 'Show CNV Sigmas' in sigmas\n",
    "\n",
    "# if color == 'Differential':\n",
    "#     segment_colors = 'difference'\n",
    "# elif color == 'Cluster':\n",
    "#     segment_colors = 'cluster'\n",
    "# # unsure about clonal/subclonal\n",
    "# else:\n",
    "#     segment_colors = color\n",
    "\n",
    "seg_df = []\n",
    "for sample_id in sample_list:\n",
    "    this_seg_df = pd.read_csv(samples_df.loc[sample_id, 'cnv_seg_fn'], sep='\\t')\n",
    "    this_seg_df['Sample_ID'] = sample_id\n",
    "    seg_df.append(this_seg_df)\n",
    "\n",
    "maf_df = maf_df[maf_df.Sample_ID.isin(sample_list)]\n",
    "maf_df = switch_contigs(maf_df)\n",
    "maf_df['Chromosome'] = maf_df['Chromosome'].astype(int)\n",
    "\n",
    "seg_trees = get_segment_interval_trees(pd.concat(seg_df))\n",
    "maf_df = apply_segment_data_to_df(maf_df, seg_trees)"
   ]
  },
  {
   "cell_type": "code",
   "execution_count": 34,
   "id": "bcccb03e-da38-4fec-a9ff-391ea9754408",
   "metadata": {},
   "outputs": [
    {
     "data": {
      "text/plain": [
       "<module 'cnv_suite' from '/Users/cmesser/PycharmProjects/reviewer_tools/JupyterReviewer/venv_JupyterReviewer/lib/python3.7/site-packages/cnv_suite/__init__.py'>"
      ]
     },
     "execution_count": 34,
     "metadata": {},
     "output_type": "execute_result"
    }
   ],
   "source": [
    "import importlib\n",
    "import cnv_suite\n",
    "importlib.reload(cnv_suite)"
   ]
  },
  {
   "cell_type": "code",
   "execution_count": null,
   "id": "332c5d15-08d8-4e41-9358-467481001c50",
   "metadata": {},
   "outputs": [],
   "source": []
  }
 ],
 "metadata": {
  "kernelspec": {
   "display_name": "Python 3 (ipykernel)",
   "language": "python",
   "name": "python3"
  },
  "language_info": {
   "codemirror_mode": {
    "name": "ipython",
    "version": 3
   },
   "file_extension": ".py",
   "mimetype": "text/x-python",
   "name": "python",
   "nbconvert_exporter": "python",
   "pygments_lexer": "ipython3",
   "version": "3.7.8"
  }
 },
 "nbformat": 4,
 "nbformat_minor": 5
}