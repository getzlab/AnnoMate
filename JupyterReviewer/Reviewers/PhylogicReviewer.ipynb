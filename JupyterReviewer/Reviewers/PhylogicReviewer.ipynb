{
 "cells": [
  {
   "cell_type": "markdown",
   "id": "47f81ac9",
   "metadata": {
    "pycharm": {
     "name": "#%% md\n"
    }
   },
   "source": [
    "# Phylogic Reviewer"
   ]
  },
  {
   "cell_type": "code",
   "execution_count": 1,
   "id": "cd5a4c6f",
   "metadata": {
    "pycharm": {
     "name": "#%%\n"
    }
   },
   "outputs": [],
   "source": [
    "%load_ext autoreload\n",
    "%autoreload 2"
   ]
  },
  {
   "cell_type": "code",
   "execution_count": 5,
   "id": "b4bb095f",
   "metadata": {
    "pycharm": {
     "name": "#%%\n"
    }
   },
   "outputs": [],
   "source": [
    "from JupyterReviewer.Reviewers.PhylogicReviewer import PhylogicReviewer\n",
    "from JupyterReviewer.ReviewData import ReviewDataAnnotation\n",
    "from JupyterReviewer.ReviewDataApp import AppComponent\n",
    "\n",
    "import pandas as pd\n",
    "from dash import html"
   ]
  },
  {
   "cell_type": "markdown",
   "id": "1bd978bf",
   "metadata": {
    "pycharm": {
     "name": "#%% md\n"
    }
   },
   "source": [
    "## Edit the code below according to the commented directions"
   ]
  },
  {
   "cell_type": "code",
   "execution_count": 24,
   "id": "6e1cbb13-5bd3-4e72-a5bd-0236091184ca",
   "metadata": {},
   "outputs": [
    {
     "data": {
      "text/html": [
       "<div>\n",
       "<style scoped>\n",
       "    .dataframe tbody tr th:only-of-type {\n",
       "        vertical-align: middle;\n",
       "    }\n",
       "\n",
       "    .dataframe tbody tr th {\n",
       "        vertical-align: top;\n",
       "    }\n",
       "\n",
       "    .dataframe thead th {\n",
       "        text-align: right;\n",
       "    }\n",
       "</style>\n",
       "<table border=\"1\" class=\"dataframe\">\n",
       "  <thead>\n",
       "    <tr style=\"text-align: right;\">\n",
       "      <th></th>\n",
       "      <th>seg_cluster</th>\n",
       "      <th>PhylogicNDT_cell_population_mcmc_trace</th>\n",
       "      <th>cluster_ccfs</th>\n",
       "      <th>mut_ccfs</th>\n",
       "      <th>PhylogicNDT_tree_tsv</th>\n",
       "      <th>PhylogicNDT_unclustered_muts</th>\n",
       "    </tr>\n",
       "    <tr>\n",
       "      <th>entity:participant_id</th>\n",
       "      <th></th>\n",
       "      <th></th>\n",
       "      <th></th>\n",
       "      <th></th>\n",
       "      <th></th>\n",
       "      <th></th>\n",
       "    </tr>\n",
       "  </thead>\n",
       "  <tbody>\n",
       "    <tr>\n",
       "      <th>GBM.ICB-75</th>\n",
       "      <td>gs://fc-secure-3f0f305e-f110-432b-bc9a-c8d9682...</td>\n",
       "      <td>gs://fc-secure-3f0f305e-f110-432b-bc9a-c8d9682...</td>\n",
       "      <td>gs://fc-secure-3f0f305e-f110-432b-bc9a-c8d9682...</td>\n",
       "      <td>gs://fc-secure-3f0f305e-f110-432b-bc9a-c8d9682...</td>\n",
       "      <td>gs://fc-secure-3f0f305e-f110-432b-bc9a-c8d9682...</td>\n",
       "      <td>gs://fc-secure-3f0f305e-f110-432b-bc9a-c8d9682...</td>\n",
       "    </tr>\n",
       "  </tbody>\n",
       "</table>\n",
       "</div>"
      ],
      "text/plain": [
       "                                                             seg_cluster  \\\n",
       "entity:participant_id                                                      \n",
       "GBM.ICB-75             gs://fc-secure-3f0f305e-f110-432b-bc9a-c8d9682...   \n",
       "\n",
       "                                  PhylogicNDT_cell_population_mcmc_trace  \\\n",
       "entity:participant_id                                                      \n",
       "GBM.ICB-75             gs://fc-secure-3f0f305e-f110-432b-bc9a-c8d9682...   \n",
       "\n",
       "                                                            cluster_ccfs  \\\n",
       "entity:participant_id                                                      \n",
       "GBM.ICB-75             gs://fc-secure-3f0f305e-f110-432b-bc9a-c8d9682...   \n",
       "\n",
       "                                                                mut_ccfs  \\\n",
       "entity:participant_id                                                      \n",
       "GBM.ICB-75             gs://fc-secure-3f0f305e-f110-432b-bc9a-c8d9682...   \n",
       "\n",
       "                                                    PhylogicNDT_tree_tsv  \\\n",
       "entity:participant_id                                                      \n",
       "GBM.ICB-75             gs://fc-secure-3f0f305e-f110-432b-bc9a-c8d9682...   \n",
       "\n",
       "                                            PhylogicNDT_unclustered_muts  \n",
       "entity:participant_id                                                     \n",
       "GBM.ICB-75             gs://fc-secure-3f0f305e-f110-432b-bc9a-c8d9682...  "
      ]
     },
     "execution_count": 24,
     "metadata": {},
     "output_type": "execute_result"
    }
   ],
   "source": [
    "pd.read_csv(f'/Users/cmesser/Documents/Projects/participant_reviewer/participant_75.tsv', sep='\\t').set_index('entity:participant_id')"
   ]
  },
  {
   "cell_type": "code",
   "execution_count": 81,
   "id": "e496d5e4",
   "metadata": {
    "pycharm": {
     "name": "#%%\n"
    }
   },
   "outputs": [],
   "source": [
    "reviewer = PhylogicReviewer()\n",
    "\n",
    "reviewer.set_review_data(\n",
    "    # Enter the file path where you would like your pkl file of your review data to be stored\n",
    "    review_data_fn='../test_Phylogic_Reviewer_8.pkl',\n",
    "    # Breifly describe the source of your data and its purpose\n",
    "    description='Test phylogic review',\n",
    "    # Enter the file path to your data to be reviewed\n",
    "    df=pd.read_csv(f'/Users/cmesser/Documents/Projects/participant_reviewer/participant_75.tsv', sep='\\t').set_index('entity:participant_id'),\n",
    "    review_data_annotation_dict=None\n",
    ")\n",
    "\n",
    "reviewer.set_review_app(sample_data_df=pd.read_csv('/Users/cmesser/Documents/Projects/participant_reviewer/pairs_75.tsv', sep='\\t').set_index('entity:pair_id'))"
   ]
  },
  {
   "cell_type": "markdown",
   "id": "040af090",
   "metadata": {
    "pycharm": {
     "name": "#%% md\n"
    }
   },
   "source": [
    "## Run"
   ]
  },
  {
   "cell_type": "code",
   "execution_count": 82,
   "id": "ee299041",
   "metadata": {
    "pycharm": {
     "name": "#%%\n"
    }
   },
   "outputs": [
    {
     "name": "stdout",
     "output_type": "stream",
     "text": [
      "Dash app running on http://0.0.0.0:8088/\n"
     ]
    }
   ],
   "source": [
    "reviewer.run(mode='external', port=8088)"
   ]
  },
  {
   "cell_type": "code",
   "execution_count": 101,
   "id": "4dc2a865-d334-44af-a29d-bb15c05b72cb",
   "metadata": {
    "tags": []
   },
   "outputs": [],
   "source": [
    "sample_data_df=pd.read_csv('/Users/cmesser/Documents/Projects/participant_reviewer/pairs_75.tsv', sep='\\t').set_index('entity:pair_id')\n",
    "data_df = pd.read_csv(f'/Users/cmesser/Documents/Projects/participant_reviewer/participant_75.tsv', sep='\\t').set_index('entity:participant_id')\n",
    "from cnv_suite import switch_contigs\n",
    "mut_ccfs_df = switch_contigs(pd.read_csv(data_df.loc['GBM.ICB-75']['mut_ccfs'], sep='\\t'))\n",
    "mut_ccfs_df['Chromosome'] = mut_ccfs_df['Chromosome'].astype(int)  # todo change\n",
    "seg_df = []\n",
    "for sample_id in sample_data_df.sort_values('collection_date_dfd').index.tolist():\n",
    "    this_seg_df = pd.read_csv(sample_data_df.loc[sample_id, 'alleliccapseg_tsv'], sep='\\t')\n",
    "    this_seg_df['Sample_ID'] = sample_id\n",
    "    seg_df.append(this_seg_df)\n",
    "seg_trees = cnv_suite.get_segment_interval_trees(pd.concat(seg_df))"
   ]
  },
  {
   "cell_type": "code",
   "execution_count": 102,
   "id": "7eae7e84-13a3-44e9-b069-61d94a382de1",
   "metadata": {},
   "outputs": [],
   "source": [
    "tup = seg_trees[22][10000000].pop().data['GBM.ICB-75-19.778.A1-Post3']"
   ]
  },
  {
   "cell_type": "code",
   "execution_count": 103,
   "id": "d42047ac-9090-4291-8055-03c47c499439",
   "metadata": {},
   "outputs": [
    {
     "ename": "KeyError",
     "evalue": "'pop from an empty set'",
     "output_type": "error",
     "traceback": [
      "\u001b[0;31m---------------------------------------------------------------------------\u001b[0m",
      "\u001b[0;31mKeyError\u001b[0m                                  Traceback (most recent call last)",
      "\u001b[0;32m/var/folders/ls/mgh17n292wz2h9p3r5_25mm40000gp/T/ipykernel_57847/1399700353.py\u001b[0m in \u001b[0;36m<module>\u001b[0;34m\u001b[0m\n\u001b[0;32m----> 1\u001b[0;31m \u001b[0mmut_ccfs_df\u001b[0m \u001b[0;34m=\u001b[0m \u001b[0mcnv_suite\u001b[0m\u001b[0;34m.\u001b[0m\u001b[0mapply_segment_data_to_df\u001b[0m\u001b[0;34m(\u001b[0m\u001b[0mmut_ccfs_df\u001b[0m\u001b[0;34m,\u001b[0m \u001b[0mseg_trees\u001b[0m\u001b[0;34m)\u001b[0m\u001b[0;34m\u001b[0m\u001b[0;34m\u001b[0m\u001b[0m\n\u001b[0m",
      "\u001b[0;32m~/PycharmProjects/reviewer_tools/JupyterReviewer/venv_JupyterReviewer/lib/python3.7/site-packages/cnv_suite/utils/cnv_helper_methods.py\u001b[0m in \u001b[0;36mapply_segment_data_to_df\u001b[0;34m(df, seg_trees)\u001b[0m\n\u001b[1;32m    170\u001b[0m     data = [return_seg_data_at_loci(seg_trees, s, c, p) for s, c, p in zip(df_copy['Sample_ID'],\n\u001b[1;32m    171\u001b[0m                                                                            \u001b[0mdf_copy\u001b[0m\u001b[0;34m[\u001b[0m\u001b[0;34m'Chromosome'\u001b[0m\u001b[0;34m]\u001b[0m\u001b[0;34m,\u001b[0m\u001b[0;34m\u001b[0m\u001b[0;34m\u001b[0m\u001b[0m\n\u001b[0;32m--> 172\u001b[0;31m                                                                            df_copy['Start_position'])]\n\u001b[0m\u001b[1;32m    173\u001b[0m     \u001b[0;31m# get columns from one of the dicts in data\u001b[0m\u001b[0;34m\u001b[0m\u001b[0;34m\u001b[0m\u001b[0;34m\u001b[0m\u001b[0m\n\u001b[1;32m    174\u001b[0m     \u001b[0mcol_names\u001b[0m \u001b[0;34m=\u001b[0m \u001b[0;34m[\u001b[0m\u001b[0;34m'No_Segment_Data'\u001b[0m\u001b[0;34m]\u001b[0m\u001b[0;34m\u001b[0m\u001b[0;34m\u001b[0m\u001b[0m\n",
      "\u001b[0;32m~/PycharmProjects/reviewer_tools/JupyterReviewer/venv_JupyterReviewer/lib/python3.7/site-packages/cnv_suite/utils/cnv_helper_methods.py\u001b[0m in \u001b[0;36m<listcomp>\u001b[0;34m(.0)\u001b[0m\n\u001b[1;32m    168\u001b[0m         \u001b[0mdf_copy\u001b[0m\u001b[0;34m[\u001b[0m\u001b[0;34m'Sample_ID'\u001b[0m\u001b[0;34m]\u001b[0m \u001b[0;34m=\u001b[0m \u001b[0;34m'SAMPLE'\u001b[0m\u001b[0;34m\u001b[0m\u001b[0;34m\u001b[0m\u001b[0m\n\u001b[1;32m    169\u001b[0m \u001b[0;34m\u001b[0m\u001b[0m\n\u001b[0;32m--> 170\u001b[0;31m     data = [return_seg_data_at_loci(seg_trees, s, c, p) for s, c, p in zip(df_copy['Sample_ID'],\n\u001b[0m\u001b[1;32m    171\u001b[0m                                                                            \u001b[0mdf_copy\u001b[0m\u001b[0;34m[\u001b[0m\u001b[0;34m'Chromosome'\u001b[0m\u001b[0;34m]\u001b[0m\u001b[0;34m,\u001b[0m\u001b[0;34m\u001b[0m\u001b[0;34m\u001b[0m\u001b[0m\n\u001b[1;32m    172\u001b[0m                                                                            df_copy['Start_position'])]\n",
      "\u001b[0;32m~/PycharmProjects/reviewer_tools/JupyterReviewer/venv_JupyterReviewer/lib/python3.7/site-packages/cnv_suite/utils/cnv_helper_methods.py\u001b[0m in \u001b[0;36mreturn_seg_data_at_loci\u001b[0;34m(seg_trees, sample, contig, pos)\u001b[0m\n\u001b[1;32m    150\u001b[0m     \u001b[0;31m# todo make sure contig is int\u001b[0m\u001b[0;34m\u001b[0m\u001b[0;34m\u001b[0m\u001b[0;34m\u001b[0m\u001b[0m\n\u001b[1;32m    151\u001b[0m     \u001b[0;32mtry\u001b[0m\u001b[0;34m:\u001b[0m\u001b[0;34m\u001b[0m\u001b[0;34m\u001b[0m\u001b[0m\n\u001b[0;32m--> 152\u001b[0;31m         \u001b[0mdata\u001b[0m \u001b[0;34m=\u001b[0m \u001b[0mseg_trees\u001b[0m\u001b[0;34m[\u001b[0m\u001b[0mcontig\u001b[0m \u001b[0;34m-\u001b[0m \u001b[0;36m1\u001b[0m\u001b[0;34m]\u001b[0m\u001b[0;34m[\u001b[0m\u001b[0mpos\u001b[0m\u001b[0;34m]\u001b[0m\u001b[0;34m.\u001b[0m\u001b[0mpop\u001b[0m\u001b[0;34m(\u001b[0m\u001b[0;34m)\u001b[0m\u001b[0;34m.\u001b[0m\u001b[0mdata\u001b[0m\u001b[0;34m[\u001b[0m\u001b[0msample\u001b[0m\u001b[0;34m]\u001b[0m  \u001b[0;31m# only one hit, because of split_overlaps\u001b[0m\u001b[0;34m\u001b[0m\u001b[0;34m\u001b[0m\u001b[0m\n\u001b[0m\u001b[1;32m    153\u001b[0m     \u001b[0;32mexcept\u001b[0m \u001b[0mIndexError\u001b[0m \u001b[0;32mor\u001b[0m \u001b[0mKeyError\u001b[0m\u001b[0;34m:\u001b[0m  \u001b[0;31m# no segment at given loci\u001b[0m\u001b[0;34m\u001b[0m\u001b[0;34m\u001b[0m\u001b[0m\n\u001b[1;32m    154\u001b[0m         \u001b[0;32mreturn\u001b[0m \u001b[0;32mNone\u001b[0m\u001b[0;34m\u001b[0m\u001b[0;34m\u001b[0m\u001b[0m\n",
      "\u001b[0;31mKeyError\u001b[0m: 'pop from an empty set'"
     ]
    }
   ],
   "source": [
    "mut_ccfs_df = cnv_suite.apply_segment_data_to_df(mut_ccfs_df, seg_trees)"
   ]
  },
  {
   "cell_type": "code",
   "execution_count": 62,
   "id": "c6b27eae-39d1-41b5-b1bd-03e61b00d6f3",
   "metadata": {},
   "outputs": [],
   "source": [
    "seg_df = []\n",
    "for sample_id in sample_data_df.sort_values('collection_date_dfd').index.tolist():\n",
    "    this_seg_df = pd.read_csv(sample_data_df.loc[sample_id, 'alleliccapseg_tsv'], sep='\\t')\n",
    "    this_seg_df['Sample_ID'] = sample_id\n",
    "    seg_df.append(this_seg_df)"
   ]
  },
  {
   "cell_type": "code",
   "execution_count": 63,
   "id": "f970f54f-589d-46ac-b508-41dc1c1cd8c5",
   "metadata": {},
   "outputs": [],
   "source": [
    "import cnv_suite\n",
    "seg_trees = cnv_suite.get_segment_interval_trees(pd.concat(seg_df))"
   ]
  },
  {
   "cell_type": "code",
   "execution_count": 77,
   "id": "f613c707-d4b8-44a8-bd14-434cf31c13c2",
   "metadata": {},
   "outputs": [
    {
     "data": {
      "text/plain": [
       "Data_Tuple(n_probes=512.0, length=46014200.0, n_hets=0.0, f=1.0, tau=1.92736020387392, sigma_tau=0.0088302649739119, mu_minor=0.001, sigma_minor=1e-05, mu_major=0.96368010193696, sigma_major=0.0044151324869559, SegLabelCNLOH=2.0, Cluster_assignment='0')"
      ]
     },
     "execution_count": 77,
     "metadata": {},
     "output_type": "execute_result"
    }
   ],
   "source": [
    "seg_trees[22][10000000].pop().data['GBM.ICB-75-19.778.A1-Post3_pair']"
   ]
  },
  {
   "cell_type": "code",
   "execution_count": 59,
   "id": "5d852fa8-c6fe-4a79-9e39-b30124ea0668",
   "metadata": {},
   "outputs": [
    {
     "data": {
      "text/html": [
       "<div>\n",
       "<style scoped>\n",
       "    .dataframe tbody tr th:only-of-type {\n",
       "        vertical-align: middle;\n",
       "    }\n",
       "\n",
       "    .dataframe tbody tr th {\n",
       "        vertical-align: top;\n",
       "    }\n",
       "\n",
       "    .dataframe thead th {\n",
       "        text-align: right;\n",
       "    }\n",
       "</style>\n",
       "<table border=\"1\" class=\"dataframe\">\n",
       "  <thead>\n",
       "    <tr style=\"text-align: right;\">\n",
       "      <th></th>\n",
       "      <th>Chromosome</th>\n",
       "      <th>Start.bp</th>\n",
       "      <th>End.bp</th>\n",
       "      <th>n_probes</th>\n",
       "      <th>length</th>\n",
       "      <th>n_hets</th>\n",
       "      <th>f</th>\n",
       "      <th>tau</th>\n",
       "      <th>sigma.tau</th>\n",
       "      <th>mu.minor</th>\n",
       "      <th>sigma.minor</th>\n",
       "      <th>mu.major</th>\n",
       "      <th>sigma.major</th>\n",
       "      <th>SegLabelCNLOH</th>\n",
       "    </tr>\n",
       "  </thead>\n",
       "  <tbody>\n",
       "    <tr>\n",
       "      <th>0</th>\n",
       "      <td>1</td>\n",
       "      <td>3301782</td>\n",
       "      <td>247769352</td>\n",
       "      <td>10328</td>\n",
       "      <td>244467570</td>\n",
       "      <td>1246</td>\n",
       "      <td>0.5</td>\n",
       "      <td>2.008057</td>\n",
       "      <td>0.001671</td>\n",
       "      <td>1.004028</td>\n",
       "      <td>0.000902</td>\n",
       "      <td>1.004028</td>\n",
       "      <td>0.000902</td>\n",
       "      <td>2</td>\n",
       "    </tr>\n",
       "    <tr>\n",
       "      <th>1</th>\n",
       "      <td>2</td>\n",
       "      <td>669714</td>\n",
       "      <td>242447435</td>\n",
       "      <td>7669</td>\n",
       "      <td>241777721</td>\n",
       "      <td>866</td>\n",
       "      <td>0.5</td>\n",
       "      <td>2.018693</td>\n",
       "      <td>0.001949</td>\n",
       "      <td>1.009347</td>\n",
       "      <td>0.001324</td>\n",
       "      <td>1.009347</td>\n",
       "      <td>0.001324</td>\n",
       "      <td>2</td>\n",
       "    </tr>\n",
       "    <tr>\n",
       "      <th>2</th>\n",
       "      <td>3</td>\n",
       "      <td>2861217</td>\n",
       "      <td>197518280</td>\n",
       "      <td>6216</td>\n",
       "      <td>194657063</td>\n",
       "      <td>797</td>\n",
       "      <td>0.5</td>\n",
       "      <td>2.017244</td>\n",
       "      <td>0.002163</td>\n",
       "      <td>1.008622</td>\n",
       "      <td>0.001343</td>\n",
       "      <td>1.008622</td>\n",
       "      <td>0.001343</td>\n",
       "      <td>2</td>\n",
       "    </tr>\n",
       "    <tr>\n",
       "      <th>3</th>\n",
       "      <td>4</td>\n",
       "      <td>1067055</td>\n",
       "      <td>187629348</td>\n",
       "      <td>3988</td>\n",
       "      <td>186562293</td>\n",
       "      <td>544</td>\n",
       "      <td>0.5</td>\n",
       "      <td>2.038958</td>\n",
       "      <td>0.002730</td>\n",
       "      <td>1.019479</td>\n",
       "      <td>0.001862</td>\n",
       "      <td>1.019479</td>\n",
       "      <td>0.001862</td>\n",
       "      <td>2</td>\n",
       "    </tr>\n",
       "    <tr>\n",
       "      <th>4</th>\n",
       "      <td>5</td>\n",
       "      <td>916053</td>\n",
       "      <td>139941102</td>\n",
       "      <td>3056</td>\n",
       "      <td>139025049</td>\n",
       "      <td>369</td>\n",
       "      <td>0.5</td>\n",
       "      <td>2.034637</td>\n",
       "      <td>0.003112</td>\n",
       "      <td>1.017318</td>\n",
       "      <td>0.002184</td>\n",
       "      <td>1.017318</td>\n",
       "      <td>0.002184</td>\n",
       "      <td>2</td>\n",
       "    </tr>\n",
       "    <tr>\n",
       "      <th>...</th>\n",
       "      <td>...</td>\n",
       "      <td>...</td>\n",
       "      <td>...</td>\n",
       "      <td>...</td>\n",
       "      <td>...</td>\n",
       "      <td>...</td>\n",
       "      <td>...</td>\n",
       "      <td>...</td>\n",
       "      <td>...</td>\n",
       "      <td>...</td>\n",
       "      <td>...</td>\n",
       "      <td>...</td>\n",
       "      <td>...</td>\n",
       "      <td>...</td>\n",
       "    </tr>\n",
       "    <tr>\n",
       "      <th>499</th>\n",
       "      <td>22</td>\n",
       "      <td>38504103</td>\n",
       "      <td>38506506</td>\n",
       "      <td>3</td>\n",
       "      <td>2403</td>\n",
       "      <td>0</td>\n",
       "      <td>NaN</td>\n",
       "      <td>1.312567</td>\n",
       "      <td>0.092936</td>\n",
       "      <td>NaN</td>\n",
       "      <td>NaN</td>\n",
       "      <td>NaN</td>\n",
       "      <td>NaN</td>\n",
       "      <td>2</td>\n",
       "    </tr>\n",
       "    <tr>\n",
       "      <th>500</th>\n",
       "      <td>22</td>\n",
       "      <td>38508375</td>\n",
       "      <td>49145654</td>\n",
       "      <td>783</td>\n",
       "      <td>10637279</td>\n",
       "      <td>70</td>\n",
       "      <td>0.5</td>\n",
       "      <td>1.874862</td>\n",
       "      <td>0.008202</td>\n",
       "      <td>0.937431</td>\n",
       "      <td>0.006140</td>\n",
       "      <td>0.937431</td>\n",
       "      <td>0.006140</td>\n",
       "      <td>2</td>\n",
       "    </tr>\n",
       "    <tr>\n",
       "      <th>501</th>\n",
       "      <td>23</td>\n",
       "      <td>3228710</td>\n",
       "      <td>49242910</td>\n",
       "      <td>512</td>\n",
       "      <td>46014200</td>\n",
       "      <td>0</td>\n",
       "      <td>1.0</td>\n",
       "      <td>1.943732</td>\n",
       "      <td>0.012962</td>\n",
       "      <td>0.001000</td>\n",
       "      <td>0.000010</td>\n",
       "      <td>0.971866</td>\n",
       "      <td>0.006481</td>\n",
       "      <td>2</td>\n",
       "    </tr>\n",
       "    <tr>\n",
       "      <th>502</th>\n",
       "      <td>23</td>\n",
       "      <td>49301489</td>\n",
       "      <td>49361324</td>\n",
       "      <td>14</td>\n",
       "      <td>59835</td>\n",
       "      <td>0</td>\n",
       "      <td>1.0</td>\n",
       "      <td>1.010432</td>\n",
       "      <td>0.040878</td>\n",
       "      <td>0.001000</td>\n",
       "      <td>0.000010</td>\n",
       "      <td>0.505216</td>\n",
       "      <td>0.020439</td>\n",
       "      <td>2</td>\n",
       "    </tr>\n",
       "    <tr>\n",
       "      <th>503</th>\n",
       "      <td>23</td>\n",
       "      <td>49365112</td>\n",
       "      <td>155239777</td>\n",
       "      <td>1186</td>\n",
       "      <td>105874665</td>\n",
       "      <td>0</td>\n",
       "      <td>1.0</td>\n",
       "      <td>1.895683</td>\n",
       "      <td>0.008307</td>\n",
       "      <td>0.001000</td>\n",
       "      <td>0.000010</td>\n",
       "      <td>0.947841</td>\n",
       "      <td>0.004154</td>\n",
       "      <td>2</td>\n",
       "    </tr>\n",
       "  </tbody>\n",
       "</table>\n",
       "<p>1224 rows × 14 columns</p>\n",
       "</div>"
      ],
      "text/plain": [
       "     Chromosome  Start.bp     End.bp  n_probes     length  n_hets    f  \\\n",
       "0             1   3301782  247769352     10328  244467570    1246  0.5   \n",
       "1             2    669714  242447435      7669  241777721     866  0.5   \n",
       "2             3   2861217  197518280      6216  194657063     797  0.5   \n",
       "3             4   1067055  187629348      3988  186562293     544  0.5   \n",
       "4             5    916053  139941102      3056  139025049     369  0.5   \n",
       "..          ...       ...        ...       ...        ...     ...  ...   \n",
       "499          22  38504103   38506506         3       2403       0  NaN   \n",
       "500          22  38508375   49145654       783   10637279      70  0.5   \n",
       "501          23   3228710   49242910       512   46014200       0  1.0   \n",
       "502          23  49301489   49361324        14      59835       0  1.0   \n",
       "503          23  49365112  155239777      1186  105874665       0  1.0   \n",
       "\n",
       "          tau  sigma.tau  mu.minor  sigma.minor  mu.major  sigma.major  \\\n",
       "0    2.008057   0.001671  1.004028     0.000902  1.004028     0.000902   \n",
       "1    2.018693   0.001949  1.009347     0.001324  1.009347     0.001324   \n",
       "2    2.017244   0.002163  1.008622     0.001343  1.008622     0.001343   \n",
       "3    2.038958   0.002730  1.019479     0.001862  1.019479     0.001862   \n",
       "4    2.034637   0.003112  1.017318     0.002184  1.017318     0.002184   \n",
       "..        ...        ...       ...          ...       ...          ...   \n",
       "499  1.312567   0.092936       NaN          NaN       NaN          NaN   \n",
       "500  1.874862   0.008202  0.937431     0.006140  0.937431     0.006140   \n",
       "501  1.943732   0.012962  0.001000     0.000010  0.971866     0.006481   \n",
       "502  1.010432   0.040878  0.001000     0.000010  0.505216     0.020439   \n",
       "503  1.895683   0.008307  0.001000     0.000010  0.947841     0.004154   \n",
       "\n",
       "     SegLabelCNLOH  \n",
       "0                2  \n",
       "1                2  \n",
       "2                2  \n",
       "3                2  \n",
       "4                2  \n",
       "..             ...  \n",
       "499              2  \n",
       "500              2  \n",
       "501              2  \n",
       "502              2  \n",
       "503              2  \n",
       "\n",
       "[1224 rows x 14 columns]"
      ]
     },
     "execution_count": 59,
     "metadata": {},
     "output_type": "execute_result"
    }
   ],
   "source": [
    "pd.concat(seg_df.values())"
   ]
  },
  {
   "cell_type": "code",
   "execution_count": null,
   "id": "acd02bcb-8144-429a-b6f4-fc186dbfcc7c",
   "metadata": {},
   "outputs": [],
   "source": []
  },
  {
   "cell_type": "markdown",
   "id": "f4a11a31-6580-4b5c-8fcf-04783d701f30",
   "metadata": {},
   "source": [
    "### Test plotting"
   ]
  },
  {
   "cell_type": "code",
   "execution_count": 11,
   "id": "2488236c-b837-45f6-b99b-402b3fb89b92",
   "metadata": {},
   "outputs": [],
   "source": [
    "#from PhylogicReviewer import ccf_pmf_plot\n",
    "import pandas as pd\n",
    "import re\n",
    "import plotly.express as px\n",
    "\n",
    "df = pd.DataFrame([['ONC106612', 'gs://fc-secure-c1d8f0c8-dc8c-418a-ac13-561b18de3d8e/1dc35867-4c57-487e-bcdd-e39820462211/phylogicndt/b007b77f-c150-490f-9d55-7ace9eb495dd/call-clustering/ONC106612.mut_ccfs.txt'], ['ONC110293', 'gs://fc-secure-c1d8f0c8-dc8c-418a-ac13-561b18de3d8e/1dc35867-4c57-487e-bcdd-e39820462211/phylogicndt/598b3916-a3b8-49dd-a3cb-bfb8ab8cd08e/call-clustering/cacheCopy/ONC110293.mut_ccfs.txt']], columns=['participant_id', 'mut_ccfs'])\n",
    "df.set_index('participant_id', inplace=True)\n",
    "mut_ids = ['13:67799823C>A', '3:99568657T>C', '17:1558752G>A']\n",
    "samples = ['17318_13_OCT_052219', '17318_13_BB_111119']\n"
   ]
  },
  {
   "cell_type": "code",
   "execution_count": 12,
   "id": "a71b4174-747c-416c-9c9c-170297af1221",
   "metadata": {},
   "outputs": [],
   "source": [
    "def ccf_pmf_plot(data_df, idx, mut_ids, sample_selection):\n",
    "    \"\"\"Plots the CCF pmf distribution for the chosen mutation(s).\n",
    "\n",
    "    Notes\n",
    "    -----\n",
    "    - Displays the pmf distribution as a normalized histogram\n",
    "    - Samples are shown in separate rows\n",
    "    - Clusters displayed with different colors, with adjacent bars\n",
    "\n",
    "    \"\"\"\n",
    "    mut_ccfs_df = pd.read_csv(data_df.loc[idx, 'mut_ccfs'], sep='\\t')\n",
    "    mut_ccfs_df['unique_mut_id'] = mut_ccfs_df.apply(get_unique_identifier, axis=1)\n",
    "    chosen_muts_df = mut_ccfs_df[mut_ccfs_df['unique_mut_id'].isin(mut_ids)].copy()\n",
    "\n",
    "    ccfs_headers = [re.search('.*[01].[0-9]+', i) for i in mut_ccfs_df.columns]\n",
    "    ccfs_headers = [x.group() for x in ccfs_headers if x]\n",
    "\n",
    "    #pmf_plot = make_subplots(1, len(sample_selection))\n",
    "    stacked_muts = chosen_muts_df.set_index(['Sample_ID', 'unique_mut_id', 'Cluster_Assignment'])[\n",
    "        ccfs_headers].stack().reset_index().rename(columns={'level_3': 'ccf_val', 0: 'pmf_val'})\n",
    "    fig = px.histogram(stacked_muts, x='ccf_val', y='pmf_val', color='unique_mut_id', facet_row='Sample_ID', barmode='group', histfunc='avg')\n",
    "    return fig\n",
    "\n",
    "\n",
    "def get_unique_identifier(row, chrom='Chromosome', start_pos='Start_position',\n",
    "                          ref='Reference_Allele', alt='Tumor_Seq_Allele'):\n",
    "    \"\"\"Generates unique string for this mutation, including contig, start position, ref and alt alleles.\n",
    "\n",
    "    Does not include End Position, for this field is not present in mut_ccfs Phylogic output. However, specification of both the alt and ref alleles are enough to distinguish InDels.\n",
    "\n",
    "    :param row: pd.Series giving the data for one mutation from a maf or maf-like dataframe\n",
    "    :param chrom: the name of the contig/chromosome column/field; default: Chromosome\n",
    "    :param start_pos: the name of the start position column/field; default: Start_position\n",
    "    :param ref: the name of the reference allele column/field; default: Reference_Allele\n",
    "    :param alt: the name of the alternate allele column/field; default: Tumor_Seq_Allele\n",
    "    \"\"\"\n",
    "    return f\"{row[chrom]}:{row[start_pos]}{row[ref]}>{row[alt]}\""
   ]
  },
  {
   "cell_type": "code",
   "execution_count": 13,
   "id": "0800b910-81f2-44f5-a976-cb8ef736b62f",
   "metadata": {},
   "outputs": [],
   "source": [
    "fig = ccf_pmf_plot(df, 'ONC106612', mut_ids, samples)"
   ]
  },
  {
   "cell_type": "code",
   "execution_count": 14,
   "id": "9b52b164-af28-443f-87bc-5b751fdf58da",
   "metadata": {},
   "outputs": [
    {
     "data": {
      "application/vnd.plotly.v1+json": {
       "config": {
        "plotlyServerURL": "https://plot.ly"
       },
       "data": [
        {
         "alignmentgroup": "True",
         "bingroup": "x",
         "histfunc": "avg",
         "hovertemplate": "unique_mut_id=13:67799823C>A<br>Sample_ID=17318_13_OCT_052219<br>ccf_val=%{x}<br>avg of pmf_val=%{y}<extra></extra>",
         "legendgroup": "13:67799823C>A",
         "marker": {
          "color": "#636efa",
          "pattern": {
           "shape": ""
          }
         },
         "name": "13:67799823C>A",
         "offsetgroup": "13:67799823C>A",
         "orientation": "v",
         "showlegend": true,
         "type": "histogram",
         "x": [
          "preDP_ccf_0.0",
          "preDP_ccf_0.01",
          "preDP_ccf_0.02",
          "preDP_ccf_0.03",
          "preDP_ccf_0.04",
          "preDP_ccf_0.05",
          "preDP_ccf_0.06",
          "preDP_ccf_0.07",
          "preDP_ccf_0.08",
          "preDP_ccf_0.09",
          "preDP_ccf_0.1",
          "preDP_ccf_0.11",
          "preDP_ccf_0.12",
          "preDP_ccf_0.13",
          "preDP_ccf_0.14",
          "preDP_ccf_0.15",
          "preDP_ccf_0.16",
          "preDP_ccf_0.17",
          "preDP_ccf_0.18",
          "preDP_ccf_0.19",
          "preDP_ccf_0.2",
          "preDP_ccf_0.21",
          "preDP_ccf_0.22",
          "preDP_ccf_0.23",
          "preDP_ccf_0.24",
          "preDP_ccf_0.25",
          "preDP_ccf_0.26",
          "preDP_ccf_0.27",
          "preDP_ccf_0.28",
          "preDP_ccf_0.29",
          "preDP_ccf_0.3",
          "preDP_ccf_0.31",
          "preDP_ccf_0.32",
          "preDP_ccf_0.33",
          "preDP_ccf_0.34",
          "preDP_ccf_0.35",
          "preDP_ccf_0.36",
          "preDP_ccf_0.37",
          "preDP_ccf_0.38",
          "preDP_ccf_0.39",
          "preDP_ccf_0.4",
          "preDP_ccf_0.41",
          "preDP_ccf_0.42",
          "preDP_ccf_0.43",
          "preDP_ccf_0.44",
          "preDP_ccf_0.45",
          "preDP_ccf_0.46",
          "preDP_ccf_0.47",
          "preDP_ccf_0.48",
          "preDP_ccf_0.49",
          "preDP_ccf_0.5",
          "preDP_ccf_0.51",
          "preDP_ccf_0.52",
          "preDP_ccf_0.53",
          "preDP_ccf_0.54",
          "preDP_ccf_0.55",
          "preDP_ccf_0.56",
          "preDP_ccf_0.57",
          "preDP_ccf_0.58",
          "preDP_ccf_0.59",
          "preDP_ccf_0.6",
          "preDP_ccf_0.61",
          "preDP_ccf_0.62",
          "preDP_ccf_0.63",
          "preDP_ccf_0.64",
          "preDP_ccf_0.65",
          "preDP_ccf_0.66",
          "preDP_ccf_0.67",
          "preDP_ccf_0.68",
          "preDP_ccf_0.69",
          "preDP_ccf_0.7",
          "preDP_ccf_0.71",
          "preDP_ccf_0.72",
          "preDP_ccf_0.73",
          "preDP_ccf_0.74",
          "preDP_ccf_0.75",
          "preDP_ccf_0.76",
          "preDP_ccf_0.77",
          "preDP_ccf_0.78",
          "preDP_ccf_0.79",
          "preDP_ccf_0.8",
          "preDP_ccf_0.81",
          "preDP_ccf_0.82",
          "preDP_ccf_0.83",
          "preDP_ccf_0.84",
          "preDP_ccf_0.85",
          "preDP_ccf_0.86",
          "preDP_ccf_0.87",
          "preDP_ccf_0.88",
          "preDP_ccf_0.89",
          "preDP_ccf_0.9",
          "preDP_ccf_0.91",
          "preDP_ccf_0.92",
          "preDP_ccf_0.93",
          "preDP_ccf_0.94",
          "preDP_ccf_0.95",
          "preDP_ccf_0.96",
          "preDP_ccf_0.97",
          "preDP_ccf_0.98",
          "preDP_ccf_0.99",
          "preDP_ccf_1.0"
         ],
         "xaxis": "x2",
         "y": [
          0,
          1.0049987563600001e-28,
          1.58959704554e-26,
          8.70695828695e-25,
          2.5634988426600002e-23,
          4.90725006005e-22,
          6.79382796609e-21,
          7.279236865270001e-20,
          6.32448286084e-19,
          4.60975389131e-18,
          2.89202150496e-17,
          1.5932989340699999e-16,
          7.83274101693e-16,
          3.48103858187e-15,
          1.4137205479e-14,
          5.29424041957e-14,
          1.84229678193e-13,
          5.99632770782e-13,
          1.8358963901e-12,
          5.313705301240001e-12,
          1.46022180866e-11,
          3.82451741372e-11,
          9.57961942076e-11,
          2.30171569437e-10,
          5.31946811303e-10,
          1.18538958076e-09,
          2.55264904814e-09,
          5.3226690116e-09,
          1.07663591063e-08,
          2.11608345752e-08,
          4.04746830716e-08,
          7.54446771627e-08,
          1.37223158668e-07,
          2.43834739778e-07,
          4.2375006109e-07,
          7.20960533146e-07,
          1.20201661502e-06,
          1.9655662289e-06,
          3.15498986886e-06,
          4.97476301219e-06,
          7.7111709552e-06,
          1.17579416333e-05,
          1.76472341899e-05,
          2.60862128674e-05,
          3.79991388914e-05,
          5.45745248655e-05,
          7.73164217767e-05,
          0.000108098361999,
          0.000149217886398,
          0.000203448973272,
          0.000274089103757,
          0.000364997191608,
          0.000480618227953,
          0.000625990296758,
          0.000806729652908,
          0.00102898986152,
          0.00129939160017,
          0.00162492063305,
          0.00201279266589,
          0.00247028524685,
          0.00300453853622,
          0.0036223285483,
          0.00432981827929,
          0.00513229386987,
          0.00603389450065,
          0.00703734597479,
          0.00814370880756,
          0.00935215203687,
          0.0106597638352,
          0.0120614093142,
          0.0135496446712,
          0.0151146950713,
          0.0167445014536,
          0.0184248388953,
          0.0201395063815,
          0.0218705849444,
          0.0235987582998,
          0.0253036874587,
          0.0269644284672,
          0.0285598805401,
          0.0300692504947,
          0.0314725186338,
          0.0327508910904,
          0.0338872241451,
          0.0348664071152,
          0.0356756920423,
          0.0363049604749,
          0.0367469200594,
          0.0369972262878,
          0.0370545274894,
          0.036920433861,
          0.0365994139027,
          0.0360986239501,
          0.0354276784874,
          0.0345983705238,
          0.033624352475,
          0.0325207886925,
          0.0313039910264,
          0.0299910486167,
          0.0285994625308,
          0.0271467949371
         ],
         "yaxis": "y2"
        },
        {
         "alignmentgroup": "True",
         "bingroup": "x",
         "histfunc": "avg",
         "hovertemplate": "unique_mut_id=13:67799823C>A<br>Sample_ID=17318_13_BB_111119<br>ccf_val=%{x}<br>avg of pmf_val=%{y}<extra></extra>",
         "legendgroup": "13:67799823C>A",
         "marker": {
          "color": "#636efa",
          "pattern": {
           "shape": ""
          }
         },
         "name": "13:67799823C>A",
         "offsetgroup": "13:67799823C>A",
         "orientation": "v",
         "showlegend": false,
         "type": "histogram",
         "x": [
          "preDP_ccf_0.0",
          "preDP_ccf_0.01",
          "preDP_ccf_0.02",
          "preDP_ccf_0.03",
          "preDP_ccf_0.04",
          "preDP_ccf_0.05",
          "preDP_ccf_0.06",
          "preDP_ccf_0.07",
          "preDP_ccf_0.08",
          "preDP_ccf_0.09",
          "preDP_ccf_0.1",
          "preDP_ccf_0.11",
          "preDP_ccf_0.12",
          "preDP_ccf_0.13",
          "preDP_ccf_0.14",
          "preDP_ccf_0.15",
          "preDP_ccf_0.16",
          "preDP_ccf_0.17",
          "preDP_ccf_0.18",
          "preDP_ccf_0.19",
          "preDP_ccf_0.2",
          "preDP_ccf_0.21",
          "preDP_ccf_0.22",
          "preDP_ccf_0.23",
          "preDP_ccf_0.24",
          "preDP_ccf_0.25",
          "preDP_ccf_0.26",
          "preDP_ccf_0.27",
          "preDP_ccf_0.28",
          "preDP_ccf_0.29",
          "preDP_ccf_0.3",
          "preDP_ccf_0.31",
          "preDP_ccf_0.32",
          "preDP_ccf_0.33",
          "preDP_ccf_0.34",
          "preDP_ccf_0.35",
          "preDP_ccf_0.36",
          "preDP_ccf_0.37",
          "preDP_ccf_0.38",
          "preDP_ccf_0.39",
          "preDP_ccf_0.4",
          "preDP_ccf_0.41",
          "preDP_ccf_0.42",
          "preDP_ccf_0.43",
          "preDP_ccf_0.44",
          "preDP_ccf_0.45",
          "preDP_ccf_0.46",
          "preDP_ccf_0.47",
          "preDP_ccf_0.48",
          "preDP_ccf_0.49",
          "preDP_ccf_0.5",
          "preDP_ccf_0.51",
          "preDP_ccf_0.52",
          "preDP_ccf_0.53",
          "preDP_ccf_0.54",
          "preDP_ccf_0.55",
          "preDP_ccf_0.56",
          "preDP_ccf_0.57",
          "preDP_ccf_0.58",
          "preDP_ccf_0.59",
          "preDP_ccf_0.6",
          "preDP_ccf_0.61",
          "preDP_ccf_0.62",
          "preDP_ccf_0.63",
          "preDP_ccf_0.64",
          "preDP_ccf_0.65",
          "preDP_ccf_0.66",
          "preDP_ccf_0.67",
          "preDP_ccf_0.68",
          "preDP_ccf_0.69",
          "preDP_ccf_0.7",
          "preDP_ccf_0.71",
          "preDP_ccf_0.72",
          "preDP_ccf_0.73",
          "preDP_ccf_0.74",
          "preDP_ccf_0.75",
          "preDP_ccf_0.76",
          "preDP_ccf_0.77",
          "preDP_ccf_0.78",
          "preDP_ccf_0.79",
          "preDP_ccf_0.8",
          "preDP_ccf_0.81",
          "preDP_ccf_0.82",
          "preDP_ccf_0.83",
          "preDP_ccf_0.84",
          "preDP_ccf_0.85",
          "preDP_ccf_0.86",
          "preDP_ccf_0.87",
          "preDP_ccf_0.88",
          "preDP_ccf_0.89",
          "preDP_ccf_0.9",
          "preDP_ccf_0.91",
          "preDP_ccf_0.92",
          "preDP_ccf_0.93",
          "preDP_ccf_0.94",
          "preDP_ccf_0.95",
          "preDP_ccf_0.96",
          "preDP_ccf_0.97",
          "preDP_ccf_0.98",
          "preDP_ccf_0.99",
          "preDP_ccf_1.0"
         ],
         "xaxis": "x",
         "y": [
          0,
          5.03132590851e-06,
          1.22851814249e-05,
          2.2177862455e-05,
          3.51473265579e-05,
          5.1649702924e-05,
          7.21556133077e-05,
          9.71463561047e-05,
          0.000127110003718,
          0.000162537460832,
          0.0002039185283,
          0.000251738014149,
          0.000306471929792,
          0.000368583805944,
          0.000438521159118,
          0.000516712135883,
          0.000603562358415,
          0.000699451991281,
          0.000804733045907,
          0.000919726935833,
          0.00104472229261,
          0.00117997304923,
          0.00132569679506,
          0.0014820734037,
          0.00164924393261,
          0.0018273097913,
          0.0020163321727,
          0.00221633174071,
          0.00242728856506,
          0.00264914229355,
          0.00288179255032,
          0.00312509954786,
          0.00337888489965,
          0.00364293261969,
          0.00391699029466,
          0.0042007704141,
          0.00449395184378,
          0.00479618142744,
          0.00510707570202,
          0.00542622271166,
          0.00575318390612,
          0.00608749610928,
          0.00642867354431,
          0.00677620990188,
          0.00712958043899,
          0.00748824409601,
          0.00785164562054,
          0.00821921768705,
          0.00859038300206,
          0.00896455638534,
          0.00934114681817,
          0.00971955945044,
          0.0100991975593,
          0.010479464452,
          0.0108597653081,
          0.0112395089533,
          0.0116181095629,
          0.0119949882885,
          0.0123695748054,
          0.0127413087781,
          0.0131096412399,
          0.0134740358872,
          0.0138339702852,
          0.0141889369848,
          0.0145384445503,
          0.0148820184989,
          0.0152192021503,
          0.0155495573896,
          0.0158726653428,
          0.0161881269679,
          0.0164955635617,
          0.0167946171865,
          0.0170849510162,
          0.0173662496068,
          0.0176382190929,
          0.0179005873119,
          0.0181531038609,
          0.018395540088,
          0.0186276890209,
          0.0188493652374,
          0.0190604046788,
          0.0192606644122,
          0.0194500223422,
          0.0196283768775,
          0.0197956465544,
          0.0199517696206,
          0.0200967035833,
          0.0202304247236,
          0.0203529275808,
          0.0204642244102,
          0.0205643446165,
          0.0206533341657,
          0.0207312549793,
          0.0207981843118,
          0.0208542141161,
          0.0208994503975,
          0.0209340125594,
          0.0209580327438,
          0.0209716551668,
          0.0209750354535,
          0.0209683399722
         ],
         "yaxis": "y"
        },
        {
         "alignmentgroup": "True",
         "bingroup": "x",
         "histfunc": "avg",
         "hovertemplate": "unique_mut_id=3:99568657T>C<br>Sample_ID=17318_13_OCT_052219<br>ccf_val=%{x}<br>avg of pmf_val=%{y}<extra></extra>",
         "legendgroup": "3:99568657T>C",
         "marker": {
          "color": "#EF553B",
          "pattern": {
           "shape": ""
          }
         },
         "name": "3:99568657T>C",
         "offsetgroup": "3:99568657T>C",
         "orientation": "v",
         "showlegend": true,
         "type": "histogram",
         "x": [
          "preDP_ccf_0.0",
          "preDP_ccf_0.01",
          "preDP_ccf_0.02",
          "preDP_ccf_0.03",
          "preDP_ccf_0.04",
          "preDP_ccf_0.05",
          "preDP_ccf_0.06",
          "preDP_ccf_0.07",
          "preDP_ccf_0.08",
          "preDP_ccf_0.09",
          "preDP_ccf_0.1",
          "preDP_ccf_0.11",
          "preDP_ccf_0.12",
          "preDP_ccf_0.13",
          "preDP_ccf_0.14",
          "preDP_ccf_0.15",
          "preDP_ccf_0.16",
          "preDP_ccf_0.17",
          "preDP_ccf_0.18",
          "preDP_ccf_0.19",
          "preDP_ccf_0.2",
          "preDP_ccf_0.21",
          "preDP_ccf_0.22",
          "preDP_ccf_0.23",
          "preDP_ccf_0.24",
          "preDP_ccf_0.25",
          "preDP_ccf_0.26",
          "preDP_ccf_0.27",
          "preDP_ccf_0.28",
          "preDP_ccf_0.29",
          "preDP_ccf_0.3",
          "preDP_ccf_0.31",
          "preDP_ccf_0.32",
          "preDP_ccf_0.33",
          "preDP_ccf_0.34",
          "preDP_ccf_0.35",
          "preDP_ccf_0.36",
          "preDP_ccf_0.37",
          "preDP_ccf_0.38",
          "preDP_ccf_0.39",
          "preDP_ccf_0.4",
          "preDP_ccf_0.41",
          "preDP_ccf_0.42",
          "preDP_ccf_0.43",
          "preDP_ccf_0.44",
          "preDP_ccf_0.45",
          "preDP_ccf_0.46",
          "preDP_ccf_0.47",
          "preDP_ccf_0.48",
          "preDP_ccf_0.49",
          "preDP_ccf_0.5",
          "preDP_ccf_0.51",
          "preDP_ccf_0.52",
          "preDP_ccf_0.53",
          "preDP_ccf_0.54",
          "preDP_ccf_0.55",
          "preDP_ccf_0.56",
          "preDP_ccf_0.57",
          "preDP_ccf_0.58",
          "preDP_ccf_0.59",
          "preDP_ccf_0.6",
          "preDP_ccf_0.61",
          "preDP_ccf_0.62",
          "preDP_ccf_0.63",
          "preDP_ccf_0.64",
          "preDP_ccf_0.65",
          "preDP_ccf_0.66",
          "preDP_ccf_0.67",
          "preDP_ccf_0.68",
          "preDP_ccf_0.69",
          "preDP_ccf_0.7",
          "preDP_ccf_0.71",
          "preDP_ccf_0.72",
          "preDP_ccf_0.73",
          "preDP_ccf_0.74",
          "preDP_ccf_0.75",
          "preDP_ccf_0.76",
          "preDP_ccf_0.77",
          "preDP_ccf_0.78",
          "preDP_ccf_0.79",
          "preDP_ccf_0.8",
          "preDP_ccf_0.81",
          "preDP_ccf_0.82",
          "preDP_ccf_0.83",
          "preDP_ccf_0.84",
          "preDP_ccf_0.85",
          "preDP_ccf_0.86",
          "preDP_ccf_0.87",
          "preDP_ccf_0.88",
          "preDP_ccf_0.89",
          "preDP_ccf_0.9",
          "preDP_ccf_0.91",
          "preDP_ccf_0.92",
          "preDP_ccf_0.93",
          "preDP_ccf_0.94",
          "preDP_ccf_0.95",
          "preDP_ccf_0.96",
          "preDP_ccf_0.97",
          "preDP_ccf_0.98",
          "preDP_ccf_0.99",
          "preDP_ccf_1.0"
         ],
         "xaxis": "x2",
         "y": [
          0.357885871495,
          0.230169854156,
          0.147899746727,
          0.0949510903297,
          0.0609038082663,
          0.0390300700202,
          0.0249898131405,
          0.0159857819499,
          0.0102166931267,
          0.00652365193408,
          0.00416172666061,
          0.00265250995576,
          0.00168903846985,
          0.00107453223396,
          0.00068295969129,
          0.000433675344383,
          0.000275122896964,
          0.000174373056767,
          0.000110413188996,
          6.984731718e-05,
          4.41432163893e-05,
          2.78716025122e-05,
          1.75809310177e-05,
          1.10790365608e-05,
          6.97494097208e-06,
          4.38687946203e-06,
          2.75642187085e-06,
          1.73024928683e-06,
          1.0850327584e-06,
          6.79745533927e-07,
          4.25419474228e-07,
          2.65983072768e-07,
          1.66132417774e-07,
          1.0366129731e-07,
          6.46158203261e-08,
          4.023640229e-08,
          2.50296947771e-08,
          1.55541456511e-08,
          9.65581675405e-09,
          5.9880049737e-09,
          3.70957022712e-09,
          2.29568005448e-09,
          1.41919947343e-09,
          8.76431186463e-10,
          5.4067025369e-10,
          3.33184937204e-10,
          2.05104134572e-10,
          1.26123952809e-10,
          7.74734238682e-11,
          4.75376649537e-11,
          2.9137396765e-11,
          1.7839773232e-11,
          1.09106707161e-11,
          6.6655340216900005e-12,
          4.0675945779900005e-12,
          2.4794616398200002e-12,
          1.50970450067e-12,
          9.18203854499e-13,
          5.57823295513e-13,
          3.38502833906e-13,
          2.05179437041e-13,
          1.24224982182e-13,
          7.512514819579999e-14,
          4.5379605770599993e-14,
          2.7379956055799998e-14,
          1.6500575145499998e-14,
          9.932472355949999e-15,
          5.971799497899999e-15,
          3.58624740692e-15,
          2.15109723465e-15,
          1.28873069892e-15,
          7.71159472885e-16,
          4.60896754897e-16,
          2.7513006501e-16,
          1.64038164257e-16,
          9.76836058642e-17,
          5.8098626085e-17,
          3.45123781305e-17,
          2.04760500242e-17,
          1.21332503582e-17,
          7.180673952490001e-18,
          4.244315880950001e-18,
          2.5055437120400002e-18,
          1.4772207372800002e-18,
          8.69831730686e-19,
          5.11527313557e-19,
          3.00430080417e-19,
          1.7622042955899998e-19,
          1.03229680776e-19,
          6.03928619967e-20,
          3.5285520309e-20,
          2.0588964123200002e-20,
          1.19976633482e-20,
          6.98200532298e-21,
          4.05772034695e-21,
          2.35504692316e-21,
          1.36499038103e-21,
          7.900766531710001e-22,
          4.56683679681e-22,
          2.6361211867500003e-22,
          1.5195529442100001e-22
         ],
         "yaxis": "y2"
        },
        {
         "alignmentgroup": "True",
         "bingroup": "x",
         "histfunc": "avg",
         "hovertemplate": "unique_mut_id=3:99568657T>C<br>Sample_ID=17318_13_BB_111119<br>ccf_val=%{x}<br>avg of pmf_val=%{y}<extra></extra>",
         "legendgroup": "3:99568657T>C",
         "marker": {
          "color": "#EF553B",
          "pattern": {
           "shape": ""
          }
         },
         "name": "3:99568657T>C",
         "offsetgroup": "3:99568657T>C",
         "orientation": "v",
         "showlegend": false,
         "type": "histogram",
         "x": [
          "preDP_ccf_0.0",
          "preDP_ccf_0.01",
          "preDP_ccf_0.02",
          "preDP_ccf_0.03",
          "preDP_ccf_0.04",
          "preDP_ccf_0.05",
          "preDP_ccf_0.06",
          "preDP_ccf_0.07",
          "preDP_ccf_0.08",
          "preDP_ccf_0.09",
          "preDP_ccf_0.1",
          "preDP_ccf_0.11",
          "preDP_ccf_0.12",
          "preDP_ccf_0.13",
          "preDP_ccf_0.14",
          "preDP_ccf_0.15",
          "preDP_ccf_0.16",
          "preDP_ccf_0.17",
          "preDP_ccf_0.18",
          "preDP_ccf_0.19",
          "preDP_ccf_0.2",
          "preDP_ccf_0.21",
          "preDP_ccf_0.22",
          "preDP_ccf_0.23",
          "preDP_ccf_0.24",
          "preDP_ccf_0.25",
          "preDP_ccf_0.26",
          "preDP_ccf_0.27",
          "preDP_ccf_0.28",
          "preDP_ccf_0.29",
          "preDP_ccf_0.3",
          "preDP_ccf_0.31",
          "preDP_ccf_0.32",
          "preDP_ccf_0.33",
          "preDP_ccf_0.34",
          "preDP_ccf_0.35",
          "preDP_ccf_0.36",
          "preDP_ccf_0.37",
          "preDP_ccf_0.38",
          "preDP_ccf_0.39",
          "preDP_ccf_0.4",
          "preDP_ccf_0.41",
          "preDP_ccf_0.42",
          "preDP_ccf_0.43",
          "preDP_ccf_0.44",
          "preDP_ccf_0.45",
          "preDP_ccf_0.46",
          "preDP_ccf_0.47",
          "preDP_ccf_0.48",
          "preDP_ccf_0.49",
          "preDP_ccf_0.5",
          "preDP_ccf_0.51",
          "preDP_ccf_0.52",
          "preDP_ccf_0.53",
          "preDP_ccf_0.54",
          "preDP_ccf_0.55",
          "preDP_ccf_0.56",
          "preDP_ccf_0.57",
          "preDP_ccf_0.58",
          "preDP_ccf_0.59",
          "preDP_ccf_0.6",
          "preDP_ccf_0.61",
          "preDP_ccf_0.62",
          "preDP_ccf_0.63",
          "preDP_ccf_0.64",
          "preDP_ccf_0.65",
          "preDP_ccf_0.66",
          "preDP_ccf_0.67",
          "preDP_ccf_0.68",
          "preDP_ccf_0.69",
          "preDP_ccf_0.7",
          "preDP_ccf_0.71",
          "preDP_ccf_0.72",
          "preDP_ccf_0.73",
          "preDP_ccf_0.74",
          "preDP_ccf_0.75",
          "preDP_ccf_0.76",
          "preDP_ccf_0.77",
          "preDP_ccf_0.78",
          "preDP_ccf_0.79",
          "preDP_ccf_0.8",
          "preDP_ccf_0.81",
          "preDP_ccf_0.82",
          "preDP_ccf_0.83",
          "preDP_ccf_0.84",
          "preDP_ccf_0.85",
          "preDP_ccf_0.86",
          "preDP_ccf_0.87",
          "preDP_ccf_0.88",
          "preDP_ccf_0.89",
          "preDP_ccf_0.9",
          "preDP_ccf_0.91",
          "preDP_ccf_0.92",
          "preDP_ccf_0.93",
          "preDP_ccf_0.94",
          "preDP_ccf_0.95",
          "preDP_ccf_0.96",
          "preDP_ccf_0.97",
          "preDP_ccf_0.98",
          "preDP_ccf_0.99",
          "preDP_ccf_1.0"
         ],
         "xaxis": "x",
         "y": [
          0,
          0.000130312120433,
          0.000294114820202,
          0.000491551852182,
          0.000722281349726,
          0.000985524560936,
          0.00128011564775,
          0.00160455143436,
          0.00195704021571,
          0.00233554893006,
          0.00273784816368,
          0.00316155459473,
          0.00360417060014,
          0.00406312084689,
          0.0045357857698,
          0.00501953190445,
          0.00551173909788,
          0.00600982466235,
          0.00651126457216,
          0.0070136118288,
          0.00751451213978,
          0.00801171706974,
          0.00850309483182,
          0.00898663889205,
          0.00946047456158,
          0.00992286375041,
          0.0103722080535,
          0.0108070503352,
          0.0112260749719,
          0.0116281069058,
          0.0120121096547,
          0.0123771824136,
          0.0127225563779,
          0.0130475904049,
          0.013351766125,
          0.0136346826045,
          0.0138960506515,
          0.0141356868503,
          0.014353507401,
          0.0145495218316,
          0.0147238266468,
          0.0148765989653,
          0.0150080901962,
          0.0151186197942,
          0.0152085691335,
          0.0152783755273,
          0.0153285264243,
          0.0153595537994,
          0.0153720287611,
          0.0153665563862,
          0.0153437707956,
          0.0153043304775,
          0.0152489138647,
          0.0151782151672,
          0.0150929404633,
          0.0149938040457,
          0.0148815250214,
          0.0147568241615,
          0.0146204209947,
          0.014473031138,
          0.0143153638591,
          0.0141481198605,
          0.013971989278,
          0.0137876498851,
          0.0135957654921,
          0.0133969845332,
          0.0131919388294,
          0.0129812425194,
          0.0127654911473,
          0.0125452608992,
          0.0123211079778,
          0.012093568106,
          0.0118631561516,
          0.0116303658621,
          0.0113956697033,
          0.0111595187922,
          0.0109223429156,
          0.0106845506291,
          0.0104465294263,
          0.0102086459738,
          0.00997124640344,
          0.00973465665706,
          0.00949918287649,
          0.00926511183437,
          0.00903271139981,
          0.00880223103429,
          0.00857390231317,
          0.00834793946838,
          0.00812453994864,
          0.00790388499315,
          0.00768614021562,
          0.00747145619544,
          0.00725996907308,
          0.00705180114705,
          0.00684706147027,
          0.00664584644332,
          0.00644824040298,
          0.00625431620402,
          0.00606413579286,
          0.0058777507716,
          0.00569520295127
         ],
         "yaxis": "y"
        },
        {
         "alignmentgroup": "True",
         "bingroup": "x",
         "histfunc": "avg",
         "hovertemplate": "unique_mut_id=17:1558752G>A<br>Sample_ID=17318_13_OCT_052219<br>ccf_val=%{x}<br>avg of pmf_val=%{y}<extra></extra>",
         "legendgroup": "17:1558752G>A",
         "marker": {
          "color": "#00cc96",
          "pattern": {
           "shape": ""
          }
         },
         "name": "17:1558752G>A",
         "offsetgroup": "17:1558752G>A",
         "orientation": "v",
         "showlegend": true,
         "type": "histogram",
         "x": [
          "preDP_ccf_0.0",
          "preDP_ccf_0.01",
          "preDP_ccf_0.02",
          "preDP_ccf_0.03",
          "preDP_ccf_0.04",
          "preDP_ccf_0.05",
          "preDP_ccf_0.06",
          "preDP_ccf_0.07",
          "preDP_ccf_0.08",
          "preDP_ccf_0.09",
          "preDP_ccf_0.1",
          "preDP_ccf_0.11",
          "preDP_ccf_0.12",
          "preDP_ccf_0.13",
          "preDP_ccf_0.14",
          "preDP_ccf_0.15",
          "preDP_ccf_0.16",
          "preDP_ccf_0.17",
          "preDP_ccf_0.18",
          "preDP_ccf_0.19",
          "preDP_ccf_0.2",
          "preDP_ccf_0.21",
          "preDP_ccf_0.22",
          "preDP_ccf_0.23",
          "preDP_ccf_0.24",
          "preDP_ccf_0.25",
          "preDP_ccf_0.26",
          "preDP_ccf_0.27",
          "preDP_ccf_0.28",
          "preDP_ccf_0.29",
          "preDP_ccf_0.3",
          "preDP_ccf_0.31",
          "preDP_ccf_0.32",
          "preDP_ccf_0.33",
          "preDP_ccf_0.34",
          "preDP_ccf_0.35",
          "preDP_ccf_0.36",
          "preDP_ccf_0.37",
          "preDP_ccf_0.38",
          "preDP_ccf_0.39",
          "preDP_ccf_0.4",
          "preDP_ccf_0.41",
          "preDP_ccf_0.42",
          "preDP_ccf_0.43",
          "preDP_ccf_0.44",
          "preDP_ccf_0.45",
          "preDP_ccf_0.46",
          "preDP_ccf_0.47",
          "preDP_ccf_0.48",
          "preDP_ccf_0.49",
          "preDP_ccf_0.5",
          "preDP_ccf_0.51",
          "preDP_ccf_0.52",
          "preDP_ccf_0.53",
          "preDP_ccf_0.54",
          "preDP_ccf_0.55",
          "preDP_ccf_0.56",
          "preDP_ccf_0.57",
          "preDP_ccf_0.58",
          "preDP_ccf_0.59",
          "preDP_ccf_0.6",
          "preDP_ccf_0.61",
          "preDP_ccf_0.62",
          "preDP_ccf_0.63",
          "preDP_ccf_0.64",
          "preDP_ccf_0.65",
          "preDP_ccf_0.66",
          "preDP_ccf_0.67",
          "preDP_ccf_0.68",
          "preDP_ccf_0.69",
          "preDP_ccf_0.7",
          "preDP_ccf_0.71",
          "preDP_ccf_0.72",
          "preDP_ccf_0.73",
          "preDP_ccf_0.74",
          "preDP_ccf_0.75",
          "preDP_ccf_0.76",
          "preDP_ccf_0.77",
          "preDP_ccf_0.78",
          "preDP_ccf_0.79",
          "preDP_ccf_0.8",
          "preDP_ccf_0.81",
          "preDP_ccf_0.82",
          "preDP_ccf_0.83",
          "preDP_ccf_0.84",
          "preDP_ccf_0.85",
          "preDP_ccf_0.86",
          "preDP_ccf_0.87",
          "preDP_ccf_0.88",
          "preDP_ccf_0.89",
          "preDP_ccf_0.9",
          "preDP_ccf_0.91",
          "preDP_ccf_0.92",
          "preDP_ccf_0.93",
          "preDP_ccf_0.94",
          "preDP_ccf_0.95",
          "preDP_ccf_0.96",
          "preDP_ccf_0.97",
          "preDP_ccf_0.98",
          "preDP_ccf_0.99",
          "preDP_ccf_1.0"
         ],
         "xaxis": "x2",
         "y": [
          0,
          0.22483094116,
          0.237107811535,
          0.187228059081,
          0.131193909257,
          0.0860387328071,
          0.0540764268918,
          0.0329872414092,
          0.0196781237776,
          0.0115353951878,
          0.00666703493965,
          0.00380811989956,
          0.00215339009841,
          0.0012070980997,
          0.000671452115435,
          0.000370929964893,
          0.000203636634504,
          0.000111157167576,
          6.03568726645e-05,
          3.26123587795e-05,
          1.75403126889e-05,
          9.39302076599e-06,
          5.00936641192e-06,
          2.66105026617e-06,
          1.40827696677e-06,
          7.42592128657e-07,
          3.90206485839e-07,
          2.04347047345e-07,
          1.06663071192e-07,
          5.54969050047e-08,
          2.87849337578e-08,
          1.48844429402e-08,
          7.67355545308e-09,
          3.94439437274e-09,
          2.02164119547e-09,
          1.03320391359e-09,
          5.26553355641e-10,
          2.67600846544e-10,
          1.35623239689e-10,
          6.85478151936e-11,
          3.45522259789e-11,
          1.73696161757e-11,
          8.708512628230001e-12,
          4.354558710780001e-12,
          2.1716841127100003e-12,
          1.08020609791e-12,
          5.35893442644e-13,
          2.65164758604e-13,
          1.3086447588e-13,
          6.441675101479999e-14,
          3.1626335660099996e-14,
          1.5487216724e-14,
          7.56437887622e-15,
          3.6850983730399995e-15,
          1.7906096475199998e-15,
          8.67817686441e-16,
          4.19499236536e-16,
          2.02259053395e-16,
          9.72652210442e-17,
          4.6652872322e-17,
          2.2318679668900002e-17,
          1.06494146738e-17,
          5.06812910543e-18,
          2.40564538256e-18,
          1.1388712531800001e-18,
          5.37741539885e-19,
          2.53235801857e-19,
          1.18939362584e-19,
          5.57148939911e-20,
          2.6029044911400002e-20,
          1.2127805208e-20,
          5.6355836401699995e-21,
          2.61170287416e-21,
          1.20706905523e-21,
          5.563640785140001e-22,
          2.55740573905e-22,
          1.1723265163900001e-22,
          5.359207798960001e-23,
          2.44315018664e-23,
          1.11068689392e-23,
          5.03522928276e-24,
          2.2762871169300002e-24,
          1.02614547906e-24,
          4.61273727549e-25,
          2.06761671111e-25,
          9.241370555680001e-26,
          4.11861449695e-26,
          1.83023791524e-26,
          8.10958632668e-27,
          3.58275883628e-27,
          1.57818173429e-27,
          6.931220612180001e-28,
          3.03506701532e-28,
          1.32502829333e-28,
          5.76730135324e-29,
          2.5026663617e-29,
          1.0827000334000001e-29,
          4.66960516988e-30,
          2.0077553636999998e-30,
          8.605809486449999e-31,
          3.6771767551099998e-31
         ],
         "yaxis": "y2"
        },
        {
         "alignmentgroup": "True",
         "bingroup": "x",
         "histfunc": "avg",
         "hovertemplate": "unique_mut_id=17:1558752G>A<br>Sample_ID=17318_13_BB_111119<br>ccf_val=%{x}<br>avg of pmf_val=%{y}<extra></extra>",
         "legendgroup": "17:1558752G>A",
         "marker": {
          "color": "#00cc96",
          "pattern": {
           "shape": ""
          }
         },
         "name": "17:1558752G>A",
         "offsetgroup": "17:1558752G>A",
         "orientation": "v",
         "showlegend": false,
         "type": "histogram",
         "x": [
          "preDP_ccf_0.0",
          "preDP_ccf_0.01",
          "preDP_ccf_0.02",
          "preDP_ccf_0.03",
          "preDP_ccf_0.04",
          "preDP_ccf_0.05",
          "preDP_ccf_0.06",
          "preDP_ccf_0.07",
          "preDP_ccf_0.08",
          "preDP_ccf_0.09",
          "preDP_ccf_0.1",
          "preDP_ccf_0.11",
          "preDP_ccf_0.12",
          "preDP_ccf_0.13",
          "preDP_ccf_0.14",
          "preDP_ccf_0.15",
          "preDP_ccf_0.16",
          "preDP_ccf_0.17",
          "preDP_ccf_0.18",
          "preDP_ccf_0.19",
          "preDP_ccf_0.2",
          "preDP_ccf_0.21",
          "preDP_ccf_0.22",
          "preDP_ccf_0.23",
          "preDP_ccf_0.24",
          "preDP_ccf_0.25",
          "preDP_ccf_0.26",
          "preDP_ccf_0.27",
          "preDP_ccf_0.28",
          "preDP_ccf_0.29",
          "preDP_ccf_0.3",
          "preDP_ccf_0.31",
          "preDP_ccf_0.32",
          "preDP_ccf_0.33",
          "preDP_ccf_0.34",
          "preDP_ccf_0.35",
          "preDP_ccf_0.36",
          "preDP_ccf_0.37",
          "preDP_ccf_0.38",
          "preDP_ccf_0.39",
          "preDP_ccf_0.4",
          "preDP_ccf_0.41",
          "preDP_ccf_0.42",
          "preDP_ccf_0.43",
          "preDP_ccf_0.44",
          "preDP_ccf_0.45",
          "preDP_ccf_0.46",
          "preDP_ccf_0.47",
          "preDP_ccf_0.48",
          "preDP_ccf_0.49",
          "preDP_ccf_0.5",
          "preDP_ccf_0.51",
          "preDP_ccf_0.52",
          "preDP_ccf_0.53",
          "preDP_ccf_0.54",
          "preDP_ccf_0.55",
          "preDP_ccf_0.56",
          "preDP_ccf_0.57",
          "preDP_ccf_0.58",
          "preDP_ccf_0.59",
          "preDP_ccf_0.6",
          "preDP_ccf_0.61",
          "preDP_ccf_0.62",
          "preDP_ccf_0.63",
          "preDP_ccf_0.64",
          "preDP_ccf_0.65",
          "preDP_ccf_0.66",
          "preDP_ccf_0.67",
          "preDP_ccf_0.68",
          "preDP_ccf_0.69",
          "preDP_ccf_0.7",
          "preDP_ccf_0.71",
          "preDP_ccf_0.72",
          "preDP_ccf_0.73",
          "preDP_ccf_0.74",
          "preDP_ccf_0.75",
          "preDP_ccf_0.76",
          "preDP_ccf_0.77",
          "preDP_ccf_0.78",
          "preDP_ccf_0.79",
          "preDP_ccf_0.8",
          "preDP_ccf_0.81",
          "preDP_ccf_0.82",
          "preDP_ccf_0.83",
          "preDP_ccf_0.84",
          "preDP_ccf_0.85",
          "preDP_ccf_0.86",
          "preDP_ccf_0.87",
          "preDP_ccf_0.88",
          "preDP_ccf_0.89",
          "preDP_ccf_0.9",
          "preDP_ccf_0.91",
          "preDP_ccf_0.92",
          "preDP_ccf_0.93",
          "preDP_ccf_0.94",
          "preDP_ccf_0.95",
          "preDP_ccf_0.96",
          "preDP_ccf_0.97",
          "preDP_ccf_0.98",
          "preDP_ccf_0.99",
          "preDP_ccf_1.0"
         ],
         "xaxis": "x",
         "y": [
          0,
          1.167361052e-05,
          2.83145639311e-05,
          5.07123888878e-05,
          7.96514202979e-05,
          0.000115897931216,
          0.000160187754283,
          0.000213214618908,
          0.000275619400258,
          0.000347980444633,
          0.000430805103743,
          0.000524522578522,
          0.000629478142041,
          0.000745928781311,
          0.000874040269842,
          0.00101388565693,
          0.00116544513624,
          0.00132860723547,
          0.00150317125052,
          0.00168885083262,
          0.00188527862381,
          0.00209201182675,
          0.00230853858727,
          0.00253428506342,
          0.00276862305262,
          0.00301087804794,
          0.00326033759645,
          0.00351625983638,
          0.00377788209431,
          0.00404442943071,
          0.00431512302918,
          0.00458918833336,
          0.0048658628448,
          0.0051444035045,
          0.00542409359084,
          0.00570424907714,
          0.00598422440161,
          0.00626341761321,
          0.00654127486599,
          0.00681729424448,
          0.00709102891121,
          0.00736208957603,
          0.00763014629457,
          0.00789492961039,
          0.00815623106176,
          0.00841390307964,
          0.0086678583085,
          0.00891806838597,
          0.00916456222053,
          0.00940742380955,
          0.00964678964212,
          0.00988284573239,
          0.0101158243303,
          0.0103460003564,
          0.0105736876085,
          0.0107992347846,
          0.0110230213692,
          0.011245453424,
          0.0114669593272,
          0.0116879854981,
          0.0119089921461,
          0.0121304490775,
          0.0123528315916,
          0.0125766164955,
          0.0128022782627,
          0.0130302853594,
          0.0132610967568,
          0.0134951586484,
          0.0137329013844,
          0.0139747366361,
          0.0142210547981,
          0.0144722226343,
          0.0147285811721,
          0.0149904438452,
          0.0152580948855,
          0.0155317879602,
          0.0158117450503,
          0.0160981555651,
          0.0163911756841,
          0.0166909279184,
          0.0169975008824,
          0.0173109492637,
          0.0176312939819,
          0.0179585225224,
          0.0182925894346,
          0.018633416981,
          0.0189808959246,
          0.0193348864414,
          0.0196952191465,
          0.0200616962195,
          0.0204340926187,
          0.0208121573699,
          0.0211956149207,
          0.0215841665471,
          0.0219774918022,
          0.0223752499984,
          0.0227770817107,
          0.0231826102951,
          0.0235914434117,
          0.0240031745454,
          0.0241807239942
         ],
         "yaxis": "y"
        }
       ],
       "layout": {
        "annotations": [
         {
          "font": {},
          "showarrow": false,
          "text": "Sample_ID=17318_13_BB_111119",
          "textangle": 90,
          "x": 0.98,
          "xanchor": "left",
          "xref": "paper",
          "y": 0.2425,
          "yanchor": "middle",
          "yref": "paper"
         },
         {
          "font": {},
          "showarrow": false,
          "text": "Sample_ID=17318_13_OCT_052219",
          "textangle": 90,
          "x": 0.98,
          "xanchor": "left",
          "xref": "paper",
          "y": 0.7575000000000001,
          "yanchor": "middle",
          "yref": "paper"
         }
        ],
        "autosize": true,
        "barmode": "group",
        "legend": {
         "title": {
          "text": "unique_mut_id"
         },
         "tracegroupgap": 0
        },
        "margin": {
         "t": 60
        },
        "template": {
         "data": {
          "bar": [
           {
            "error_x": {
             "color": "#2a3f5f"
            },
            "error_y": {
             "color": "#2a3f5f"
            },
            "marker": {
             "line": {
              "color": "#E5ECF6",
              "width": 0.5
             },
             "pattern": {
              "fillmode": "overlay",
              "size": 10,
              "solidity": 0.2
             }
            },
            "type": "bar"
           }
          ],
          "barpolar": [
           {
            "marker": {
             "line": {
              "color": "#E5ECF6",
              "width": 0.5
             },
             "pattern": {
              "fillmode": "overlay",
              "size": 10,
              "solidity": 0.2
             }
            },
            "type": "barpolar"
           }
          ],
          "carpet": [
           {
            "aaxis": {
             "endlinecolor": "#2a3f5f",
             "gridcolor": "white",
             "linecolor": "white",
             "minorgridcolor": "white",
             "startlinecolor": "#2a3f5f"
            },
            "baxis": {
             "endlinecolor": "#2a3f5f",
             "gridcolor": "white",
             "linecolor": "white",
             "minorgridcolor": "white",
             "startlinecolor": "#2a3f5f"
            },
            "type": "carpet"
           }
          ],
          "choropleth": [
           {
            "colorbar": {
             "outlinewidth": 0,
             "ticks": ""
            },
            "type": "choropleth"
           }
          ],
          "contour": [
           {
            "colorbar": {
             "outlinewidth": 0,
             "ticks": ""
            },
            "colorscale": [
             [
              0,
              "#0d0887"
             ],
             [
              0.1111111111111111,
              "#46039f"
             ],
             [
              0.2222222222222222,
              "#7201a8"
             ],
             [
              0.3333333333333333,
              "#9c179e"
             ],
             [
              0.4444444444444444,
              "#bd3786"
             ],
             [
              0.5555555555555556,
              "#d8576b"
             ],
             [
              0.6666666666666666,
              "#ed7953"
             ],
             [
              0.7777777777777778,
              "#fb9f3a"
             ],
             [
              0.8888888888888888,
              "#fdca26"
             ],
             [
              1,
              "#f0f921"
             ]
            ],
            "type": "contour"
           }
          ],
          "contourcarpet": [
           {
            "colorbar": {
             "outlinewidth": 0,
             "ticks": ""
            },
            "type": "contourcarpet"
           }
          ],
          "heatmap": [
           {
            "colorbar": {
             "outlinewidth": 0,
             "ticks": ""
            },
            "colorscale": [
             [
              0,
              "#0d0887"
             ],
             [
              0.1111111111111111,
              "#46039f"
             ],
             [
              0.2222222222222222,
              "#7201a8"
             ],
             [
              0.3333333333333333,
              "#9c179e"
             ],
             [
              0.4444444444444444,
              "#bd3786"
             ],
             [
              0.5555555555555556,
              "#d8576b"
             ],
             [
              0.6666666666666666,
              "#ed7953"
             ],
             [
              0.7777777777777778,
              "#fb9f3a"
             ],
             [
              0.8888888888888888,
              "#fdca26"
             ],
             [
              1,
              "#f0f921"
             ]
            ],
            "type": "heatmap"
           }
          ],
          "heatmapgl": [
           {
            "colorbar": {
             "outlinewidth": 0,
             "ticks": ""
            },
            "colorscale": [
             [
              0,
              "#0d0887"
             ],
             [
              0.1111111111111111,
              "#46039f"
             ],
             [
              0.2222222222222222,
              "#7201a8"
             ],
             [
              0.3333333333333333,
              "#9c179e"
             ],
             [
              0.4444444444444444,
              "#bd3786"
             ],
             [
              0.5555555555555556,
              "#d8576b"
             ],
             [
              0.6666666666666666,
              "#ed7953"
             ],
             [
              0.7777777777777778,
              "#fb9f3a"
             ],
             [
              0.8888888888888888,
              "#fdca26"
             ],
             [
              1,
              "#f0f921"
             ]
            ],
            "type": "heatmapgl"
           }
          ],
          "histogram": [
           {
            "marker": {
             "pattern": {
              "fillmode": "overlay",
              "size": 10,
              "solidity": 0.2
             }
            },
            "type": "histogram"
           }
          ],
          "histogram2d": [
           {
            "colorbar": {
             "outlinewidth": 0,
             "ticks": ""
            },
            "colorscale": [
             [
              0,
              "#0d0887"
             ],
             [
              0.1111111111111111,
              "#46039f"
             ],
             [
              0.2222222222222222,
              "#7201a8"
             ],
             [
              0.3333333333333333,
              "#9c179e"
             ],
             [
              0.4444444444444444,
              "#bd3786"
             ],
             [
              0.5555555555555556,
              "#d8576b"
             ],
             [
              0.6666666666666666,
              "#ed7953"
             ],
             [
              0.7777777777777778,
              "#fb9f3a"
             ],
             [
              0.8888888888888888,
              "#fdca26"
             ],
             [
              1,
              "#f0f921"
             ]
            ],
            "type": "histogram2d"
           }
          ],
          "histogram2dcontour": [
           {
            "colorbar": {
             "outlinewidth": 0,
             "ticks": ""
            },
            "colorscale": [
             [
              0,
              "#0d0887"
             ],
             [
              0.1111111111111111,
              "#46039f"
             ],
             [
              0.2222222222222222,
              "#7201a8"
             ],
             [
              0.3333333333333333,
              "#9c179e"
             ],
             [
              0.4444444444444444,
              "#bd3786"
             ],
             [
              0.5555555555555556,
              "#d8576b"
             ],
             [
              0.6666666666666666,
              "#ed7953"
             ],
             [
              0.7777777777777778,
              "#fb9f3a"
             ],
             [
              0.8888888888888888,
              "#fdca26"
             ],
             [
              1,
              "#f0f921"
             ]
            ],
            "type": "histogram2dcontour"
           }
          ],
          "mesh3d": [
           {
            "colorbar": {
             "outlinewidth": 0,
             "ticks": ""
            },
            "type": "mesh3d"
           }
          ],
          "parcoords": [
           {
            "line": {
             "colorbar": {
              "outlinewidth": 0,
              "ticks": ""
             }
            },
            "type": "parcoords"
           }
          ],
          "pie": [
           {
            "automargin": true,
            "type": "pie"
           }
          ],
          "scatter": [
           {
            "fillpattern": {
             "fillmode": "overlay",
             "size": 10,
             "solidity": 0.2
            },
            "type": "scatter"
           }
          ],
          "scatter3d": [
           {
            "line": {
             "colorbar": {
              "outlinewidth": 0,
              "ticks": ""
             }
            },
            "marker": {
             "colorbar": {
              "outlinewidth": 0,
              "ticks": ""
             }
            },
            "type": "scatter3d"
           }
          ],
          "scattercarpet": [
           {
            "marker": {
             "colorbar": {
              "outlinewidth": 0,
              "ticks": ""
             }
            },
            "type": "scattercarpet"
           }
          ],
          "scattergeo": [
           {
            "marker": {
             "colorbar": {
              "outlinewidth": 0,
              "ticks": ""
             }
            },
            "type": "scattergeo"
           }
          ],
          "scattergl": [
           {
            "marker": {
             "colorbar": {
              "outlinewidth": 0,
              "ticks": ""
             }
            },
            "type": "scattergl"
           }
          ],
          "scattermapbox": [
           {
            "marker": {
             "colorbar": {
              "outlinewidth": 0,
              "ticks": ""
             }
            },
            "type": "scattermapbox"
           }
          ],
          "scatterpolar": [
           {
            "marker": {
             "colorbar": {
              "outlinewidth": 0,
              "ticks": ""
             }
            },
            "type": "scatterpolar"
           }
          ],
          "scatterpolargl": [
           {
            "marker": {
             "colorbar": {
              "outlinewidth": 0,
              "ticks": ""
             }
            },
            "type": "scatterpolargl"
           }
          ],
          "scatterternary": [
           {
            "marker": {
             "colorbar": {
              "outlinewidth": 0,
              "ticks": ""
             }
            },
            "type": "scatterternary"
           }
          ],
          "surface": [
           {
            "colorbar": {
             "outlinewidth": 0,
             "ticks": ""
            },
            "colorscale": [
             [
              0,
              "#0d0887"
             ],
             [
              0.1111111111111111,
              "#46039f"
             ],
             [
              0.2222222222222222,
              "#7201a8"
             ],
             [
              0.3333333333333333,
              "#9c179e"
             ],
             [
              0.4444444444444444,
              "#bd3786"
             ],
             [
              0.5555555555555556,
              "#d8576b"
             ],
             [
              0.6666666666666666,
              "#ed7953"
             ],
             [
              0.7777777777777778,
              "#fb9f3a"
             ],
             [
              0.8888888888888888,
              "#fdca26"
             ],
             [
              1,
              "#f0f921"
             ]
            ],
            "type": "surface"
           }
          ],
          "table": [
           {
            "cells": {
             "fill": {
              "color": "#EBF0F8"
             },
             "line": {
              "color": "white"
             }
            },
            "header": {
             "fill": {
              "color": "#C8D4E3"
             },
             "line": {
              "color": "white"
             }
            },
            "type": "table"
           }
          ]
         },
         "layout": {
          "annotationdefaults": {
           "arrowcolor": "#2a3f5f",
           "arrowhead": 0,
           "arrowwidth": 1
          },
          "autotypenumbers": "strict",
          "coloraxis": {
           "colorbar": {
            "outlinewidth": 0,
            "ticks": ""
           }
          },
          "colorscale": {
           "diverging": [
            [
             0,
             "#8e0152"
            ],
            [
             0.1,
             "#c51b7d"
            ],
            [
             0.2,
             "#de77ae"
            ],
            [
             0.3,
             "#f1b6da"
            ],
            [
             0.4,
             "#fde0ef"
            ],
            [
             0.5,
             "#f7f7f7"
            ],
            [
             0.6,
             "#e6f5d0"
            ],
            [
             0.7,
             "#b8e186"
            ],
            [
             0.8,
             "#7fbc41"
            ],
            [
             0.9,
             "#4d9221"
            ],
            [
             1,
             "#276419"
            ]
           ],
           "sequential": [
            [
             0,
             "#0d0887"
            ],
            [
             0.1111111111111111,
             "#46039f"
            ],
            [
             0.2222222222222222,
             "#7201a8"
            ],
            [
             0.3333333333333333,
             "#9c179e"
            ],
            [
             0.4444444444444444,
             "#bd3786"
            ],
            [
             0.5555555555555556,
             "#d8576b"
            ],
            [
             0.6666666666666666,
             "#ed7953"
            ],
            [
             0.7777777777777778,
             "#fb9f3a"
            ],
            [
             0.8888888888888888,
             "#fdca26"
            ],
            [
             1,
             "#f0f921"
            ]
           ],
           "sequentialminus": [
            [
             0,
             "#0d0887"
            ],
            [
             0.1111111111111111,
             "#46039f"
            ],
            [
             0.2222222222222222,
             "#7201a8"
            ],
            [
             0.3333333333333333,
             "#9c179e"
            ],
            [
             0.4444444444444444,
             "#bd3786"
            ],
            [
             0.5555555555555556,
             "#d8576b"
            ],
            [
             0.6666666666666666,
             "#ed7953"
            ],
            [
             0.7777777777777778,
             "#fb9f3a"
            ],
            [
             0.8888888888888888,
             "#fdca26"
            ],
            [
             1,
             "#f0f921"
            ]
           ]
          },
          "colorway": [
           "#636efa",
           "#EF553B",
           "#00cc96",
           "#ab63fa",
           "#FFA15A",
           "#19d3f3",
           "#FF6692",
           "#B6E880",
           "#FF97FF",
           "#FECB52"
          ],
          "font": {
           "color": "#2a3f5f"
          },
          "geo": {
           "bgcolor": "white",
           "lakecolor": "white",
           "landcolor": "#E5ECF6",
           "showlakes": true,
           "showland": true,
           "subunitcolor": "white"
          },
          "hoverlabel": {
           "align": "left"
          },
          "hovermode": "closest",
          "mapbox": {
           "style": "light"
          },
          "paper_bgcolor": "white",
          "plot_bgcolor": "#E5ECF6",
          "polar": {
           "angularaxis": {
            "gridcolor": "white",
            "linecolor": "white",
            "ticks": ""
           },
           "bgcolor": "#E5ECF6",
           "radialaxis": {
            "gridcolor": "white",
            "linecolor": "white",
            "ticks": ""
           }
          },
          "scene": {
           "xaxis": {
            "backgroundcolor": "#E5ECF6",
            "gridcolor": "white",
            "gridwidth": 2,
            "linecolor": "white",
            "showbackground": true,
            "ticks": "",
            "zerolinecolor": "white"
           },
           "yaxis": {
            "backgroundcolor": "#E5ECF6",
            "gridcolor": "white",
            "gridwidth": 2,
            "linecolor": "white",
            "showbackground": true,
            "ticks": "",
            "zerolinecolor": "white"
           },
           "zaxis": {
            "backgroundcolor": "#E5ECF6",
            "gridcolor": "white",
            "gridwidth": 2,
            "linecolor": "white",
            "showbackground": true,
            "ticks": "",
            "zerolinecolor": "white"
           }
          },
          "shapedefaults": {
           "line": {
            "color": "#2a3f5f"
           }
          },
          "ternary": {
           "aaxis": {
            "gridcolor": "white",
            "linecolor": "white",
            "ticks": ""
           },
           "baxis": {
            "gridcolor": "white",
            "linecolor": "white",
            "ticks": ""
           },
           "bgcolor": "#E5ECF6",
           "caxis": {
            "gridcolor": "white",
            "linecolor": "white",
            "ticks": ""
           }
          },
          "title": {
           "x": 0.05
          },
          "xaxis": {
           "automargin": true,
           "gridcolor": "white",
           "linecolor": "white",
           "ticks": "",
           "title": {
            "standoff": 15
           },
           "zerolinecolor": "white",
           "zerolinewidth": 2
          },
          "yaxis": {
           "automargin": true,
           "gridcolor": "white",
           "linecolor": "white",
           "ticks": "",
           "title": {
            "standoff": 15
           },
           "zerolinecolor": "white",
           "zerolinewidth": 2
          }
         }
        },
        "xaxis": {
         "anchor": "y",
         "autorange": true,
         "domain": [
          0,
          0.98
         ],
         "range": [
          -0.5,
          100.5
         ],
         "title": {
          "text": "ccf_val"
         },
         "type": "category"
        },
        "xaxis2": {
         "anchor": "y2",
         "autorange": true,
         "domain": [
          0,
          0.98
         ],
         "matches": "x",
         "range": [
          -0.5,
          100.5
         ],
         "showticklabels": false,
         "type": "category"
        },
        "yaxis": {
         "anchor": "x",
         "autorange": true,
         "domain": [
          0,
          0.485
         ],
         "range": [
          0,
          0.37672196999473684
         ],
         "title": {
          "text": "avg of pmf_val"
         },
         "type": "linear"
        },
        "yaxis2": {
         "anchor": "x2",
         "autorange": true,
         "domain": [
          0.515,
          1
         ],
         "matches": "y",
         "range": [
          0,
          0.37672196999473684
         ],
         "title": {
          "text": "avg of pmf_val"
         },
         "type": "linear"
        }
       }
      },
      "image/png": "[encoded data removed]",
      "text/html": [
       "<div>                            <div id=\"bf58841c-98ff-446b-92f5-1266b4aecd03\" class=\"plotly-graph-div\" style=\"height:525px; width:100%;\"></div>            <script type=\"text/javascript\">                require([\"plotly\"], function(Plotly) {                    window.PLOTLYENV=window.PLOTLYENV || {};                                    if (document.getElementById(\"bf58841c-98ff-446b-92f5-1266b4aecd03\")) {                    Plotly.newPlot(                        \"bf58841c-98ff-446b-92f5-1266b4aecd03\",                        [{\"alignmentgroup\":\"True\",\"bingroup\":\"x\",\"histfunc\":\"avg\",\"hovertemplate\":\"unique_mut_id=13:67799823C>A<br>Sample_ID=17318_13_OCT_052219<br>ccf_val=%{x}<br>avg of pmf_val=%{y}<extra></extra>\",\"legendgroup\":\"13:67799823C>A\",\"marker\":{\"color\":\"#636efa\",\"pattern\":{\"shape\":\"\"}},\"name\":\"13:67799823C>A\",\"offsetgroup\":\"13:67799823C>A\",\"orientation\":\"v\",\"showlegend\":true,\"x\":[\"preDP_ccf_0.0\",\"preDP_ccf_0.01\",\"preDP_ccf_0.02\",\"preDP_ccf_0.03\",\"preDP_ccf_0.04\",\"preDP_ccf_0.05\",\"preDP_ccf_0.06\",\"preDP_ccf_0.07\",\"preDP_ccf_0.08\",\"preDP_ccf_0.09\",\"preDP_ccf_0.1\",\"preDP_ccf_0.11\",\"preDP_ccf_0.12\",\"preDP_ccf_0.13\",\"preDP_ccf_0.14\",\"preDP_ccf_0.15\",\"preDP_ccf_0.16\",\"preDP_ccf_0.17\",\"preDP_ccf_0.18\",\"preDP_ccf_0.19\",\"preDP_ccf_0.2\",\"preDP_ccf_0.21\",\"preDP_ccf_0.22\",\"preDP_ccf_0.23\",\"preDP_ccf_0.24\",\"preDP_ccf_0.25\",\"preDP_ccf_0.26\",\"preDP_ccf_0.27\",\"preDP_ccf_0.28\",\"preDP_ccf_0.29\",\"preDP_ccf_0.3\",\"preDP_ccf_0.31\",\"preDP_ccf_0.32\",\"preDP_ccf_0.33\",\"preDP_ccf_0.34\",\"preDP_ccf_0.35\",\"preDP_ccf_0.36\",\"preDP_ccf_0.37\",\"preDP_ccf_0.38\",\"preDP_ccf_0.39\",\"preDP_ccf_0.4\",\"preDP_ccf_0.41\",\"preDP_ccf_0.42\",\"preDP_ccf_0.43\",\"preDP_ccf_0.44\",\"preDP_ccf_0.45\",\"preDP_ccf_0.46\",\"preDP_ccf_0.47\",\"preDP_ccf_0.48\",\"preDP_ccf_0.49\",\"preDP_ccf_0.5\",\"preDP_ccf_0.51\",\"preDP_ccf_0.52\",\"preDP_ccf_0.53\",\"preDP_ccf_0.54\",\"preDP_ccf_0.55\",\"preDP_ccf_0.56\",\"preDP_ccf_0.57\",\"preDP_ccf_0.58\",\"preDP_ccf_0.59\",\"preDP_ccf_0.6\",\"preDP_ccf_0.61\",\"preDP_ccf_0.62\",\"preDP_ccf_0.63\",\"preDP_ccf_0.64\",\"preDP_ccf_0.65\",\"preDP_ccf_0.66\",\"preDP_ccf_0.67\",\"preDP_ccf_0.68\",\"preDP_ccf_0.69\",\"preDP_ccf_0.7\",\"preDP_ccf_0.71\",\"preDP_ccf_0.72\",\"preDP_ccf_0.73\",\"preDP_ccf_0.74\",\"preDP_ccf_0.75\",\"preDP_ccf_0.76\",\"preDP_ccf_0.77\",\"preDP_ccf_0.78\",\"preDP_ccf_0.79\",\"preDP_ccf_0.8\",\"preDP_ccf_0.81\",\"preDP_ccf_0.82\",\"preDP_ccf_0.83\",\"preDP_ccf_0.84\",\"preDP_ccf_0.85\",\"preDP_ccf_0.86\",\"preDP_ccf_0.87\",\"preDP_ccf_0.88\",\"preDP_ccf_0.89\",\"preDP_ccf_0.9\",\"preDP_ccf_0.91\",\"preDP_ccf_0.92\",\"preDP_ccf_0.93\",\"preDP_ccf_0.94\",\"preDP_ccf_0.95\",\"preDP_ccf_0.96\",\"preDP_ccf_0.97\",\"preDP_ccf_0.98\",\"preDP_ccf_0.99\",\"preDP_ccf_1.0\"],\"xaxis\":\"x2\",\"y\":[0.0,1.0049987563600001e-28,1.58959704554e-26,8.70695828695e-25,2.5634988426600002e-23,4.90725006005e-22,6.79382796609e-21,7.279236865270001e-20,6.32448286084e-19,4.60975389131e-18,2.89202150496e-17,1.5932989340699999e-16,7.83274101693e-16,3.48103858187e-15,1.4137205479e-14,5.29424041957e-14,1.84229678193e-13,5.99632770782e-13,1.8358963901e-12,5.313705301240001e-12,1.46022180866e-11,3.82451741372e-11,9.57961942076e-11,2.30171569437e-10,5.31946811303e-10,1.18538958076e-09,2.55264904814e-09,5.3226690116e-09,1.07663591063e-08,2.11608345752e-08,4.04746830716e-08,7.54446771627e-08,1.37223158668e-07,2.43834739778e-07,4.2375006109e-07,7.20960533146e-07,1.20201661502e-06,1.9655662289e-06,3.15498986886e-06,4.97476301219e-06,7.7111709552e-06,1.17579416333e-05,1.76472341899e-05,2.60862128674e-05,3.79991388914e-05,5.45745248655e-05,7.73164217767e-05,0.000108098361999,0.000149217886398,0.000203448973272,0.000274089103757,0.000364997191608,0.000480618227953,0.000625990296758,0.000806729652908,0.00102898986152,0.00129939160017,0.00162492063305,0.00201279266589,0.00247028524685,0.00300453853622,0.0036223285483,0.00432981827929,0.00513229386987,0.00603389450065,0.00703734597479,0.00814370880756,0.00935215203687,0.0106597638352,0.0120614093142,0.0135496446712,0.0151146950713,0.0167445014536,0.0184248388953,0.0201395063815,0.0218705849444,0.0235987582998,0.0253036874587,0.0269644284672,0.0285598805401,0.0300692504947,0.0314725186338,0.0327508910904,0.0338872241451,0.0348664071152,0.0356756920423,0.0363049604749,0.0367469200594,0.0369972262878,0.0370545274894,0.036920433861,0.0365994139027,0.0360986239501,0.0354276784874,0.0345983705238,0.033624352475,0.0325207886925,0.0313039910264,0.0299910486167,0.0285994625308,0.0271467949371],\"yaxis\":\"y2\",\"type\":\"histogram\"},{\"alignmentgroup\":\"True\",\"bingroup\":\"x\",\"histfunc\":\"avg\",\"hovertemplate\":\"unique_mut_id=13:67799823C>A<br>Sample_ID=17318_13_BB_111119<br>ccf_val=%{x}<br>avg of pmf_val=%{y}<extra></extra>\",\"legendgroup\":\"13:67799823C>A\",\"marker\":{\"color\":\"#636efa\",\"pattern\":{\"shape\":\"\"}},\"name\":\"13:67799823C>A\",\"offsetgroup\":\"13:67799823C>A\",\"orientation\":\"v\",\"showlegend\":false,\"x\":[\"preDP_ccf_0.0\",\"preDP_ccf_0.01\",\"preDP_ccf_0.02\",\"preDP_ccf_0.03\",\"preDP_ccf_0.04\",\"preDP_ccf_0.05\",\"preDP_ccf_0.06\",\"preDP_ccf_0.07\",\"preDP_ccf_0.08\",\"preDP_ccf_0.09\",\"preDP_ccf_0.1\",\"preDP_ccf_0.11\",\"preDP_ccf_0.12\",\"preDP_ccf_0.13\",\"preDP_ccf_0.14\",\"preDP_ccf_0.15\",\"preDP_ccf_0.16\",\"preDP_ccf_0.17\",\"preDP_ccf_0.18\",\"preDP_ccf_0.19\",\"preDP_ccf_0.2\",\"preDP_ccf_0.21\",\"preDP_ccf_0.22\",\"preDP_ccf_0.23\",\"preDP_ccf_0.24\",\"preDP_ccf_0.25\",\"preDP_ccf_0.26\",\"preDP_ccf_0.27\",\"preDP_ccf_0.28\",\"preDP_ccf_0.29\",\"preDP_ccf_0.3\",\"preDP_ccf_0.31\",\"preDP_ccf_0.32\",\"preDP_ccf_0.33\",\"preDP_ccf_0.34\",\"preDP_ccf_0.35\",\"preDP_ccf_0.36\",\"preDP_ccf_0.37\",\"preDP_ccf_0.38\",\"preDP_ccf_0.39\",\"preDP_ccf_0.4\",\"preDP_ccf_0.41\",\"preDP_ccf_0.42\",\"preDP_ccf_0.43\",\"preDP_ccf_0.44\",\"preDP_ccf_0.45\",\"preDP_ccf_0.46\",\"preDP_ccf_0.47\",\"preDP_ccf_0.48\",\"preDP_ccf_0.49\",\"preDP_ccf_0.5\",\"preDP_ccf_0.51\",\"preDP_ccf_0.52\",\"preDP_ccf_0.53\",\"preDP_ccf_0.54\",\"preDP_ccf_0.55\",\"preDP_ccf_0.56\",\"preDP_ccf_0.57\",\"preDP_ccf_0.58\",\"preDP_ccf_0.59\",\"preDP_ccf_0.6\",\"preDP_ccf_0.61\",\"preDP_ccf_0.62\",\"preDP_ccf_0.63\",\"preDP_ccf_0.64\",\"preDP_ccf_0.65\",\"preDP_ccf_0.66\",\"preDP_ccf_0.67\",\"preDP_ccf_0.68\",\"preDP_ccf_0.69\",\"preDP_ccf_0.7\",\"preDP_ccf_0.71\",\"preDP_ccf_0.72\",\"preDP_ccf_0.73\",\"preDP_ccf_0.74\",\"preDP_ccf_0.75\",\"preDP_ccf_0.76\",\"preDP_ccf_0.77\",\"preDP_ccf_0.78\",\"preDP_ccf_0.79\",\"preDP_ccf_0.8\",\"preDP_ccf_0.81\",\"preDP_ccf_0.82\",\"preDP_ccf_0.83\",\"preDP_ccf_0.84\",\"preDP_ccf_0.85\",\"preDP_ccf_0.86\",\"preDP_ccf_0.87\",\"preDP_ccf_0.88\",\"preDP_ccf_0.89\",\"preDP_ccf_0.9\",\"preDP_ccf_0.91\",\"preDP_ccf_0.92\",\"preDP_ccf_0.93\",\"preDP_ccf_0.94\",\"preDP_ccf_0.95\",\"preDP_ccf_0.96\",\"preDP_ccf_0.97\",\"preDP_ccf_0.98\",\"preDP_ccf_0.99\",\"preDP_ccf_1.0\"],\"xaxis\":\"x\",\"y\":[0.0,5.03132590851e-06,1.22851814249e-05,2.2177862455e-05,3.51473265579e-05,5.1649702924e-05,7.21556133077e-05,9.71463561047e-05,0.000127110003718,0.000162537460832,0.0002039185283,0.000251738014149,0.000306471929792,0.000368583805944,0.000438521159118,0.000516712135883,0.000603562358415,0.000699451991281,0.000804733045907,0.000919726935833,0.00104472229261,0.00117997304923,0.00132569679506,0.0014820734037,0.00164924393261,0.0018273097913,0.0020163321727,0.00221633174071,0.00242728856506,0.00264914229355,0.00288179255032,0.00312509954786,0.00337888489965,0.00364293261969,0.00391699029466,0.0042007704141,0.00449395184378,0.00479618142744,0.00510707570202,0.00542622271166,0.00575318390612,0.00608749610928,0.00642867354431,0.00677620990188,0.00712958043899,0.00748824409601,0.00785164562054,0.00821921768705,0.00859038300206,0.00896455638534,0.00934114681817,0.00971955945044,0.0100991975593,0.010479464452,0.0108597653081,0.0112395089533,0.0116181095629,0.0119949882885,0.0123695748054,0.0127413087781,0.0131096412399,0.0134740358872,0.0138339702852,0.0141889369848,0.0145384445503,0.0148820184989,0.0152192021503,0.0155495573896,0.0158726653428,0.0161881269679,0.0164955635617,0.0167946171865,0.0170849510162,0.0173662496068,0.0176382190929,0.0179005873119,0.0181531038609,0.018395540088,0.0186276890209,0.0188493652374,0.0190604046788,0.0192606644122,0.0194500223422,0.0196283768775,0.0197956465544,0.0199517696206,0.0200967035833,0.0202304247236,0.0203529275808,0.0204642244102,0.0205643446165,0.0206533341657,0.0207312549793,0.0207981843118,0.0208542141161,0.0208994503975,0.0209340125594,0.0209580327438,0.0209716551668,0.0209750354535,0.0209683399722],\"yaxis\":\"y\",\"type\":\"histogram\"},{\"alignmentgroup\":\"True\",\"bingroup\":\"x\",\"histfunc\":\"avg\",\"hovertemplate\":\"unique_mut_id=3:99568657T>C<br>Sample_ID=17318_13_OCT_052219<br>ccf_val=%{x}<br>avg of pmf_val=%{y}<extra></extra>\",\"legendgroup\":\"3:99568657T>C\",\"marker\":{\"color\":\"#EF553B\",\"pattern\":{\"shape\":\"\"}},\"name\":\"3:99568657T>C\",\"offsetgroup\":\"3:99568657T>C\",\"orientation\":\"v\",\"showlegend\":true,\"x\":[\"preDP_ccf_0.0\",\"preDP_ccf_0.01\",\"preDP_ccf_0.02\",\"preDP_ccf_0.03\",\"preDP_ccf_0.04\",\"preDP_ccf_0.05\",\"preDP_ccf_0.06\",\"preDP_ccf_0.07\",\"preDP_ccf_0.08\",\"preDP_ccf_0.09\",\"preDP_ccf_0.1\",\"preDP_ccf_0.11\",\"preDP_ccf_0.12\",\"preDP_ccf_0.13\",\"preDP_ccf_0.14\",\"preDP_ccf_0.15\",\"preDP_ccf_0.16\",\"preDP_ccf_0.17\",\"preDP_ccf_0.18\",\"preDP_ccf_0.19\",\"preDP_ccf_0.2\",\"preDP_ccf_0.21\",\"preDP_ccf_0.22\",\"preDP_ccf_0.23\",\"preDP_ccf_0.24\",\"preDP_ccf_0.25\",\"preDP_ccf_0.26\",\"preDP_ccf_0.27\",\"preDP_ccf_0.28\",\"preDP_ccf_0.29\",\"preDP_ccf_0.3\",\"preDP_ccf_0.31\",\"preDP_ccf_0.32\",\"preDP_ccf_0.33\",\"preDP_ccf_0.34\",\"preDP_ccf_0.35\",\"preDP_ccf_0.36\",\"preDP_ccf_0.37\",\"preDP_ccf_0.38\",\"preDP_ccf_0.39\",\"preDP_ccf_0.4\",\"preDP_ccf_0.41\",\"preDP_ccf_0.42\",\"preDP_ccf_0.43\",\"preDP_ccf_0.44\",\"preDP_ccf_0.45\",\"preDP_ccf_0.46\",\"preDP_ccf_0.47\",\"preDP_ccf_0.48\",\"preDP_ccf_0.49\",\"preDP_ccf_0.5\",\"preDP_ccf_0.51\",\"preDP_ccf_0.52\",\"preDP_ccf_0.53\",\"preDP_ccf_0.54\",\"preDP_ccf_0.55\",\"preDP_ccf_0.56\",\"preDP_ccf_0.57\",\"preDP_ccf_0.58\",\"preDP_ccf_0.59\",\"preDP_ccf_0.6\",\"preDP_ccf_0.61\",\"preDP_ccf_0.62\",\"preDP_ccf_0.63\",\"preDP_ccf_0.64\",\"preDP_ccf_0.65\",\"preDP_ccf_0.66\",\"preDP_ccf_0.67\",\"preDP_ccf_0.68\",\"preDP_ccf_0.69\",\"preDP_ccf_0.7\",\"preDP_ccf_0.71\",\"preDP_ccf_0.72\",\"preDP_ccf_0.73\",\"preDP_ccf_0.74\",\"preDP_ccf_0.75\",\"preDP_ccf_0.76\",\"preDP_ccf_0.77\",\"preDP_ccf_0.78\",\"preDP_ccf_0.79\",\"preDP_ccf_0.8\",\"preDP_ccf_0.81\",\"preDP_ccf_0.82\",\"preDP_ccf_0.83\",\"preDP_ccf_0.84\",\"preDP_ccf_0.85\",\"preDP_ccf_0.86\",\"preDP_ccf_0.87\",\"preDP_ccf_0.88\",\"preDP_ccf_0.89\",\"preDP_ccf_0.9\",\"preDP_ccf_0.91\",\"preDP_ccf_0.92\",\"preDP_ccf_0.93\",\"preDP_ccf_0.94\",\"preDP_ccf_0.95\",\"preDP_ccf_0.96\",\"preDP_ccf_0.97\",\"preDP_ccf_0.98\",\"preDP_ccf_0.99\",\"preDP_ccf_1.0\"],\"xaxis\":\"x2\",\"y\":[0.357885871495,0.230169854156,0.147899746727,0.0949510903297,0.0609038082663,0.0390300700202,0.0249898131405,0.0159857819499,0.0102166931267,0.00652365193408,0.00416172666061,0.00265250995576,0.00168903846985,0.00107453223396,0.00068295969129,0.000433675344383,0.000275122896964,0.000174373056767,0.000110413188996,6.984731718e-05,4.41432163893e-05,2.78716025122e-05,1.75809310177e-05,1.10790365608e-05,6.97494097208e-06,4.38687946203e-06,2.75642187085e-06,1.73024928683e-06,1.0850327584e-06,6.79745533927e-07,4.25419474228e-07,2.65983072768e-07,1.66132417774e-07,1.0366129731e-07,6.46158203261e-08,4.023640229e-08,2.50296947771e-08,1.55541456511e-08,9.65581675405e-09,5.9880049737e-09,3.70957022712e-09,2.29568005448e-09,1.41919947343e-09,8.76431186463e-10,5.4067025369e-10,3.33184937204e-10,2.05104134572e-10,1.26123952809e-10,7.74734238682e-11,4.75376649537e-11,2.9137396765e-11,1.7839773232e-11,1.09106707161e-11,6.6655340216900005e-12,4.0675945779900005e-12,2.4794616398200002e-12,1.50970450067e-12,9.18203854499e-13,5.57823295513e-13,3.38502833906e-13,2.05179437041e-13,1.24224982182e-13,7.512514819579999e-14,4.5379605770599993e-14,2.7379956055799998e-14,1.6500575145499998e-14,9.932472355949999e-15,5.971799497899999e-15,3.58624740692e-15,2.15109723465e-15,1.28873069892e-15,7.71159472885e-16,4.60896754897e-16,2.7513006501e-16,1.64038164257e-16,9.76836058642e-17,5.8098626085e-17,3.45123781305e-17,2.04760500242e-17,1.21332503582e-17,7.180673952490001e-18,4.244315880950001e-18,2.5055437120400002e-18,1.4772207372800002e-18,8.69831730686e-19,5.11527313557e-19,3.00430080417e-19,1.7622042955899998e-19,1.03229680776e-19,6.03928619967e-20,3.5285520309e-20,2.0588964123200002e-20,1.19976633482e-20,6.98200532298e-21,4.05772034695e-21,2.35504692316e-21,1.36499038103e-21,7.900766531710001e-22,4.56683679681e-22,2.6361211867500003e-22,1.5195529442100001e-22],\"yaxis\":\"y2\",\"type\":\"histogram\"},{\"alignmentgroup\":\"True\",\"bingroup\":\"x\",\"histfunc\":\"avg\",\"hovertemplate\":\"unique_mut_id=3:99568657T>C<br>Sample_ID=17318_13_BB_111119<br>ccf_val=%{x}<br>avg of pmf_val=%{y}<extra></extra>\",\"legendgroup\":\"3:99568657T>C\",\"marker\":{\"color\":\"#EF553B\",\"pattern\":{\"shape\":\"\"}},\"name\":\"3:99568657T>C\",\"offsetgroup\":\"3:99568657T>C\",\"orientation\":\"v\",\"showlegend\":false,\"x\":[\"preDP_ccf_0.0\",\"preDP_ccf_0.01\",\"preDP_ccf_0.02\",\"preDP_ccf_0.03\",\"preDP_ccf_0.04\",\"preDP_ccf_0.05\",\"preDP_ccf_0.06\",\"preDP_ccf_0.07\",\"preDP_ccf_0.08\",\"preDP_ccf_0.09\",\"preDP_ccf_0.1\",\"preDP_ccf_0.11\",\"preDP_ccf_0.12\",\"preDP_ccf_0.13\",\"preDP_ccf_0.14\",\"preDP_ccf_0.15\",\"preDP_ccf_0.16\",\"preDP_ccf_0.17\",\"preDP_ccf_0.18\",\"preDP_ccf_0.19\",\"preDP_ccf_0.2\",\"preDP_ccf_0.21\",\"preDP_ccf_0.22\",\"preDP_ccf_0.23\",\"preDP_ccf_0.24\",\"preDP_ccf_0.25\",\"preDP_ccf_0.26\",\"preDP_ccf_0.27\",\"preDP_ccf_0.28\",\"preDP_ccf_0.29\",\"preDP_ccf_0.3\",\"preDP_ccf_0.31\",\"preDP_ccf_0.32\",\"preDP_ccf_0.33\",\"preDP_ccf_0.34\",\"preDP_ccf_0.35\",\"preDP_ccf_0.36\",\"preDP_ccf_0.37\",\"preDP_ccf_0.38\",\"preDP_ccf_0.39\",\"preDP_ccf_0.4\",\"preDP_ccf_0.41\",\"preDP_ccf_0.42\",\"preDP_ccf_0.43\",\"preDP_ccf_0.44\",\"preDP_ccf_0.45\",\"preDP_ccf_0.46\",\"preDP_ccf_0.47\",\"preDP_ccf_0.48\",\"preDP_ccf_0.49\",\"preDP_ccf_0.5\",\"preDP_ccf_0.51\",\"preDP_ccf_0.52\",\"preDP_ccf_0.53\",\"preDP_ccf_0.54\",\"preDP_ccf_0.55\",\"preDP_ccf_0.56\",\"preDP_ccf_0.57\",\"preDP_ccf_0.58\",\"preDP_ccf_0.59\",\"preDP_ccf_0.6\",\"preDP_ccf_0.61\",\"preDP_ccf_0.62\",\"preDP_ccf_0.63\",\"preDP_ccf_0.64\",\"preDP_ccf_0.65\",\"preDP_ccf_0.66\",\"preDP_ccf_0.67\",\"preDP_ccf_0.68\",\"preDP_ccf_0.69\",\"preDP_ccf_0.7\",\"preDP_ccf_0.71\",\"preDP_ccf_0.72\",\"preDP_ccf_0.73\",\"preDP_ccf_0.74\",\"preDP_ccf_0.75\",\"preDP_ccf_0.76\",\"preDP_ccf_0.77\",\"preDP_ccf_0.78\",\"preDP_ccf_0.79\",\"preDP_ccf_0.8\",\"preDP_ccf_0.81\",\"preDP_ccf_0.82\",\"preDP_ccf_0.83\",\"preDP_ccf_0.84\",\"preDP_ccf_0.85\",\"preDP_ccf_0.86\",\"preDP_ccf_0.87\",\"preDP_ccf_0.88\",\"preDP_ccf_0.89\",\"preDP_ccf_0.9\",\"preDP_ccf_0.91\",\"preDP_ccf_0.92\",\"preDP_ccf_0.93\",\"preDP_ccf_0.94\",\"preDP_ccf_0.95\",\"preDP_ccf_0.96\",\"preDP_ccf_0.97\",\"preDP_ccf_0.98\",\"preDP_ccf_0.99\",\"preDP_ccf_1.0\"],\"xaxis\":\"x\",\"y\":[0.0,0.000130312120433,0.000294114820202,0.000491551852182,0.000722281349726,0.000985524560936,0.00128011564775,0.00160455143436,0.00195704021571,0.00233554893006,0.00273784816368,0.00316155459473,0.00360417060014,0.00406312084689,0.0045357857698,0.00501953190445,0.00551173909788,0.00600982466235,0.00651126457216,0.0070136118288,0.00751451213978,0.00801171706974,0.00850309483182,0.00898663889205,0.00946047456158,0.00992286375041,0.0103722080535,0.0108070503352,0.0112260749719,0.0116281069058,0.0120121096547,0.0123771824136,0.0127225563779,0.0130475904049,0.013351766125,0.0136346826045,0.0138960506515,0.0141356868503,0.014353507401,0.0145495218316,0.0147238266468,0.0148765989653,0.0150080901962,0.0151186197942,0.0152085691335,0.0152783755273,0.0153285264243,0.0153595537994,0.0153720287611,0.0153665563862,0.0153437707956,0.0153043304775,0.0152489138647,0.0151782151672,0.0150929404633,0.0149938040457,0.0148815250214,0.0147568241615,0.0146204209947,0.014473031138,0.0143153638591,0.0141481198605,0.013971989278,0.0137876498851,0.0135957654921,0.0133969845332,0.0131919388294,0.0129812425194,0.0127654911473,0.0125452608992,0.0123211079778,0.012093568106,0.0118631561516,0.0116303658621,0.0113956697033,0.0111595187922,0.0109223429156,0.0106845506291,0.0104465294263,0.0102086459738,0.00997124640344,0.00973465665706,0.00949918287649,0.00926511183437,0.00903271139981,0.00880223103429,0.00857390231317,0.00834793946838,0.00812453994864,0.00790388499315,0.00768614021562,0.00747145619544,0.00725996907308,0.00705180114705,0.00684706147027,0.00664584644332,0.00644824040298,0.00625431620402,0.00606413579286,0.0058777507716,0.00569520295127],\"yaxis\":\"y\",\"type\":\"histogram\"},{\"alignmentgroup\":\"True\",\"bingroup\":\"x\",\"histfunc\":\"avg\",\"hovertemplate\":\"unique_mut_id=17:1558752G>A<br>Sample_ID=17318_13_OCT_052219<br>ccf_val=%{x}<br>avg of pmf_val=%{y}<extra></extra>\",\"legendgroup\":\"17:1558752G>A\",\"marker\":{\"color\":\"#00cc96\",\"pattern\":{\"shape\":\"\"}},\"name\":\"17:1558752G>A\",\"offsetgroup\":\"17:1558752G>A\",\"orientation\":\"v\",\"showlegend\":true,\"x\":[\"preDP_ccf_0.0\",\"preDP_ccf_0.01\",\"preDP_ccf_0.02\",\"preDP_ccf_0.03\",\"preDP_ccf_0.04\",\"preDP_ccf_0.05\",\"preDP_ccf_0.06\",\"preDP_ccf_0.07\",\"preDP_ccf_0.08\",\"preDP_ccf_0.09\",\"preDP_ccf_0.1\",\"preDP_ccf_0.11\",\"preDP_ccf_0.12\",\"preDP_ccf_0.13\",\"preDP_ccf_0.14\",\"preDP_ccf_0.15\",\"preDP_ccf_0.16\",\"preDP_ccf_0.17\",\"preDP_ccf_0.18\",\"preDP_ccf_0.19\",\"preDP_ccf_0.2\",\"preDP_ccf_0.21\",\"preDP_ccf_0.22\",\"preDP_ccf_0.23\",\"preDP_ccf_0.24\",\"preDP_ccf_0.25\",\"preDP_ccf_0.26\",\"preDP_ccf_0.27\",\"preDP_ccf_0.28\",\"preDP_ccf_0.29\",\"preDP_ccf_0.3\",\"preDP_ccf_0.31\",\"preDP_ccf_0.32\",\"preDP_ccf_0.33\",\"preDP_ccf_0.34\",\"preDP_ccf_0.35\",\"preDP_ccf_0.36\",\"preDP_ccf_0.37\",\"preDP_ccf_0.38\",\"preDP_ccf_0.39\",\"preDP_ccf_0.4\",\"preDP_ccf_0.41\",\"preDP_ccf_0.42\",\"preDP_ccf_0.43\",\"preDP_ccf_0.44\",\"preDP_ccf_0.45\",\"preDP_ccf_0.46\",\"preDP_ccf_0.47\",\"preDP_ccf_0.48\",\"preDP_ccf_0.49\",\"preDP_ccf_0.5\",\"preDP_ccf_0.51\",\"preDP_ccf_0.52\",\"preDP_ccf_0.53\",\"preDP_ccf_0.54\",\"preDP_ccf_0.55\",\"preDP_ccf_0.56\",\"preDP_ccf_0.57\",\"preDP_ccf_0.58\",\"preDP_ccf_0.59\",\"preDP_ccf_0.6\",\"preDP_ccf_0.61\",\"preDP_ccf_0.62\",\"preDP_ccf_0.63\",\"preDP_ccf_0.64\",\"preDP_ccf_0.65\",\"preDP_ccf_0.66\",\"preDP_ccf_0.67\",\"preDP_ccf_0.68\",\"preDP_ccf_0.69\",\"preDP_ccf_0.7\",\"preDP_ccf_0.71\",\"preDP_ccf_0.72\",\"preDP_ccf_0.73\",\"preDP_ccf_0.74\",\"preDP_ccf_0.75\",\"preDP_ccf_0.76\",\"preDP_ccf_0.77\",\"preDP_ccf_0.78\",\"preDP_ccf_0.79\",\"preDP_ccf_0.8\",\"preDP_ccf_0.81\",\"preDP_ccf_0.82\",\"preDP_ccf_0.83\",\"preDP_ccf_0.84\",\"preDP_ccf_0.85\",\"preDP_ccf_0.86\",\"preDP_ccf_0.87\",\"preDP_ccf_0.88\",\"preDP_ccf_0.89\",\"preDP_ccf_0.9\",\"preDP_ccf_0.91\",\"preDP_ccf_0.92\",\"preDP_ccf_0.93\",\"preDP_ccf_0.94\",\"preDP_ccf_0.95\",\"preDP_ccf_0.96\",\"preDP_ccf_0.97\",\"preDP_ccf_0.98\",\"preDP_ccf_0.99\",\"preDP_ccf_1.0\"],\"xaxis\":\"x2\",\"y\":[0.0,0.22483094116,0.237107811535,0.187228059081,0.131193909257,0.0860387328071,0.0540764268918,0.0329872414092,0.0196781237776,0.0115353951878,0.00666703493965,0.00380811989956,0.00215339009841,0.0012070980997,0.000671452115435,0.000370929964893,0.000203636634504,0.000111157167576,6.03568726645e-05,3.26123587795e-05,1.75403126889e-05,9.39302076599e-06,5.00936641192e-06,2.66105026617e-06,1.40827696677e-06,7.42592128657e-07,3.90206485839e-07,2.04347047345e-07,1.06663071192e-07,5.54969050047e-08,2.87849337578e-08,1.48844429402e-08,7.67355545308e-09,3.94439437274e-09,2.02164119547e-09,1.03320391359e-09,5.26553355641e-10,2.67600846544e-10,1.35623239689e-10,6.85478151936e-11,3.45522259789e-11,1.73696161757e-11,8.708512628230001e-12,4.354558710780001e-12,2.1716841127100003e-12,1.08020609791e-12,5.35893442644e-13,2.65164758604e-13,1.3086447588e-13,6.441675101479999e-14,3.1626335660099996e-14,1.5487216724e-14,7.56437887622e-15,3.6850983730399995e-15,1.7906096475199998e-15,8.67817686441e-16,4.19499236536e-16,2.02259053395e-16,9.72652210442e-17,4.6652872322e-17,2.2318679668900002e-17,1.06494146738e-17,5.06812910543e-18,2.40564538256e-18,1.1388712531800001e-18,5.37741539885e-19,2.53235801857e-19,1.18939362584e-19,5.57148939911e-20,2.6029044911400002e-20,1.2127805208e-20,5.6355836401699995e-21,2.61170287416e-21,1.20706905523e-21,5.563640785140001e-22,2.55740573905e-22,1.1723265163900001e-22,5.359207798960001e-23,2.44315018664e-23,1.11068689392e-23,5.03522928276e-24,2.2762871169300002e-24,1.02614547906e-24,4.61273727549e-25,2.06761671111e-25,9.241370555680001e-26,4.11861449695e-26,1.83023791524e-26,8.10958632668e-27,3.58275883628e-27,1.57818173429e-27,6.931220612180001e-28,3.03506701532e-28,1.32502829333e-28,5.76730135324e-29,2.5026663617e-29,1.0827000334000001e-29,4.66960516988e-30,2.0077553636999998e-30,8.605809486449999e-31,3.6771767551099998e-31],\"yaxis\":\"y2\",\"type\":\"histogram\"},{\"alignmentgroup\":\"True\",\"bingroup\":\"x\",\"histfunc\":\"avg\",\"hovertemplate\":\"unique_mut_id=17:1558752G>A<br>Sample_ID=17318_13_BB_111119<br>ccf_val=%{x}<br>avg of pmf_val=%{y}<extra></extra>\",\"legendgroup\":\"17:1558752G>A\",\"marker\":{\"color\":\"#00cc96\",\"pattern\":{\"shape\":\"\"}},\"name\":\"17:1558752G>A\",\"offsetgroup\":\"17:1558752G>A\",\"orientation\":\"v\",\"showlegend\":false,\"x\":[\"preDP_ccf_0.0\",\"preDP_ccf_0.01\",\"preDP_ccf_0.02\",\"preDP_ccf_0.03\",\"preDP_ccf_0.04\",\"preDP_ccf_0.05\",\"preDP_ccf_0.06\",\"preDP_ccf_0.07\",\"preDP_ccf_0.08\",\"preDP_ccf_0.09\",\"preDP_ccf_0.1\",\"preDP_ccf_0.11\",\"preDP_ccf_0.12\",\"preDP_ccf_0.13\",\"preDP_ccf_0.14\",\"preDP_ccf_0.15\",\"preDP_ccf_0.16\",\"preDP_ccf_0.17\",\"preDP_ccf_0.18\",\"preDP_ccf_0.19\",\"preDP_ccf_0.2\",\"preDP_ccf_0.21\",\"preDP_ccf_0.22\",\"preDP_ccf_0.23\",\"preDP_ccf_0.24\",\"preDP_ccf_0.25\",\"preDP_ccf_0.26\",\"preDP_ccf_0.27\",\"preDP_ccf_0.28\",\"preDP_ccf_0.29\",\"preDP_ccf_0.3\",\"preDP_ccf_0.31\",\"preDP_ccf_0.32\",\"preDP_ccf_0.33\",\"preDP_ccf_0.34\",\"preDP_ccf_0.35\",\"preDP_ccf_0.36\",\"preDP_ccf_0.37\",\"preDP_ccf_0.38\",\"preDP_ccf_0.39\",\"preDP_ccf_0.4\",\"preDP_ccf_0.41\",\"preDP_ccf_0.42\",\"preDP_ccf_0.43\",\"preDP_ccf_0.44\",\"preDP_ccf_0.45\",\"preDP_ccf_0.46\",\"preDP_ccf_0.47\",\"preDP_ccf_0.48\",\"preDP_ccf_0.49\",\"preDP_ccf_0.5\",\"preDP_ccf_0.51\",\"preDP_ccf_0.52\",\"preDP_ccf_0.53\",\"preDP_ccf_0.54\",\"preDP_ccf_0.55\",\"preDP_ccf_0.56\",\"preDP_ccf_0.57\",\"preDP_ccf_0.58\",\"preDP_ccf_0.59\",\"preDP_ccf_0.6\",\"preDP_ccf_0.61\",\"preDP_ccf_0.62\",\"preDP_ccf_0.63\",\"preDP_ccf_0.64\",\"preDP_ccf_0.65\",\"preDP_ccf_0.66\",\"preDP_ccf_0.67\",\"preDP_ccf_0.68\",\"preDP_ccf_0.69\",\"preDP_ccf_0.7\",\"preDP_ccf_0.71\",\"preDP_ccf_0.72\",\"preDP_ccf_0.73\",\"preDP_ccf_0.74\",\"preDP_ccf_0.75\",\"preDP_ccf_0.76\",\"preDP_ccf_0.77\",\"preDP_ccf_0.78\",\"preDP_ccf_0.79\",\"preDP_ccf_0.8\",\"preDP_ccf_0.81\",\"preDP_ccf_0.82\",\"preDP_ccf_0.83\",\"preDP_ccf_0.84\",\"preDP_ccf_0.85\",\"preDP_ccf_0.86\",\"preDP_ccf_0.87\",\"preDP_ccf_0.88\",\"preDP_ccf_0.89\",\"preDP_ccf_0.9\",\"preDP_ccf_0.91\",\"preDP_ccf_0.92\",\"preDP_ccf_0.93\",\"preDP_ccf_0.94\",\"preDP_ccf_0.95\",\"preDP_ccf_0.96\",\"preDP_ccf_0.97\",\"preDP_ccf_0.98\",\"preDP_ccf_0.99\",\"preDP_ccf_1.0\"],\"xaxis\":\"x\",\"y\":[0.0,1.167361052e-05,2.83145639311e-05,5.07123888878e-05,7.96514202979e-05,0.000115897931216,0.000160187754283,0.000213214618908,0.000275619400258,0.000347980444633,0.000430805103743,0.000524522578522,0.000629478142041,0.000745928781311,0.000874040269842,0.00101388565693,0.00116544513624,0.00132860723547,0.00150317125052,0.00168885083262,0.00188527862381,0.00209201182675,0.00230853858727,0.00253428506342,0.00276862305262,0.00301087804794,0.00326033759645,0.00351625983638,0.00377788209431,0.00404442943071,0.00431512302918,0.00458918833336,0.0048658628448,0.0051444035045,0.00542409359084,0.00570424907714,0.00598422440161,0.00626341761321,0.00654127486599,0.00681729424448,0.00709102891121,0.00736208957603,0.00763014629457,0.00789492961039,0.00815623106176,0.00841390307964,0.0086678583085,0.00891806838597,0.00916456222053,0.00940742380955,0.00964678964212,0.00988284573239,0.0101158243303,0.0103460003564,0.0105736876085,0.0107992347846,0.0110230213692,0.011245453424,0.0114669593272,0.0116879854981,0.0119089921461,0.0121304490775,0.0123528315916,0.0125766164955,0.0128022782627,0.0130302853594,0.0132610967568,0.0134951586484,0.0137329013844,0.0139747366361,0.0142210547981,0.0144722226343,0.0147285811721,0.0149904438452,0.0152580948855,0.0155317879602,0.0158117450503,0.0160981555651,0.0163911756841,0.0166909279184,0.0169975008824,0.0173109492637,0.0176312939819,0.0179585225224,0.0182925894346,0.018633416981,0.0189808959246,0.0193348864414,0.0196952191465,0.0200616962195,0.0204340926187,0.0208121573699,0.0211956149207,0.0215841665471,0.0219774918022,0.0223752499984,0.0227770817107,0.0231826102951,0.0235914434117,0.0240031745454,0.0241807239942],\"yaxis\":\"y\",\"type\":\"histogram\"}],                        {\"template\":{\"data\":{\"histogram2dcontour\":[{\"type\":\"histogram2dcontour\",\"colorbar\":{\"outlinewidth\":0,\"ticks\":\"\"},\"colorscale\":[[0.0,\"#0d0887\"],[0.1111111111111111,\"#46039f\"],[0.2222222222222222,\"#7201a8\"],[0.3333333333333333,\"#9c179e\"],[0.4444444444444444,\"#bd3786\"],[0.5555555555555556,\"#d8576b\"],[0.6666666666666666,\"#ed7953\"],[0.7777777777777778,\"#fb9f3a\"],[0.8888888888888888,\"#fdca26\"],[1.0,\"#f0f921\"]]}],\"choropleth\":[{\"type\":\"choropleth\",\"colorbar\":{\"outlinewidth\":0,\"ticks\":\"\"}}],\"histogram2d\":[{\"type\":\"histogram2d\",\"colorbar\":{\"outlinewidth\":0,\"ticks\":\"\"},\"colorscale\":[[0.0,\"#0d0887\"],[0.1111111111111111,\"#46039f\"],[0.2222222222222222,\"#7201a8\"],[0.3333333333333333,\"#9c179e\"],[0.4444444444444444,\"#bd3786\"],[0.5555555555555556,\"#d8576b\"],[0.6666666666666666,\"#ed7953\"],[0.7777777777777778,\"#fb9f3a\"],[0.8888888888888888,\"#fdca26\"],[1.0,\"#f0f921\"]]}],\"heatmap\":[{\"type\":\"heatmap\",\"colorbar\":{\"outlinewidth\":0,\"ticks\":\"\"},\"colorscale\":[[0.0,\"#0d0887\"],[0.1111111111111111,\"#46039f\"],[0.2222222222222222,\"#7201a8\"],[0.3333333333333333,\"#9c179e\"],[0.4444444444444444,\"#bd3786\"],[0.5555555555555556,\"#d8576b\"],[0.6666666666666666,\"#ed7953\"],[0.7777777777777778,\"#fb9f3a\"],[0.8888888888888888,\"#fdca26\"],[1.0,\"#f0f921\"]]}],\"heatmapgl\":[{\"type\":\"heatmapgl\",\"colorbar\":{\"outlinewidth\":0,\"ticks\":\"\"},\"colorscale\":[[0.0,\"#0d0887\"],[0.1111111111111111,\"#46039f\"],[0.2222222222222222,\"#7201a8\"],[0.3333333333333333,\"#9c179e\"],[0.4444444444444444,\"#bd3786\"],[0.5555555555555556,\"#d8576b\"],[0.6666666666666666,\"#ed7953\"],[0.7777777777777778,\"#fb9f3a\"],[0.8888888888888888,\"#fdca26\"],[1.0,\"#f0f921\"]]}],\"contourcarpet\":[{\"type\":\"contourcarpet\",\"colorbar\":{\"outlinewidth\":0,\"ticks\":\"\"}}],\"contour\":[{\"type\":\"contour\",\"colorbar\":{\"outlinewidth\":0,\"ticks\":\"\"},\"colorscale\":[[0.0,\"#0d0887\"],[0.1111111111111111,\"#46039f\"],[0.2222222222222222,\"#7201a8\"],[0.3333333333333333,\"#9c179e\"],[0.4444444444444444,\"#bd3786\"],[0.5555555555555556,\"#d8576b\"],[0.6666666666666666,\"#ed7953\"],[0.7777777777777778,\"#fb9f3a\"],[0.8888888888888888,\"#fdca26\"],[1.0,\"#f0f921\"]]}],\"surface\":[{\"type\":\"surface\",\"colorbar\":{\"outlinewidth\":0,\"ticks\":\"\"},\"colorscale\":[[0.0,\"#0d0887\"],[0.1111111111111111,\"#46039f\"],[0.2222222222222222,\"#7201a8\"],[0.3333333333333333,\"#9c179e\"],[0.4444444444444444,\"#bd3786\"],[0.5555555555555556,\"#d8576b\"],[0.6666666666666666,\"#ed7953\"],[0.7777777777777778,\"#fb9f3a\"],[0.8888888888888888,\"#fdca26\"],[1.0,\"#f0f921\"]]}],\"mesh3d\":[{\"type\":\"mesh3d\",\"colorbar\":{\"outlinewidth\":0,\"ticks\":\"\"}}],\"scatter\":[{\"fillpattern\":{\"fillmode\":\"overlay\",\"size\":10,\"solidity\":0.2},\"type\":\"scatter\"}],\"parcoords\":[{\"type\":\"parcoords\",\"line\":{\"colorbar\":{\"outlinewidth\":0,\"ticks\":\"\"}}}],\"scatterpolargl\":[{\"type\":\"scatterpolargl\",\"marker\":{\"colorbar\":{\"outlinewidth\":0,\"ticks\":\"\"}}}],\"bar\":[{\"error_x\":{\"color\":\"#2a3f5f\"},\"error_y\":{\"color\":\"#2a3f5f\"},\"marker\":{\"line\":{\"color\":\"#E5ECF6\",\"width\":0.5},\"pattern\":{\"fillmode\":\"overlay\",\"size\":10,\"solidity\":0.2}},\"type\":\"bar\"}],\"scattergeo\":[{\"type\":\"scattergeo\",\"marker\":{\"colorbar\":{\"outlinewidth\":0,\"ticks\":\"\"}}}],\"scatterpolar\":[{\"type\":\"scatterpolar\",\"marker\":{\"colorbar\":{\"outlinewidth\":0,\"ticks\":\"\"}}}],\"histogram\":[{\"marker\":{\"pattern\":{\"fillmode\":\"overlay\",\"size\":10,\"solidity\":0.2}},\"type\":\"histogram\"}],\"scattergl\":[{\"type\":\"scattergl\",\"marker\":{\"colorbar\":{\"outlinewidth\":0,\"ticks\":\"\"}}}],\"scatter3d\":[{\"type\":\"scatter3d\",\"line\":{\"colorbar\":{\"outlinewidth\":0,\"ticks\":\"\"}},\"marker\":{\"colorbar\":{\"outlinewidth\":0,\"ticks\":\"\"}}}],\"scattermapbox\":[{\"type\":\"scattermapbox\",\"marker\":{\"colorbar\":{\"outlinewidth\":0,\"ticks\":\"\"}}}],\"scatterternary\":[{\"type\":\"scatterternary\",\"marker\":{\"colorbar\":{\"outlinewidth\":0,\"ticks\":\"\"}}}],\"scattercarpet\":[{\"type\":\"scattercarpet\",\"marker\":{\"colorbar\":{\"outlinewidth\":0,\"ticks\":\"\"}}}],\"carpet\":[{\"aaxis\":{\"endlinecolor\":\"#2a3f5f\",\"gridcolor\":\"white\",\"linecolor\":\"white\",\"minorgridcolor\":\"white\",\"startlinecolor\":\"#2a3f5f\"},\"baxis\":{\"endlinecolor\":\"#2a3f5f\",\"gridcolor\":\"white\",\"linecolor\":\"white\",\"minorgridcolor\":\"white\",\"startlinecolor\":\"#2a3f5f\"},\"type\":\"carpet\"}],\"table\":[{\"cells\":{\"fill\":{\"color\":\"#EBF0F8\"},\"line\":{\"color\":\"white\"}},\"header\":{\"fill\":{\"color\":\"#C8D4E3\"},\"line\":{\"color\":\"white\"}},\"type\":\"table\"}],\"barpolar\":[{\"marker\":{\"line\":{\"color\":\"#E5ECF6\",\"width\":0.5},\"pattern\":{\"fillmode\":\"overlay\",\"size\":10,\"solidity\":0.2}},\"type\":\"barpolar\"}],\"pie\":[{\"automargin\":true,\"type\":\"pie\"}]},\"layout\":{\"autotypenumbers\":\"strict\",\"colorway\":[\"#636efa\",\"#EF553B\",\"#00cc96\",\"#ab63fa\",\"#FFA15A\",\"#19d3f3\",\"#FF6692\",\"#B6E880\",\"#FF97FF\",\"#FECB52\"],\"font\":{\"color\":\"#2a3f5f\"},\"hovermode\":\"closest\",\"hoverlabel\":{\"align\":\"left\"},\"paper_bgcolor\":\"white\",\"plot_bgcolor\":\"#E5ECF6\",\"polar\":{\"bgcolor\":\"#E5ECF6\",\"angularaxis\":{\"gridcolor\":\"white\",\"linecolor\":\"white\",\"ticks\":\"\"},\"radialaxis\":{\"gridcolor\":\"white\",\"linecolor\":\"white\",\"ticks\":\"\"}},\"ternary\":{\"bgcolor\":\"#E5ECF6\",\"aaxis\":{\"gridcolor\":\"white\",\"linecolor\":\"white\",\"ticks\":\"\"},\"baxis\":{\"gridcolor\":\"white\",\"linecolor\":\"white\",\"ticks\":\"\"},\"caxis\":{\"gridcolor\":\"white\",\"linecolor\":\"white\",\"ticks\":\"\"}},\"coloraxis\":{\"colorbar\":{\"outlinewidth\":0,\"ticks\":\"\"}},\"colorscale\":{\"sequential\":[[0.0,\"#0d0887\"],[0.1111111111111111,\"#46039f\"],[0.2222222222222222,\"#7201a8\"],[0.3333333333333333,\"#9c179e\"],[0.4444444444444444,\"#bd3786\"],[0.5555555555555556,\"#d8576b\"],[0.6666666666666666,\"#ed7953\"],[0.7777777777777778,\"#fb9f3a\"],[0.8888888888888888,\"#fdca26\"],[1.0,\"#f0f921\"]],\"sequentialminus\":[[0.0,\"#0d0887\"],[0.1111111111111111,\"#46039f\"],[0.2222222222222222,\"#7201a8\"],[0.3333333333333333,\"#9c179e\"],[0.4444444444444444,\"#bd3786\"],[0.5555555555555556,\"#d8576b\"],[0.6666666666666666,\"#ed7953\"],[0.7777777777777778,\"#fb9f3a\"],[0.8888888888888888,\"#fdca26\"],[1.0,\"#f0f921\"]],\"diverging\":[[0,\"#8e0152\"],[0.1,\"#c51b7d\"],[0.2,\"#de77ae\"],[0.3,\"#f1b6da\"],[0.4,\"#fde0ef\"],[0.5,\"#f7f7f7\"],[0.6,\"#e6f5d0\"],[0.7,\"#b8e186\"],[0.8,\"#7fbc41\"],[0.9,\"#4d9221\"],[1,\"#276419\"]]},\"xaxis\":{\"gridcolor\":\"white\",\"linecolor\":\"white\",\"ticks\":\"\",\"title\":{\"standoff\":15},\"zerolinecolor\":\"white\",\"automargin\":true,\"zerolinewidth\":2},\"yaxis\":{\"gridcolor\":\"white\",\"linecolor\":\"white\",\"ticks\":\"\",\"title\":{\"standoff\":15},\"zerolinecolor\":\"white\",\"automargin\":true,\"zerolinewidth\":2},\"scene\":{\"xaxis\":{\"backgroundcolor\":\"#E5ECF6\",\"gridcolor\":\"white\",\"linecolor\":\"white\",\"showbackground\":true,\"ticks\":\"\",\"zerolinecolor\":\"white\",\"gridwidth\":2},\"yaxis\":{\"backgroundcolor\":\"#E5ECF6\",\"gridcolor\":\"white\",\"linecolor\":\"white\",\"showbackground\":true,\"ticks\":\"\",\"zerolinecolor\":\"white\",\"gridwidth\":2},\"zaxis\":{\"backgroundcolor\":\"#E5ECF6\",\"gridcolor\":\"white\",\"linecolor\":\"white\",\"showbackground\":true,\"ticks\":\"\",\"zerolinecolor\":\"white\",\"gridwidth\":2}},\"shapedefaults\":{\"line\":{\"color\":\"#2a3f5f\"}},\"annotationdefaults\":{\"arrowcolor\":\"#2a3f5f\",\"arrowhead\":0,\"arrowwidth\":1},\"geo\":{\"bgcolor\":\"white\",\"landcolor\":\"#E5ECF6\",\"subunitcolor\":\"white\",\"showland\":true,\"showlakes\":true,\"lakecolor\":\"white\"},\"title\":{\"x\":0.05},\"mapbox\":{\"style\":\"light\"}}},\"xaxis\":{\"anchor\":\"y\",\"domain\":[0.0,0.98],\"title\":{\"text\":\"ccf_val\"}},\"yaxis\":{\"anchor\":\"x\",\"domain\":[0.0,0.485],\"title\":{\"text\":\"avg of pmf_val\"}},\"xaxis2\":{\"anchor\":\"y2\",\"domain\":[0.0,0.98],\"matches\":\"x\",\"showticklabels\":false},\"yaxis2\":{\"anchor\":\"x2\",\"domain\":[0.515,1.0],\"matches\":\"y\",\"title\":{\"text\":\"avg of pmf_val\"}},\"annotations\":[{\"font\":{},\"showarrow\":false,\"text\":\"Sample_ID=17318_13_BB_111119\",\"textangle\":90,\"x\":0.98,\"xanchor\":\"left\",\"xref\":\"paper\",\"y\":0.2425,\"yanchor\":\"middle\",\"yref\":\"paper\"},{\"font\":{},\"showarrow\":false,\"text\":\"Sample_ID=17318_13_OCT_052219\",\"textangle\":90,\"x\":0.98,\"xanchor\":\"left\",\"xref\":\"paper\",\"y\":0.7575000000000001,\"yanchor\":\"middle\",\"yref\":\"paper\"}],\"legend\":{\"title\":{\"text\":\"unique_mut_id\"},\"tracegroupgap\":0},\"margin\":{\"t\":60},\"barmode\":\"group\"},                        {\"responsive\": true}                    ).then(function(){\n",
       "                            \n",
       "var gd = document.getElementById('bf58841c-98ff-446b-92f5-1266b4aecd03');\n",
       "var x = new MutationObserver(function (mutations, observer) {{\n",
       "        var display = window.getComputedStyle(gd).display;\n",
       "        if (!display || display === 'none') {{\n",
       "            console.log([gd, 'removed!']);\n",
       "            Plotly.purge(gd);\n",
       "            observer.disconnect();\n",
       "        }}\n",
       "}});\n",
       "\n",
       "// Listen for the removal of the full notebook cells\n",
       "var notebookContainer = gd.closest('#notebook-container');\n",
       "if (notebookContainer) {{\n",
       "    x.observe(notebookContainer, {childList: true});\n",
       "}}\n",
       "\n",
       "// Listen for the clearing of the current output cell\n",
       "var outputEl = gd.closest('.output');\n",
       "if (outputEl) {{\n",
       "    x.observe(outputEl, {childList: true});\n",
       "}}\n",
       "\n",
       "                        })                };                });            </script>        </div>"
      ]
     },
     "metadata": {},
     "output_type": "display_data"
    }
   ],
   "source": [
    "fig.show()"
   ]
  },
  {
   "cell_type": "code",
   "execution_count": null,
   "id": "7c110912-14f5-46f7-ae03-4d743d6dde5b",
   "metadata": {},
   "outputs": [],
   "source": []
  }
 ],
 "metadata": {
  "kernelspec": {
   "display_name": "Python 3 (ipykernel)",
   "language": "python",
   "name": "python3"
  },
  "language_info": {
   "codemirror_mode": {
    "name": "ipython",
    "version": 3
   },
   "file_extension": ".py",
   "mimetype": "text/x-python",
   "name": "python",
   "nbconvert_exporter": "python",
   "pygments_lexer": "ipython3",
   "version": "3.7.8"
  }
 },
 "nbformat": 4,
 "nbformat_minor": 5
}
