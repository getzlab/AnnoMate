{
 "cells": [
  {
   "cell_type": "markdown",
   "id": "47f81ac9",
   "metadata": {
    "pycharm": {
     "name": "#%% md\n"
    }
   },
   "source": [
    "# Phylogic Reviewer"
   ]
  },
  {
   "cell_type": "code",
   "execution_count": 1,
   "id": "cd5a4c6f",
   "metadata": {
    "pycharm": {
     "is_executing": true,
     "name": "#%%\n"
    }
   },
   "outputs": [],
   "source": [
    "%load_ext autoreload\n",
    "%autoreload 2"
   ]
  },
  {
   "cell_type": "code",
   "execution_count": 8,
   "id": "b4bb095f",
   "metadata": {
    "pycharm": {
     "name": "#%%\n"
    }
   },
   "outputs": [],
   "source": [
    "from JupyterReviewer.Reviewers.PhylogicReviewer import PhylogicReviewer\n",
    "\n",
    "import pandas as pd\n",
    "from dash import html"
   ]
  },
  {
   "cell_type": "markdown",
   "id": "1bd978bf",
   "metadata": {
    "pycharm": {
     "name": "#%% md\n"
    }
   },
   "source": [
    "## Edit the code below according to the commented directions"
   ]
  },
  {
   "cell_type": "code",
   "execution_count": 9,
   "id": "6e1cbb13-5bd3-4e72-a5bd-0236091184ca",
   "metadata": {
    "pycharm": {
     "name": "#%%\n"
    }
   },
   "outputs": [],
   "source": [
    "participant_df = pd.read_csv(f'../../example_notebooks/example_data/participant_75.tsv', sep='\\t', index_col='entity:participant_id')\n",
    "sample_df = pd.read_csv('../../example_notebooks/example_data/pairs_75.tsv', sep='\\t', index_col='Sample_ID')\n"
   ]
  },
  {
   "cell_type": "code",
   "execution_count": 11,
   "id": "32754707",
   "metadata": {
    "collapsed": false,
    "jupyter": {
     "outputs_hidden": false
    },
    "pycharm": {
     "name": "#%%\n"
    }
   },
   "outputs": [
    {
     "name": "stdout",
     "output_type": "stream",
     "text": [
      "cnv figs directory already exists: ../../example_notebooks/example_data/test_preprocess/cnv_figs\n"
     ]
    },
    {
     "name": "stderr",
     "output_type": "stream",
     "text": [
      "/Users/cmesser/PycharmProjects/reviewer_tools/JupyterReviewer/JupyterReviewer/ReviewData.py:38: UserWarning:\n",
      "\n",
      "Loading existing data pkl file\n",
      "\n"
     ]
    }
   ],
   "source": [
    "reviewer = PhylogicReviewer()\n",
    "\n",
    "reviewer.set_review_data(\n",
    "    # Enter the file path where you would like your pkl file of your review data to be stored\n",
    "    data_pkl_fn='../test_Phylogic_Reviewer_test14.pkl',\n",
    "    # Breifly describe the source of your data and its purpose\n",
    "    description='Test phylogic review',\n",
    "    # Enter the file path to your data to be reviewed\n",
    "    participant_df=participant_df,\n",
    "    sample_df=sample_df,\n",
    "    preprocess_data_dir='../../example_notebooks/example_data/test_preprocess/',\n",
    "\n",
    ")\n",
    "\n",
    "reviewer.set_review_app(preprocess_data_dir='../../example_notebooks/example_data/test_preprocess/', drivers_fn='../../example_notebooks/example_data/drivers.txt')\n",
    "reviewer.set_default_review_data_annotations_configuration()"
   ]
  },
  {
   "cell_type": "code",
   "execution_count": null,
   "outputs": [],
   "source": [
    "import inspect\n",
    "type(reviewer).gen_review_app.__doc__"
   ],
   "metadata": {
    "collapsed": false,
    "pycharm": {
     "name": "#%%\n"
    }
   }
  },
  {
   "cell_type": "code",
   "execution_count": null,
   "outputs": [],
   "source": [
    "def make_docstring(object_type_name, func1_doc, func2):\n",
    "    func2_doc = f\"{object_type_name}.{func2.__name__}\" + str(inspect.signature(func2)) + func2.__doc__\n",
    "    if func2_doc not in func1_doc:\n",
    "        return func1_doc + func2_doc\n",
    "    else:\n",
    "        return func1_doc\n",
    "    \n",
    "make_docstring(object_type_name=type(reviewer).__name__,\n",
    "                           func1_doc=type(reviewer).set_review_app.__doc__,\n",
    "                           func2=type(reviewer).gen_review_app)"
   ],
   "metadata": {
    "collapsed": false,
    "pycharm": {
     "name": "#%%\n"
    }
   }
  },
  {
   "cell_type": "code",
   "execution_count": 13,
   "id": "2c6cee6e-8271-4628-9af6-dd7479440f20",
   "metadata": {},
   "outputs": [
    {
     "ename": "TypeError",
     "evalue": "can only concatenate str (not \"NoneType\") to str",
     "output_type": "error",
     "traceback": [
      "\u001B[0;31m---------------------------------------------------------------------------\u001B[0m",
      "\u001B[0;31mTypeError\u001B[0m                                 Traceback (most recent call last)",
      "\u001B[0;32m/var/folders/ls/mgh17n292wz2h9p3r5_25mm40000gp/T/ipykernel_44624/4168418820.py\u001B[0m in \u001B[0;36m<module>\u001B[0;34m\u001B[0m\n\u001B[1;32m      8\u001B[0m make_docstring(object_type_name=type(reviewer).__name__,\n\u001B[1;32m      9\u001B[0m                            \u001B[0mfunc1_doc\u001B[0m\u001B[0;34m=\u001B[0m\u001B[0mtype\u001B[0m\u001B[0;34m(\u001B[0m\u001B[0mreviewer\u001B[0m\u001B[0;34m)\u001B[0m\u001B[0;34m.\u001B[0m\u001B[0mset_review_app\u001B[0m\u001B[0;34m.\u001B[0m\u001B[0m__doc__\u001B[0m\u001B[0;34m,\u001B[0m\u001B[0;34m\u001B[0m\u001B[0;34m\u001B[0m\u001B[0m\n\u001B[0;32m---> 10\u001B[0;31m                            func2=type(reviewer).gen_review_app)\n\u001B[0m",
      "\u001B[0;32m/var/folders/ls/mgh17n292wz2h9p3r5_25mm40000gp/T/ipykernel_44624/4168418820.py\u001B[0m in \u001B[0;36mmake_docstring\u001B[0;34m(object_type_name, func1_doc, func2)\u001B[0m\n\u001B[1;32m      1\u001B[0m \u001B[0;32mdef\u001B[0m \u001B[0mmake_docstring\u001B[0m\u001B[0;34m(\u001B[0m\u001B[0mobject_type_name\u001B[0m\u001B[0;34m,\u001B[0m \u001B[0mfunc1_doc\u001B[0m\u001B[0;34m,\u001B[0m \u001B[0mfunc2\u001B[0m\u001B[0;34m)\u001B[0m\u001B[0;34m:\u001B[0m\u001B[0;34m\u001B[0m\u001B[0;34m\u001B[0m\u001B[0m\n\u001B[0;32m----> 2\u001B[0;31m     \u001B[0mfunc2_doc\u001B[0m \u001B[0;34m=\u001B[0m \u001B[0;34mf\"{object_type_name}.{func2.__name__}\"\u001B[0m \u001B[0;34m+\u001B[0m \u001B[0mstr\u001B[0m\u001B[0;34m(\u001B[0m\u001B[0minspect\u001B[0m\u001B[0;34m.\u001B[0m\u001B[0msignature\u001B[0m\u001B[0;34m(\u001B[0m\u001B[0mfunc2\u001B[0m\u001B[0;34m)\u001B[0m\u001B[0;34m)\u001B[0m \u001B[0;34m+\u001B[0m \u001B[0mfunc2\u001B[0m\u001B[0;34m.\u001B[0m\u001B[0m__doc__\u001B[0m\u001B[0;34m\u001B[0m\u001B[0;34m\u001B[0m\u001B[0m\n\u001B[0m\u001B[1;32m      3\u001B[0m     \u001B[0;32mif\u001B[0m \u001B[0mfunc2_doc\u001B[0m \u001B[0;32mnot\u001B[0m \u001B[0;32min\u001B[0m \u001B[0mfunc1_doc\u001B[0m\u001B[0;34m:\u001B[0m\u001B[0;34m\u001B[0m\u001B[0;34m\u001B[0m\u001B[0m\n\u001B[1;32m      4\u001B[0m         \u001B[0;32mreturn\u001B[0m \u001B[0mfunc1_doc\u001B[0m \u001B[0;34m+\u001B[0m \u001B[0mfunc2_doc\u001B[0m\u001B[0;34m\u001B[0m\u001B[0;34m\u001B[0m\u001B[0m\n\u001B[1;32m      5\u001B[0m     \u001B[0;32melse\u001B[0m\u001B[0;34m:\u001B[0m\u001B[0;34m\u001B[0m\u001B[0;34m\u001B[0m\u001B[0m\n",
      "\u001B[0;31mTypeError\u001B[0m: can only concatenate str (not \"NoneType\") to str"
     ]
    }
   ],
   "source": [
    "def make_docstring(object_type_name, func1_doc, func2):\n",
    "    func2_doc = f\"{object_type_name}.{func2.__name__}\" + str(inspect.signature(func2)) + func2.__doc__\n",
    "    if func2_doc not in func1_doc:\n",
    "        return func1_doc + func2_doc\n",
    "    else:\n",
    "        return func1_doc\n",
    "    \n",
    "make_docstring(object_type_name=type(reviewer).__name__,\n",
    "                           func1_doc=type(reviewer).set_review_app.__doc__,\n",
    "                           func2=type(reviewer).gen_review_app)"
   ]
  },
  {
   "cell_type": "markdown",
   "id": "83557db5",
   "metadata": {
    "pycharm": {
     "name": "#%% md\n"
    }
   },
   "source": [
    "## Run"
   ]
  },
  {
   "cell_type": "code",
   "execution_count": 89,
   "id": "5a5717a7",
   "metadata": {
    "collapsed": false,
    "jupyter": {
     "outputs_hidden": false
    },
    "pycharm": {
     "name": "#%%\n"
    }
   },
   "outputs": [
    {
     "name": "stdout",
     "output_type": "stream",
     "text": [
      "Dash app running on http://0.0.0.0:8088/\n"
     ]
    }
   ],
   "source": [
    "reviewer.run(mode='external', port=8088)"
   ]
  },
  {
   "cell_type": "code",
   "execution_count": null,
   "id": "1911ad43",
   "metadata": {
    "collapsed": false,
    "jupyter": {
     "outputs_hidden": false
    },
    "pycharm": {
     "name": "#%%\n"
    }
   },
   "outputs": [],
   "source": [
    "sample_data_df=pd.read_csv('/Users/cmesser/Documents/Projects/participant_reviewer/pairs_75.tsv', sep='\\t').set_index('entity:pair_id')\n",
    "data_df = pd.read_csv(f'/Users/cmesser/Documents/Projects/participant_reviewer/participant_75.tsv', sep='\\t').set_index('entity:participant_id')\n",
    "from cnv_suite import switch_contigs\n",
    "mut_ccfs_df = switch_contigs(pd.read_csv(data_df.loc['GBM.ICB-75']['mut_ccfs'], sep='\\t'))\n",
    "mut_ccfs_df['Chromosome'] = mut_ccfs_df['Chromosome'].astype(int)  # todo change\n",
    "seg_df = []\n",
    "for sample_id in sample_data_df.sort_values('collection_date_dfd').index.tolist():\n",
    "    this_seg_df = pd.read_csv(sample_data_df.loc[sample_id, 'alleliccapseg_tsv'], sep='\\t')\n",
    "    this_seg_df['Sample_ID'] = sample_id\n",
    "    seg_df.append(this_seg_df)\n",
    "seg_trees = cnv_suite.get_segment_interval_trees(pd.concat(seg_df))"
   ]
  },
  {
   "cell_type": "code",
   "execution_count": null,
   "id": "03f70c90",
   "metadata": {
    "collapsed": false,
    "jupyter": {
     "outputs_hidden": false
    },
    "pycharm": {
     "name": "#%%\n"
    }
   },
   "outputs": [],
   "source": [
    "tup = seg_trees[22][10000000].pop().data['GBM.ICB-75-19.778.A1-Post3']"
   ]
  },
  {
   "cell_type": "code",
   "execution_count": null,
   "id": "0d2f3323",
   "metadata": {
    "collapsed": false,
    "jupyter": {
     "outputs_hidden": false
    },
    "pycharm": {
     "name": "#%%\n"
    }
   },
   "outputs": [],
   "source": [
    "mut_ccfs_df = cnv_suite.apply_segment_data_to_df(mut_ccfs_df, seg_trees)"
   ]
  },
  {
   "cell_type": "code",
   "execution_count": null,
   "id": "5d4fc3a6",
   "metadata": {
    "collapsed": false,
    "jupyter": {
     "outputs_hidden": false
    },
    "pycharm": {
     "name": "#%%\n"
    }
   },
   "outputs": [],
   "source": [
    "seg_df = []\n",
    "for sample_id in sample_data_df.sort_values('collection_date_dfd').index.tolist():\n",
    "    this_seg_df = pd.read_csv(sample_data_df.loc[sample_id, 'alleliccapseg_tsv'], sep='\\t')\n",
    "    this_seg_df['Sample_ID'] = sample_id\n",
    "    seg_df.append(this_seg_df)"
   ]
  },
  {
   "cell_type": "code",
   "execution_count": null,
   "id": "dbc6eee2",
   "metadata": {
    "collapsed": false,
    "jupyter": {
     "outputs_hidden": false
    },
    "pycharm": {
     "name": "#%%\n"
    }
   },
   "outputs": [],
   "source": [
    "import cnv_suite\n",
    "seg_trees = cnv_suite.get_segment_interval_trees(pd.concat(seg_df))"
   ]
  },
  {
   "cell_type": "code",
   "execution_count": null,
   "id": "64ca1590",
   "metadata": {
    "collapsed": false,
    "jupyter": {
     "outputs_hidden": false
    },
    "pycharm": {
     "name": "#%%\n"
    }
   },
   "outputs": [],
   "source": [
    "seg_trees[22][10000000].pop().data['GBM.ICB-75-19.778.A1-Post3_pair']"
   ]
  },
  {
   "cell_type": "code",
   "execution_count": null,
   "id": "932f7fe7",
   "metadata": {
    "collapsed": false,
    "jupyter": {
     "outputs_hidden": false
    },
    "pycharm": {
     "name": "#%%\n"
    }
   },
   "outputs": [],
   "source": [
    "pd.concat(seg_df.values())"
   ]
  },
  {
   "cell_type": "code",
   "execution_count": null,
   "id": "2bdf8552",
   "metadata": {
    "collapsed": false,
    "jupyter": {
     "outputs_hidden": false
    },
    "pycharm": {
     "name": "#%%\n"
    }
   },
   "outputs": [],
   "source": []
  },
  {
   "cell_type": "markdown",
   "id": "960c042c",
   "metadata": {
    "pycharm": {
     "name": "#%% md\n"
    }
   },
   "source": [
    "### Test plotting"
   ]
  },
  {
   "cell_type": "code",
   "execution_count": 3,
   "id": "294010ee",
   "metadata": {
    "collapsed": false,
    "jupyter": {
     "outputs_hidden": false
    },
    "pycharm": {
     "name": "#%%\n"
    }
   },
   "outputs": [],
   "source": [
    "#from PhylogicReviewer import ccf_pmf_plot\n",
    "import pandas as pd\n",
    "import re\n",
    "import plotly.express as px\n",
    "\n",
    "df = pd.DataFrame([['ONC106612', 'gs://fc-secure-c1d8f0c8-dc8c-418a-ac13-561b18de3d8e/1dc35867-4c57-487e-bcdd-e39820462211/phylogicndt/b007b77f-c150-490f-9d55-7ace9eb495dd/call-clustering/ONC106612.mut_ccfs.txt'], ['ONC110293', 'gs://fc-secure-c1d8f0c8-dc8c-418a-ac13-561b18de3d8e/1dc35867-4c57-487e-bcdd-e39820462211/phylogicndt/598b3916-a3b8-49dd-a3cb-bfb8ab8cd08e/call-clustering/cacheCopy/ONC110293.mut_ccfs.txt']], columns=['participant_id', 'mut_ccfs'])\n",
    "df.set_index('participant_id', inplace=True)\n",
    "mut_ids = ['13:67799823C>A', '3:99568657T>C', '17:1558752G>A']\n",
    "samples = ['17318_13_OCT_052219', '17318_13_BB_111119']\n"
   ]
  },
  {
   "cell_type": "code",
   "execution_count": 4,
   "id": "b38c2c2e",
   "metadata": {
    "collapsed": false,
    "jupyter": {
     "outputs_hidden": false
    },
    "pycharm": {
     "name": "#%%\n"
    }
   },
   "outputs": [],
   "source": [
    "def ccf_pmf_plot(data_df, idx, mut_ids, sample_selection, group_clusters=False):\n",
    "    \"\"\"Plots the CCF pmf distribution for the chosen mutation(s).\n",
    "\n",
    "    Notes\n",
    "    -----\n",
    "    - Displays the pmf distribution as a normalized histogram\n",
    "    - Samples are shown in separate rows\n",
    "    - Clusters displayed with different colors, with adjacent bars\n",
    "    \n",
    "    TODO\n",
    "    ----\n",
    "    - Add a star (*) above the mode for each mutation\n",
    "    - Add an indication of mean?\n",
    "\n",
    "    \"\"\"\n",
    "    mut_ccfs_df = pd.read_csv(data_df.loc[idx, 'mut_ccfs'], sep='\\t')\n",
    "    mut_ccfs_df['unique_mut_id'] = mut_ccfs_df.apply(get_unique_identifier, axis=1)\n",
    "    chosen_muts_df = mut_ccfs_df[mut_ccfs_df['unique_mut_id'].isin(mut_ids)].copy()\n",
    "\n",
    "    ccfs_headers = [re.search('.*[01].[0-9]+', i) for i in mut_ccfs_df.columns]\n",
    "    ccfs_headers = [x.group() for x in ccfs_headers if x]\n",
    "    ccfs_header_dict = {i: re.search('[01].[0-9]+', i).group() for i in ccfs_headers}\n",
    "\n",
    "    #pmf_plot = make_subplots(1, len(sample_selection))\n",
    "    stacked_muts = chosen_muts_df.set_index(['Sample_ID', 'unique_mut_id', 'Cluster_Assignment'])[\n",
    "        ccfs_headers].stack().reset_index().rename(columns={'level_3': 'CCF', 0: 'Probability'}).replace(ccfs_header_dict)\n",
    "    if group_clusters:\n",
    "        stacked_muts['Cluster_Assignment'] = stacked_muts['Cluster_Assignment'].astype(str)\n",
    "        fig = px.histogram(stacked_muts, x='CCF', y='Probability', facet_row='Sample_ID', barmode='group', height=300*len(sample_selection), color='Cluster_Assignment', histfunc='avg', color_discrete_map=get_phylogic_color_scale())\n",
    "    else:\n",
    "        fig = px.histogram(stacked_muts, x='CCF', y='Probability', facet_row='Sample_ID', barmode='group', height=300*len(sample_selection), color='unique_mut_id', labels={'unique_mut_id': 'Mutation'})\n",
    "        mut_label_dict = {x['unique_mut_id']: f\"{x['Hugo_Symbol']} - {x['Chromosome']}:{x['Start_position']}\" for idx, x in chosen_muts_df.drop_duplicates('unique_mut_id').iterrows()}\n",
    "        fig.for_each_trace(lambda t: t.update(name = mut_label_dict[t.name]))\n",
    "\n",
    "    fig.update_layout(xaxis_tickangle=0, xaxis_ticklabelstep=5)\n",
    "    fig.update_yaxes(matches=None)\n",
    "    \n",
    "    return fig\n",
    "\n",
    "\n",
    "def get_unique_identifier(row, chrom='Chromosome', start_pos='Start_position',\n",
    "                          ref='Reference_Allele', alt='Tumor_Seq_Allele'):\n",
    "    \"\"\"Generates unique string for this mutation, including contig, start position, ref and alt alleles.\n",
    "\n",
    "    Does not include End Position, for this field is not present in mut_ccfs Phylogic output. However, specification of both the alt and ref alleles are enough to distinguish InDels.\n",
    "\n",
    "    :param row: pd.Series giving the data for one mutation from a maf or maf-like dataframe\n",
    "    :param chrom: the name of the contig/chromosome column/field; default: Chromosome\n",
    "    :param start_pos: the name of the start position column/field; default: Start_position\n",
    "    :param ref: the name of the reference allele column/field; default: Reference_Allele\n",
    "    :param alt: the name of the alternate allele column/field; default: Tumor_Seq_Allele\n",
    "    \"\"\"\n",
    "    return f\"{row[chrom]}:{row[start_pos]}{row[ref]}>{row[alt]}\""
   ]
  },
  {
   "cell_type": "code",
   "execution_count": null,
   "id": "82a4d5fc",
   "metadata": {
    "collapsed": false,
    "jupyter": {
     "outputs_hidden": false
    },
    "pycharm": {
     "name": "#%%\n"
    }
   },
   "outputs": [],
   "source": [
    "fig = ccf_pmf_plot(df, 'ONC106612', mut_ids, samples)"
   ]
  },
  {
   "cell_type": "code",
   "execution_count": null,
   "id": "a5e0685c",
   "metadata": {
    "collapsed": false,
    "jupyter": {
     "outputs_hidden": false
    },
    "pycharm": {
     "name": "#%%\n"
    }
   },
   "outputs": [],
   "source": [
    "fig.show()"
   ]
  },
  {
   "cell_type": "code",
   "execution_count": null,
   "id": "f08815c2",
   "metadata": {
    "collapsed": false,
    "jupyter": {
     "outputs_hidden": false
    },
    "pycharm": {
     "name": "#%%\n"
    }
   },
   "outputs": [],
   "source": [
    "fig.update_yaxes(matches=None)"
   ]
  },
  {
   "cell_type": "code",
   "execution_count": null,
   "id": "eb11d9fa",
   "metadata": {
    "collapsed": false,
    "jupyter": {
     "outputs_hidden": false
    },
    "pycharm": {
     "name": "#%%\n"
    }
   },
   "outputs": [],
   "source": [
    "mut_ccfs_df = pd.read_csv(df.loc['ONC106612', 'mut_ccfs'], sep='\\t')\n",
    "mut_ccfs_df['unique_mut_id'] = mut_ccfs_df.apply(get_unique_identifier, axis=1)\n",
    "chosen_muts_df = mut_ccfs_df[mut_ccfs_df['unique_mut_id'].isin(mut_ids)].copy()"
   ]
  },
  {
   "cell_type": "code",
   "execution_count": null,
   "id": "39365e82",
   "metadata": {
    "collapsed": false,
    "jupyter": {
     "outputs_hidden": false
    },
    "pycharm": {
     "name": "#%%\n"
    }
   },
   "outputs": [],
   "source": [
    "chosen_muts_df.drop_duplicates('unique_mut_id').iteritems()"
   ]
  },
  {
   "cell_type": "code",
   "execution_count": null,
   "id": "ee6bd507",
   "metadata": {
    "collapsed": false,
    "jupyter": {
     "outputs_hidden": false
    },
    "pycharm": {
     "name": "#%%\n"
    }
   },
   "outputs": [],
   "source": [
    "mut_label_dict = {x['unique_mut_id']: f\"{x['Hugo_Symbol']} - {x['Chromosome']}:{x['Start_position']}\" for idx, x in chosen_muts_df.drop_duplicates('unique_mut_id').iterrows()}\n"
   ]
  },
  {
   "cell_type": "code",
   "execution_count": null,
   "id": "be4f94eb",
   "metadata": {
    "collapsed": false,
    "jupyter": {
     "outputs_hidden": false
    },
    "pycharm": {
     "name": "#%%\n"
    }
   },
   "outputs": [],
   "source": [
    "mut_label_dict"
   ]
  },
  {
   "cell_type": "code",
   "execution_count": null,
   "id": "2a15942a",
   "metadata": {
    "collapsed": false,
    "jupyter": {
     "outputs_hidden": false
    },
    "pycharm": {
     "name": "#%%\n"
    }
   },
   "outputs": [],
   "source": [
    "mut_ccfs_df = pd.read_csv(df.loc['ONC106612', 'mut_ccfs'], sep='\\t')\n",
    "mut_ccfs_df['unique_mut_id'] = mut_ccfs_df.apply(get_unique_identifier, axis=1)\n",
    "chosen_muts_df = mut_ccfs_df[mut_ccfs_df['unique_mut_id'].isin(mut_ids)].copy()"
   ]
  },
  {
   "cell_type": "code",
   "execution_count": null,
   "id": "d379db86",
   "metadata": {
    "collapsed": false,
    "jupyter": {
     "outputs_hidden": false
    },
    "pycharm": {
     "name": "#%%\n"
    }
   },
   "outputs": [],
   "source": [
    "chosen_muts_df.drop_duplicates('unique_mut_id').iteritems()"
   ]
  },
  {
   "cell_type": "code",
   "execution_count": null,
   "id": "6225da89",
   "metadata": {
    "collapsed": false,
    "jupyter": {
     "outputs_hidden": false
    },
    "pycharm": {
     "name": "#%%\n"
    }
   },
   "outputs": [],
   "source": [
    "mut_label_dict = {x['unique_mut_id']: f\"{x['Hugo_Symbol']} - {x['Chromosome']}:{x['Start_position']}\" for idx, x in chosen_muts_df.drop_duplicates('unique_mut_id').iterrows()}\n"
   ]
  },
  {
   "cell_type": "code",
   "execution_count": null,
   "id": "c2da2fa4",
   "metadata": {
    "collapsed": false,
    "jupyter": {
     "outputs_hidden": false
    },
    "pycharm": {
     "name": "#%%\n"
    }
   },
   "outputs": [],
   "source": [
    "mut_label_dict"
   ]
  },
  {
   "cell_type": "code",
   "execution_count": null,
   "id": "4de1a3e7",
   "metadata": {
    "collapsed": false,
    "jupyter": {
     "outputs_hidden": false
    },
    "pycharm": {
     "name": "#%%\n"
    }
   },
   "outputs": [],
   "source": [
    "def get_phylogic_color_scale():\n",
    "    phylogic_color_list = [[166, 17, 129],\n",
    "                           [39, 140, 24],\n",
    "                           [103, 200, 243],\n",
    "                           [248, 139, 16],\n",
    "                           [16, 49, 41],\n",
    "                           [93, 119, 254],\n",
    "                           [152, 22, 26],\n",
    "                           [104, 236, 172],\n",
    "                           [249, 142, 135],\n",
    "                           [55, 18, 48],\n",
    "                           [83, 82, 22],\n",
    "                           [247, 36, 36],\n",
    "                           [0, 79, 114],\n",
    "                           [243, 65, 132],\n",
    "                           [60, 185, 179],\n",
    "                           [185, 177, 243],\n",
    "                           [139, 34, 67],\n",
    "                           [178, 41, 186],\n",
    "                           [58, 146, 231],\n",
    "                           [130, 159, 21],\n",
    "                           [161, 91, 243],\n",
    "                           [131, 61, 17],\n",
    "                           [248, 75, 81],\n",
    "                           [32, 75, 32],\n",
    "                           [45, 109, 116],\n",
    "                           [255, 169, 199],\n",
    "                           [55, 179, 113],\n",
    "                           [34, 42, 3],\n",
    "                           [56, 121, 166],\n",
    "                           [172, 60, 15],\n",
    "                           [115, 76, 204],\n",
    "                           [21, 61, 73],\n",
    "                           [67, 21, 74],  # Additional colors, uglier and bad\n",
    "                           [123, 88, 112],\n",
    "                           [87, 106, 46],\n",
    "                           [37, 66, 58],\n",
    "                           [132, 79, 62],\n",
    "                           [71, 58, 32],\n",
    "                           [59, 104, 114],\n",
    "                           [46, 107, 90],\n",
    "                           [84, 68, 73],\n",
    "                           [90, 97, 124],\n",
    "                           [121, 66, 76],\n",
    "                           [104, 93, 48],\n",
    "                           [49, 67, 82],\n",
    "                           [71, 95, 65],\n",
    "                           [127, 85, 44],  # even more additional colors, gray\n",
    "                           [88, 79, 92],\n",
    "                           [220, 212, 194],\n",
    "                           [35, 34, 36],\n",
    "                           [200, 220, 224],\n",
    "                           [73, 81, 69],\n",
    "                           [224, 199, 206],\n",
    "                           [120, 127, 113],\n",
    "                           [142, 148, 166],\n",
    "                           [153, 167, 156],\n",
    "                           [162, 139, 145],\n",
    "                           [0, 0, 0]]  # black\n",
    "    colors_dict = {str(i): get_hex_string(c) for i, c in enumerate(phylogic_color_list)}\n",
    "    return colors_dict\n",
    "\n",
    "\n",
    "def get_hex_string(c):\n",
    "    return '#{:02X}{:02X}{:02X}'.format(*c)"
   ]
  },
  {
   "cell_type": "code",
   "execution_count": null,
   "id": "82d5411c",
   "metadata": {
    "collapsed": false,
    "jupyter": {
     "outputs_hidden": false
    },
    "pycharm": {
     "name": "#%%\n"
    }
   },
   "outputs": [],
   "source": []
  },
  {
   "cell_type": "code",
   "execution_count": null,
   "id": "41e184c5",
   "metadata": {
    "collapsed": false,
    "jupyter": {
     "outputs_hidden": false
    },
    "pycharm": {
     "name": "#%%\n"
    }
   },
   "outputs": [],
   "source": [
    "from JupyterReviewer.AppComponents.utils import get_unique_identifier\n",
    "from cnv_suite import switch_contigs, get_segment_interval_trees, apply_segment_data_to_df\n",
    "\n",
    "idx = 'GBM.ICB-75'\n",
    "sample_selection = []\n",
    "samples_df = sample_df.copy()\n",
    "\n",
    "maf_df = pd.read_csv(participant_df.loc[idx, 'maf_fn'], sep='\\t')\n",
    "start_pos = maf_df.columns[maf_df.columns.isin(['Start_position', 'Start_Position'])][0]\n",
    "alt = maf_df.columns[maf_df.columns.isin(['Tumor_Seq_Allele2', 'Tumor_Seq_Allele'])][0]\n",
    "maf_df['id'] = maf_df.apply(lambda x: get_unique_identifier(x, start_pos=start_pos, alt=alt), axis=1)\n",
    "maf_df.set_index('id', inplace=True, drop=False)\n",
    "\n",
    "# if selected_mutation_rows:\n",
    "#     maf_df = maf_df.loc[selected_mutation_rows]\n",
    "# elif filtered_mutation_rows:\n",
    "#     maf_df = maf_df.loc[filtered_mutation_rows]\n",
    "# else (if all mutations in table are filtered out and none selected): use all mutations\n",
    "\n",
    "sample_list = samples_df[samples_df['participant_id'] == idx].index.tolist()\n",
    "# restrict sample selection to only two samples at a time\n",
    "sample_selection_corrected = [sample_list[0]] if sample_selection == [] else sample_selection[:2]\n",
    "\n",
    "# sigmas_val = 'Show CNV Sigmas' in sigmas\n",
    "\n",
    "# if color == 'Differential':\n",
    "#     segment_colors = 'difference'\n",
    "# elif color == 'Cluster':\n",
    "#     segment_colors = 'cluster'\n",
    "# # unsure about clonal/subclonal\n",
    "# else:\n",
    "#     segment_colors = color\n",
    "\n",
    "seg_df = []\n",
    "for sample_id in sample_list:\n",
    "    this_seg_df = pd.read_csv(samples_df.loc[sample_id, 'cnv_seg_fn'], sep='\\t')\n",
    "    this_seg_df['Sample_ID'] = sample_id\n",
    "    seg_df.append(this_seg_df)\n",
    "\n",
    "maf_df = maf_df[maf_df.Sample_ID.isin(sample_list)]\n",
    "maf_df = switch_contigs(maf_df)\n",
    "maf_df['Chromosome'] = maf_df['Chromosome'].astype(int)\n",
    "\n",
    "seg_trees = get_segment_interval_trees(pd.concat(seg_df))\n",
    "maf_df = apply_segment_data_to_df(maf_df, seg_trees)"
   ]
  },
  {
   "cell_type": "code",
   "execution_count": null,
   "id": "0ddaa88b",
   "metadata": {
    "collapsed": false,
    "jupyter": {
     "outputs_hidden": false
    },
    "pycharm": {
     "name": "#%%\n"
    }
   },
   "outputs": [],
   "source": [
    "import importlib\n",
    "import cnv_suite\n",
    "importlib.reload(cnv_suite)"
   ]
  },
  {
   "cell_type": "code",
   "execution_count": null,
   "id": "3cd9d2c1-8f48-4239-affb-de1caffff4dc",
   "metadata": {
    "pycharm": {
     "name": "#%%\n"
    }
   },
   "outputs": [],
   "source": []
  },
  {
   "cell_type": "code",
   "execution_count": 35,
   "id": "2734331d-c9ba-4103-8fb2-1372e6a8455e",
   "metadata": {
    "pycharm": {
     "name": "#%%\n"
    }
   },
   "outputs": [],
   "source": [
    "from JupyterReviewer.AppComponents.utils import get_unique_identifier\n",
    "from cnv_suite import switch_contigs, get_segment_interval_trees, apply_segment_data_to_df\n",
    "\n",
    "idx = 'GBM.ICB-75'\n",
    "sample_selection = []\n",
    "samples_df = sample_df.copy()\n",
    "\n",
    "maf_df = pd.read_csv(participant_df.loc[idx, 'maf_fn'], sep='\\t')\n",
    "start_pos = maf_df.columns[maf_df.columns.isin(['Start_position', 'Start_Position'])][0]\n",
    "alt = maf_df.columns[maf_df.columns.isin(['Tumor_Seq_Allele2', 'Tumor_Seq_Allele'])][0]\n",
    "maf_df['id'] = maf_df.apply(lambda x: get_unique_identifier(x, start_pos=start_pos, alt=alt), axis=1)\n",
    "maf_df.set_index('id', inplace=True, drop=False)\n",
    "\n",
    "# if selected_mutation_rows:\n",
    "#     maf_df = maf_df.loc[selected_mutation_rows]\n",
    "# elif filtered_mutation_rows:\n",
    "#     maf_df = maf_df.loc[filtered_mutation_rows]\n",
    "# else (if all mutations in table are filtered out and none selected): use all mutations\n",
    "\n",
    "sample_list = samples_df[samples_df['participant_id'] == idx].index.tolist()\n",
    "# restrict sample selection to only two samples at a time\n",
    "sample_selection_corrected = [sample_list[0]] if sample_selection == [] else sample_selection[:2]\n",
    "\n",
    "# sigmas_val = 'Show CNV Sigmas' in sigmas\n",
    "\n",
    "# if color == 'Differential':\n",
    "#     segment_colors = 'difference'\n",
    "# elif color == 'Cluster':\n",
    "#     segment_colors = 'cluster'\n",
    "# # unsure about clonal/subclonal\n",
    "# else:\n",
    "#     segment_colors = color\n",
    "\n",
    "seg_df = []\n",
    "for sample_id in sample_list:\n",
    "    this_seg_df = pd.read_csv(samples_df.loc[sample_id, 'cnv_seg_fn'], sep='\\t')\n",
    "    this_seg_df['Sample_ID'] = sample_id\n",
    "    seg_df.append(this_seg_df)\n",
    "\n",
    "maf_df = maf_df[maf_df.Sample_ID.isin(sample_list)]\n",
    "maf_df = switch_contigs(maf_df)\n",
    "maf_df['Chromosome'] = maf_df['Chromosome'].astype(int)\n",
    "\n",
    "seg_trees = get_segment_interval_trees(pd.concat(seg_df))\n",
    "maf_df = apply_segment_data_to_df(maf_df, seg_trees)"
   ]
  },
  {
   "cell_type": "code",
   "execution_count": 34,
   "id": "bcccb03e-da38-4fec-a9ff-391ea9754408",
   "metadata": {
    "pycharm": {
     "name": "#%%\n"
    }
   },
   "outputs": [
    {
     "data": {
      "text/plain": [
       "<module 'cnv_suite' from '/Users/cmesser/PycharmProjects/reviewer_tools/JupyterReviewer/venv_JupyterReviewer/lib/python3.7/site-packages/cnv_suite/__init__.py'>"
      ]
     },
     "execution_count": 34,
     "metadata": {},
     "output_type": "execute_result"
    }
   ],
   "source": [
    "import importlib\n",
    "import cnv_suite\n",
    "importlib.reload(cnv_suite)"
   ]
  },
  {
   "cell_type": "code",
   "execution_count": 5,
   "id": "332c5d15-08d8-4e41-9358-467481001c50",
   "metadata": {
    "pycharm": {
     "name": "#%%\n"
    }
   },
   "outputs": [],
   "source": [
    "mut_ccfs_df = pd.read_csv(df.loc['ONC106612', 'mut_ccfs'], sep='\\t')\n",
    "mut_ccfs_df['unique_mut_id'] = mut_ccfs_df.apply(get_unique_identifier, axis=1)  # mut_ccfs file has default columns\n",
    "mut_ccfs_df.drop_duplicates('unique_mut_id', inplace=True)\n",
    "\n",
    "cluster_group = mut_ccfs_df.groupby('Cluster_Assignment')"
   ]
  },
  {
   "cell_type": "code",
   "execution_count": 6,
   "id": "255b2b01-67f1-4890-9355-f0dab85ea5e8",
   "metadata": {
    "pycharm": {
     "name": "#%%\n"
    }
   },
   "outputs": [
    {
     "data": {
      "text/plain": [
       "Cluster_Assignment\n",
       "1    28\n",
       "2     6\n",
       "3    27\n",
       "4    12\n",
       "5    32\n",
       "dtype: int64"
      ]
     },
     "execution_count": 6,
     "metadata": {},
     "output_type": "execute_result"
    }
   ],
   "source": [
    "cluster_group.size()"
   ]
  },
  {
   "cell_type": "code",
   "execution_count": 7,
   "id": "a93f297e-67b5-416b-9a02-d61becd2dfb9",
   "metadata": {
    "pycharm": {
     "name": "#%%\n"
    }
   },
   "outputs": [],
   "source": [
    "mut_ccfs_df['snp_indel'] = mut_ccfs_df['Variant_Type'].apply(lambda x: 'SNP' if x == 'SNP' else 'INDEL')\n",
    "snp_indel = mut_ccfs_df.groupby(['Cluster_Assignment', 'snp_indel']).size().unstack(fill_value=0)"
   ]
  },
  {
   "cell_type": "code",
   "execution_count": 8,
   "id": "b32b027b-0133-4884-b9f0-1850ee3c320f",
   "metadata": {
    "pycharm": {
     "name": "#%%\n"
    }
   },
   "outputs": [],
   "source": [
    "def classify_mut(variant_class):\n",
    "    if variant_class in ['lincRNA', 'RNA', 'IGR', \"3'UTR\", \"5'UTR\", 'Intron', \"5'Flank\", \"3'Flank\"]:\n",
    "        return 'non-coding'\n",
    "    elif variant_class == 'Silent':\n",
    "        return 'synonymous'\n",
    "    else:\n",
    "        return 'non-synonymous'"
   ]
  },
  {
   "cell_type": "code",
   "execution_count": 9,
   "id": "0f72233c-2185-4ec3-b728-3372822d7a77",
   "metadata": {
    "pycharm": {
     "name": "#%%\n"
    }
   },
   "outputs": [
    {
     "data": {
      "text/html": [
       "<div>\n",
       "<style scoped>\n",
       "    .dataframe tbody tr th:only-of-type {\n",
       "        vertical-align: middle;\n",
       "    }\n",
       "\n",
       "    .dataframe tbody tr th {\n",
       "        vertical-align: top;\n",
       "    }\n",
       "\n",
       "    .dataframe thead th {\n",
       "        text-align: right;\n",
       "    }\n",
       "</style>\n",
       "<table border=\"1\" class=\"dataframe\">\n",
       "  <thead>\n",
       "    <tr style=\"text-align: right;\">\n",
       "      <th>class</th>\n",
       "      <th>non-coding</th>\n",
       "      <th>non-synonymous</th>\n",
       "      <th>synonymous</th>\n",
       "    </tr>\n",
       "    <tr>\n",
       "      <th>Cluster_Assignment</th>\n",
       "      <th></th>\n",
       "      <th></th>\n",
       "      <th></th>\n",
       "    </tr>\n",
       "  </thead>\n",
       "  <tbody>\n",
       "    <tr>\n",
       "      <th>1</th>\n",
       "      <td>0</td>\n",
       "      <td>18</td>\n",
       "      <td>10</td>\n",
       "    </tr>\n",
       "    <tr>\n",
       "      <th>2</th>\n",
       "      <td>1</td>\n",
       "      <td>5</td>\n",
       "      <td>0</td>\n",
       "    </tr>\n",
       "    <tr>\n",
       "      <th>3</th>\n",
       "      <td>3</td>\n",
       "      <td>17</td>\n",
       "      <td>7</td>\n",
       "    </tr>\n",
       "    <tr>\n",
       "      <th>4</th>\n",
       "      <td>0</td>\n",
       "      <td>7</td>\n",
       "      <td>5</td>\n",
       "    </tr>\n",
       "    <tr>\n",
       "      <th>5</th>\n",
       "      <td>1</td>\n",
       "      <td>17</td>\n",
       "      <td>14</td>\n",
       "    </tr>\n",
       "  </tbody>\n",
       "</table>\n",
       "</div>"
      ],
      "text/plain": [
       "class               non-coding  non-synonymous  synonymous\n",
       "Cluster_Assignment                                        \n",
       "1                            0              18          10\n",
       "2                            1               5           0\n",
       "3                            3              17           7\n",
       "4                            0               7           5\n",
       "5                            1              17          14"
      ]
     },
     "execution_count": 9,
     "metadata": {},
     "output_type": "execute_result"
    }
   ],
   "source": [
    "mut_ccfs_df['class'] = mut_ccfs_df['Variant_Classification'].apply(classify_mut)\n",
    "mut_classes = mut_ccfs_df.groupby(['Cluster_Assignment', 'class']).size().unstack(fill_value=0)\n",
    "mut_classes"
   ]
  },
  {
   "cell_type": "code",
   "execution_count": 10,
   "id": "cd14227f-4260-4b8f-b769-9fb4a48a64cb",
   "metadata": {
    "pycharm": {
     "name": "#%%\n"
    }
   },
   "outputs": [],
   "source": [
    "mut_classes['coding'] = mut_classes['synonymous'] + mut_classes['non-synonymous']"
   ]
  },
  {
   "cell_type": "code",
   "execution_count": 53,
   "id": "0ce083a3-1741-451e-b98f-245858dee4db",
   "metadata": {
    "pycharm": {
     "name": "#%%\n"
    }
   },
   "outputs": [],
   "source": [
    "mut_counts_df = mut_classes.join(snp_indel)"
   ]
  },
  {
   "cell_type": "code",
   "execution_count": 37,
   "id": "1abae1a5-1143-45ba-9f97-09d5dee64fa3",
   "metadata": {
    "pycharm": {
     "name": "#%%\n"
    }
   },
   "outputs": [],
   "source": [
    "mut_counts_df.loc['TOTAL', :] = mut_counts_df.sum()\n",
    "mut_counts_df = mut_counts_df.stack().reset_index().rename(columns={'level_1':'annotation', 0: 'count'})\n",
    "mut_counts_df['type'] = mut_counts_df['annotation'].apply(lambda x: 'Non/Coding' if 'coding' in x else ('Non/Syn' if 'syn' in x else 'SNP/INDEL'))"
   ]
  },
  {
   "cell_type": "code",
   "execution_count": 52,
   "id": "f26fdf6c-0878-4d78-bb33-a39802310631",
   "metadata": {
    "pycharm": {
     "name": "#%%\n"
    },
    "tags": []
   },
   "outputs": [
    {
     "data": {
      "application/vnd.plotly.v1+json": {
       "config": {
        "plotlyServerURL": "https://plot.ly"
       },
       "data": [
        {
         "domain": {
          "x": [
           0,
           0.14666666666666667
          ],
          "y": [
           0.7133333333333333,
           0.9999999999999999
          ]
         },
         "hovertemplate": "type=Non/Coding<br>Cluster_Assignment=1<br>annotation=%{label}<br>count=%{value}<extra></extra>",
         "labels": [
          "non-coding",
          "coding"
         ],
         "legendgroup": "",
         "name": "",
         "showlegend": true,
         "textinfo": "value",
         "type": "pie",
         "values": [
          0,
          28
         ]
        },
        {
         "domain": {
          "x": [
           0.16666666666666666,
           0.31333333333333335
          ],
          "y": [
           0.7133333333333333,
           0.9999999999999999
          ]
         },
         "hovertemplate": "type=Non/Coding<br>Cluster_Assignment=2<br>annotation=%{label}<br>count=%{value}<extra></extra>",
         "labels": [
          "non-coding",
          "coding"
         ],
         "legendgroup": "",
         "name": "",
         "showlegend": true,
         "textinfo": "value",
         "type": "pie",
         "values": [
          1,
          5
         ]
        },
        {
         "domain": {
          "x": [
           0.3333333333333333,
           0.48
          ],
          "y": [
           0.7133333333333333,
           0.9999999999999999
          ]
         },
         "hovertemplate": "type=Non/Coding<br>Cluster_Assignment=3<br>annotation=%{label}<br>count=%{value}<extra></extra>",
         "labels": [
          "non-coding",
          "coding"
         ],
         "legendgroup": "",
         "name": "",
         "showlegend": true,
         "textinfo": "value",
         "type": "pie",
         "values": [
          3,
          24
         ]
        },
        {
         "domain": {
          "x": [
           0.5,
           0.6466666666666667
          ],
          "y": [
           0.7133333333333333,
           0.9999999999999999
          ]
         },
         "hovertemplate": "type=Non/Coding<br>Cluster_Assignment=4<br>annotation=%{label}<br>count=%{value}<extra></extra>",
         "labels": [
          "non-coding",
          "coding"
         ],
         "legendgroup": "",
         "name": "",
         "showlegend": true,
         "textinfo": "value",
         "type": "pie",
         "values": [
          0,
          12
         ]
        },
        {
         "domain": {
          "x": [
           0.6666666666666666,
           0.8133333333333332
          ],
          "y": [
           0.7133333333333333,
           0.9999999999999999
          ]
         },
         "hovertemplate": "type=Non/Coding<br>Cluster_Assignment=5<br>annotation=%{label}<br>count=%{value}<extra></extra>",
         "labels": [
          "non-coding",
          "coding"
         ],
         "legendgroup": "",
         "name": "",
         "showlegend": true,
         "textinfo": "value",
         "type": "pie",
         "values": [
          1,
          31
         ]
        },
        {
         "domain": {
          "x": [
           0.8333333333333334,
           0.98
          ],
          "y": [
           0.7133333333333333,
           0.9999999999999999
          ]
         },
         "hovertemplate": "type=Non/Coding<br>Cluster_Assignment=TOTAL<br>annotation=%{label}<br>count=%{value}<extra></extra>",
         "labels": [
          "non-coding",
          "coding"
         ],
         "legendgroup": "",
         "name": "",
         "showlegend": true,
         "textinfo": "value",
         "type": "pie",
         "values": [
          5,
          100
         ]
        },
        {
         "domain": {
          "x": [
           0,
           0.14666666666666667
          ],
          "y": [
           0.35666666666666663,
           0.6433333333333333
          ]
         },
         "hovertemplate": "type=Non/Syn<br>Cluster_Assignment=1<br>annotation=%{label}<br>count=%{value}<extra></extra>",
         "labels": [
          "non-synonymous",
          "synonymous"
         ],
         "legendgroup": "",
         "name": "",
         "showlegend": true,
         "textinfo": "value",
         "type": "pie",
         "values": [
          18,
          10
         ]
        },
        {
         "domain": {
          "x": [
           0.16666666666666666,
           0.31333333333333335
          ],
          "y": [
           0.35666666666666663,
           0.6433333333333333
          ]
         },
         "hovertemplate": "type=Non/Syn<br>Cluster_Assignment=2<br>annotation=%{label}<br>count=%{value}<extra></extra>",
         "labels": [
          "non-synonymous",
          "synonymous"
         ],
         "legendgroup": "",
         "name": "",
         "showlegend": true,
         "textinfo": "value",
         "type": "pie",
         "values": [
          5,
          0
         ]
        },
        {
         "domain": {
          "x": [
           0.3333333333333333,
           0.48
          ],
          "y": [
           0.35666666666666663,
           0.6433333333333333
          ]
         },
         "hovertemplate": "type=Non/Syn<br>Cluster_Assignment=3<br>annotation=%{label}<br>count=%{value}<extra></extra>",
         "labels": [
          "non-synonymous",
          "synonymous"
         ],
         "legendgroup": "",
         "name": "",
         "showlegend": true,
         "textinfo": "value",
         "type": "pie",
         "values": [
          17,
          7
         ]
        },
        {
         "domain": {
          "x": [
           0.5,
           0.6466666666666667
          ],
          "y": [
           0.35666666666666663,
           0.6433333333333333
          ]
         },
         "hovertemplate": "type=Non/Syn<br>Cluster_Assignment=4<br>annotation=%{label}<br>count=%{value}<extra></extra>",
         "labels": [
          "non-synonymous",
          "synonymous"
         ],
         "legendgroup": "",
         "name": "",
         "showlegend": true,
         "textinfo": "value",
         "type": "pie",
         "values": [
          7,
          5
         ]
        },
        {
         "domain": {
          "x": [
           0.6666666666666666,
           0.8133333333333332
          ],
          "y": [
           0.35666666666666663,
           0.6433333333333333
          ]
         },
         "hovertemplate": "type=Non/Syn<br>Cluster_Assignment=5<br>annotation=%{label}<br>count=%{value}<extra></extra>",
         "labels": [
          "non-synonymous",
          "synonymous"
         ],
         "legendgroup": "",
         "name": "",
         "showlegend": true,
         "textinfo": "value",
         "type": "pie",
         "values": [
          17,
          14
         ]
        },
        {
         "domain": {
          "x": [
           0.8333333333333334,
           0.98
          ],
          "y": [
           0.35666666666666663,
           0.6433333333333333
          ]
         },
         "hovertemplate": "type=Non/Syn<br>Cluster_Assignment=TOTAL<br>annotation=%{label}<br>count=%{value}<extra></extra>",
         "labels": [
          "non-synonymous",
          "synonymous"
         ],
         "legendgroup": "",
         "name": "",
         "showlegend": true,
         "textinfo": "value",
         "type": "pie",
         "values": [
          64,
          36
         ]
        },
        {
         "domain": {
          "x": [
           0,
           0.14666666666666667
          ],
          "y": [
           0,
           0.2866666666666666
          ]
         },
         "hovertemplate": "type=SNP/INDEL<br>Cluster_Assignment=1<br>annotation=%{label}<br>count=%{value}<extra></extra>",
         "labels": [
          "INDEL",
          "SNP"
         ],
         "legendgroup": "",
         "name": "",
         "showlegend": true,
         "textinfo": "value",
         "type": "pie",
         "values": [
          0,
          28
         ]
        },
        {
         "domain": {
          "x": [
           0.16666666666666666,
           0.31333333333333335
          ],
          "y": [
           0,
           0.2866666666666666
          ]
         },
         "hovertemplate": "type=SNP/INDEL<br>Cluster_Assignment=2<br>annotation=%{label}<br>count=%{value}<extra></extra>",
         "labels": [
          "INDEL",
          "SNP"
         ],
         "legendgroup": "",
         "name": "",
         "showlegend": true,
         "textinfo": "value",
         "type": "pie",
         "values": [
          0,
          6
         ]
        },
        {
         "domain": {
          "x": [
           0.3333333333333333,
           0.48
          ],
          "y": [
           0,
           0.2866666666666666
          ]
         },
         "hovertemplate": "type=SNP/INDEL<br>Cluster_Assignment=3<br>annotation=%{label}<br>count=%{value}<extra></extra>",
         "labels": [
          "INDEL",
          "SNP"
         ],
         "legendgroup": "",
         "name": "",
         "showlegend": true,
         "textinfo": "value",
         "type": "pie",
         "values": [
          0,
          27
         ]
        },
        {
         "domain": {
          "x": [
           0.5,
           0.6466666666666667
          ],
          "y": [
           0,
           0.2866666666666666
          ]
         },
         "hovertemplate": "type=SNP/INDEL<br>Cluster_Assignment=4<br>annotation=%{label}<br>count=%{value}<extra></extra>",
         "labels": [
          "INDEL",
          "SNP"
         ],
         "legendgroup": "",
         "name": "",
         "showlegend": true,
         "textinfo": "value",
         "type": "pie",
         "values": [
          1,
          11
         ]
        },
        {
         "domain": {
          "x": [
           0.6666666666666666,
           0.8133333333333332
          ],
          "y": [
           0,
           0.2866666666666666
          ]
         },
         "hovertemplate": "type=SNP/INDEL<br>Cluster_Assignment=5<br>annotation=%{label}<br>count=%{value}<extra></extra>",
         "labels": [
          "INDEL",
          "SNP"
         ],
         "legendgroup": "",
         "name": "",
         "showlegend": true,
         "textinfo": "value",
         "type": "pie",
         "values": [
          0,
          32
         ]
        },
        {
         "domain": {
          "x": [
           0.8333333333333334,
           0.98
          ],
          "y": [
           0,
           0.2866666666666666
          ]
         },
         "hovertemplate": "type=SNP/INDEL<br>Cluster_Assignment=TOTAL<br>annotation=%{label}<br>count=%{value}<extra></extra>",
         "labels": [
          "INDEL",
          "SNP"
         ],
         "legendgroup": "",
         "name": "",
         "showlegend": true,
         "textinfo": "value",
         "type": "pie",
         "values": [
          1,
          104
         ]
        }
       ],
       "layout": {
        "annotations": [
         {
          "font": {
           "size": 18
          },
          "showarrow": false,
          "text": "1",
          "x": 0.07333333333333333,
          "xanchor": "center",
          "xref": "paper",
          "y": 1.05,
          "yanchor": "bottom",
          "yref": "paper"
         },
         {
          "font": {
           "size": 18
          },
          "showarrow": false,
          "text": "2",
          "x": 0.24,
          "xanchor": "center",
          "xref": "paper",
          "y": 1.05,
          "yanchor": "bottom",
          "yref": "paper"
         },
         {
          "font": {
           "size": 18
          },
          "showarrow": false,
          "text": "3",
          "x": 0.4066666666666666,
          "xanchor": "center",
          "xref": "paper",
          "y": 1.05,
          "yanchor": "bottom",
          "yref": "paper"
         },
         {
          "font": {
           "size": 18
          },
          "showarrow": false,
          "text": "4",
          "x": 0.5733333333333334,
          "xanchor": "center",
          "xref": "paper",
          "y": 1.05,
          "yanchor": "bottom",
          "yref": "paper"
         },
         {
          "font": {
           "size": 18
          },
          "showarrow": false,
          "text": "5",
          "x": 0.74,
          "xanchor": "center",
          "xref": "paper",
          "y": 1.05,
          "yanchor": "bottom",
          "yref": "paper"
         },
         {
          "font": {
           "size": 18
          },
          "showarrow": false,
          "text": "TOTAL",
          "x": 0.9066666666666667,
          "xanchor": "center",
          "xref": "paper",
          "y": 1.05,
          "yanchor": "bottom",
          "yref": "paper"
         },
         {
          "font": {
           "size": 18
          },
          "showarrow": false,
          "text": "SNP/INDEL",
          "textangle": 90,
          "x": 0.98,
          "xanchor": "left",
          "xref": "paper",
          "y": 0.1433333333333333,
          "yanchor": "middle",
          "yref": "paper"
         },
         {
          "font": {
           "size": 18
          },
          "showarrow": false,
          "text": "Non/Syn",
          "textangle": 90,
          "x": 0.98,
          "xanchor": "left",
          "xref": "paper",
          "y": 0.5,
          "yanchor": "middle",
          "yref": "paper"
         },
         {
          "font": {
           "size": 18
          },
          "showarrow": false,
          "text": "Non/Coding",
          "textangle": 90,
          "x": 0.98,
          "xanchor": "left",
          "xref": "paper",
          "y": 0.8566666666666666,
          "yanchor": "middle",
          "yref": "paper"
         }
        ],
        "autosize": true,
        "legend": {
         "tracegroupgap": 0
        },
        "margin": {
         "t": 60
        },
        "template": {
         "data": {
          "bar": [
           {
            "error_x": {
             "color": "#2a3f5f"
            },
            "error_y": {
             "color": "#2a3f5f"
            },
            "marker": {
             "line": {
              "color": "#E5ECF6",
              "width": 0.5
             },
             "pattern": {
              "fillmode": "overlay",
              "size": 10,
              "solidity": 0.2
             }
            },
            "type": "bar"
           }
          ],
          "barpolar": [
           {
            "marker": {
             "line": {
              "color": "#E5ECF6",
              "width": 0.5
             },
             "pattern": {
              "fillmode": "overlay",
              "size": 10,
              "solidity": 0.2
             }
            },
            "type": "barpolar"
           }
          ],
          "carpet": [
           {
            "aaxis": {
             "endlinecolor": "#2a3f5f",
             "gridcolor": "white",
             "linecolor": "white",
             "minorgridcolor": "white",
             "startlinecolor": "#2a3f5f"
            },
            "baxis": {
             "endlinecolor": "#2a3f5f",
             "gridcolor": "white",
             "linecolor": "white",
             "minorgridcolor": "white",
             "startlinecolor": "#2a3f5f"
            },
            "type": "carpet"
           }
          ],
          "choropleth": [
           {
            "colorbar": {
             "outlinewidth": 0,
             "ticks": ""
            },
            "type": "choropleth"
           }
          ],
          "contour": [
           {
            "colorbar": {
             "outlinewidth": 0,
             "ticks": ""
            },
            "colorscale": [
             [
              0,
              "#0d0887"
             ],
             [
              0.1111111111111111,
              "#46039f"
             ],
             [
              0.2222222222222222,
              "#7201a8"
             ],
             [
              0.3333333333333333,
              "#9c179e"
             ],
             [
              0.4444444444444444,
              "#bd3786"
             ],
             [
              0.5555555555555556,
              "#d8576b"
             ],
             [
              0.6666666666666666,
              "#ed7953"
             ],
             [
              0.7777777777777778,
              "#fb9f3a"
             ],
             [
              0.8888888888888888,
              "#fdca26"
             ],
             [
              1,
              "#f0f921"
             ]
            ],
            "type": "contour"
           }
          ],
          "contourcarpet": [
           {
            "colorbar": {
             "outlinewidth": 0,
             "ticks": ""
            },
            "type": "contourcarpet"
           }
          ],
          "heatmap": [
           {
            "colorbar": {
             "outlinewidth": 0,
             "ticks": ""
            },
            "colorscale": [
             [
              0,
              "#0d0887"
             ],
             [
              0.1111111111111111,
              "#46039f"
             ],
             [
              0.2222222222222222,
              "#7201a8"
             ],
             [
              0.3333333333333333,
              "#9c179e"
             ],
             [
              0.4444444444444444,
              "#bd3786"
             ],
             [
              0.5555555555555556,
              "#d8576b"
             ],
             [
              0.6666666666666666,
              "#ed7953"
             ],
             [
              0.7777777777777778,
              "#fb9f3a"
             ],
             [
              0.8888888888888888,
              "#fdca26"
             ],
             [
              1,
              "#f0f921"
             ]
            ],
            "type": "heatmap"
           }
          ],
          "heatmapgl": [
           {
            "colorbar": {
             "outlinewidth": 0,
             "ticks": ""
            },
            "colorscale": [
             [
              0,
              "#0d0887"
             ],
             [
              0.1111111111111111,
              "#46039f"
             ],
             [
              0.2222222222222222,
              "#7201a8"
             ],
             [
              0.3333333333333333,
              "#9c179e"
             ],
             [
              0.4444444444444444,
              "#bd3786"
             ],
             [
              0.5555555555555556,
              "#d8576b"
             ],
             [
              0.6666666666666666,
              "#ed7953"
             ],
             [
              0.7777777777777778,
              "#fb9f3a"
             ],
             [
              0.8888888888888888,
              "#fdca26"
             ],
             [
              1,
              "#f0f921"
             ]
            ],
            "type": "heatmapgl"
           }
          ],
          "histogram": [
           {
            "marker": {
             "pattern": {
              "fillmode": "overlay",
              "size": 10,
              "solidity": 0.2
             }
            },
            "type": "histogram"
           }
          ],
          "histogram2d": [
           {
            "colorbar": {
             "outlinewidth": 0,
             "ticks": ""
            },
            "colorscale": [
             [
              0,
              "#0d0887"
             ],
             [
              0.1111111111111111,
              "#46039f"
             ],
             [
              0.2222222222222222,
              "#7201a8"
             ],
             [
              0.3333333333333333,
              "#9c179e"
             ],
             [
              0.4444444444444444,
              "#bd3786"
             ],
             [
              0.5555555555555556,
              "#d8576b"
             ],
             [
              0.6666666666666666,
              "#ed7953"
             ],
             [
              0.7777777777777778,
              "#fb9f3a"
             ],
             [
              0.8888888888888888,
              "#fdca26"
             ],
             [
              1,
              "#f0f921"
             ]
            ],
            "type": "histogram2d"
           }
          ],
          "histogram2dcontour": [
           {
            "colorbar": {
             "outlinewidth": 0,
             "ticks": ""
            },
            "colorscale": [
             [
              0,
              "#0d0887"
             ],
             [
              0.1111111111111111,
              "#46039f"
             ],
             [
              0.2222222222222222,
              "#7201a8"
             ],
             [
              0.3333333333333333,
              "#9c179e"
             ],
             [
              0.4444444444444444,
              "#bd3786"
             ],
             [
              0.5555555555555556,
              "#d8576b"
             ],
             [
              0.6666666666666666,
              "#ed7953"
             ],
             [
              0.7777777777777778,
              "#fb9f3a"
             ],
             [
              0.8888888888888888,
              "#fdca26"
             ],
             [
              1,
              "#f0f921"
             ]
            ],
            "type": "histogram2dcontour"
           }
          ],
          "mesh3d": [
           {
            "colorbar": {
             "outlinewidth": 0,
             "ticks": ""
            },
            "type": "mesh3d"
           }
          ],
          "parcoords": [
           {
            "line": {
             "colorbar": {
              "outlinewidth": 0,
              "ticks": ""
             }
            },
            "type": "parcoords"
           }
          ],
          "pie": [
           {
            "automargin": true,
            "type": "pie"
           }
          ],
          "scatter": [
           {
            "fillpattern": {
             "fillmode": "overlay",
             "size": 10,
             "solidity": 0.2
            },
            "type": "scatter"
           }
          ],
          "scatter3d": [
           {
            "line": {
             "colorbar": {
              "outlinewidth": 0,
              "ticks": ""
             }
            },
            "marker": {
             "colorbar": {
              "outlinewidth": 0,
              "ticks": ""
             }
            },
            "type": "scatter3d"
           }
          ],
          "scattercarpet": [
           {
            "marker": {
             "colorbar": {
              "outlinewidth": 0,
              "ticks": ""
             }
            },
            "type": "scattercarpet"
           }
          ],
          "scattergeo": [
           {
            "marker": {
             "colorbar": {
              "outlinewidth": 0,
              "ticks": ""
             }
            },
            "type": "scattergeo"
           }
          ],
          "scattergl": [
           {
            "marker": {
             "colorbar": {
              "outlinewidth": 0,
              "ticks": ""
             }
            },
            "type": "scattergl"
           }
          ],
          "scattermapbox": [
           {
            "marker": {
             "colorbar": {
              "outlinewidth": 0,
              "ticks": ""
             }
            },
            "type": "scattermapbox"
           }
          ],
          "scatterpolar": [
           {
            "marker": {
             "colorbar": {
              "outlinewidth": 0,
              "ticks": ""
             }
            },
            "type": "scatterpolar"
           }
          ],
          "scatterpolargl": [
           {
            "marker": {
             "colorbar": {
              "outlinewidth": 0,
              "ticks": ""
             }
            },
            "type": "scatterpolargl"
           }
          ],
          "scatterternary": [
           {
            "marker": {
             "colorbar": {
              "outlinewidth": 0,
              "ticks": ""
             }
            },
            "type": "scatterternary"
           }
          ],
          "surface": [
           {
            "colorbar": {
             "outlinewidth": 0,
             "ticks": ""
            },
            "colorscale": [
             [
              0,
              "#0d0887"
             ],
             [
              0.1111111111111111,
              "#46039f"
             ],
             [
              0.2222222222222222,
              "#7201a8"
             ],
             [
              0.3333333333333333,
              "#9c179e"
             ],
             [
              0.4444444444444444,
              "#bd3786"
             ],
             [
              0.5555555555555556,
              "#d8576b"
             ],
             [
              0.6666666666666666,
              "#ed7953"
             ],
             [
              0.7777777777777778,
              "#fb9f3a"
             ],
             [
              0.8888888888888888,
              "#fdca26"
             ],
             [
              1,
              "#f0f921"
             ]
            ],
            "type": "surface"
           }
          ],
          "table": [
           {
            "cells": {
             "fill": {
              "color": "#EBF0F8"
             },
             "line": {
              "color": "white"
             }
            },
            "header": {
             "fill": {
              "color": "#C8D4E3"
             },
             "line": {
              "color": "white"
             }
            },
            "type": "table"
           }
          ]
         },
         "layout": {
          "annotationdefaults": {
           "arrowcolor": "#2a3f5f",
           "arrowhead": 0,
           "arrowwidth": 1
          },
          "autotypenumbers": "strict",
          "coloraxis": {
           "colorbar": {
            "outlinewidth": 0,
            "ticks": ""
           }
          },
          "colorscale": {
           "diverging": [
            [
             0,
             "#8e0152"
            ],
            [
             0.1,
             "#c51b7d"
            ],
            [
             0.2,
             "#de77ae"
            ],
            [
             0.3,
             "#f1b6da"
            ],
            [
             0.4,
             "#fde0ef"
            ],
            [
             0.5,
             "#f7f7f7"
            ],
            [
             0.6,
             "#e6f5d0"
            ],
            [
             0.7,
             "#b8e186"
            ],
            [
             0.8,
             "#7fbc41"
            ],
            [
             0.9,
             "#4d9221"
            ],
            [
             1,
             "#276419"
            ]
           ],
           "sequential": [
            [
             0,
             "#0d0887"
            ],
            [
             0.1111111111111111,
             "#46039f"
            ],
            [
             0.2222222222222222,
             "#7201a8"
            ],
            [
             0.3333333333333333,
             "#9c179e"
            ],
            [
             0.4444444444444444,
             "#bd3786"
            ],
            [
             0.5555555555555556,
             "#d8576b"
            ],
            [
             0.6666666666666666,
             "#ed7953"
            ],
            [
             0.7777777777777778,
             "#fb9f3a"
            ],
            [
             0.8888888888888888,
             "#fdca26"
            ],
            [
             1,
             "#f0f921"
            ]
           ],
           "sequentialminus": [
            [
             0,
             "#0d0887"
            ],
            [
             0.1111111111111111,
             "#46039f"
            ],
            [
             0.2222222222222222,
             "#7201a8"
            ],
            [
             0.3333333333333333,
             "#9c179e"
            ],
            [
             0.4444444444444444,
             "#bd3786"
            ],
            [
             0.5555555555555556,
             "#d8576b"
            ],
            [
             0.6666666666666666,
             "#ed7953"
            ],
            [
             0.7777777777777778,
             "#fb9f3a"
            ],
            [
             0.8888888888888888,
             "#fdca26"
            ],
            [
             1,
             "#f0f921"
            ]
           ]
          },
          "colorway": [
           "#636efa",
           "#EF553B",
           "#00cc96",
           "#ab63fa",
           "#FFA15A",
           "#19d3f3",
           "#FF6692",
           "#B6E880",
           "#FF97FF",
           "#FECB52"
          ],
          "font": {
           "color": "#2a3f5f"
          },
          "geo": {
           "bgcolor": "white",
           "lakecolor": "white",
           "landcolor": "#E5ECF6",
           "showlakes": true,
           "showland": true,
           "subunitcolor": "white"
          },
          "hoverlabel": {
           "align": "left"
          },
          "hovermode": "closest",
          "mapbox": {
           "style": "light"
          },
          "paper_bgcolor": "white",
          "plot_bgcolor": "#E5ECF6",
          "polar": {
           "angularaxis": {
            "gridcolor": "white",
            "linecolor": "white",
            "ticks": ""
           },
           "bgcolor": "#E5ECF6",
           "radialaxis": {
            "gridcolor": "white",
            "linecolor": "white",
            "ticks": ""
           }
          },
          "scene": {
           "xaxis": {
            "backgroundcolor": "#E5ECF6",
            "gridcolor": "white",
            "gridwidth": 2,
            "linecolor": "white",
            "showbackground": true,
            "ticks": "",
            "zerolinecolor": "white"
           },
           "yaxis": {
            "backgroundcolor": "#E5ECF6",
            "gridcolor": "white",
            "gridwidth": 2,
            "linecolor": "white",
            "showbackground": true,
            "ticks": "",
            "zerolinecolor": "white"
           },
           "zaxis": {
            "backgroundcolor": "#E5ECF6",
            "gridcolor": "white",
            "gridwidth": 2,
            "linecolor": "white",
            "showbackground": true,
            "ticks": "",
            "zerolinecolor": "white"
           }
          },
          "shapedefaults": {
           "line": {
            "color": "#2a3f5f"
           }
          },
          "ternary": {
           "aaxis": {
            "gridcolor": "white",
            "linecolor": "white",
            "ticks": ""
           },
           "baxis": {
            "gridcolor": "white",
            "linecolor": "white",
            "ticks": ""
           },
           "bgcolor": "#E5ECF6",
           "caxis": {
            "gridcolor": "white",
            "linecolor": "white",
            "ticks": ""
           }
          },
          "title": {
           "x": 0.05
          },
          "xaxis": {
           "automargin": true,
           "gridcolor": "white",
           "linecolor": "white",
           "ticks": "",
           "title": {
            "standoff": 15
           },
           "zerolinecolor": "white",
           "zerolinewidth": 2
          },
          "yaxis": {
           "automargin": true,
           "gridcolor": "white",
           "linecolor": "white",
           "ticks": "",
           "title": {
            "standoff": 15
           },
           "zerolinecolor": "white",
           "zerolinewidth": 2
          }
         }
        }
       }
      },
      "image/png": "[encoded data removed]",
      "text/html": [
       "<div>                            <div id=\"6b238dc2-39ee-4bc0-b139-ef3cb2d66ce8\" class=\"plotly-graph-div\" style=\"height:500px; width:100%;\"></div>            <script type=\"text/javascript\">                require([\"plotly\"], function(Plotly) {                    window.PLOTLYENV=window.PLOTLYENV || {};                                    if (document.getElementById(\"6b238dc2-39ee-4bc0-b139-ef3cb2d66ce8\")) {                    Plotly.newPlot(                        \"6b238dc2-39ee-4bc0-b139-ef3cb2d66ce8\",                        [{\"domain\":{\"x\":[0.0,0.14666666666666667],\"y\":[0.7133333333333333,0.9999999999999999]},\"hovertemplate\":\"type=Non/Coding<br>Cluster_Assignment=1<br>annotation=%{label}<br>count=%{value}<extra></extra>\",\"labels\":[\"non-coding\",\"coding\"],\"legendgroup\":\"\",\"name\":\"\",\"showlegend\":true,\"values\":[0.0,28.0],\"type\":\"pie\",\"textinfo\":\"value\"},{\"domain\":{\"x\":[0.16666666666666666,0.31333333333333335],\"y\":[0.7133333333333333,0.9999999999999999]},\"hovertemplate\":\"type=Non/Coding<br>Cluster_Assignment=2<br>annotation=%{label}<br>count=%{value}<extra></extra>\",\"labels\":[\"non-coding\",\"coding\"],\"legendgroup\":\"\",\"name\":\"\",\"showlegend\":true,\"values\":[1.0,5.0],\"type\":\"pie\",\"textinfo\":\"value\"},{\"domain\":{\"x\":[0.3333333333333333,0.48],\"y\":[0.7133333333333333,0.9999999999999999]},\"hovertemplate\":\"type=Non/Coding<br>Cluster_Assignment=3<br>annotation=%{label}<br>count=%{value}<extra></extra>\",\"labels\":[\"non-coding\",\"coding\"],\"legendgroup\":\"\",\"name\":\"\",\"showlegend\":true,\"values\":[3.0,24.0],\"type\":\"pie\",\"textinfo\":\"value\"},{\"domain\":{\"x\":[0.5,0.6466666666666667],\"y\":[0.7133333333333333,0.9999999999999999]},\"hovertemplate\":\"type=Non/Coding<br>Cluster_Assignment=4<br>annotation=%{label}<br>count=%{value}<extra></extra>\",\"labels\":[\"non-coding\",\"coding\"],\"legendgroup\":\"\",\"name\":\"\",\"showlegend\":true,\"values\":[0.0,12.0],\"type\":\"pie\",\"textinfo\":\"value\"},{\"domain\":{\"x\":[0.6666666666666666,0.8133333333333332],\"y\":[0.7133333333333333,0.9999999999999999]},\"hovertemplate\":\"type=Non/Coding<br>Cluster_Assignment=5<br>annotation=%{label}<br>count=%{value}<extra></extra>\",\"labels\":[\"non-coding\",\"coding\"],\"legendgroup\":\"\",\"name\":\"\",\"showlegend\":true,\"values\":[1.0,31.0],\"type\":\"pie\",\"textinfo\":\"value\"},{\"domain\":{\"x\":[0.8333333333333334,0.98],\"y\":[0.7133333333333333,0.9999999999999999]},\"hovertemplate\":\"type=Non/Coding<br>Cluster_Assignment=TOTAL<br>annotation=%{label}<br>count=%{value}<extra></extra>\",\"labels\":[\"non-coding\",\"coding\"],\"legendgroup\":\"\",\"name\":\"\",\"showlegend\":true,\"values\":[5.0,100.0],\"type\":\"pie\",\"textinfo\":\"value\"},{\"domain\":{\"x\":[0.0,0.14666666666666667],\"y\":[0.35666666666666663,0.6433333333333333]},\"hovertemplate\":\"type=Non/Syn<br>Cluster_Assignment=1<br>annotation=%{label}<br>count=%{value}<extra></extra>\",\"labels\":[\"non-synonymous\",\"synonymous\"],\"legendgroup\":\"\",\"name\":\"\",\"showlegend\":true,\"values\":[18.0,10.0],\"type\":\"pie\",\"textinfo\":\"value\"},{\"domain\":{\"x\":[0.16666666666666666,0.31333333333333335],\"y\":[0.35666666666666663,0.6433333333333333]},\"hovertemplate\":\"type=Non/Syn<br>Cluster_Assignment=2<br>annotation=%{label}<br>count=%{value}<extra></extra>\",\"labels\":[\"non-synonymous\",\"synonymous\"],\"legendgroup\":\"\",\"name\":\"\",\"showlegend\":true,\"values\":[5.0,0.0],\"type\":\"pie\",\"textinfo\":\"value\"},{\"domain\":{\"x\":[0.3333333333333333,0.48],\"y\":[0.35666666666666663,0.6433333333333333]},\"hovertemplate\":\"type=Non/Syn<br>Cluster_Assignment=3<br>annotation=%{label}<br>count=%{value}<extra></extra>\",\"labels\":[\"non-synonymous\",\"synonymous\"],\"legendgroup\":\"\",\"name\":\"\",\"showlegend\":true,\"values\":[17.0,7.0],\"type\":\"pie\",\"textinfo\":\"value\"},{\"domain\":{\"x\":[0.5,0.6466666666666667],\"y\":[0.35666666666666663,0.6433333333333333]},\"hovertemplate\":\"type=Non/Syn<br>Cluster_Assignment=4<br>annotation=%{label}<br>count=%{value}<extra></extra>\",\"labels\":[\"non-synonymous\",\"synonymous\"],\"legendgroup\":\"\",\"name\":\"\",\"showlegend\":true,\"values\":[7.0,5.0],\"type\":\"pie\",\"textinfo\":\"value\"},{\"domain\":{\"x\":[0.6666666666666666,0.8133333333333332],\"y\":[0.35666666666666663,0.6433333333333333]},\"hovertemplate\":\"type=Non/Syn<br>Cluster_Assignment=5<br>annotation=%{label}<br>count=%{value}<extra></extra>\",\"labels\":[\"non-synonymous\",\"synonymous\"],\"legendgroup\":\"\",\"name\":\"\",\"showlegend\":true,\"values\":[17.0,14.0],\"type\":\"pie\",\"textinfo\":\"value\"},{\"domain\":{\"x\":[0.8333333333333334,0.98],\"y\":[0.35666666666666663,0.6433333333333333]},\"hovertemplate\":\"type=Non/Syn<br>Cluster_Assignment=TOTAL<br>annotation=%{label}<br>count=%{value}<extra></extra>\",\"labels\":[\"non-synonymous\",\"synonymous\"],\"legendgroup\":\"\",\"name\":\"\",\"showlegend\":true,\"values\":[64.0,36.0],\"type\":\"pie\",\"textinfo\":\"value\"},{\"domain\":{\"x\":[0.0,0.14666666666666667],\"y\":[0.0,0.2866666666666666]},\"hovertemplate\":\"type=SNP/INDEL<br>Cluster_Assignment=1<br>annotation=%{label}<br>count=%{value}<extra></extra>\",\"labels\":[\"INDEL\",\"SNP\"],\"legendgroup\":\"\",\"name\":\"\",\"showlegend\":true,\"values\":[0.0,28.0],\"type\":\"pie\",\"textinfo\":\"value\"},{\"domain\":{\"x\":[0.16666666666666666,0.31333333333333335],\"y\":[0.0,0.2866666666666666]},\"hovertemplate\":\"type=SNP/INDEL<br>Cluster_Assignment=2<br>annotation=%{label}<br>count=%{value}<extra></extra>\",\"labels\":[\"INDEL\",\"SNP\"],\"legendgroup\":\"\",\"name\":\"\",\"showlegend\":true,\"values\":[0.0,6.0],\"type\":\"pie\",\"textinfo\":\"value\"},{\"domain\":{\"x\":[0.3333333333333333,0.48],\"y\":[0.0,0.2866666666666666]},\"hovertemplate\":\"type=SNP/INDEL<br>Cluster_Assignment=3<br>annotation=%{label}<br>count=%{value}<extra></extra>\",\"labels\":[\"INDEL\",\"SNP\"],\"legendgroup\":\"\",\"name\":\"\",\"showlegend\":true,\"values\":[0.0,27.0],\"type\":\"pie\",\"textinfo\":\"value\"},{\"domain\":{\"x\":[0.5,0.6466666666666667],\"y\":[0.0,0.2866666666666666]},\"hovertemplate\":\"type=SNP/INDEL<br>Cluster_Assignment=4<br>annotation=%{label}<br>count=%{value}<extra></extra>\",\"labels\":[\"INDEL\",\"SNP\"],\"legendgroup\":\"\",\"name\":\"\",\"showlegend\":true,\"values\":[1.0,11.0],\"type\":\"pie\",\"textinfo\":\"value\"},{\"domain\":{\"x\":[0.6666666666666666,0.8133333333333332],\"y\":[0.0,0.2866666666666666]},\"hovertemplate\":\"type=SNP/INDEL<br>Cluster_Assignment=5<br>annotation=%{label}<br>count=%{value}<extra></extra>\",\"labels\":[\"INDEL\",\"SNP\"],\"legendgroup\":\"\",\"name\":\"\",\"showlegend\":true,\"values\":[0.0,32.0],\"type\":\"pie\",\"textinfo\":\"value\"},{\"domain\":{\"x\":[0.8333333333333334,0.98],\"y\":[0.0,0.2866666666666666]},\"hovertemplate\":\"type=SNP/INDEL<br>Cluster_Assignment=TOTAL<br>annotation=%{label}<br>count=%{value}<extra></extra>\",\"labels\":[\"INDEL\",\"SNP\"],\"legendgroup\":\"\",\"name\":\"\",\"showlegend\":true,\"values\":[1.0,104.0],\"type\":\"pie\",\"textinfo\":\"value\"}],                        {\"template\":{\"data\":{\"histogram2dcontour\":[{\"type\":\"histogram2dcontour\",\"colorbar\":{\"outlinewidth\":0,\"ticks\":\"\"},\"colorscale\":[[0.0,\"#0d0887\"],[0.1111111111111111,\"#46039f\"],[0.2222222222222222,\"#7201a8\"],[0.3333333333333333,\"#9c179e\"],[0.4444444444444444,\"#bd3786\"],[0.5555555555555556,\"#d8576b\"],[0.6666666666666666,\"#ed7953\"],[0.7777777777777778,\"#fb9f3a\"],[0.8888888888888888,\"#fdca26\"],[1.0,\"#f0f921\"]]}],\"choropleth\":[{\"type\":\"choropleth\",\"colorbar\":{\"outlinewidth\":0,\"ticks\":\"\"}}],\"histogram2d\":[{\"type\":\"histogram2d\",\"colorbar\":{\"outlinewidth\":0,\"ticks\":\"\"},\"colorscale\":[[0.0,\"#0d0887\"],[0.1111111111111111,\"#46039f\"],[0.2222222222222222,\"#7201a8\"],[0.3333333333333333,\"#9c179e\"],[0.4444444444444444,\"#bd3786\"],[0.5555555555555556,\"#d8576b\"],[0.6666666666666666,\"#ed7953\"],[0.7777777777777778,\"#fb9f3a\"],[0.8888888888888888,\"#fdca26\"],[1.0,\"#f0f921\"]]}],\"heatmap\":[{\"type\":\"heatmap\",\"colorbar\":{\"outlinewidth\":0,\"ticks\":\"\"},\"colorscale\":[[0.0,\"#0d0887\"],[0.1111111111111111,\"#46039f\"],[0.2222222222222222,\"#7201a8\"],[0.3333333333333333,\"#9c179e\"],[0.4444444444444444,\"#bd3786\"],[0.5555555555555556,\"#d8576b\"],[0.6666666666666666,\"#ed7953\"],[0.7777777777777778,\"#fb9f3a\"],[0.8888888888888888,\"#fdca26\"],[1.0,\"#f0f921\"]]}],\"heatmapgl\":[{\"type\":\"heatmapgl\",\"colorbar\":{\"outlinewidth\":0,\"ticks\":\"\"},\"colorscale\":[[0.0,\"#0d0887\"],[0.1111111111111111,\"#46039f\"],[0.2222222222222222,\"#7201a8\"],[0.3333333333333333,\"#9c179e\"],[0.4444444444444444,\"#bd3786\"],[0.5555555555555556,\"#d8576b\"],[0.6666666666666666,\"#ed7953\"],[0.7777777777777778,\"#fb9f3a\"],[0.8888888888888888,\"#fdca26\"],[1.0,\"#f0f921\"]]}],\"contourcarpet\":[{\"type\":\"contourcarpet\",\"colorbar\":{\"outlinewidth\":0,\"ticks\":\"\"}}],\"contour\":[{\"type\":\"contour\",\"colorbar\":{\"outlinewidth\":0,\"ticks\":\"\"},\"colorscale\":[[0.0,\"#0d0887\"],[0.1111111111111111,\"#46039f\"],[0.2222222222222222,\"#7201a8\"],[0.3333333333333333,\"#9c179e\"],[0.4444444444444444,\"#bd3786\"],[0.5555555555555556,\"#d8576b\"],[0.6666666666666666,\"#ed7953\"],[0.7777777777777778,\"#fb9f3a\"],[0.8888888888888888,\"#fdca26\"],[1.0,\"#f0f921\"]]}],\"surface\":[{\"type\":\"surface\",\"colorbar\":{\"outlinewidth\":0,\"ticks\":\"\"},\"colorscale\":[[0.0,\"#0d0887\"],[0.1111111111111111,\"#46039f\"],[0.2222222222222222,\"#7201a8\"],[0.3333333333333333,\"#9c179e\"],[0.4444444444444444,\"#bd3786\"],[0.5555555555555556,\"#d8576b\"],[0.6666666666666666,\"#ed7953\"],[0.7777777777777778,\"#fb9f3a\"],[0.8888888888888888,\"#fdca26\"],[1.0,\"#f0f921\"]]}],\"mesh3d\":[{\"type\":\"mesh3d\",\"colorbar\":{\"outlinewidth\":0,\"ticks\":\"\"}}],\"scatter\":[{\"fillpattern\":{\"fillmode\":\"overlay\",\"size\":10,\"solidity\":0.2},\"type\":\"scatter\"}],\"parcoords\":[{\"type\":\"parcoords\",\"line\":{\"colorbar\":{\"outlinewidth\":0,\"ticks\":\"\"}}}],\"scatterpolargl\":[{\"type\":\"scatterpolargl\",\"marker\":{\"colorbar\":{\"outlinewidth\":0,\"ticks\":\"\"}}}],\"bar\":[{\"error_x\":{\"color\":\"#2a3f5f\"},\"error_y\":{\"color\":\"#2a3f5f\"},\"marker\":{\"line\":{\"color\":\"#E5ECF6\",\"width\":0.5},\"pattern\":{\"fillmode\":\"overlay\",\"size\":10,\"solidity\":0.2}},\"type\":\"bar\"}],\"scattergeo\":[{\"type\":\"scattergeo\",\"marker\":{\"colorbar\":{\"outlinewidth\":0,\"ticks\":\"\"}}}],\"scatterpolar\":[{\"type\":\"scatterpolar\",\"marker\":{\"colorbar\":{\"outlinewidth\":0,\"ticks\":\"\"}}}],\"histogram\":[{\"marker\":{\"pattern\":{\"fillmode\":\"overlay\",\"size\":10,\"solidity\":0.2}},\"type\":\"histogram\"}],\"scattergl\":[{\"type\":\"scattergl\",\"marker\":{\"colorbar\":{\"outlinewidth\":0,\"ticks\":\"\"}}}],\"scatter3d\":[{\"type\":\"scatter3d\",\"line\":{\"colorbar\":{\"outlinewidth\":0,\"ticks\":\"\"}},\"marker\":{\"colorbar\":{\"outlinewidth\":0,\"ticks\":\"\"}}}],\"scattermapbox\":[{\"type\":\"scattermapbox\",\"marker\":{\"colorbar\":{\"outlinewidth\":0,\"ticks\":\"\"}}}],\"scatterternary\":[{\"type\":\"scatterternary\",\"marker\":{\"colorbar\":{\"outlinewidth\":0,\"ticks\":\"\"}}}],\"scattercarpet\":[{\"type\":\"scattercarpet\",\"marker\":{\"colorbar\":{\"outlinewidth\":0,\"ticks\":\"\"}}}],\"carpet\":[{\"aaxis\":{\"endlinecolor\":\"#2a3f5f\",\"gridcolor\":\"white\",\"linecolor\":\"white\",\"minorgridcolor\":\"white\",\"startlinecolor\":\"#2a3f5f\"},\"baxis\":{\"endlinecolor\":\"#2a3f5f\",\"gridcolor\":\"white\",\"linecolor\":\"white\",\"minorgridcolor\":\"white\",\"startlinecolor\":\"#2a3f5f\"},\"type\":\"carpet\"}],\"table\":[{\"cells\":{\"fill\":{\"color\":\"#EBF0F8\"},\"line\":{\"color\":\"white\"}},\"header\":{\"fill\":{\"color\":\"#C8D4E3\"},\"line\":{\"color\":\"white\"}},\"type\":\"table\"}],\"barpolar\":[{\"marker\":{\"line\":{\"color\":\"#E5ECF6\",\"width\":0.5},\"pattern\":{\"fillmode\":\"overlay\",\"size\":10,\"solidity\":0.2}},\"type\":\"barpolar\"}],\"pie\":[{\"automargin\":true,\"type\":\"pie\"}]},\"layout\":{\"autotypenumbers\":\"strict\",\"colorway\":[\"#636efa\",\"#EF553B\",\"#00cc96\",\"#ab63fa\",\"#FFA15A\",\"#19d3f3\",\"#FF6692\",\"#B6E880\",\"#FF97FF\",\"#FECB52\"],\"font\":{\"color\":\"#2a3f5f\"},\"hovermode\":\"closest\",\"hoverlabel\":{\"align\":\"left\"},\"paper_bgcolor\":\"white\",\"plot_bgcolor\":\"#E5ECF6\",\"polar\":{\"bgcolor\":\"#E5ECF6\",\"angularaxis\":{\"gridcolor\":\"white\",\"linecolor\":\"white\",\"ticks\":\"\"},\"radialaxis\":{\"gridcolor\":\"white\",\"linecolor\":\"white\",\"ticks\":\"\"}},\"ternary\":{\"bgcolor\":\"#E5ECF6\",\"aaxis\":{\"gridcolor\":\"white\",\"linecolor\":\"white\",\"ticks\":\"\"},\"baxis\":{\"gridcolor\":\"white\",\"linecolor\":\"white\",\"ticks\":\"\"},\"caxis\":{\"gridcolor\":\"white\",\"linecolor\":\"white\",\"ticks\":\"\"}},\"coloraxis\":{\"colorbar\":{\"outlinewidth\":0,\"ticks\":\"\"}},\"colorscale\":{\"sequential\":[[0.0,\"#0d0887\"],[0.1111111111111111,\"#46039f\"],[0.2222222222222222,\"#7201a8\"],[0.3333333333333333,\"#9c179e\"],[0.4444444444444444,\"#bd3786\"],[0.5555555555555556,\"#d8576b\"],[0.6666666666666666,\"#ed7953\"],[0.7777777777777778,\"#fb9f3a\"],[0.8888888888888888,\"#fdca26\"],[1.0,\"#f0f921\"]],\"sequentialminus\":[[0.0,\"#0d0887\"],[0.1111111111111111,\"#46039f\"],[0.2222222222222222,\"#7201a8\"],[0.3333333333333333,\"#9c179e\"],[0.4444444444444444,\"#bd3786\"],[0.5555555555555556,\"#d8576b\"],[0.6666666666666666,\"#ed7953\"],[0.7777777777777778,\"#fb9f3a\"],[0.8888888888888888,\"#fdca26\"],[1.0,\"#f0f921\"]],\"diverging\":[[0,\"#8e0152\"],[0.1,\"#c51b7d\"],[0.2,\"#de77ae\"],[0.3,\"#f1b6da\"],[0.4,\"#fde0ef\"],[0.5,\"#f7f7f7\"],[0.6,\"#e6f5d0\"],[0.7,\"#b8e186\"],[0.8,\"#7fbc41\"],[0.9,\"#4d9221\"],[1,\"#276419\"]]},\"xaxis\":{\"gridcolor\":\"white\",\"linecolor\":\"white\",\"ticks\":\"\",\"title\":{\"standoff\":15},\"zerolinecolor\":\"white\",\"automargin\":true,\"zerolinewidth\":2},\"yaxis\":{\"gridcolor\":\"white\",\"linecolor\":\"white\",\"ticks\":\"\",\"title\":{\"standoff\":15},\"zerolinecolor\":\"white\",\"automargin\":true,\"zerolinewidth\":2},\"scene\":{\"xaxis\":{\"backgroundcolor\":\"#E5ECF6\",\"gridcolor\":\"white\",\"linecolor\":\"white\",\"showbackground\":true,\"ticks\":\"\",\"zerolinecolor\":\"white\",\"gridwidth\":2},\"yaxis\":{\"backgroundcolor\":\"#E5ECF6\",\"gridcolor\":\"white\",\"linecolor\":\"white\",\"showbackground\":true,\"ticks\":\"\",\"zerolinecolor\":\"white\",\"gridwidth\":2},\"zaxis\":{\"backgroundcolor\":\"#E5ECF6\",\"gridcolor\":\"white\",\"linecolor\":\"white\",\"showbackground\":true,\"ticks\":\"\",\"zerolinecolor\":\"white\",\"gridwidth\":2}},\"shapedefaults\":{\"line\":{\"color\":\"#2a3f5f\"}},\"annotationdefaults\":{\"arrowcolor\":\"#2a3f5f\",\"arrowhead\":0,\"arrowwidth\":1},\"geo\":{\"bgcolor\":\"white\",\"landcolor\":\"#E5ECF6\",\"subunitcolor\":\"white\",\"showland\":true,\"showlakes\":true,\"lakecolor\":\"white\"},\"title\":{\"x\":0.05},\"mapbox\":{\"style\":\"light\"}}},\"annotations\":[{\"font\":{\"size\":18},\"showarrow\":false,\"text\":\"1\",\"x\":0.07333333333333333,\"xanchor\":\"center\",\"xref\":\"paper\",\"y\":1.05,\"yanchor\":\"bottom\",\"yref\":\"paper\"},{\"font\":{\"size\":18},\"showarrow\":false,\"text\":\"2\",\"x\":0.24,\"xanchor\":\"center\",\"xref\":\"paper\",\"y\":1.05,\"yanchor\":\"bottom\",\"yref\":\"paper\"},{\"font\":{\"size\":18},\"showarrow\":false,\"text\":\"3\",\"x\":0.4066666666666666,\"xanchor\":\"center\",\"xref\":\"paper\",\"y\":1.05,\"yanchor\":\"bottom\",\"yref\":\"paper\"},{\"font\":{\"size\":18},\"showarrow\":false,\"text\":\"4\",\"x\":0.5733333333333334,\"xanchor\":\"center\",\"xref\":\"paper\",\"y\":1.05,\"yanchor\":\"bottom\",\"yref\":\"paper\"},{\"font\":{\"size\":18},\"showarrow\":false,\"text\":\"5\",\"x\":0.74,\"xanchor\":\"center\",\"xref\":\"paper\",\"y\":1.05,\"yanchor\":\"bottom\",\"yref\":\"paper\"},{\"font\":{\"size\":18},\"showarrow\":false,\"text\":\"TOTAL\",\"x\":0.9066666666666667,\"xanchor\":\"center\",\"xref\":\"paper\",\"y\":1.05,\"yanchor\":\"bottom\",\"yref\":\"paper\"},{\"font\":{\"size\":18},\"showarrow\":false,\"text\":\"SNP/INDEL\",\"textangle\":90,\"x\":0.98,\"xanchor\":\"left\",\"xref\":\"paper\",\"y\":0.1433333333333333,\"yanchor\":\"middle\",\"yref\":\"paper\"},{\"font\":{\"size\":18},\"showarrow\":false,\"text\":\"Non/Syn\",\"textangle\":90,\"x\":0.98,\"xanchor\":\"left\",\"xref\":\"paper\",\"y\":0.5,\"yanchor\":\"middle\",\"yref\":\"paper\"},{\"font\":{\"size\":18},\"showarrow\":false,\"text\":\"Non/Coding\",\"textangle\":90,\"x\":0.98,\"xanchor\":\"left\",\"xref\":\"paper\",\"y\":0.8566666666666666,\"yanchor\":\"middle\",\"yref\":\"paper\"}],\"legend\":{\"tracegroupgap\":0},\"margin\":{\"t\":60},\"height\":500},                        {\"responsive\": true}                    ).then(function(){\n",
       "                            \n",
       "var gd = document.getElementById('6b238dc2-39ee-4bc0-b139-ef3cb2d66ce8');\n",
       "var x = new MutationObserver(function (mutations, observer) {{\n",
       "        var display = window.getComputedStyle(gd).display;\n",
       "        if (!display || display === 'none') {{\n",
       "            console.log([gd, 'removed!']);\n",
       "            Plotly.purge(gd);\n",
       "            observer.disconnect();\n",
       "        }}\n",
       "}});\n",
       "\n",
       "// Listen for the removal of the full notebook cells\n",
       "var notebookContainer = gd.closest('#notebook-container');\n",
       "if (notebookContainer) {{\n",
       "    x.observe(notebookContainer, {childList: true});\n",
       "}}\n",
       "\n",
       "// Listen for the clearing of the current output cell\n",
       "var outputEl = gd.closest('.output');\n",
       "if (outputEl) {{\n",
       "    x.observe(outputEl, {childList: true});\n",
       "}}\n",
       "\n",
       "                        })                };                });            </script>        </div>"
      ]
     },
     "metadata": {},
     "output_type": "display_data"
    }
   ],
   "source": [
    "fig = px.pie(mut_counts_df, names='annotation', values='count', facet_col='Cluster_Assignment', facet_row='type', height=500, facet_row_spacing=0.07)\n",
    "fig.for_each_annotation(lambda a: a.update(text=a.text.replace(\"Cluster_Assignment=\", \"\"), y=1.05), selector={'xanchor': 'center'})\n",
    "fig.for_each_annotation(lambda a: a.update(text=a.text.replace(\"type=\", \"\")))\n",
    "fig.for_each_annotation(lambda a: a.update(font_size=18))\n",
    "fig.update_traces(textinfo='value')"
   ]
  },
  {
   "cell_type": "code",
   "execution_count": 54,
   "id": "916e0bb1-781e-4314-a3e2-a27355a9a6b4",
   "metadata": {
    "pycharm": {
     "name": "#%%\n"
    }
   },
   "outputs": [
    {
     "data": {
      "text/html": [
       "<div>\n",
       "<style scoped>\n",
       "    .dataframe tbody tr th:only-of-type {\n",
       "        vertical-align: middle;\n",
       "    }\n",
       "\n",
       "    .dataframe tbody tr th {\n",
       "        vertical-align: top;\n",
       "    }\n",
       "\n",
       "    .dataframe thead th {\n",
       "        text-align: right;\n",
       "    }\n",
       "</style>\n",
       "<table border=\"1\" class=\"dataframe\">\n",
       "  <thead>\n",
       "    <tr style=\"text-align: right;\">\n",
       "      <th></th>\n",
       "      <th>non-coding</th>\n",
       "      <th>non-synonymous</th>\n",
       "      <th>synonymous</th>\n",
       "      <th>coding</th>\n",
       "      <th>INDEL</th>\n",
       "      <th>SNP</th>\n",
       "    </tr>\n",
       "    <tr>\n",
       "      <th>Cluster_Assignment</th>\n",
       "      <th></th>\n",
       "      <th></th>\n",
       "      <th></th>\n",
       "      <th></th>\n",
       "      <th></th>\n",
       "      <th></th>\n",
       "    </tr>\n",
       "  </thead>\n",
       "  <tbody>\n",
       "    <tr>\n",
       "      <th>1</th>\n",
       "      <td>0</td>\n",
       "      <td>18</td>\n",
       "      <td>10</td>\n",
       "      <td>28</td>\n",
       "      <td>0</td>\n",
       "      <td>28</td>\n",
       "    </tr>\n",
       "    <tr>\n",
       "      <th>2</th>\n",
       "      <td>1</td>\n",
       "      <td>5</td>\n",
       "      <td>0</td>\n",
       "      <td>5</td>\n",
       "      <td>0</td>\n",
       "      <td>6</td>\n",
       "    </tr>\n",
       "    <tr>\n",
       "      <th>3</th>\n",
       "      <td>3</td>\n",
       "      <td>17</td>\n",
       "      <td>7</td>\n",
       "      <td>24</td>\n",
       "      <td>0</td>\n",
       "      <td>27</td>\n",
       "    </tr>\n",
       "    <tr>\n",
       "      <th>4</th>\n",
       "      <td>0</td>\n",
       "      <td>7</td>\n",
       "      <td>5</td>\n",
       "      <td>12</td>\n",
       "      <td>1</td>\n",
       "      <td>11</td>\n",
       "    </tr>\n",
       "    <tr>\n",
       "      <th>5</th>\n",
       "      <td>1</td>\n",
       "      <td>17</td>\n",
       "      <td>14</td>\n",
       "      <td>31</td>\n",
       "      <td>0</td>\n",
       "      <td>32</td>\n",
       "    </tr>\n",
       "  </tbody>\n",
       "</table>\n",
       "</div>"
      ],
      "text/plain": [
       "                    non-coding  non-synonymous  synonymous  coding  INDEL  SNP\n",
       "Cluster_Assignment                                                            \n",
       "1                            0              18          10      28      0   28\n",
       "2                            1               5           0       5      0    6\n",
       "3                            3              17           7      24      0   27\n",
       "4                            0               7           5      12      1   11\n",
       "5                            1              17          14      31      0   32"
      ]
     },
     "execution_count": 54,
     "metadata": {},
     "output_type": "execute_result"
    }
   ],
   "source": [
    "mut_counts_df"
   ]
  },
  {
   "cell_type": "code",
   "execution_count": 61,
   "id": "35a75f29-8c6f-4be5-b990-4c17c073fbca",
   "metadata": {
    "pycharm": {
     "name": "#%%\n"
    }
   },
   "outputs": [
    {
     "data": {
      "text/plain": [
       "4"
      ]
     },
     "execution_count": 61,
     "metadata": {},
     "output_type": "execute_result"
    }
   ],
   "source": [
    "mut_counts_df['non-coding'].drop(5).sum()"
   ]
  },
  {
   "cell_type": "code",
   "execution_count": 66,
   "id": "68247f0c-b743-49c9-bbb7-5422854e9f5a",
   "metadata": {
    "pycharm": {
     "name": "#%%\n"
    }
   },
   "outputs": [],
   "source": [
    "df = pd.DataFrame()\n",
    "for col1, col2 in zip(['non-coding', 'synonymous', 'INDEL'], ['coding', 'non-synonymous','SNP']):\n",
    "    for idx in mut_counts_df.index:\n",
    "        df.loc[idx, col2] = get_fisher_exact(mut_counts_df, idx, col1, col2)"
   ]
  },
  {
   "cell_type": "code",
   "execution_count": 65,
   "id": "7af1ef71-0ba3-4448-94f3-6d1e766524a0",
   "metadata": {
    "pycharm": {
     "name": "#%%\n"
    }
   },
   "outputs": [],
   "source": [
    "import scipy.stats as ss\n",
    "def get_fisher_exact(df, idx, col1, col2):\n",
    "    odds_ratio, p_val = ss.fisher_exact([[df.loc[idx, col1], df[col1].drop(idx).sum()],\n",
    "                                         [df.loc[idx, col2], df[col2].drop(idx).sum()]])\n",
    "    return p_val"
   ]
  },
  {
   "cell_type": "code",
   "execution_count": 67,
   "id": "91a4b66d-ebf3-44a0-affb-dd61673f00b7",
   "metadata": {
    "pycharm": {
     "name": "#%%\n"
    }
   },
   "outputs": [
    {
     "data": {
      "text/html": [
       "<div>\n",
       "<style scoped>\n",
       "    .dataframe tbody tr th:only-of-type {\n",
       "        vertical-align: middle;\n",
       "    }\n",
       "\n",
       "    .dataframe tbody tr th {\n",
       "        vertical-align: top;\n",
       "    }\n",
       "\n",
       "    .dataframe thead th {\n",
       "        text-align: right;\n",
       "    }\n",
       "</style>\n",
       "<table border=\"1\" class=\"dataframe\">\n",
       "  <thead>\n",
       "    <tr style=\"text-align: right;\">\n",
       "      <th></th>\n",
       "      <th>coding</th>\n",
       "      <th>non-synonymous</th>\n",
       "      <th>SNP</th>\n",
       "    </tr>\n",
       "  </thead>\n",
       "  <tbody>\n",
       "    <tr>\n",
       "      <th>1</th>\n",
       "      <td>0.321231</td>\n",
       "      <td>1.000000</td>\n",
       "      <td>1.000000</td>\n",
       "    </tr>\n",
       "    <tr>\n",
       "      <th>2</th>\n",
       "      <td>0.259293</td>\n",
       "      <td>0.156353</td>\n",
       "      <td>1.000000</td>\n",
       "    </tr>\n",
       "    <tr>\n",
       "      <th>3</th>\n",
       "      <td>0.105979</td>\n",
       "      <td>0.473966</td>\n",
       "      <td>1.000000</td>\n",
       "    </tr>\n",
       "    <tr>\n",
       "      <th>4</th>\n",
       "      <td>1.000000</td>\n",
       "      <td>0.751792</td>\n",
       "      <td>0.114286</td>\n",
       "    </tr>\n",
       "    <tr>\n",
       "      <th>5</th>\n",
       "      <td>1.000000</td>\n",
       "      <td>0.260635</td>\n",
       "      <td>1.000000</td>\n",
       "    </tr>\n",
       "  </tbody>\n",
       "</table>\n",
       "</div>"
      ],
      "text/plain": [
       "     coding  non-synonymous       SNP\n",
       "1  0.321231        1.000000  1.000000\n",
       "2  0.259293        0.156353  1.000000\n",
       "3  0.105979        0.473966  1.000000\n",
       "4  1.000000        0.751792  0.114286\n",
       "5  1.000000        0.260635  1.000000"
      ]
     },
     "execution_count": 67,
     "metadata": {},
     "output_type": "execute_result"
    }
   ],
   "source": [
    "df"
   ]
  },
  {
   "cell_type": "code",
   "execution_count": 71,
   "id": "fc341b1b-54f8-4352-ab5a-6967c86418dc",
   "metadata": {
    "pycharm": {
     "name": "#%%\n"
    }
   },
   "outputs": [],
   "source": [
    "test = (df < 0.15).any(axis=1)\n"
   ]
  },
  {
   "cell_type": "code",
   "execution_count": null,
   "id": "86847847-6aad-4cfb-9bed-e84ae3c8a858",
   "metadata": {
    "pycharm": {
     "name": "#%%\n"
    }
   },
   "outputs": [],
   "source": []
  }
 ],
 "metadata": {
  "kernelspec": {
   "display_name": "Python 3 (ipykernel)",
   "language": "python",
   "name": "python3"
  },
  "language_info": {
   "codemirror_mode": {
    "name": "ipython",
    "version": 3
   },
   "file_extension": ".py",
   "mimetype": "text/x-python",
   "name": "python",
   "nbconvert_exporter": "python",
   "pygments_lexer": "ipython3",
   "version": "3.7.8"
  }
 },
 "nbformat": 4,
 "nbformat_minor": 5
}