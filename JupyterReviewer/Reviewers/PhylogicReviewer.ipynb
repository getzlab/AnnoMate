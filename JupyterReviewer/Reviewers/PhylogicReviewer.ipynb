{
 "cells": [
  {
   "cell_type": "markdown",
   "id": "47f81ac9",
   "metadata": {
    "pycharm": {
     "name": "#%% md\n"
    }
   },
   "source": [
    "# Phylogic Reviewer"
   ]
  },
  {
   "cell_type": "code",
   "execution_count": null,
   "id": "cd5a4c6f",
   "metadata": {
    "pycharm": {
     "is_executing": true,
     "name": "#%%\n"
    }
   },
   "outputs": [],
   "source": [
    "%load_ext autoreload\n",
    "%autoreload 2"
   ]
  },
  {
   "cell_type": "code",
   "execution_count": null,
   "id": "b4bb095f",
   "metadata": {
    "pycharm": {
     "name": "#%%\n"
    }
   },
   "outputs": [],
   "source": [
    "from JupyterReviewer.Reviewers.PhylogicReviewer import PhylogicReviewer\n",
    "\n",
    "import pandas as pd\n",
    "from dash import html\n",
    "import dalmatian"
   ]
  },
  {
   "cell_type": "markdown",
   "id": "1bd978bf",
   "metadata": {
    "pycharm": {
     "name": "#%% md\n"
    }
   },
   "source": [
    "## Edit the code below according to the commented directions"
   ]
  },
  {
   "cell_type": "code",
   "execution_count": null,
   "id": "6a91c004-1782-4ee6-b429-4d3b09f97701",
   "metadata": {},
   "outputs": [],
   "source": [
    "# tsv file with participant data/filepaths, with columns: [participant_id, maf_fn, cluster_ccfs_fn, build_tree_posterior_fn]\n",
    "participant_df = pd.read_csv('/Users/cmesser/Documents/Projects/ibm-gbm/results/2022-08-25_phylogic-review/participant_df.txt', sep='\\t', index_col='participant_id')\n",
    "# tsv file with sample data/filepaths, with columns: [sample_id, cnv_seg_fn, participant_id, collection_date_dfd, wxs_ploidy, wxs_purity]\n",
    "sample_df = pd.read_csv('/Users/cmesser/Documents/Projects/ibm-gbm/results/2022-08-25_phylogic-review/sample_df.txt', sep='\\t', index_col='sample_id')\n",
    "\n",
    "# Enter the directory to store pre-processed files\n",
    "preprocess_data_dir='./path/to/storage/dir'\n"
   ]
  },
  {
   "cell_type": "code",
   "execution_count": null,
   "id": "32754707",
   "metadata": {
    "collapsed": false,
    "jupyter": {
     "outputs_hidden": false
    },
    "pycharm": {
     "name": "#%%\n"
    }
   },
   "outputs": [],
   "source": [
    "reviewer = PhylogicReviewer()\n",
    "\n",
    "reviewer.set_review_data(\n",
    "    # Enter the file path where you would like your pkl file of your review data to be stored\n",
    "    data_pkl_fn='./path/to/file/phylogic_review.pkl',\n",
    "    # Breifly describe the source of your data and its purpose\n",
    "    description='Phylogic review',\n",
    "    # Reference dataframes and directory from above\n",
    "    participant_df=participant_df,\n",
    "    sample_df=sample_df,\n",
    "    preprocess_data_dir=preprocess_data_dir,\n",
    "    # Set false if pre-processed data already generated and paths stored in dfs\n",
    "    load_figs_mafs=True\n",
    ")\n",
    "\n",
    "# Enter optional driver genes file path (text file with Hugo Symbols in one column)\n",
    "reviewer.set_review_app(preprocess_data_dir=preprocess_data_dir, drivers_fn='./path/to/file/driver_genes.txt')\n",
    "reviewer.set_default_review_data_annotations_configuration()"
   ]
  },
  {
   "cell_type": "markdown",
   "id": "83557db5",
   "metadata": {
    "pycharm": {
     "name": "#%% md\n"
    }
   },
   "source": [
    "## Run"
   ]
  },
  {
   "cell_type": "code",
   "execution_count": null,
   "id": "5a5717a7",
   "metadata": {
    "pycharm": {
     "name": "#%%\n"
    },
    "tags": []
   },
   "outputs": [],
   "source": [
    "reviewer.run(mode='external', port=8088)"
   ]
  },
  {
   "cell_type": "code",
   "execution_count": null,
   "id": "29b70205-f167-4129-89bd-545dd2efce60",
   "metadata": {},
   "outputs": [],
   "source": []
  }
 ],
 "metadata": {
  "kernelspec": {
   "display_name": "Python 3 (ipykernel)",
   "language": "python",
   "name": "python3"
  },
  "language_info": {
   "codemirror_mode": {
    "name": "ipython",
    "version": 3
   },
   "file_extension": ".py",
   "mimetype": "text/x-python",
   "name": "python",
   "nbconvert_exporter": "python",
   "pygments_lexer": "ipython3",
   "version": "3.7.8"
  }
 },
 "nbformat": 4,
 "nbformat_minor": 5
}
