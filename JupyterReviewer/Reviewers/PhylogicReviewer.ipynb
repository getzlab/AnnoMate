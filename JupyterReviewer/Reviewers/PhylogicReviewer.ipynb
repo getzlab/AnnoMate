{
 "cells": [
  {
   "cell_type": "markdown",
   "id": "47f81ac9",
   "metadata": {
    "pycharm": {
     "name": "#%% md\n"
    }
   },
   "source": [
    "# Phylogic Reviewer"
   ]
  },
  {
   "cell_type": "code",
   "execution_count": 18,
   "id": "cd5a4c6f",
   "metadata": {
    "pycharm": {
     "is_executing": true,
     "name": "#%%\n"
    }
   },
   "outputs": [
    {
     "name": "stdout",
     "output_type": "stream",
     "text": [
      "The autoreload extension is already loaded. To reload it, use:\n",
      "  %reload_ext autoreload\n"
     ]
    }
   ],
   "source": [
    "%load_ext autoreload\n",
    "%autoreload 2"
   ]
  },
  {
   "cell_type": "code",
   "execution_count": 19,
   "id": "b4bb095f",
   "metadata": {
    "pycharm": {
     "name": "#%%\n"
    }
   },
   "outputs": [],
   "source": [
    "from JupyterReviewer.Reviewers.PhylogicReviewer import PhylogicReviewer\n",
    "\n",
    "import pandas as pd\n",
    "from dash import html\n",
    "import dalmatian"
   ]
  },
  {
   "cell_type": "markdown",
   "id": "1bd978bf",
   "metadata": {
    "pycharm": {
     "name": "#%% md\n"
    }
   },
   "source": [
    "## Edit the code below according to the commented directions"
   ]
  },
  {
   "cell_type": "code",
   "execution_count": 20,
   "id": "6a91c004-1782-4ee6-b429-4d3b09f97701",
   "metadata": {},
   "outputs": [],
   "source": [
    "participant_df = pd.read_csv('/Users/cmesser/Documents/Projects/ibm-gbm/results/2022-08-25_phylogic-review/participant_df.txt', sep='\\t', index_col='participant_id')\n",
    "sample_df = pd.read_csv('/Users/cmesser/Documents/Projects/ibm-gbm/results/2022-08-25_phylogic-review/sample_df.txt', sep='\\t', index_col='sample_id')\n",
    "preprocess_data_dir='../../../../../Documents/Projects/ibm-gbm/results/2022-08-25_phylogic-review/preprocess_data'\n"
   ]
  },
  {
   "cell_type": "code",
   "execution_count": 102,
   "id": "32754707",
   "metadata": {
    "collapsed": false,
    "jupyter": {
     "outputs_hidden": false
    },
    "pycharm": {
     "name": "#%%\n"
    }
   },
   "outputs": [
    {
     "name": "stdout",
     "output_type": "stream",
     "text": [
      "cnv figs directory already exists: ../../../../../Documents/Projects/ibm-gbm/results/2022-08-25_phylogic-review/preprocess_data/cnv_figs\n",
      "Maf directory already exists: ../../../../../Documents/Projects/ibm-gbm/results/2022-08-25_phylogic-review/preprocess_data/maf_df\n"
     ]
    },
    {
     "name": "stderr",
     "output_type": "stream",
     "text": [
      "/Users/cmesser/PycharmProjects/reviewer_tools/JupyterReviewer/JupyterReviewer/ReviewData.py:38: UserWarning:\n",
      "\n",
      "Loading existing data pkl file\n",
      "\n"
     ]
    }
   ],
   "source": [
    "reviewer = PhylogicReviewer()\n",
    "\n",
    "reviewer.set_review_data(\n",
    "    # Enter the file path where you would like your pkl file of your review data to be stored\n",
    "    data_pkl_fn='../../../../../Documents/Projects/ibm-gbm/results/2022-08-25_phylogic-review/phylogic_review_demo.pkl',\n",
    "    # Breifly describe the source of your data and its purpose\n",
    "    description='Phylogic review demo',\n",
    "    # Enter the file path to your data to be reviewed\n",
    "    participant_df=participant_df,\n",
    "    sample_df=sample_df,\n",
    "    preprocess_data_dir=preprocess_data_dir,\n",
    "    load_figs_mafs=False\n",
    ")\n",
    "\n",
    "reviewer.set_review_app(preprocess_data_dir=preprocess_data_dir, drivers_fn='../../../../../Documents/Projects/ibm-gbm/data/2022-01-18_driver-genes/gbm_drivers_sigPortal_and_bryanICB.txt')\n",
    "reviewer.set_default_review_data_annotations_configuration()"
   ]
  },
  {
   "cell_type": "code",
   "execution_count": 39,
   "id": "164845f1-5f34-4c64-925c-9d1ef1554ad5",
   "metadata": {},
   "outputs": [],
   "source": [
    "# Only needed to pull existing pkl paths (for maf/seg files) from pickle file. Should implement file getter for when load_figs_mafs=False\n",
    "participant_df = reviewer.review_data.data.participant_df.copy()\n",
    "sample_df = reviewer.review_data.data.sample_df.copy()"
   ]
  },
  {
   "cell_type": "markdown",
   "id": "83557db5",
   "metadata": {
    "pycharm": {
     "name": "#%% md\n"
    }
   },
   "source": [
    "## Run"
   ]
  },
  {
   "cell_type": "code",
   "execution_count": 105,
   "id": "5a5717a7",
   "metadata": {
    "pycharm": {
     "name": "#%%\n"
    },
    "tags": []
   },
   "outputs": [
    {
     "name": "stdout",
     "output_type": "stream",
     "text": [
      "Dash app running on http://0.0.0.0:8088/\n"
     ]
    }
   ],
   "source": [
    "reviewer.run(mode='external', port=8088)"
   ]
  },
  {
   "cell_type": "code",
   "execution_count": null,
   "id": "e9953825-ab24-45ed-8e94-ec574a8d65a0",
   "metadata": {},
   "outputs": [],
   "source": []
  }
 ],
 "metadata": {
  "kernelspec": {
   "display_name": "Python 3 (ipykernel)",
   "language": "python",
   "name": "python3"
  },
  "language_info": {
   "codemirror_mode": {
    "name": "ipython",
    "version": 3
   },
   "file_extension": ".py",
   "mimetype": "text/x-python",
   "name": "python",
   "nbconvert_exporter": "python",
   "pygments_lexer": "ipython3",
   "version": "3.7.8"
  }
 },
 "nbformat": 4,
 "nbformat_minor": 5
}
