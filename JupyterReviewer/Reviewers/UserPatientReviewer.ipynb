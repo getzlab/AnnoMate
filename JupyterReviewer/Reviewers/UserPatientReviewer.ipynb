{
 "cells": [
  {
   "cell_type": "markdown",
   "id": "47f81ac9",
   "metadata": {},
   "source": [
    "# Patient Reviewer"
   ]
  },
  {
   "cell_type": "code",
   "execution_count": 1,
   "id": "cd5a4c6f",
   "metadata": {},
   "outputs": [],
   "source": [
    "%load_ext autoreload\n",
    "%autoreload 2"
   ]
  },
  {
   "cell_type": "code",
   "execution_count": 2,
   "id": "b4bb095f",
   "metadata": {},
   "outputs": [],
   "source": [
    "from JupyterReviewer.Reviewers.PatientReviewer import PatientReviewer\n",
    "from JupyterReviewer.Reviewers.PatientReviewer import collect_data\n",
    "from JupyterReviewer.Data import DataAnnotation\n",
    "from JupyterReviewer.ReviewDataApp import AppComponent\n",
    "from JupyterReviewer.DataTypes.PatientSampleData import PatientSampleData\n",
    "\n",
    "import pandas as pd\n",
    "from dash import html\n",
    "import numpy as np\n",
    "from dash import dcc\n",
    "import plotly.express as px\n",
    "from dash.dependencies import Input, Output, State"
   ]
  },
  {
   "cell_type": "markdown",
   "id": "1bd978bf",
   "metadata": {},
   "source": [
    "## Edit the code below according to the commented directions"
   ]
  },
  {
   "cell_type": "markdown",
   "id": "75bd47db",
   "metadata": {},
   "source": [
    "### Generate a participant and a sample file"
   ]
  },
  {
   "cell_type": "code",
   "execution_count": 3,
   "id": "b9ce8e67",
   "metadata": {
    "scrolled": true
   },
   "outputs": [
    {
     "name": "stderr",
     "output_type": "stream",
     "text": [
      "/Users/svanseters/Broad/JupyterReviewer/reviewEnv/lib/python3.9/site-packages/google/auth/_default.py:79: UserWarning: Your application has authenticated using end user credentials from Google Cloud SDK without a quota project. You might receive a \"quota exceeded\" or \"API not enabled\" error. We recommend you rerun `gcloud auth application-default login` and make sure a quota project is added. Or you can use service accounts instead. For more information about service accounts, see https://cloud.google.com/docs/authentication/\n",
      "  warnings.warn(_CLOUD_SDK_CREDENTIALS_WARNING)\n"
     ]
    }
   ],
   "source": [
    "samples_df, participants_df = collect_data(\n",
    "    '../../example_notebooks/example_data/example_patient_reviewer_paired_clean_input.yaml'\n",
    "    #'../../example_notebooks/example_data/example_patient_reviewer_input.yaml'\n",
    ")"
   ]
  },
  {
   "cell_type": "code",
   "execution_count": 58,
   "id": "6bb02877",
   "metadata": {},
   "outputs": [],
   "source": [
    "new_participants_df = participants_df[participants_df['participant_id'] == 'ONC7299'].reset_index(drop=True)"
   ]
  },
  {
   "cell_type": "code",
   "execution_count": 4,
   "id": "1485a5bd",
   "metadata": {},
   "outputs": [],
   "source": [
    "new_samples_df = samples_df[samples_df['participant_id'] == 'ONC7299']"
   ]
  },
  {
   "cell_type": "markdown",
   "id": "b1ee277e",
   "metadata": {},
   "source": [
    "### Create patient reviewer object"
   ]
  },
  {
   "cell_type": "code",
   "execution_count": 65,
   "id": "e496d5e4",
   "metadata": {},
   "outputs": [
    {
     "name": "stdout",
     "output_type": "stream",
     "text": [
      "cnv figs directory already exists: ../../example_notebooks/example_data/preprocess_data/cnv_figs\n",
      "Maf directory already exists: ../../example_notebooks/example_data/preprocess_data/maf_df\n"
     ]
    },
    {
     "name": "stderr",
     "output_type": "stream",
     "text": [
      "/Users/svanseters/Broad/JupyterReviewer/JupyterReviewer/AppComponents/CNVPlotComponent.py:189: FutureWarning:\n",
      "\n",
      "The default dtype for empty Series will be 'object' instead of 'float64' in a future version. Specify a dtype explicitly to silence this warning.\n",
      "\n"
     ]
    }
   ],
   "source": [
    "reviewer = PatientReviewer()\n",
    "reviewer.set_review_data(\n",
    "    # Enter the file path where you would like your pkl file of your review data to be stored\n",
    "    data_pkl_fn='../../PatientReviewer.pkl',\n",
    "    # Breifly describe the source of your data and its purpose\n",
    "    description='first review',\n",
    "    # Enter the file path to your data to be reviewed\n",
    "    participant_df=new_participants_df.set_index('participant_id'),\n",
    "    sample_df=new_samples_df.set_index('sample_id'),\n",
    "    preprocess_data_dir = '../../example_notebooks/example_data/preprocess_data'\n",
    ")\n",
    "\n",
    "reviewer.set_review_app(preprocess_data_dir = '../../example_notebooks/example_data/preprocess_data', drivers_fn='../../example_notebooks/example_data/drivers.csv')\n",
    "reviewer.set_default_review_data_annotations_configuration()\n",
    "reviewer.set_default_autofill()\n"
   ]
  },
  {
   "cell_type": "markdown",
   "id": "4e6091be",
   "metadata": {},
   "source": [
    "### Pass custom column color assignments into the review app with the following syntax:"
   ]
  },
  {
   "cell_type": "code",
   "execution_count": 8,
   "id": "119080a6",
   "metadata": {},
   "outputs": [],
   "source": [
    "# reviewer.set_review_app(custom_colors=[\n",
    "#     [column_id_1, filter_query_1, text_color_1, background_color_1], \n",
    "#     [<same for all additional columns/queries>]\n",
    "# ])\n",
    "\n",
    "#Example (comment out reviewer.set_review_app() above and uncomment below to try):\n",
    "\n",
    "# reviewer.set_review_app(\n",
    "#     preprocess_data_dir = '../../example_notebooks/example_data/preprocess_data', \n",
    "#     drivers_fn='../../example_notebooks/example_data/drivers.csv',\n",
    "#     custom_colors=[\n",
    "#     ['Variant_Classification', 'Silent', 'Black', 'LightBlue'], \n",
    "#     ['Variant_Classification', 'Missense_Mutation', 'White', 'Indigo']\n",
    "# ])"
   ]
  },
  {
   "cell_type": "markdown",
   "id": "b8e5688a",
   "metadata": {},
   "source": [
    "### Add your own components below "
   ]
  },
  {
   "cell_type": "code",
   "execution_count": 10,
   "id": "df4ef73d",
   "metadata": {},
   "outputs": [],
   "source": [
    "# reviewer.app.add_component(AppComponent('component name', layout))\n",
    "\n",
    "# Example, uncomment to try:\n",
    "\n",
    "# def gen_vaf_plot(data: PatientSampleData, idx):\n",
    "#     df = pd.read_csv(data.participant_df.loc[idx, 'maf_fn'], sep='\\t')\n",
    "#     return [px.histogram(\n",
    "#         df,\n",
    "#         x='Hugo_Symbol',\n",
    "#         y=df['t_alt_count'] / (df['t_alt_count'] + df['t_ref_count']) \n",
    "#     )]\n",
    "\n",
    "# reviewer.app.add_component(AppComponent(\n",
    "#     'Variant Allele Fraction',\n",
    "#     html.Div([dcc.Graph(id='vaf-plot')]),\n",
    "#     callback_output=[Output('vaf-plot', 'figure')],\n",
    "#     new_data_callback=gen_vaf_plot\n",
    "# ))\n"
   ]
  },
  {
   "cell_type": "markdown",
   "id": "a77a6b12",
   "metadata": {},
   "source": [
    "### Add your own annotations below"
   ]
  },
  {
   "cell_type": "code",
   "execution_count": 13,
   "id": "f6e4e9a6",
   "metadata": {},
   "outputs": [],
   "source": [
    "# reviewer.app.add_review_data_annotation('annot name', ReviewDataAnnotation())\n",
    "\n",
    "# Example, uncomment to try:\n",
    "\n",
    "# reviewer.add_review_data_annotation(\n",
    "#     'Whole Genome Doubling', \n",
    "#     DataAnnotation(\n",
    "#         'string',\n",
    "#         options=['Whole Genome Doubled?']\n",
    "#     )\n",
    "# )\n",
    "\n",
    "# reviewer.add_review_data_annotations_app_display('Whole Genome Doubling', 'checklist')"
   ]
  },
  {
   "cell_type": "markdown",
   "id": "040af090",
   "metadata": {},
   "source": [
    "## Run"
   ]
  },
  {
   "cell_type": "code",
   "execution_count": 66,
   "id": "ee299041",
   "metadata": {},
   "outputs": [
    {
     "name": "stdout",
     "output_type": "stream",
     "text": [
      "Dash app running on http://0.0.0.0:8089/\n"
     ]
    },
    {
     "name": "stderr",
     "output_type": "stream",
     "text": [
      "/Users/svanseters/Broad/JupyterReviewer/reviewEnv/lib/python3.9/site-packages/google/auth/_default.py:79: UserWarning:\n",
      "\n",
      "Your application has authenticated using end user credentials from Google Cloud SDK without a quota project. You might receive a \"quota exceeded\" or \"API not enabled\" error. We recommend you rerun `gcloud auth application-default login` and make sure a quota project is added. Or you can use service accounts instead. For more information about service accounts, see https://cloud.google.com/docs/authentication/\n",
      "\n",
      "/Users/svanseters/Broad/JupyterReviewer/reviewEnv/lib/python3.9/site-packages/google/auth/_default.py:79: UserWarning:\n",
      "\n",
      "Your application has authenticated using end user credentials from Google Cloud SDK without a quota project. You might receive a \"quota exceeded\" or \"API not enabled\" error. We recommend you rerun `gcloud auth application-default login` and make sure a quota project is added. Or you can use service accounts instead. For more information about service accounts, see https://cloud.google.com/docs/authentication/\n",
      "\n"
     ]
    }
   ],
   "source": [
    "reviewer.run(mode='external', port=8089)"
   ]
  },
  {
   "cell_type": "code",
   "execution_count": null,
   "id": "258f55d7",
   "metadata": {},
   "outputs": [],
   "source": []
  }
 ],
 "metadata": {
  "kernelspec": {
   "display_name": "Python 3 (ipykernel)",
   "language": "python",
   "name": "python3"
  },
  "language_info": {
   "codemirror_mode": {
    "name": "ipython",
    "version": 3
   },
   "file_extension": ".py",
   "mimetype": "text/x-python",
   "name": "python",
   "nbconvert_exporter": "python",
   "pygments_lexer": "ipython3",
   "version": "3.9.7"
  }
 },
 "nbformat": 4,
 "nbformat_minor": 5
}
