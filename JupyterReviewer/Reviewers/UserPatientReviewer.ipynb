{
 "cells": [
  {
   "cell_type": "markdown",
   "id": "47f81ac9",
   "metadata": {},
   "source": [
    "# Patient Reviewer"
   ]
  },
  {
   "cell_type": "code",
   "execution_count": 1,
   "id": "cd5a4c6f",
   "metadata": {},
   "outputs": [],
   "source": [
    "%load_ext autoreload\n",
    "%autoreload 2"
   ]
  },
  {
   "cell_type": "code",
   "execution_count": 2,
   "id": "b4bb095f",
   "metadata": {},
   "outputs": [],
   "source": [
    "from JupyterReviewer.Reviewers.PatientReviewer import PatientReviewer\n",
    "from JupyterReviewer.ReviewData import ReviewDataAnnotation\n",
    "from JupyterReviewer.ReviewDataApp import AppComponent\n",
    "\n",
    "import pandas as pd\n",
    "from dash import html"
   ]
  },
  {
   "cell_type": "markdown",
   "id": "1bd978bf",
   "metadata": {},
   "source": [
    "## Edit the code below according to the commented directions"
   ]
  },
  {
   "cell_type": "code",
   "execution_count": 17,
   "id": "e496d5e4",
   "metadata": {},
   "outputs": [
    {
     "name": "stdout",
     "output_type": "stream",
     "text": [
      "Loading existing review session /Users/svanseters/Broad/JupyterReviewer/Reviewer.pkl...\n"
     ]
    }
   ],
   "source": [
    "reviewer = PatientReviewer()\n",
    "\n",
    "reviewer.set_review_data(\n",
    "    # Enter the file path where you would like your pkl file of your review data to be stored\n",
    "    review_data_fn='/Users/svanseters/Broad/JupyterReviewer/Reviewer.pkl',\n",
    "    # Breifly describe the source of your data and its purpose\n",
    "    description='first review',\n",
    "    # Enter the file path to your data to be reviewed\n",
    "    df=pd.read_csv(f'/Users/svanseters/Broad/JupyterReviewer/example_notebooks/example_data/updated_test_data_for_reviewer.csv').set_index('participant_id'),\n",
    "    preprocess_data_dir = '/Users/svanseters/Broad/JupyterReviewer/preprocess_data',\n",
    "    samples_fn='/Users/svanseters/Broad/JupyterReviewer/samples.csv'\n",
    ")\n",
    "\n",
    "reviewer.set_review_app(biospecimens_fn='/Users/svanseters/Broad/JupyterReviewer/biospecimens.7oqli.tsv', samples_fn='/Users/svanseters/Broad/JupyterReviewer/samples.csv', preprocess_data_dir = '/Users/svanseters/Broad/JupyterReviewer/preprocess_data', drivers_fn='drivers.csv')\n"
   ]
  },
  {
   "cell_type": "markdown",
   "id": "4e6091be",
   "metadata": {},
   "source": [
    "### Pass custom column color assignments into the review app with the following syntax:"
   ]
  },
  {
   "cell_type": "code",
   "execution_count": 35,
   "id": "119080a6",
   "metadata": {},
   "outputs": [],
   "source": [
    "# reviewer.set_review_app(custom_colors=[\n",
    "#     [column_id_1, filter_query_1, text_color_1, background_color_1], \n",
    "#     [<same for all additional columns/queries>]\n",
    "# ])\n",
    "\n",
    "#Example (comment out reviewer.set_review_app() above and uncomment below to try):\n",
    "\n",
    "# reviewer.set_review_app(custom_colors=[\n",
    "#     ['Variant_Classification', 'Silent', 'Black', 'LightBlue'], \n",
    "#     ['Variant_Classification', 'Missense_Mutation', 'White', 'Indigo']\n",
    "# ])"
   ]
  },
  {
   "cell_type": "markdown",
   "id": "b8e5688a",
   "metadata": {},
   "source": [
    "### Add your own components below "
   ]
  },
  {
   "cell_type": "code",
   "execution_count": 7,
   "id": "df4ef73d",
   "metadata": {},
   "outputs": [],
   "source": [
    "# reviewer.app.add_component(AppComponent('component name', layout)))"
   ]
  },
  {
   "cell_type": "markdown",
   "id": "a77a6b12",
   "metadata": {},
   "source": [
    "### Add your own annotations below"
   ]
  },
  {
   "cell_type": "code",
   "execution_count": 8,
   "id": "f6e4e9a6",
   "metadata": {},
   "outputs": [],
   "source": [
    "# reviewer.review_data.add_annotation('annot name', ReviewDataAnnotation())"
   ]
  },
  {
   "cell_type": "markdown",
   "id": "040af090",
   "metadata": {},
   "source": [
    "## Run"
   ]
  },
  {
   "cell_type": "code",
   "execution_count": 18,
   "id": "ee299041",
   "metadata": {},
   "outputs": [
    {
     "name": "stdout",
     "output_type": "stream",
     "text": [
      "Dash app running on http://0.0.0.0:8086/\n"
     ]
    },
    {
     "name": "stderr",
     "output_type": "stream",
     "text": [
      "/Users/svanseters/Broad/JupyterReviewer/reviewEnv/lib/python3.9/site-packages/google/auth/_default.py:79: UserWarning:\n",
      "\n",
      "Your application has authenticated using end user credentials from Google Cloud SDK without a quota project. You might receive a \"quota exceeded\" or \"API not enabled\" error. We recommend you rerun `gcloud auth application-default login` and make sure a quota project is added. Or you can use service accounts instead. For more information about service accounts, see https://cloud.google.com/docs/authentication/\n",
      "\n",
      "/Users/svanseters/Broad/JupyterReviewer/JupyterReviewer/AppComponents/CNVPlotComponent.py:261: SettingWithCopyWarning:\n",
      "\n",
      "\n",
      "A value is trying to be set on a copy of a slice from a DataFrame.\n",
      "Try using .loc[row_indexer,col_indexer] = value instead\n",
      "\n",
      "See the caveats in the documentation: https://pandas.pydata.org/pandas-docs/stable/user_guide/indexing.html#returning-a-view-versus-a-copy\n",
      "\n",
      "/Users/svanseters/Broad/JupyterReviewer/JupyterReviewer/AppComponents/CNVPlotComponent.py:262: SettingWithCopyWarning:\n",
      "\n",
      "\n",
      "A value is trying to be set on a copy of a slice from a DataFrame.\n",
      "Try using .loc[row_indexer,col_indexer] = value instead\n",
      "\n",
      "See the caveats in the documentation: https://pandas.pydata.org/pandas-docs/stable/user_guide/indexing.html#returning-a-view-versus-a-copy\n",
      "\n",
      "/Users/svanseters/Broad/JupyterReviewer/JupyterReviewer/AppComponents/CNVPlotComponent.py:281: SettingWithCopyWarning:\n",
      "\n",
      "\n",
      "A value is trying to be set on a copy of a slice from a DataFrame.\n",
      "Try using .loc[row_indexer,col_indexer] = value instead\n",
      "\n",
      "See the caveats in the documentation: https://pandas.pydata.org/pandas-docs/stable/user_guide/indexing.html#returning-a-view-versus-a-copy\n",
      "\n",
      "/Users/svanseters/Broad/JupyterReviewer/JupyterReviewer/AppComponents/CNVPlotComponent.py:286: SettingWithCopyWarning:\n",
      "\n",
      "\n",
      "A value is trying to be set on a copy of a slice from a DataFrame.\n",
      "Try using .loc[row_indexer,col_indexer] = value instead\n",
      "\n",
      "See the caveats in the documentation: https://pandas.pydata.org/pandas-docs/stable/user_guide/indexing.html#returning-a-view-versus-a-copy\n",
      "\n",
      "/Users/svanseters/Broad/JupyterReviewer/JupyterReviewer/AppComponents/CNVPlotComponent.py:288: SettingWithCopyWarning:\n",
      "\n",
      "\n",
      "A value is trying to be set on a copy of a slice from a DataFrame.\n",
      "Try using .loc[row_indexer,col_indexer] = value instead\n",
      "\n",
      "See the caveats in the documentation: https://pandas.pydata.org/pandas-docs/stable/user_guide/indexing.html#returning-a-view-versus-a-copy\n",
      "\n"
     ]
    }
   ],
   "source": [
    "reviewer.run(mode='external', port=8086)"
   ]
  },
  {
   "cell_type": "code",
   "execution_count": null,
   "id": "1ca3c963",
   "metadata": {},
   "outputs": [],
   "source": []
  }
 ],
 "metadata": {
  "kernelspec": {
   "display_name": "Python 3 (ipykernel)",
   "language": "python",
   "name": "python3"
  },
  "language_info": {
   "codemirror_mode": {
    "name": "ipython",
    "version": 3
   },
   "file_extension": ".py",
   "mimetype": "text/x-python",
   "name": "python",
   "nbconvert_exporter": "python",
   "pygments_lexer": "ipython3",
   "version": "3.9.7"
  }
 },
 "nbformat": 4,
 "nbformat_minor": 5
}
