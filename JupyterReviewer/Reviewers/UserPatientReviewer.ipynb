{
 "cells": [
  {
   "cell_type": "markdown",
   "id": "47f81ac9",
   "metadata": {},
   "source": [
    "# Patient Reviewer"
   ]
  },
  {
   "cell_type": "code",
   "execution_count": 1,
   "id": "cd5a4c6f",
   "metadata": {},
   "outputs": [],
   "source": [
    "%load_ext autoreload\n",
    "%autoreload 2"
   ]
  },
  {
   "cell_type": "code",
   "execution_count": 2,
   "id": "b4bb095f",
   "metadata": {},
   "outputs": [],
   "source": [
    "from JupyterReviewer.Reviewers.PatientReviewer import PatientReviewer\n",
    "from JupyterReviewer.ReviewData import ReviewDataAnnotation\n",
    "\n",
    "import pandas as pd"
   ]
  },
  {
   "cell_type": "markdown",
   "id": "1bd978bf",
   "metadata": {},
   "source": [
    "## Edit the code below according to the commented directions"
   ]
  },
  {
   "cell_type": "code",
   "execution_count": 8,
   "id": "e496d5e4",
   "metadata": {},
   "outputs": [
    {
     "name": "stdout",
     "output_type": "stream",
     "text": [
      "Loading existing review session /Users/svanseters/Broad/JupyterReviewer/review.pkl...\n",
      "Dash app running on http://0.0.0.0:8088/\n"
     ]
    }
   ],
   "source": [
    "reviewer = PatientReviewer()\n",
    "\n",
    "reviewer.set_review_data(\n",
    "    # Enter the file path where you would like your pkl file of your review data to be stored\n",
    "    review_data_fn='/Users/svanseters/Broad/JupyterReviewer/review.pkl',\n",
    "    # Breifly describe the source of your data and its purpose\n",
    "    description='first review',\n",
    "    # Enter the file path to your data to be reviewed\n",
    "    df=pd.read_csv(f'/Users/svanseters/Broad/JupyterReviewer/example_notebooks/example_data/test_data_for_reviewer.txt', sep='\\t')\n",
    ")\n",
    "\n",
    "reviewer.set_review_app(test_param='testing param kwargs')\n",
    "reviewer.run(mode='external', port=8088)"
   ]
  },
  {
   "cell_type": "markdown",
   "id": "b8e5688a",
   "metadata": {},
   "source": [
    "## Add your own components below "
   ]
  },
  {
   "cell_type": "code",
   "execution_count": null,
   "id": "df4ef73d",
   "metadata": {},
   "outputs": [],
   "source": []
  }
 ],
 "metadata": {
  "kernelspec": {
   "display_name": "Python 3 (ipykernel)",
   "language": "python",
   "name": "python3"
  },
  "language_info": {
   "codemirror_mode": {
    "name": "ipython",
    "version": 3
   },
   "file_extension": ".py",
   "mimetype": "text/x-python",
   "name": "python",
   "nbconvert_exporter": "python",
   "pygments_lexer": "ipython3",
   "version": "3.9.7"
  }
 },
 "nbformat": 4,
 "nbformat_minor": 5
}
