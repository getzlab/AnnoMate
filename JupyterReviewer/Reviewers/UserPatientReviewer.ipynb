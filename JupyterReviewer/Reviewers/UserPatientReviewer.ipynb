{
 "cells": [
  {
   "cell_type": "markdown",
   "id": "47f81ac9",
   "metadata": {},
   "source": [
    "# Patient Reviewer"
   ]
  },
  {
   "cell_type": "code",
   "execution_count": 1,
   "id": "cd5a4c6f",
   "metadata": {},
   "outputs": [],
   "source": [
    "%load_ext autoreload\n",
    "%autoreload 2"
   ]
  },
  {
   "cell_type": "code",
   "execution_count": 2,
   "id": "b4bb095f",
   "metadata": {},
   "outputs": [],
   "source": [
    "from JupyterReviewer.Reviewers.PatientReviewer import PatientReviewer\n",
    "from JupyterReviewer.Reviewers.PatientReviewer import collect_data\n",
    "from JupyterReviewer.Data import DataAnnotation\n",
    "from JupyterReviewer.ReviewDataApp import AppComponent\n",
    "\n",
    "import pandas as pd\n",
    "from dash import html"
   ]
  },
  {
   "cell_type": "markdown",
   "id": "1bd978bf",
   "metadata": {},
   "source": [
    "## Edit the code below according to the commented directions"
   ]
  },
  {
   "cell_type": "markdown",
   "id": "75bd47db",
   "metadata": {},
   "source": [
    "### Generate a participant and a sample file"
   ]
  },
  {
   "cell_type": "code",
   "execution_count": 176,
   "id": "b9ce8e67",
   "metadata": {
    "scrolled": true
   },
   "outputs": [],
   "source": [
    "samples_df, participants_df = collect_data(\n",
    "    '../../example_notebooks/example_data/example_patient_reviewer_paired_clean_input.yaml'\n",
    ")"
   ]
  },
  {
   "cell_type": "code",
   "execution_count": 224,
   "id": "43f4ea16",
   "metadata": {},
   "outputs": [
    {
     "data": {
      "text/html": [
       "<div>\n",
       "<style scoped>\n",
       "    .dataframe tbody tr th:only-of-type {\n",
       "        vertical-align: middle;\n",
       "    }\n",
       "\n",
       "    .dataframe tbody tr th {\n",
       "        vertical-align: top;\n",
       "    }\n",
       "\n",
       "    .dataframe thead th {\n",
       "        text-align: right;\n",
       "    }\n",
       "</style>\n",
       "<table border=\"1\" class=\"dataframe\">\n",
       "  <thead>\n",
       "    <tr style=\"text-align: right;\">\n",
       "      <th></th>\n",
       "      <th>sample_id</th>\n",
       "      <th>cnv_seg_fn</th>\n",
       "      <th>participant_id</th>\n",
       "      <th>collection_date_dfd</th>\n",
       "      <th>preservation_method</th>\n",
       "      <th>wxs_ploidy</th>\n",
       "      <th>wxs_purity</th>\n",
       "    </tr>\n",
       "  </thead>\n",
       "  <tbody>\n",
       "    <tr>\n",
       "      <th>0</th>\n",
       "      <td>06213_101_BB_090712</td>\n",
       "      <td>gs://fc-7e497e6c-57f5-4577-a386-e913b4ccbdaa/9...</td>\n",
       "      <td>ONC110293</td>\n",
       "      <td>14</td>\n",
       "      <td>NA</td>\n",
       "      <td>1.83</td>\n",
       "      <td>0.18</td>\n",
       "    </tr>\n",
       "    <tr>\n",
       "      <th>1</th>\n",
       "      <td>06213_110_BB_071213</td>\n",
       "      <td>gs://fc-7e497e6c-57f5-4577-a386-e913b4ccbdaa/9...</td>\n",
       "      <td>ONC123758</td>\n",
       "      <td>270</td>\n",
       "      <td>NA</td>\n",
       "      <td>2.64</td>\n",
       "      <td>0.044</td>\n",
       "    </tr>\n",
       "    <tr>\n",
       "      <th>2</th>\n",
       "      <td>06213_112_BB_110513</td>\n",
       "      <td>gs://fc-7e497e6c-57f5-4577-a386-e913b4ccbdaa/9...</td>\n",
       "      <td>ONC130272</td>\n",
       "      <td>34</td>\n",
       "      <td>NA</td>\n",
       "      <td>4.05</td>\n",
       "      <td>0.197</td>\n",
       "    </tr>\n",
       "    <tr>\n",
       "      <th>3</th>\n",
       "      <td>06213_15_BB_061908</td>\n",
       "      <td>gs://fc-7e497e6c-57f5-4577-a386-e913b4ccbdaa/9...</td>\n",
       "      <td>ONC7299</td>\n",
       "      <td>0</td>\n",
       "      <td>NA</td>\n",
       "      <td>1.78</td>\n",
       "      <td>0.21</td>\n",
       "    </tr>\n",
       "    <tr>\n",
       "      <th>5</th>\n",
       "      <td>06213_15_BB_072208</td>\n",
       "      <td>gs://fc-7e497e6c-57f5-4577-a386-e913b4ccbdaa/9...</td>\n",
       "      <td>ONC7299</td>\n",
       "      <td>33</td>\n",
       "      <td>NA</td>\n",
       "      <td>1.77</td>\n",
       "      <td>0.23</td>\n",
       "    </tr>\n",
       "    <tr>\n",
       "      <th>...</th>\n",
       "      <td>...</td>\n",
       "      <td>...</td>\n",
       "      <td>...</td>\n",
       "      <td>...</td>\n",
       "      <td>...</td>\n",
       "      <td>...</td>\n",
       "      <td>...</td>\n",
       "    </tr>\n",
       "    <tr>\n",
       "      <th>113</th>\n",
       "      <td>BRCA-63-Tumor-SM-4JPBE</td>\n",
       "      <td>gs://fc-a984e71a-8456-4f8d-a8e4-3185f88359cd/f...</td>\n",
       "      <td>ONC69869</td>\n",
       "      <td>402</td>\n",
       "      <td>NaN</td>\n",
       "      <td>3.86</td>\n",
       "      <td>0.41</td>\n",
       "    </tr>\n",
       "    <tr>\n",
       "      <th>115</th>\n",
       "      <td>BRCA-89-Tumor-SM-4JPTW</td>\n",
       "      <td>gs://fc-a984e71a-8456-4f8d-a8e4-3185f88359cd/f...</td>\n",
       "      <td>ONC1580</td>\n",
       "      <td>239</td>\n",
       "      <td>NaN</td>\n",
       "      <td>3.284</td>\n",
       "      <td>0.279</td>\n",
       "    </tr>\n",
       "    <tr>\n",
       "      <th>117</th>\n",
       "      <td>BRCA-BOT2067-Tumor-SM-35BD2</td>\n",
       "      <td>gs://fc-a984e71a-8456-4f8d-a8e4-3185f88359cd/f...</td>\n",
       "      <td>ONC68035</td>\n",
       "      <td>17</td>\n",
       "      <td>NaN</td>\n",
       "      <td>1.948</td>\n",
       "      <td>0.579</td>\n",
       "    </tr>\n",
       "    <tr>\n",
       "      <th>119</th>\n",
       "      <td>BRCA-BOT2110-Tumor-SM-35BCZ</td>\n",
       "      <td>gs://fc-a984e71a-8456-4f8d-a8e4-3185f88359cd/f...</td>\n",
       "      <td>ONC97091</td>\n",
       "      <td>31</td>\n",
       "      <td>NaN</td>\n",
       "      <td>2.437</td>\n",
       "      <td>0.124</td>\n",
       "    </tr>\n",
       "    <tr>\n",
       "      <th>121</th>\n",
       "      <td>BRCA-BOT2161-Tumor-SM-35BDC</td>\n",
       "      <td>gs://fc-a984e71a-8456-4f8d-a8e4-3185f88359cd/f...</td>\n",
       "      <td>ONC13790</td>\n",
       "      <td>134</td>\n",
       "      <td>NaN</td>\n",
       "      <td>2.505</td>\n",
       "      <td>0.677</td>\n",
       "    </tr>\n",
       "  </tbody>\n",
       "</table>\n",
       "<p>89 rows × 7 columns</p>\n",
       "</div>"
      ],
      "text/plain": [
       "                       sample_id  \\\n",
       "0            06213_101_BB_090712   \n",
       "1            06213_110_BB_071213   \n",
       "2            06213_112_BB_110513   \n",
       "3             06213_15_BB_061908   \n",
       "5             06213_15_BB_072208   \n",
       "..                           ...   \n",
       "113       BRCA-63-Tumor-SM-4JPBE   \n",
       "115       BRCA-89-Tumor-SM-4JPTW   \n",
       "117  BRCA-BOT2067-Tumor-SM-35BD2   \n",
       "119  BRCA-BOT2110-Tumor-SM-35BCZ   \n",
       "121  BRCA-BOT2161-Tumor-SM-35BDC   \n",
       "\n",
       "                                            cnv_seg_fn participant_id  \\\n",
       "0    gs://fc-7e497e6c-57f5-4577-a386-e913b4ccbdaa/9...      ONC110293   \n",
       "1    gs://fc-7e497e6c-57f5-4577-a386-e913b4ccbdaa/9...      ONC123758   \n",
       "2    gs://fc-7e497e6c-57f5-4577-a386-e913b4ccbdaa/9...      ONC130272   \n",
       "3    gs://fc-7e497e6c-57f5-4577-a386-e913b4ccbdaa/9...        ONC7299   \n",
       "5    gs://fc-7e497e6c-57f5-4577-a386-e913b4ccbdaa/9...        ONC7299   \n",
       "..                                                 ...            ...   \n",
       "113  gs://fc-a984e71a-8456-4f8d-a8e4-3185f88359cd/f...       ONC69869   \n",
       "115  gs://fc-a984e71a-8456-4f8d-a8e4-3185f88359cd/f...        ONC1580   \n",
       "117  gs://fc-a984e71a-8456-4f8d-a8e4-3185f88359cd/f...       ONC68035   \n",
       "119  gs://fc-a984e71a-8456-4f8d-a8e4-3185f88359cd/f...       ONC97091   \n",
       "121  gs://fc-a984e71a-8456-4f8d-a8e4-3185f88359cd/f...       ONC13790   \n",
       "\n",
       "    collection_date_dfd preservation_method wxs_ploidy wxs_purity  \n",
       "0                    14                  NA       1.83       0.18  \n",
       "1                   270                  NA       2.64      0.044  \n",
       "2                    34                  NA       4.05      0.197  \n",
       "3                     0                  NA       1.78       0.21  \n",
       "5                    33                  NA       1.77       0.23  \n",
       "..                  ...                 ...        ...        ...  \n",
       "113                 402                 NaN       3.86       0.41  \n",
       "115                 239                 NaN      3.284      0.279  \n",
       "117                  17                 NaN      1.948      0.579  \n",
       "119                  31                 NaN      2.437      0.124  \n",
       "121                 134                 NaN      2.505      0.677  \n",
       "\n",
       "[89 rows x 7 columns]"
      ]
     },
     "execution_count": 224,
     "metadata": {},
     "output_type": "execute_result"
    }
   ],
   "source": [
    "samples_df"
   ]
  },
  {
   "cell_type": "markdown",
   "id": "b1ee277e",
   "metadata": {},
   "source": [
    "### Create patient reviewer object"
   ]
  },
  {
   "cell_type": "code",
   "execution_count": 194,
   "id": "e496d5e4",
   "metadata": {},
   "outputs": [
    {
     "name": "stdout",
     "output_type": "stream",
     "text": [
      "cnv figs directory already exists: ../../example_notebooks/example_data/preprocess_data/cnv_figs\n"
     ]
    },
    {
     "name": "stderr",
     "output_type": "stream",
     "text": [
      "/Users/svanseters/Broad/JupyterReviewer/JupyterReviewer/ReviewData.py:38: UserWarning:\n",
      "\n",
      "Loading existing data pkl file\n",
      "\n"
     ]
    }
   ],
   "source": [
    "na_values = ['#N/A', '#N/A N/A', '#NA', '-1.#IND', '-1.#QNAN', '-NaN', '-nan', '1.#QNAN', '<NA>', 'N/A', 'NULL', 'NaN', 'n/a', 'nan', 'null', '', 'unknown', 'not reported']\n",
    "reviewer = PatientReviewer()\n",
    "reviewer.set_review_data(\n",
    "    # Enter the file path where you would like your pkl file of your review data to be stored\n",
    "    data_pkl_fn='../../Reviewer.pkl',\n",
    "    # Breifly describe the source of your data and its purpose\n",
    "    description='first review',\n",
    "    # Enter the file path to your data to be reviewed\n",
    "    participant_df=pd.read_csv('../../example_notebooks/example_data/paired_analysis_clean/paired_analysis_clean_participants.txt', sep='\\t', na_values=na_values, keep_default_na=False).set_index('participant_id'),\n",
    "    sample_df=pd.read_csv('../../example_notebooks/example_data/paired_analysis_clean/paired_analysis_clean_samples.txt', sep='\\t', na_values=na_values, keep_default_na=False).set_index('sample_id'),\n",
    "    preprocess_data_dir = '../../example_notebooks/example_data/preprocess_data'\n",
    ")\n",
    "\n",
    "reviewer.set_review_app(preprocess_data_dir = '../../example_notebooks/example_data/preprocess_data', drivers_fn='drivers.csv')\n",
    "reviewer.set_default_review_data_annotations_configuration()\n",
    "reviewer.set_default_autofill()\n"
   ]
  },
  {
   "cell_type": "markdown",
   "id": "4e6091be",
   "metadata": {},
   "source": [
    "### Pass custom column color assignments into the review app with the following syntax:"
   ]
  },
  {
   "cell_type": "code",
   "execution_count": 16,
   "id": "119080a6",
   "metadata": {},
   "outputs": [],
   "source": [
    "# reviewer.set_review_app(custom_colors=[\n",
    "#     [column_id_1, filter_query_1, text_color_1, background_color_1], \n",
    "#     [<same for all additional columns/queries>]\n",
    "# ])\n",
    "\n",
    "#Example (comment out reviewer.set_review_app() above and uncomment below to try):\n",
    "\n",
    "# reviewer.set_review_app(custom_colors=[\n",
    "#     ['Variant_Classification', 'Silent', 'Black', 'LightBlue'], \n",
    "#     ['Variant_Classification', 'Missense_Mutation', 'White', 'Indigo']\n",
    "# ])"
   ]
  },
  {
   "cell_type": "markdown",
   "id": "b8e5688a",
   "metadata": {},
   "source": [
    "### Add your own components below "
   ]
  },
  {
   "cell_type": "code",
   "execution_count": 17,
   "id": "df4ef73d",
   "metadata": {},
   "outputs": [],
   "source": [
    "# reviewer.app.add_component(AppComponent('component name', layout)))"
   ]
  },
  {
   "cell_type": "markdown",
   "id": "a77a6b12",
   "metadata": {},
   "source": [
    "### Add your own annotations below"
   ]
  },
  {
   "cell_type": "code",
   "execution_count": 8,
   "id": "f6e4e9a6",
   "metadata": {},
   "outputs": [],
   "source": [
    "# reviewer.review_data.add_annotation('annot name', ReviewDataAnnotation())"
   ]
  },
  {
   "cell_type": "markdown",
   "id": "040af090",
   "metadata": {},
   "source": [
    "## Run"
   ]
  },
  {
   "cell_type": "code",
   "execution_count": 195,
   "id": "ee299041",
   "metadata": {},
   "outputs": [
    {
     "name": "stdout",
     "output_type": "stream",
     "text": [
      "Dash app running on http://0.0.0.0:8089/\n"
     ]
    },
    {
     "name": "stderr",
     "output_type": "stream",
     "text": [
      "/Users/svanseters/Broad/JupyterReviewer/reviewEnv/lib/python3.9/site-packages/google/auth/_default.py:79: UserWarning:\n",
      "\n",
      "Your application has authenticated using end user credentials from Google Cloud SDK without a quota project. You might receive a \"quota exceeded\" or \"API not enabled\" error. We recommend you rerun `gcloud auth application-default login` and make sure a quota project is added. Or you can use service accounts instead. For more information about service accounts, see https://cloud.google.com/docs/authentication/\n",
      "\n",
      "/Users/svanseters/Broad/JupyterReviewer/JupyterReviewer/AppComponents/CNVPlotComponent.py:269: SettingWithCopyWarning:\n",
      "\n",
      "\n",
      "A value is trying to be set on a copy of a slice from a DataFrame.\n",
      "Try using .loc[row_indexer,col_indexer] = value instead\n",
      "\n",
      "See the caveats in the documentation: https://pandas.pydata.org/pandas-docs/stable/user_guide/indexing.html#returning-a-view-versus-a-copy\n",
      "\n",
      "/Users/svanseters/Broad/JupyterReviewer/JupyterReviewer/AppComponents/CNVPlotComponent.py:270: SettingWithCopyWarning:\n",
      "\n",
      "\n",
      "A value is trying to be set on a copy of a slice from a DataFrame.\n",
      "Try using .loc[row_indexer,col_indexer] = value instead\n",
      "\n",
      "See the caveats in the documentation: https://pandas.pydata.org/pandas-docs/stable/user_guide/indexing.html#returning-a-view-versus-a-copy\n",
      "\n",
      "/Users/svanseters/Broad/JupyterReviewer/JupyterReviewer/AppComponents/CNVPlotComponent.py:291: SettingWithCopyWarning:\n",
      "\n",
      "\n",
      "A value is trying to be set on a copy of a slice from a DataFrame.\n",
      "Try using .loc[row_indexer,col_indexer] = value instead\n",
      "\n",
      "See the caveats in the documentation: https://pandas.pydata.org/pandas-docs/stable/user_guide/indexing.html#returning-a-view-versus-a-copy\n",
      "\n",
      "/Users/svanseters/Broad/JupyterReviewer/JupyterReviewer/AppComponents/CNVPlotComponent.py:296: SettingWithCopyWarning:\n",
      "\n",
      "\n",
      "A value is trying to be set on a copy of a slice from a DataFrame.\n",
      "Try using .loc[row_indexer,col_indexer] = value instead\n",
      "\n",
      "See the caveats in the documentation: https://pandas.pydata.org/pandas-docs/stable/user_guide/indexing.html#returning-a-view-versus-a-copy\n",
      "\n",
      "/Users/svanseters/Broad/JupyterReviewer/JupyterReviewer/AppComponents/CNVPlotComponent.py:298: SettingWithCopyWarning:\n",
      "\n",
      "\n",
      "A value is trying to be set on a copy of a slice from a DataFrame.\n",
      "Try using .loc[row_indexer,col_indexer] = value instead\n",
      "\n",
      "See the caveats in the documentation: https://pandas.pydata.org/pandas-docs/stable/user_guide/indexing.html#returning-a-view-versus-a-copy\n",
      "\n"
     ]
    }
   ],
   "source": [
    "reviewer.run(mode='external', port=8089)"
   ]
  },
  {
   "cell_type": "code",
   "execution_count": null,
   "id": "f28daf6b",
   "metadata": {},
   "outputs": [],
   "source": []
  }
 ],
 "metadata": {
  "kernelspec": {
   "display_name": "Python 3 (ipykernel)",
   "language": "python",
   "name": "python3"
  },
  "language_info": {
   "codemirror_mode": {
    "name": "ipython",
    "version": 3
   },
   "file_extension": ".py",
   "mimetype": "text/x-python",
   "name": "python",
   "nbconvert_exporter": "python",
   "pygments_lexer": "ipython3",
   "version": "3.9.7"
  }
 },
 "nbformat": 4,
 "nbformat_minor": 5
}
