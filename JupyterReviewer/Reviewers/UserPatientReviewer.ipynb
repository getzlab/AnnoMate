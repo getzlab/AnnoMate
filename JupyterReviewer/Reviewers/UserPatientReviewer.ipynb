{
 "cells": [
  {
   "cell_type": "markdown",
   "id": "47f81ac9",
   "metadata": {},
   "source": [
    "# Patient Reviewer"
   ]
  },
  {
   "cell_type": "code",
   "execution_count": 25,
   "id": "cd5a4c6f",
   "metadata": {},
   "outputs": [],
   "source": [
    "%load_ext autoreload\n",
    "%autoreload 2"
   ]
  },
  {
   "cell_type": "code",
   "execution_count": 26,
   "id": "b4bb095f",
   "metadata": {},
   "outputs": [],
   "source": [
    "from JupyterReviewer.Reviewers.PatientReviewer import PatientReviewer\n",
    "from JupyterReviewer.Reviewers.PatientReviewer import collect_data\n",
    "from JupyterReviewer.Data import DataAnnotation\n",
    "from JupyterReviewer.ReviewDataApp import AppComponent\n",
    "\n",
    "import pandas as pd\n",
    "from dash import html\n",
    "import re\n",
    "import numpy as np\n",
    "import math"
   ]
  },
  {
   "cell_type": "markdown",
   "id": "1bd978bf",
   "metadata": {},
   "source": [
    "## Edit the code below according to the commented directions"
   ]
  },
  {
   "cell_type": "markdown",
   "id": "75bd47db",
   "metadata": {},
   "source": [
    "### Generate a participant and a sample file"
   ]
  },
  {
   "cell_type": "code",
   "execution_count": 54,
   "id": "b9ce8e67",
   "metadata": {
    "scrolled": true
   },
   "outputs": [],
   "source": [
    "samples_df, participants_df = collect_data(\n",
    "    '../../example_notebooks/example_data/example_patient_reviewer_paired_clean_input.yaml'\n",
    ")"
   ]
  },
  {
   "cell_type": "markdown",
   "id": "b1ee277e",
   "metadata": {},
   "source": [
    "### Create patient reviewer object"
   ]
  },
  {
   "cell_type": "code",
   "execution_count": 58,
   "id": "e496d5e4",
   "metadata": {},
   "outputs": [
    {
     "name": "stdout",
     "output_type": "stream",
     "text": [
      "cnv figs directory already exists: ../../example_notebooks/example_data/preprocess_data/cnv_figs\n"
     ]
    },
    {
     "name": "stderr",
     "output_type": "stream",
     "text": [
      "/Users/svanseters/Broad/JupyterReviewer/JupyterReviewer/ReviewData.py:38: UserWarning:\n",
      "\n",
      "Loading existing data pkl file\n",
      "\n"
     ]
    }
   ],
   "source": [
    "na_values = ['#N/A', '#N/A N/A', '#NA', '-1.#IND', '-1.#QNAN', '-NaN', '-nan', '1.#QNAN', '<NA>', 'N/A', 'NULL', 'NaN', 'n/a', 'nan', 'null', '', 'unknown', 'not reported']\n",
    "reviewer = PatientReviewer()\n",
    "reviewer.set_review_data(\n",
    "    # Enter the file path where you would like your pkl file of your review data to be stored\n",
    "    data_pkl_fn='../../Reviewer.pkl',\n",
    "    # Breifly describe the source of your data and its purpose\n",
    "    description='first review',\n",
    "    # Enter the file path to your data to be reviewed\n",
    "    participant_df=pd.read_csv('../../example_notebooks/example_data/paired_analysis_clean/paired_analysis_clean_participants.txt', sep='\\t', na_values=na_values, keep_default_na=False).set_index('participant_id'),\n",
    "    sample_df=pd.read_csv('../../example_notebooks/example_data/paired_analysis_clean/paired_analysis_clean_samples.txt', sep='\\t', na_values=na_values, keep_default_na=False).set_index('sample_id'),\n",
    "    preprocess_data_dir = '../../example_notebooks/example_data/preprocess_data'\n",
    ")\n",
    "\n",
    "reviewer.set_review_app(preprocess_data_dir = '../../example_notebooks/example_data/preprocess_data', drivers_fn='drivers.csv')\n",
    "reviewer.set_default_review_data_annotations_configuration()\n",
    "reviewer.set_default_autofill()\n"
   ]
  },
  {
   "cell_type": "markdown",
   "id": "4e6091be",
   "metadata": {},
   "source": [
    "### Pass custom column color assignments into the review app with the following syntax:"
   ]
  },
  {
   "cell_type": "code",
   "execution_count": 16,
   "id": "119080a6",
   "metadata": {},
   "outputs": [],
   "source": [
    "# reviewer.set_review_app(custom_colors=[\n",
    "#     [column_id_1, filter_query_1, text_color_1, background_color_1], \n",
    "#     [<same for all additional columns/queries>]\n",
    "# ])\n",
    "\n",
    "#Example (comment out reviewer.set_review_app() above and uncomment below to try):\n",
    "\n",
    "# reviewer.set_review_app(custom_colors=[\n",
    "#     ['Variant_Classification', 'Silent', 'Black', 'LightBlue'], \n",
    "#     ['Variant_Classification', 'Missense_Mutation', 'White', 'Indigo']\n",
    "# ])"
   ]
  },
  {
   "cell_type": "markdown",
   "id": "b8e5688a",
   "metadata": {},
   "source": [
    "### Add your own components below "
   ]
  },
  {
   "cell_type": "code",
   "execution_count": 17,
   "id": "df4ef73d",
   "metadata": {},
   "outputs": [],
   "source": [
    "# reviewer.app.add_component(AppComponent('component name', layout)))"
   ]
  },
  {
   "cell_type": "markdown",
   "id": "a77a6b12",
   "metadata": {},
   "source": [
    "### Add your own annotations below"
   ]
  },
  {
   "cell_type": "code",
   "execution_count": 8,
   "id": "f6e4e9a6",
   "metadata": {},
   "outputs": [],
   "source": [
    "# reviewer.review_data.add_annotation('annot name', ReviewDataAnnotation())"
   ]
  },
  {
   "cell_type": "markdown",
   "id": "040af090",
   "metadata": {},
   "source": [
    "## Run"
   ]
  },
  {
   "cell_type": "code",
   "execution_count": 60,
   "id": "ee299041",
   "metadata": {},
   "outputs": [
    {
     "name": "stdout",
     "output_type": "stream",
     "text": [
      "Dash app running on http://0.0.0.0:8089/\n"
     ]
    }
   ],
   "source": [
    "reviewer.run(mode='external', port=8089)"
   ]
  },
  {
   "cell_type": "code",
   "execution_count": null,
   "id": "5cd29630",
   "metadata": {},
   "outputs": [],
   "source": []
  }
 ],
 "metadata": {
  "kernelspec": {
   "display_name": "Python 3 (ipykernel)",
   "language": "python",
   "name": "python3"
  },
  "language_info": {
   "codemirror_mode": {
    "name": "ipython",
    "version": 3
   },
   "file_extension": ".py",
   "mimetype": "text/x-python",
   "name": "python",
   "nbconvert_exporter": "python",
   "pygments_lexer": "ipython3",
   "version": "3.9.7"
  }
 },
 "nbformat": 4,
 "nbformat_minor": 5
}
