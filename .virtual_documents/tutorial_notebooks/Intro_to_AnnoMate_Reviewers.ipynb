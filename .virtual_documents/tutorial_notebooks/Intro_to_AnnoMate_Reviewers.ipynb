











%load_ext autoreload
%autoreload 2


import pandas as pd
import os




















from AnnoMate.Reviewers.ExampleReviewer import ExampleReviewer





my_reviewer = ExampleReviewer()





# Load data
fn = 'example_data/AnnoMate_Tutorial/data_to_review_example.tsv'
df = pd.read_csv(fn, sep='\t')
df = df.set_index('sample_id')
df.head()


mut_df = pd.read_csv(df.iloc[0]['mutations_file'], sep='\t')
mut_df.head()


if not os.path.exists('data'):
    os.mkdir('data')
    
output_pkl_fn = './data/example_reviewer_data.pkl'
my_reviewer.set_review_data(data_pkl_fn=output_pkl_fn, 
                            description='Intro to reviewers review session part 2',
                            sample_df=df,
                            preprocessing_str='Testing preprocessing')





my_reviewer.list_data_attributes()


my_reviewer.get_data_attribute('df').head()





my_reviewer.set_review_app(mut_file_col='mutations_file', 
                           sample_cols=['gender', 'age', 'tissue_origin'])





my_reviewer.set_default_review_data_annotations_configuration()
my_reviewer.set_default_autofill()


my_reviewer.get_annot().head()





my_reviewer.run(collapsable=True, port=8055, mode='tab')








# only viewing samples with annotations
my_reviewer.get_annot().head()


my_reviewer.get_history()








export_dir = f'data/example_reviewer_data'
if not os.path.exists(export_dir):
    os.mkdir(export_dir)
    
my_reviewer.export_data(export_dir, export_by_day=True)


# Actually saving the data
my_reviewer.export_data(export_dir, export_by_day=True, dry_run=False)








my_reviewer_2 = ExampleReviewer()





keep_samples_index = \
    my_reviewer.get_annot().loc[
        my_reviewer.get_annot()['Flag'] == 'Remove'
    ].index.tolist()

print(keep_samples_index)





new_output_pkl_fn = './data/example_reviewer_data.2.pkl'
my_reviewer_2.set_review_data(
    index=keep_samples_index,
    data_pkl_fn=new_output_pkl_fn,
    description="Reviewing more data to see if I can explain why these samples should be removed.",
    sample_df=my_reviewer.get_data_attribute('df'), # reuse exactly the same data as before
    load_existing_data_pkl_fn=output_pkl_fn,
    preprocessing_str='New data'
)



my_reviewer_2.get_annot()





my_reviewer_2.set_review_app(
    mut_file_col='mutations_file', 
    sample_cols=['gender', 'age', 'tissue_origin', 'mutations_file']
)






pd.read_csv(my_reviewer_2.get_data_attribute('df').iloc[0]['treatments_file'], sep='\t')


my_reviewer_2.app.add_table_from_path(
    data_table_source='df', # reference which table in the Data object to use.
    table_title='Treatment file',
    component_id='treatment-component-id',
    table_fn_col='treatments_file', 
    table_cols=['treatment_name', 'response', 'tx_start']
)






from AnnoMate.Data import DataAnnotation
import AnnoMate.AnnotationDisplayComponent as adc
import numpy as np


my_reviewer_2.set_default_review_data_annotations_configuration()


# 1. Update all the options for the 'Flag' annotation
my_reviewer_2.add_review_data_annotation(
    annot_name='Flag', 
    review_data_annotation=DataAnnotation(
        annot_value_type='string', 
        options=['Keep', 'Remove', 'Report'], 
    )
)
my_reviewer_2.add_annotation_display_component(
    annot_name='Flag', 
    annot_display_component=adc.RadioitemAnnotationDisplay(default_display_value='Keep')
)

# 2. Update the display for the 'Notes' annotation
my_reviewer_2.add_annotation_display_component(
    annot_name='Notes', 
    annot_display_component=adc.TextAnnotationDisplay()
)

# 3. Add a histogram color annotation
my_reviewer_2.add_review_data_annotation(
    annot_name='Histogram color', 
    review_data_annotation=DataAnnotation(
        annot_value_type='string', 
        options=['red', 'green', 'blue'], 
    )
)
my_reviewer_2.add_annotation_display_component(
    annot_name='Histogram color', 
    annot_display_component=adc.SelectAnnotationDisplay()
)






# Text area
my_reviewer_2.add_review_data_annotation(
    annot_name='A Number', 
    review_data_annotation=DataAnnotation(
        annot_value_type='float', 
    )
)
my_reviewer_2.add_annotation_display_component(
    annot_name='A Number', 
    annot_display_component=adc.NumberAnnotationDisplay())

# Radioitem: 
my_reviewer_2.add_review_data_annotation(
    annot_name='A radioitem', 
    review_data_annotation=DataAnnotation(
        annot_value_type='string', 
        options=['Option a', 'Option b', 'Option c']
    )
)
my_reviewer_2.add_annotation_display_component(
    annot_name='A radioitem', 
    annot_display_component=adc.RadioitemAnnotationDisplay())

# Checklist: only compatible with multi type (save a list of options)
my_reviewer_2.add_review_data_annotation(
    annot_name='A checklist', 
    review_data_annotation=DataAnnotation(
        annot_value_type='multi', 
        options=['Option 1', 'Option 2', 'Option 3']
    )
)
my_reviewer_2.add_annotation_display_component(
    annot_name='A checklist', 
    annot_display_component=adc.ChecklistAnnotationDisplay(default_display_value=['Option 1']))


# Dropdown/Select
my_reviewer_2.add_review_data_annotation(
    annot_name='A dropdown menu', 
    review_data_annotation=DataAnnotation(
        annot_value_type='string', 
        options=['Option A', 'Option B', 'Option C']
    )
)
my_reviewer_2.add_annotation_display_component(
    annot_name='A dropdown menu', 
    annot_display_component=adc.SelectAnnotationDisplay())

# Multiselect Dropdown menu
my_reviewer_2.add_review_data_annotation(
    annot_name='A multi-select dropdown menu', 
    review_data_annotation=DataAnnotation(
        annot_value_type='multi', 
        options=['Option x', 'Option y', 'Option z']
    )
)
my_reviewer_2.add_annotation_display_component(
    annot_name='A multi-select dropdown menu', 
    annot_display_component=adc.MultiValueSelectAnnotationDisplay())






my_reviewer_2.add_review_data_annotation(
    annot_name='Test removing annotation', 
    review_data_annotation=DataAnnotation(
        annot_value_type='float', 
    )
)
my_reviewer_2.add_annotation_display_component(
    annot_name='Test removing annotation', 
    annot_display_component=adc.NumberAnnotationDisplay())

'Test removing annotation' in my_reviewer_2.annot_app_display_types_dict.keys()


removed_annot_display_component = my_reviewer_2.remove_annotation_display_component('Test removing annotation')
'Test removing annotation' in my_reviewer_2.annot_app_display_types_dict.keys()








from dash.dependencies import State
my_reviewer_2.add_autofill(
    autofill_button_name='Mut vafs',
    fill_value=State('mut-figure-color-radioitem', 'value'),
    annot_name='Histogram color'
)





my_reviewer_2.run(port=8052, mode='tab')








my_reviewer_2.run(
    review_data_table_df=df.loc[keep_samples_index, ['gender', 'age', 'tissue_origin']], 
    review_data_table_page_size=7,
    port=8052,
    mode='tab'
)


my_reviewer_2.get_annot()








my_reviewer_2.run(
    port=8052,
    auto_export=True,
)



