


%load_ext autoreload
%autoreload 2





from ReviewerCatalog import display_catalog_df


display_catalog_df()





from ReviewerCatalog import gen_reviewer_catalog, registered_reviewer_repos


gen_reviewer_catalog()



