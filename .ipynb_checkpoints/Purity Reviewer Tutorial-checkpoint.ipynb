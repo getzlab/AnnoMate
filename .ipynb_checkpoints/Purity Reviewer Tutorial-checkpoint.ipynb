{
 "cells": [
  {
   "cell_type": "markdown",
   "id": "b48b6111",
   "metadata": {},
   "source": [
    "# Purity Reviewer Tutorial"
   ]
  },
  {
   "cell_type": "code",
   "execution_count": 5,
   "id": "bda3c303",
   "metadata": {},
   "outputs": [
    {
     "name": "stdout",
     "output_type": "stream",
     "text": [
      "The autoreload extension is already loaded. To reload it, use:\n",
      "  %reload_ext autoreload\n"
     ]
    }
   ],
   "source": [
    "%load_ext autoreload\n",
    "%autoreload 2"
   ]
  },
  {
   "cell_type": "code",
   "execution_count": 36,
   "id": "1413a2ad",
   "metadata": {},
   "outputs": [],
   "source": [
    "from src.Reviewers.PurityReviewer.MatchedPurityReviewer import MatchedPurityReviewer\n",
    "from src.ReviewData import ReviewDataAnnotation\n",
    "\n",
    "import dalmatian\n",
    "import pandas as pd\n",
    "import numpy as np"
   ]
  },
  {
   "cell_type": "markdown",
   "id": "4cd8310b",
   "metadata": {},
   "source": [
    "# Auto purity caller"
   ]
  },
  {
   "cell_type": "code",
   "execution_count": null,
   "id": "f22109e7",
   "metadata": {},
   "outputs": [],
   "source": []
  },
  {
   "cell_type": "markdown",
   "id": "cbea42e5",
   "metadata": {},
   "source": [
    "# Set up ReviewData object"
   ]
  },
  {
   "cell_type": "code",
   "execution_count": 37,
   "id": "eade45b1",
   "metadata": {},
   "outputs": [
    {
     "data": {
      "text/html": [
       "<div>\n",
       "<style scoped>\n",
       "    .dataframe tbody tr th:only-of-type {\n",
       "        vertical-align: middle;\n",
       "    }\n",
       "\n",
       "    .dataframe tbody tr th {\n",
       "        vertical-align: top;\n",
       "    }\n",
       "\n",
       "    .dataframe thead th {\n",
       "        text-align: right;\n",
       "    }\n",
       "</style>\n",
       "<table border=\"1\" class=\"dataframe\">\n",
       "  <thead>\n",
       "    <tr style=\"text-align: right;\">\n",
       "      <th></th>\n",
       "      <th>strelka_all_indels</th>\n",
       "      <th>normal_bam_base_distribution_by_cycle</th>\n",
       "      <th>tumor_bam_base_distribution_by_cycle_metrics</th>\n",
       "      <th>unmatched_100pct_purity_MAF_Pass_muts_tonly</th>\n",
       "      <th>mut_legos_html</th>\n",
       "      <th>tumor_bam_base_distribution_by_cycle</th>\n",
       "      <th>participant</th>\n",
       "      <th>lego_plotter_ais</th>\n",
       "      <th>tumor_bam_gc_bias_summary_metrics</th>\n",
       "      <th>deTiN_indels</th>\n",
       "      <th>...</th>\n",
       "      <th>number_mutations_rejected</th>\n",
       "      <th>TiN</th>\n",
       "      <th>tumor_bam_pre_adapter_detail_metrics</th>\n",
       "      <th>absolute_highres_plot</th>\n",
       "      <th>absolute_annotated_maf_capture</th>\n",
       "      <th>ffpe_OBF_q_val</th>\n",
       "      <th>deTiN_aSCNA_model</th>\n",
       "      <th>ffpe_OBF_passed_and_rejected_mutations</th>\n",
       "      <th>all_filters_passed_merged_maf</th>\n",
       "      <th>absolute_called_solution_capture_notes</th>\n",
       "    </tr>\n",
       "    <tr>\n",
       "      <th>pair_id</th>\n",
       "      <th></th>\n",
       "      <th></th>\n",
       "      <th></th>\n",
       "      <th></th>\n",
       "      <th></th>\n",
       "      <th></th>\n",
       "      <th></th>\n",
       "      <th></th>\n",
       "      <th></th>\n",
       "      <th></th>\n",
       "      <th></th>\n",
       "      <th></th>\n",
       "      <th></th>\n",
       "      <th></th>\n",
       "      <th></th>\n",
       "      <th></th>\n",
       "      <th></th>\n",
       "      <th></th>\n",
       "      <th></th>\n",
       "      <th></th>\n",
       "      <th></th>\n",
       "    </tr>\n",
       "  </thead>\n",
       "  <tbody>\n",
       "    <tr>\n",
       "      <th>RP-2080_PCYC_CH10_T_01_v2_Exome_OnPrem_pair</th>\n",
       "      <td>gs://fc-e05bb351-48d8-405a-97b3-95800bdb3176/9...</td>\n",
       "      <td>gs://fc-e05bb351-48d8-405a-97b3-95800bdb3176/9...</td>\n",
       "      <td>gs://fc-e05bb351-48d8-405a-97b3-95800bdb3176/9...</td>\n",
       "      <td>gs://fc-114522e7-10cc-413a-91aa-6c35cd653f4d/8...</td>\n",
       "      <td>gs://fc-e05bb351-48d8-405a-97b3-95800bdb3176/9...</td>\n",
       "      <td>gs://fc-e05bb351-48d8-405a-97b3-95800bdb3176/9...</td>\n",
       "      <td>RP-2080_PCYC_CH10</td>\n",
       "      <td>[gs://fc-e05bb351-48d8-405a-97b3-95800bdb3176/...</td>\n",
       "      <td>gs://fc-e05bb351-48d8-405a-97b3-95800bdb3176/9...</td>\n",
       "      <td>gs://fc-e05bb351-48d8-405a-97b3-95800bdb3176/9...</td>\n",
       "      <td>...</td>\n",
       "      <td>[15, 23]</td>\n",
       "      <td>0.01</td>\n",
       "      <td>gs://fc-e05bb351-48d8-405a-97b3-95800bdb3176/9...</td>\n",
       "      <td>gs://fc-e05bb351-48d8-405a-97b3-95800bdb3176/9...</td>\n",
       "      <td>gs://fc-e05bb351-48d8-405a-97b3-95800bdb3176/7...</td>\n",
       "      <td>44.91</td>\n",
       "      <td>gs://fc-e05bb351-48d8-405a-97b3-95800bdb3176/9...</td>\n",
       "      <td>gs://fc-e05bb351-48d8-405a-97b3-95800bdb3176/9...</td>\n",
       "      <td>gs://fc-e05bb351-48d8-405a-97b3-95800bdb3176/9...</td>\n",
       "      <td>NaN</td>\n",
       "    </tr>\n",
       "    <tr>\n",
       "      <th>RP-2080_PCYC_CH10_T_02_v2_Exome_OnPrem_pair</th>\n",
       "      <td>gs://fc-e05bb351-48d8-405a-97b3-95800bdb3176/5...</td>\n",
       "      <td>gs://fc-e05bb351-48d8-405a-97b3-95800bdb3176/5...</td>\n",
       "      <td>gs://fc-e05bb351-48d8-405a-97b3-95800bdb3176/5...</td>\n",
       "      <td>gs://fc-114522e7-10cc-413a-91aa-6c35cd653f4d/8...</td>\n",
       "      <td>gs://fc-e05bb351-48d8-405a-97b3-95800bdb3176/5...</td>\n",
       "      <td>gs://fc-e05bb351-48d8-405a-97b3-95800bdb3176/5...</td>\n",
       "      <td>RP-2080_PCYC_CH10</td>\n",
       "      <td>[gs://fc-e05bb351-48d8-405a-97b3-95800bdb3176/...</td>\n",
       "      <td>gs://fc-e05bb351-48d8-405a-97b3-95800bdb3176/5...</td>\n",
       "      <td>gs://fc-e05bb351-48d8-405a-97b3-95800bdb3176/5...</td>\n",
       "      <td>...</td>\n",
       "      <td>[18, 29]</td>\n",
       "      <td>0</td>\n",
       "      <td>gs://fc-e05bb351-48d8-405a-97b3-95800bdb3176/5...</td>\n",
       "      <td>gs://fc-e05bb351-48d8-405a-97b3-95800bdb3176/5...</td>\n",
       "      <td>gs://fc-e05bb351-48d8-405a-97b3-95800bdb3176/7...</td>\n",
       "      <td>46.26</td>\n",
       "      <td>gs://fc-e05bb351-48d8-405a-97b3-95800bdb3176/5...</td>\n",
       "      <td>gs://fc-e05bb351-48d8-405a-97b3-95800bdb3176/5...</td>\n",
       "      <td>gs://fc-e05bb351-48d8-405a-97b3-95800bdb3176/5...</td>\n",
       "      <td>NaN</td>\n",
       "    </tr>\n",
       "    <tr>\n",
       "      <th>RP-2080_PCYC_CH18_T_01_v2_Exome_OnPrem_pair</th>\n",
       "      <td>gs://fc-e05bb351-48d8-405a-97b3-95800bdb3176/5...</td>\n",
       "      <td>gs://fc-e05bb351-48d8-405a-97b3-95800bdb3176/5...</td>\n",
       "      <td>gs://fc-e05bb351-48d8-405a-97b3-95800bdb3176/5...</td>\n",
       "      <td>gs://fc-114522e7-10cc-413a-91aa-6c35cd653f4d/8...</td>\n",
       "      <td>gs://fc-e05bb351-48d8-405a-97b3-95800bdb3176/5...</td>\n",
       "      <td>gs://fc-e05bb351-48d8-405a-97b3-95800bdb3176/5...</td>\n",
       "      <td>RP-2080_PCYC_CH18</td>\n",
       "      <td>[gs://fc-e05bb351-48d8-405a-97b3-95800bdb3176/...</td>\n",
       "      <td>gs://fc-e05bb351-48d8-405a-97b3-95800bdb3176/5...</td>\n",
       "      <td>gs://fc-e05bb351-48d8-405a-97b3-95800bdb3176/5...</td>\n",
       "      <td>...</td>\n",
       "      <td>[27, 40]</td>\n",
       "      <td>0.01</td>\n",
       "      <td>gs://fc-e05bb351-48d8-405a-97b3-95800bdb3176/5...</td>\n",
       "      <td>gs://fc-e05bb351-48d8-405a-97b3-95800bdb3176/5...</td>\n",
       "      <td>gs://fc-e05bb351-48d8-405a-97b3-95800bdb3176/7...</td>\n",
       "      <td>46.82</td>\n",
       "      <td>gs://fc-e05bb351-48d8-405a-97b3-95800bdb3176/5...</td>\n",
       "      <td>gs://fc-e05bb351-48d8-405a-97b3-95800bdb3176/5...</td>\n",
       "      <td>gs://fc-e05bb351-48d8-405a-97b3-95800bdb3176/5...</td>\n",
       "      <td>NaN</td>\n",
       "    </tr>\n",
       "    <tr>\n",
       "      <th>RP-2080_PCYC_CH18_T_02_v2_Exome_OnPrem_pair</th>\n",
       "      <td>gs://fc-e05bb351-48d8-405a-97b3-95800bdb3176/5...</td>\n",
       "      <td>gs://fc-e05bb351-48d8-405a-97b3-95800bdb3176/5...</td>\n",
       "      <td>gs://fc-e05bb351-48d8-405a-97b3-95800bdb3176/5...</td>\n",
       "      <td>gs://fc-114522e7-10cc-413a-91aa-6c35cd653f4d/8...</td>\n",
       "      <td>gs://fc-e05bb351-48d8-405a-97b3-95800bdb3176/5...</td>\n",
       "      <td>gs://fc-e05bb351-48d8-405a-97b3-95800bdb3176/5...</td>\n",
       "      <td>RP-2080_PCYC_CH18</td>\n",
       "      <td>[gs://fc-e05bb351-48d8-405a-97b3-95800bdb3176/...</td>\n",
       "      <td>gs://fc-e05bb351-48d8-405a-97b3-95800bdb3176/5...</td>\n",
       "      <td>gs://fc-e05bb351-48d8-405a-97b3-95800bdb3176/5...</td>\n",
       "      <td>...</td>\n",
       "      <td>[18, 27]</td>\n",
       "      <td>0</td>\n",
       "      <td>gs://fc-e05bb351-48d8-405a-97b3-95800bdb3176/5...</td>\n",
       "      <td>gs://fc-e05bb351-48d8-405a-97b3-95800bdb3176/5...</td>\n",
       "      <td>gs://fc-e05bb351-48d8-405a-97b3-95800bdb3176/7...</td>\n",
       "      <td>45.21</td>\n",
       "      <td>gs://fc-e05bb351-48d8-405a-97b3-95800bdb3176/5...</td>\n",
       "      <td>gs://fc-e05bb351-48d8-405a-97b3-95800bdb3176/5...</td>\n",
       "      <td>gs://fc-e05bb351-48d8-405a-97b3-95800bdb3176/5...</td>\n",
       "      <td>NaN</td>\n",
       "    </tr>\n",
       "    <tr>\n",
       "      <th>RP-2080_PCYC_CH1_T_01_v2_Exome_OnPrem_pair</th>\n",
       "      <td>gs://fc-e05bb351-48d8-405a-97b3-95800bdb3176/5...</td>\n",
       "      <td>gs://fc-e05bb351-48d8-405a-97b3-95800bdb3176/5...</td>\n",
       "      <td>gs://fc-e05bb351-48d8-405a-97b3-95800bdb3176/5...</td>\n",
       "      <td>gs://fc-114522e7-10cc-413a-91aa-6c35cd653f4d/8...</td>\n",
       "      <td>gs://fc-e05bb351-48d8-405a-97b3-95800bdb3176/5...</td>\n",
       "      <td>gs://fc-e05bb351-48d8-405a-97b3-95800bdb3176/5...</td>\n",
       "      <td>RP-2080_PCYC_CH1</td>\n",
       "      <td>[gs://fc-e05bb351-48d8-405a-97b3-95800bdb3176/...</td>\n",
       "      <td>gs://fc-e05bb351-48d8-405a-97b3-95800bdb3176/5...</td>\n",
       "      <td>gs://fc-e05bb351-48d8-405a-97b3-95800bdb3176/5...</td>\n",
       "      <td>...</td>\n",
       "      <td>[6, 8]</td>\n",
       "      <td>0.02</td>\n",
       "      <td>gs://fc-e05bb351-48d8-405a-97b3-95800bdb3176/5...</td>\n",
       "      <td>gs://fc-e05bb351-48d8-405a-97b3-95800bdb3176/5...</td>\n",
       "      <td>gs://fc-e05bb351-48d8-405a-97b3-95800bdb3176/7...</td>\n",
       "      <td>47.43</td>\n",
       "      <td>gs://fc-e05bb351-48d8-405a-97b3-95800bdb3176/5...</td>\n",
       "      <td>gs://fc-e05bb351-48d8-405a-97b3-95800bdb3176/5...</td>\n",
       "      <td>gs://fc-e05bb351-48d8-405a-97b3-95800bdb3176/5...</td>\n",
       "      <td>NaN</td>\n",
       "    </tr>\n",
       "  </tbody>\n",
       "</table>\n",
       "<p>5 rows × 143 columns</p>\n",
       "</div>"
      ],
      "text/plain": [
       "                                                                            strelka_all_indels  \\\n",
       "pair_id                                                                                          \n",
       "RP-2080_PCYC_CH10_T_01_v2_Exome_OnPrem_pair  gs://fc-e05bb351-48d8-405a-97b3-95800bdb3176/9...   \n",
       "RP-2080_PCYC_CH10_T_02_v2_Exome_OnPrem_pair  gs://fc-e05bb351-48d8-405a-97b3-95800bdb3176/5...   \n",
       "RP-2080_PCYC_CH18_T_01_v2_Exome_OnPrem_pair  gs://fc-e05bb351-48d8-405a-97b3-95800bdb3176/5...   \n",
       "RP-2080_PCYC_CH18_T_02_v2_Exome_OnPrem_pair  gs://fc-e05bb351-48d8-405a-97b3-95800bdb3176/5...   \n",
       "RP-2080_PCYC_CH1_T_01_v2_Exome_OnPrem_pair   gs://fc-e05bb351-48d8-405a-97b3-95800bdb3176/5...   \n",
       "\n",
       "                                                         normal_bam_base_distribution_by_cycle  \\\n",
       "pair_id                                                                                          \n",
       "RP-2080_PCYC_CH10_T_01_v2_Exome_OnPrem_pair  gs://fc-e05bb351-48d8-405a-97b3-95800bdb3176/9...   \n",
       "RP-2080_PCYC_CH10_T_02_v2_Exome_OnPrem_pair  gs://fc-e05bb351-48d8-405a-97b3-95800bdb3176/5...   \n",
       "RP-2080_PCYC_CH18_T_01_v2_Exome_OnPrem_pair  gs://fc-e05bb351-48d8-405a-97b3-95800bdb3176/5...   \n",
       "RP-2080_PCYC_CH18_T_02_v2_Exome_OnPrem_pair  gs://fc-e05bb351-48d8-405a-97b3-95800bdb3176/5...   \n",
       "RP-2080_PCYC_CH1_T_01_v2_Exome_OnPrem_pair   gs://fc-e05bb351-48d8-405a-97b3-95800bdb3176/5...   \n",
       "\n",
       "                                                  tumor_bam_base_distribution_by_cycle_metrics  \\\n",
       "pair_id                                                                                          \n",
       "RP-2080_PCYC_CH10_T_01_v2_Exome_OnPrem_pair  gs://fc-e05bb351-48d8-405a-97b3-95800bdb3176/9...   \n",
       "RP-2080_PCYC_CH10_T_02_v2_Exome_OnPrem_pair  gs://fc-e05bb351-48d8-405a-97b3-95800bdb3176/5...   \n",
       "RP-2080_PCYC_CH18_T_01_v2_Exome_OnPrem_pair  gs://fc-e05bb351-48d8-405a-97b3-95800bdb3176/5...   \n",
       "RP-2080_PCYC_CH18_T_02_v2_Exome_OnPrem_pair  gs://fc-e05bb351-48d8-405a-97b3-95800bdb3176/5...   \n",
       "RP-2080_PCYC_CH1_T_01_v2_Exome_OnPrem_pair   gs://fc-e05bb351-48d8-405a-97b3-95800bdb3176/5...   \n",
       "\n",
       "                                                   unmatched_100pct_purity_MAF_Pass_muts_tonly  \\\n",
       "pair_id                                                                                          \n",
       "RP-2080_PCYC_CH10_T_01_v2_Exome_OnPrem_pair  gs://fc-114522e7-10cc-413a-91aa-6c35cd653f4d/8...   \n",
       "RP-2080_PCYC_CH10_T_02_v2_Exome_OnPrem_pair  gs://fc-114522e7-10cc-413a-91aa-6c35cd653f4d/8...   \n",
       "RP-2080_PCYC_CH18_T_01_v2_Exome_OnPrem_pair  gs://fc-114522e7-10cc-413a-91aa-6c35cd653f4d/8...   \n",
       "RP-2080_PCYC_CH18_T_02_v2_Exome_OnPrem_pair  gs://fc-114522e7-10cc-413a-91aa-6c35cd653f4d/8...   \n",
       "RP-2080_PCYC_CH1_T_01_v2_Exome_OnPrem_pair   gs://fc-114522e7-10cc-413a-91aa-6c35cd653f4d/8...   \n",
       "\n",
       "                                                                                mut_legos_html  \\\n",
       "pair_id                                                                                          \n",
       "RP-2080_PCYC_CH10_T_01_v2_Exome_OnPrem_pair  gs://fc-e05bb351-48d8-405a-97b3-95800bdb3176/9...   \n",
       "RP-2080_PCYC_CH10_T_02_v2_Exome_OnPrem_pair  gs://fc-e05bb351-48d8-405a-97b3-95800bdb3176/5...   \n",
       "RP-2080_PCYC_CH18_T_01_v2_Exome_OnPrem_pair  gs://fc-e05bb351-48d8-405a-97b3-95800bdb3176/5...   \n",
       "RP-2080_PCYC_CH18_T_02_v2_Exome_OnPrem_pair  gs://fc-e05bb351-48d8-405a-97b3-95800bdb3176/5...   \n",
       "RP-2080_PCYC_CH1_T_01_v2_Exome_OnPrem_pair   gs://fc-e05bb351-48d8-405a-97b3-95800bdb3176/5...   \n",
       "\n",
       "                                                          tumor_bam_base_distribution_by_cycle  \\\n",
       "pair_id                                                                                          \n",
       "RP-2080_PCYC_CH10_T_01_v2_Exome_OnPrem_pair  gs://fc-e05bb351-48d8-405a-97b3-95800bdb3176/9...   \n",
       "RP-2080_PCYC_CH10_T_02_v2_Exome_OnPrem_pair  gs://fc-e05bb351-48d8-405a-97b3-95800bdb3176/5...   \n",
       "RP-2080_PCYC_CH18_T_01_v2_Exome_OnPrem_pair  gs://fc-e05bb351-48d8-405a-97b3-95800bdb3176/5...   \n",
       "RP-2080_PCYC_CH18_T_02_v2_Exome_OnPrem_pair  gs://fc-e05bb351-48d8-405a-97b3-95800bdb3176/5...   \n",
       "RP-2080_PCYC_CH1_T_01_v2_Exome_OnPrem_pair   gs://fc-e05bb351-48d8-405a-97b3-95800bdb3176/5...   \n",
       "\n",
       "                                                   participant  \\\n",
       "pair_id                                                          \n",
       "RP-2080_PCYC_CH10_T_01_v2_Exome_OnPrem_pair  RP-2080_PCYC_CH10   \n",
       "RP-2080_PCYC_CH10_T_02_v2_Exome_OnPrem_pair  RP-2080_PCYC_CH10   \n",
       "RP-2080_PCYC_CH18_T_01_v2_Exome_OnPrem_pair  RP-2080_PCYC_CH18   \n",
       "RP-2080_PCYC_CH18_T_02_v2_Exome_OnPrem_pair  RP-2080_PCYC_CH18   \n",
       "RP-2080_PCYC_CH1_T_01_v2_Exome_OnPrem_pair    RP-2080_PCYC_CH1   \n",
       "\n",
       "                                                                              lego_plotter_ais  \\\n",
       "pair_id                                                                                          \n",
       "RP-2080_PCYC_CH10_T_01_v2_Exome_OnPrem_pair  [gs://fc-e05bb351-48d8-405a-97b3-95800bdb3176/...   \n",
       "RP-2080_PCYC_CH10_T_02_v2_Exome_OnPrem_pair  [gs://fc-e05bb351-48d8-405a-97b3-95800bdb3176/...   \n",
       "RP-2080_PCYC_CH18_T_01_v2_Exome_OnPrem_pair  [gs://fc-e05bb351-48d8-405a-97b3-95800bdb3176/...   \n",
       "RP-2080_PCYC_CH18_T_02_v2_Exome_OnPrem_pair  [gs://fc-e05bb351-48d8-405a-97b3-95800bdb3176/...   \n",
       "RP-2080_PCYC_CH1_T_01_v2_Exome_OnPrem_pair   [gs://fc-e05bb351-48d8-405a-97b3-95800bdb3176/...   \n",
       "\n",
       "                                                             tumor_bam_gc_bias_summary_metrics  \\\n",
       "pair_id                                                                                          \n",
       "RP-2080_PCYC_CH10_T_01_v2_Exome_OnPrem_pair  gs://fc-e05bb351-48d8-405a-97b3-95800bdb3176/9...   \n",
       "RP-2080_PCYC_CH10_T_02_v2_Exome_OnPrem_pair  gs://fc-e05bb351-48d8-405a-97b3-95800bdb3176/5...   \n",
       "RP-2080_PCYC_CH18_T_01_v2_Exome_OnPrem_pair  gs://fc-e05bb351-48d8-405a-97b3-95800bdb3176/5...   \n",
       "RP-2080_PCYC_CH18_T_02_v2_Exome_OnPrem_pair  gs://fc-e05bb351-48d8-405a-97b3-95800bdb3176/5...   \n",
       "RP-2080_PCYC_CH1_T_01_v2_Exome_OnPrem_pair   gs://fc-e05bb351-48d8-405a-97b3-95800bdb3176/5...   \n",
       "\n",
       "                                                                                  deTiN_indels  \\\n",
       "pair_id                                                                                          \n",
       "RP-2080_PCYC_CH10_T_01_v2_Exome_OnPrem_pair  gs://fc-e05bb351-48d8-405a-97b3-95800bdb3176/9...   \n",
       "RP-2080_PCYC_CH10_T_02_v2_Exome_OnPrem_pair  gs://fc-e05bb351-48d8-405a-97b3-95800bdb3176/5...   \n",
       "RP-2080_PCYC_CH18_T_01_v2_Exome_OnPrem_pair  gs://fc-e05bb351-48d8-405a-97b3-95800bdb3176/5...   \n",
       "RP-2080_PCYC_CH18_T_02_v2_Exome_OnPrem_pair  gs://fc-e05bb351-48d8-405a-97b3-95800bdb3176/5...   \n",
       "RP-2080_PCYC_CH1_T_01_v2_Exome_OnPrem_pair   gs://fc-e05bb351-48d8-405a-97b3-95800bdb3176/5...   \n",
       "\n",
       "                                             ... number_mutations_rejected  \\\n",
       "pair_id                                      ...                             \n",
       "RP-2080_PCYC_CH10_T_01_v2_Exome_OnPrem_pair  ...                  [15, 23]   \n",
       "RP-2080_PCYC_CH10_T_02_v2_Exome_OnPrem_pair  ...                  [18, 29]   \n",
       "RP-2080_PCYC_CH18_T_01_v2_Exome_OnPrem_pair  ...                  [27, 40]   \n",
       "RP-2080_PCYC_CH18_T_02_v2_Exome_OnPrem_pair  ...                  [18, 27]   \n",
       "RP-2080_PCYC_CH1_T_01_v2_Exome_OnPrem_pair   ...                    [6, 8]   \n",
       "\n",
       "                                              TiN  \\\n",
       "pair_id                                             \n",
       "RP-2080_PCYC_CH10_T_01_v2_Exome_OnPrem_pair  0.01   \n",
       "RP-2080_PCYC_CH10_T_02_v2_Exome_OnPrem_pair     0   \n",
       "RP-2080_PCYC_CH18_T_01_v2_Exome_OnPrem_pair  0.01   \n",
       "RP-2080_PCYC_CH18_T_02_v2_Exome_OnPrem_pair     0   \n",
       "RP-2080_PCYC_CH1_T_01_v2_Exome_OnPrem_pair   0.02   \n",
       "\n",
       "                                                          tumor_bam_pre_adapter_detail_metrics  \\\n",
       "pair_id                                                                                          \n",
       "RP-2080_PCYC_CH10_T_01_v2_Exome_OnPrem_pair  gs://fc-e05bb351-48d8-405a-97b3-95800bdb3176/9...   \n",
       "RP-2080_PCYC_CH10_T_02_v2_Exome_OnPrem_pair  gs://fc-e05bb351-48d8-405a-97b3-95800bdb3176/5...   \n",
       "RP-2080_PCYC_CH18_T_01_v2_Exome_OnPrem_pair  gs://fc-e05bb351-48d8-405a-97b3-95800bdb3176/5...   \n",
       "RP-2080_PCYC_CH18_T_02_v2_Exome_OnPrem_pair  gs://fc-e05bb351-48d8-405a-97b3-95800bdb3176/5...   \n",
       "RP-2080_PCYC_CH1_T_01_v2_Exome_OnPrem_pair   gs://fc-e05bb351-48d8-405a-97b3-95800bdb3176/5...   \n",
       "\n",
       "                                                                         absolute_highres_plot  \\\n",
       "pair_id                                                                                          \n",
       "RP-2080_PCYC_CH10_T_01_v2_Exome_OnPrem_pair  gs://fc-e05bb351-48d8-405a-97b3-95800bdb3176/9...   \n",
       "RP-2080_PCYC_CH10_T_02_v2_Exome_OnPrem_pair  gs://fc-e05bb351-48d8-405a-97b3-95800bdb3176/5...   \n",
       "RP-2080_PCYC_CH18_T_01_v2_Exome_OnPrem_pair  gs://fc-e05bb351-48d8-405a-97b3-95800bdb3176/5...   \n",
       "RP-2080_PCYC_CH18_T_02_v2_Exome_OnPrem_pair  gs://fc-e05bb351-48d8-405a-97b3-95800bdb3176/5...   \n",
       "RP-2080_PCYC_CH1_T_01_v2_Exome_OnPrem_pair   gs://fc-e05bb351-48d8-405a-97b3-95800bdb3176/5...   \n",
       "\n",
       "                                                                absolute_annotated_maf_capture  \\\n",
       "pair_id                                                                                          \n",
       "RP-2080_PCYC_CH10_T_01_v2_Exome_OnPrem_pair  gs://fc-e05bb351-48d8-405a-97b3-95800bdb3176/7...   \n",
       "RP-2080_PCYC_CH10_T_02_v2_Exome_OnPrem_pair  gs://fc-e05bb351-48d8-405a-97b3-95800bdb3176/7...   \n",
       "RP-2080_PCYC_CH18_T_01_v2_Exome_OnPrem_pair  gs://fc-e05bb351-48d8-405a-97b3-95800bdb3176/7...   \n",
       "RP-2080_PCYC_CH18_T_02_v2_Exome_OnPrem_pair  gs://fc-e05bb351-48d8-405a-97b3-95800bdb3176/7...   \n",
       "RP-2080_PCYC_CH1_T_01_v2_Exome_OnPrem_pair   gs://fc-e05bb351-48d8-405a-97b3-95800bdb3176/7...   \n",
       "\n",
       "                                            ffpe_OBF_q_val  \\\n",
       "pair_id                                                      \n",
       "RP-2080_PCYC_CH10_T_01_v2_Exome_OnPrem_pair          44.91   \n",
       "RP-2080_PCYC_CH10_T_02_v2_Exome_OnPrem_pair          46.26   \n",
       "RP-2080_PCYC_CH18_T_01_v2_Exome_OnPrem_pair          46.82   \n",
       "RP-2080_PCYC_CH18_T_02_v2_Exome_OnPrem_pair          45.21   \n",
       "RP-2080_PCYC_CH1_T_01_v2_Exome_OnPrem_pair           47.43   \n",
       "\n",
       "                                                                             deTiN_aSCNA_model  \\\n",
       "pair_id                                                                                          \n",
       "RP-2080_PCYC_CH10_T_01_v2_Exome_OnPrem_pair  gs://fc-e05bb351-48d8-405a-97b3-95800bdb3176/9...   \n",
       "RP-2080_PCYC_CH10_T_02_v2_Exome_OnPrem_pair  gs://fc-e05bb351-48d8-405a-97b3-95800bdb3176/5...   \n",
       "RP-2080_PCYC_CH18_T_01_v2_Exome_OnPrem_pair  gs://fc-e05bb351-48d8-405a-97b3-95800bdb3176/5...   \n",
       "RP-2080_PCYC_CH18_T_02_v2_Exome_OnPrem_pair  gs://fc-e05bb351-48d8-405a-97b3-95800bdb3176/5...   \n",
       "RP-2080_PCYC_CH1_T_01_v2_Exome_OnPrem_pair   gs://fc-e05bb351-48d8-405a-97b3-95800bdb3176/5...   \n",
       "\n",
       "                                                        ffpe_OBF_passed_and_rejected_mutations  \\\n",
       "pair_id                                                                                          \n",
       "RP-2080_PCYC_CH10_T_01_v2_Exome_OnPrem_pair  gs://fc-e05bb351-48d8-405a-97b3-95800bdb3176/9...   \n",
       "RP-2080_PCYC_CH10_T_02_v2_Exome_OnPrem_pair  gs://fc-e05bb351-48d8-405a-97b3-95800bdb3176/5...   \n",
       "RP-2080_PCYC_CH18_T_01_v2_Exome_OnPrem_pair  gs://fc-e05bb351-48d8-405a-97b3-95800bdb3176/5...   \n",
       "RP-2080_PCYC_CH18_T_02_v2_Exome_OnPrem_pair  gs://fc-e05bb351-48d8-405a-97b3-95800bdb3176/5...   \n",
       "RP-2080_PCYC_CH1_T_01_v2_Exome_OnPrem_pair   gs://fc-e05bb351-48d8-405a-97b3-95800bdb3176/5...   \n",
       "\n",
       "                                                                 all_filters_passed_merged_maf  \\\n",
       "pair_id                                                                                          \n",
       "RP-2080_PCYC_CH10_T_01_v2_Exome_OnPrem_pair  gs://fc-e05bb351-48d8-405a-97b3-95800bdb3176/9...   \n",
       "RP-2080_PCYC_CH10_T_02_v2_Exome_OnPrem_pair  gs://fc-e05bb351-48d8-405a-97b3-95800bdb3176/5...   \n",
       "RP-2080_PCYC_CH18_T_01_v2_Exome_OnPrem_pair  gs://fc-e05bb351-48d8-405a-97b3-95800bdb3176/5...   \n",
       "RP-2080_PCYC_CH18_T_02_v2_Exome_OnPrem_pair  gs://fc-e05bb351-48d8-405a-97b3-95800bdb3176/5...   \n",
       "RP-2080_PCYC_CH1_T_01_v2_Exome_OnPrem_pair   gs://fc-e05bb351-48d8-405a-97b3-95800bdb3176/5...   \n",
       "\n",
       "                                             absolute_called_solution_capture_notes  \n",
       "pair_id                                                                              \n",
       "RP-2080_PCYC_CH10_T_01_v2_Exome_OnPrem_pair                                     NaN  \n",
       "RP-2080_PCYC_CH10_T_02_v2_Exome_OnPrem_pair                                     NaN  \n",
       "RP-2080_PCYC_CH18_T_01_v2_Exome_OnPrem_pair                                     NaN  \n",
       "RP-2080_PCYC_CH18_T_02_v2_Exome_OnPrem_pair                                     NaN  \n",
       "RP-2080_PCYC_CH1_T_01_v2_Exome_OnPrem_pair                                      NaN  \n",
       "\n",
       "[5 rows x 143 columns]"
      ]
     },
     "metadata": {},
     "output_type": "display_data"
    }
   ],
   "source": [
    "workspace = 'broad-getzlab-pcyc-terra/Getz_Wu_CLL_Pharmacyclics_Exomes_Analysis_8_tumor_only'\n",
    "pcyc_wm = dalmatian.WorkspaceManager(workspace)\n",
    "pcyc_wm_pairs_df = pcyc_wm.get_pairs()\n",
    "display(pcyc_wm_pairs_df.head())"
   ]
  },
  {
   "cell_type": "code",
   "execution_count": 38,
   "id": "0b3a4bb7",
   "metadata": {},
   "outputs": [
    {
     "name": "stderr",
     "output_type": "stream",
     "text": [
      "/home/cchu/cgaprojects_ibm_tAML_analysis/src/getzlab-JupyterReviewer/src/ReviewData.py:99: UserWarning:\n",
      "\n",
      "Input data dataframe shares columns with existing data, but are not equal.\n",
      "Only adding columns [] to the ReviewData.data dataframe\n",
      "Remaining columns are not going to be updated.If you intend to change the ReviewData.data attribute, make a new session directory and prefill the annotation data\n",
      "\n"
     ]
    }
   ],
   "source": [
    "review_session_dir = '/home/cchu/cgaprojects_ibm_tAML_analysis/data/test_getzlab-JupyterReviewer/Purity_Reviewer_Tutorial'\n",
    "\n",
    "rd = MatchedPurityReviewer.gen_review_data_object(session_dir=review_session_dir, \n",
    "                                                   df=pcyc_wm_pairs_df, \n",
    "                                                   more_annot_cols={'flags': ReviewDataAnnotation('radioitem', \n",
    "                                                                                                  options=['Confident', 'Unsure', 'No purity call'])})\n",
    "\n",
    "# Optionally prefill\n",
    "# rd.pre_fill_annot()\n"
   ]
  },
  {
   "cell_type": "code",
   "execution_count": 39,
   "id": "d1f446e7",
   "metadata": {},
   "outputs": [
    {
     "data": {
      "text/html": [
       "<div>\n",
       "<style scoped>\n",
       "    .dataframe tbody tr th:only-of-type {\n",
       "        vertical-align: middle;\n",
       "    }\n",
       "\n",
       "    .dataframe tbody tr th {\n",
       "        vertical-align: top;\n",
       "    }\n",
       "\n",
       "    .dataframe thead th {\n",
       "        text-align: right;\n",
       "    }\n",
       "</style>\n",
       "<table border=\"1\" class=\"dataframe\">\n",
       "  <thead>\n",
       "    <tr style=\"text-align: right;\">\n",
       "      <th></th>\n",
       "      <th>strelka_all_indels</th>\n",
       "      <th>normal_bam_base_distribution_by_cycle</th>\n",
       "      <th>tumor_bam_base_distribution_by_cycle_metrics</th>\n",
       "      <th>unmatched_100pct_purity_MAF_Pass_muts_tonly</th>\n",
       "      <th>mut_legos_html</th>\n",
       "      <th>tumor_bam_base_distribution_by_cycle</th>\n",
       "      <th>participant</th>\n",
       "      <th>lego_plotter_ais</th>\n",
       "      <th>tumor_bam_gc_bias_summary_metrics</th>\n",
       "      <th>deTiN_indels</th>\n",
       "      <th>...</th>\n",
       "      <th>number_mutations_rejected</th>\n",
       "      <th>TiN</th>\n",
       "      <th>tumor_bam_pre_adapter_detail_metrics</th>\n",
       "      <th>absolute_highres_plot</th>\n",
       "      <th>absolute_annotated_maf_capture</th>\n",
       "      <th>ffpe_OBF_q_val</th>\n",
       "      <th>deTiN_aSCNA_model</th>\n",
       "      <th>ffpe_OBF_passed_and_rejected_mutations</th>\n",
       "      <th>all_filters_passed_merged_maf</th>\n",
       "      <th>absolute_called_solution_capture_notes</th>\n",
       "    </tr>\n",
       "    <tr>\n",
       "      <th>pair_id</th>\n",
       "      <th></th>\n",
       "      <th></th>\n",
       "      <th></th>\n",
       "      <th></th>\n",
       "      <th></th>\n",
       "      <th></th>\n",
       "      <th></th>\n",
       "      <th></th>\n",
       "      <th></th>\n",
       "      <th></th>\n",
       "      <th></th>\n",
       "      <th></th>\n",
       "      <th></th>\n",
       "      <th></th>\n",
       "      <th></th>\n",
       "      <th></th>\n",
       "      <th></th>\n",
       "      <th></th>\n",
       "      <th></th>\n",
       "      <th></th>\n",
       "      <th></th>\n",
       "    </tr>\n",
       "  </thead>\n",
       "  <tbody>\n",
       "    <tr>\n",
       "      <th>RP-2080_PCYC_CH10_T_01_v2_Exome_OnPrem_pair</th>\n",
       "      <td>gs://fc-e05bb351-48d8-405a-97b3-95800bdb3176/9...</td>\n",
       "      <td>gs://fc-e05bb351-48d8-405a-97b3-95800bdb3176/9...</td>\n",
       "      <td>gs://fc-e05bb351-48d8-405a-97b3-95800bdb3176/9...</td>\n",
       "      <td>gs://fc-114522e7-10cc-413a-91aa-6c35cd653f4d/8...</td>\n",
       "      <td>gs://fc-e05bb351-48d8-405a-97b3-95800bdb3176/9...</td>\n",
       "      <td>gs://fc-e05bb351-48d8-405a-97b3-95800bdb3176/9...</td>\n",
       "      <td>RP-2080_PCYC_CH10</td>\n",
       "      <td>['gs://fc-e05bb351-48d8-405a-97b3-95800bdb3176...</td>\n",
       "      <td>gs://fc-e05bb351-48d8-405a-97b3-95800bdb3176/9...</td>\n",
       "      <td>gs://fc-e05bb351-48d8-405a-97b3-95800bdb3176/9...</td>\n",
       "      <td>...</td>\n",
       "      <td>[15, 23]</td>\n",
       "      <td>0.01</td>\n",
       "      <td>gs://fc-e05bb351-48d8-405a-97b3-95800bdb3176/9...</td>\n",
       "      <td>gs://fc-e05bb351-48d8-405a-97b3-95800bdb3176/9...</td>\n",
       "      <td>gs://fc-e05bb351-48d8-405a-97b3-95800bdb3176/7...</td>\n",
       "      <td>44.91</td>\n",
       "      <td>gs://fc-e05bb351-48d8-405a-97b3-95800bdb3176/9...</td>\n",
       "      <td>gs://fc-e05bb351-48d8-405a-97b3-95800bdb3176/9...</td>\n",
       "      <td>gs://fc-e05bb351-48d8-405a-97b3-95800bdb3176/9...</td>\n",
       "      <td>NaN</td>\n",
       "    </tr>\n",
       "    <tr>\n",
       "      <th>RP-2080_PCYC_CH10_T_02_v2_Exome_OnPrem_pair</th>\n",
       "      <td>gs://fc-e05bb351-48d8-405a-97b3-95800bdb3176/5...</td>\n",
       "      <td>gs://fc-e05bb351-48d8-405a-97b3-95800bdb3176/5...</td>\n",
       "      <td>gs://fc-e05bb351-48d8-405a-97b3-95800bdb3176/5...</td>\n",
       "      <td>gs://fc-114522e7-10cc-413a-91aa-6c35cd653f4d/8...</td>\n",
       "      <td>gs://fc-e05bb351-48d8-405a-97b3-95800bdb3176/5...</td>\n",
       "      <td>gs://fc-e05bb351-48d8-405a-97b3-95800bdb3176/5...</td>\n",
       "      <td>RP-2080_PCYC_CH10</td>\n",
       "      <td>['gs://fc-e05bb351-48d8-405a-97b3-95800bdb3176...</td>\n",
       "      <td>gs://fc-e05bb351-48d8-405a-97b3-95800bdb3176/5...</td>\n",
       "      <td>gs://fc-e05bb351-48d8-405a-97b3-95800bdb3176/5...</td>\n",
       "      <td>...</td>\n",
       "      <td>[18, 29]</td>\n",
       "      <td>0.00</td>\n",
       "      <td>gs://fc-e05bb351-48d8-405a-97b3-95800bdb3176/5...</td>\n",
       "      <td>gs://fc-e05bb351-48d8-405a-97b3-95800bdb3176/5...</td>\n",
       "      <td>gs://fc-e05bb351-48d8-405a-97b3-95800bdb3176/7...</td>\n",
       "      <td>46.26</td>\n",
       "      <td>gs://fc-e05bb351-48d8-405a-97b3-95800bdb3176/5...</td>\n",
       "      <td>gs://fc-e05bb351-48d8-405a-97b3-95800bdb3176/5...</td>\n",
       "      <td>gs://fc-e05bb351-48d8-405a-97b3-95800bdb3176/5...</td>\n",
       "      <td>NaN</td>\n",
       "    </tr>\n",
       "    <tr>\n",
       "      <th>RP-2080_PCYC_CH18_T_01_v2_Exome_OnPrem_pair</th>\n",
       "      <td>gs://fc-e05bb351-48d8-405a-97b3-95800bdb3176/5...</td>\n",
       "      <td>gs://fc-e05bb351-48d8-405a-97b3-95800bdb3176/5...</td>\n",
       "      <td>gs://fc-e05bb351-48d8-405a-97b3-95800bdb3176/5...</td>\n",
       "      <td>gs://fc-114522e7-10cc-413a-91aa-6c35cd653f4d/8...</td>\n",
       "      <td>gs://fc-e05bb351-48d8-405a-97b3-95800bdb3176/5...</td>\n",
       "      <td>gs://fc-e05bb351-48d8-405a-97b3-95800bdb3176/5...</td>\n",
       "      <td>RP-2080_PCYC_CH18</td>\n",
       "      <td>['gs://fc-e05bb351-48d8-405a-97b3-95800bdb3176...</td>\n",
       "      <td>gs://fc-e05bb351-48d8-405a-97b3-95800bdb3176/5...</td>\n",
       "      <td>gs://fc-e05bb351-48d8-405a-97b3-95800bdb3176/5...</td>\n",
       "      <td>...</td>\n",
       "      <td>[27, 40]</td>\n",
       "      <td>0.01</td>\n",
       "      <td>gs://fc-e05bb351-48d8-405a-97b3-95800bdb3176/5...</td>\n",
       "      <td>gs://fc-e05bb351-48d8-405a-97b3-95800bdb3176/5...</td>\n",
       "      <td>gs://fc-e05bb351-48d8-405a-97b3-95800bdb3176/7...</td>\n",
       "      <td>46.82</td>\n",
       "      <td>gs://fc-e05bb351-48d8-405a-97b3-95800bdb3176/5...</td>\n",
       "      <td>gs://fc-e05bb351-48d8-405a-97b3-95800bdb3176/5...</td>\n",
       "      <td>gs://fc-e05bb351-48d8-405a-97b3-95800bdb3176/5...</td>\n",
       "      <td>NaN</td>\n",
       "    </tr>\n",
       "    <tr>\n",
       "      <th>RP-2080_PCYC_CH18_T_02_v2_Exome_OnPrem_pair</th>\n",
       "      <td>gs://fc-e05bb351-48d8-405a-97b3-95800bdb3176/5...</td>\n",
       "      <td>gs://fc-e05bb351-48d8-405a-97b3-95800bdb3176/5...</td>\n",
       "      <td>gs://fc-e05bb351-48d8-405a-97b3-95800bdb3176/5...</td>\n",
       "      <td>gs://fc-114522e7-10cc-413a-91aa-6c35cd653f4d/8...</td>\n",
       "      <td>gs://fc-e05bb351-48d8-405a-97b3-95800bdb3176/5...</td>\n",
       "      <td>gs://fc-e05bb351-48d8-405a-97b3-95800bdb3176/5...</td>\n",
       "      <td>RP-2080_PCYC_CH18</td>\n",
       "      <td>['gs://fc-e05bb351-48d8-405a-97b3-95800bdb3176...</td>\n",
       "      <td>gs://fc-e05bb351-48d8-405a-97b3-95800bdb3176/5...</td>\n",
       "      <td>gs://fc-e05bb351-48d8-405a-97b3-95800bdb3176/5...</td>\n",
       "      <td>...</td>\n",
       "      <td>[18, 27]</td>\n",
       "      <td>0.00</td>\n",
       "      <td>gs://fc-e05bb351-48d8-405a-97b3-95800bdb3176/5...</td>\n",
       "      <td>gs://fc-e05bb351-48d8-405a-97b3-95800bdb3176/5...</td>\n",
       "      <td>gs://fc-e05bb351-48d8-405a-97b3-95800bdb3176/7...</td>\n",
       "      <td>45.21</td>\n",
       "      <td>gs://fc-e05bb351-48d8-405a-97b3-95800bdb3176/5...</td>\n",
       "      <td>gs://fc-e05bb351-48d8-405a-97b3-95800bdb3176/5...</td>\n",
       "      <td>gs://fc-e05bb351-48d8-405a-97b3-95800bdb3176/5...</td>\n",
       "      <td>NaN</td>\n",
       "    </tr>\n",
       "    <tr>\n",
       "      <th>RP-2080_PCYC_CH1_T_01_v2_Exome_OnPrem_pair</th>\n",
       "      <td>gs://fc-e05bb351-48d8-405a-97b3-95800bdb3176/5...</td>\n",
       "      <td>gs://fc-e05bb351-48d8-405a-97b3-95800bdb3176/5...</td>\n",
       "      <td>gs://fc-e05bb351-48d8-405a-97b3-95800bdb3176/5...</td>\n",
       "      <td>gs://fc-114522e7-10cc-413a-91aa-6c35cd653f4d/8...</td>\n",
       "      <td>gs://fc-e05bb351-48d8-405a-97b3-95800bdb3176/5...</td>\n",
       "      <td>gs://fc-e05bb351-48d8-405a-97b3-95800bdb3176/5...</td>\n",
       "      <td>RP-2080_PCYC_CH1</td>\n",
       "      <td>['gs://fc-e05bb351-48d8-405a-97b3-95800bdb3176...</td>\n",
       "      <td>gs://fc-e05bb351-48d8-405a-97b3-95800bdb3176/5...</td>\n",
       "      <td>gs://fc-e05bb351-48d8-405a-97b3-95800bdb3176/5...</td>\n",
       "      <td>...</td>\n",
       "      <td>[6, 8]</td>\n",
       "      <td>0.02</td>\n",
       "      <td>gs://fc-e05bb351-48d8-405a-97b3-95800bdb3176/5...</td>\n",
       "      <td>gs://fc-e05bb351-48d8-405a-97b3-95800bdb3176/5...</td>\n",
       "      <td>gs://fc-e05bb351-48d8-405a-97b3-95800bdb3176/7...</td>\n",
       "      <td>47.43</td>\n",
       "      <td>gs://fc-e05bb351-48d8-405a-97b3-95800bdb3176/5...</td>\n",
       "      <td>gs://fc-e05bb351-48d8-405a-97b3-95800bdb3176/5...</td>\n",
       "      <td>gs://fc-e05bb351-48d8-405a-97b3-95800bdb3176/5...</td>\n",
       "      <td>NaN</td>\n",
       "    </tr>\n",
       "  </tbody>\n",
       "</table>\n",
       "<p>5 rows × 143 columns</p>\n",
       "</div>"
      ],
      "text/plain": [
       "                                                                            strelka_all_indels  \\\n",
       "pair_id                                                                                          \n",
       "RP-2080_PCYC_CH10_T_01_v2_Exome_OnPrem_pair  gs://fc-e05bb351-48d8-405a-97b3-95800bdb3176/9...   \n",
       "RP-2080_PCYC_CH10_T_02_v2_Exome_OnPrem_pair  gs://fc-e05bb351-48d8-405a-97b3-95800bdb3176/5...   \n",
       "RP-2080_PCYC_CH18_T_01_v2_Exome_OnPrem_pair  gs://fc-e05bb351-48d8-405a-97b3-95800bdb3176/5...   \n",
       "RP-2080_PCYC_CH18_T_02_v2_Exome_OnPrem_pair  gs://fc-e05bb351-48d8-405a-97b3-95800bdb3176/5...   \n",
       "RP-2080_PCYC_CH1_T_01_v2_Exome_OnPrem_pair   gs://fc-e05bb351-48d8-405a-97b3-95800bdb3176/5...   \n",
       "\n",
       "                                                         normal_bam_base_distribution_by_cycle  \\\n",
       "pair_id                                                                                          \n",
       "RP-2080_PCYC_CH10_T_01_v2_Exome_OnPrem_pair  gs://fc-e05bb351-48d8-405a-97b3-95800bdb3176/9...   \n",
       "RP-2080_PCYC_CH10_T_02_v2_Exome_OnPrem_pair  gs://fc-e05bb351-48d8-405a-97b3-95800bdb3176/5...   \n",
       "RP-2080_PCYC_CH18_T_01_v2_Exome_OnPrem_pair  gs://fc-e05bb351-48d8-405a-97b3-95800bdb3176/5...   \n",
       "RP-2080_PCYC_CH18_T_02_v2_Exome_OnPrem_pair  gs://fc-e05bb351-48d8-405a-97b3-95800bdb3176/5...   \n",
       "RP-2080_PCYC_CH1_T_01_v2_Exome_OnPrem_pair   gs://fc-e05bb351-48d8-405a-97b3-95800bdb3176/5...   \n",
       "\n",
       "                                                  tumor_bam_base_distribution_by_cycle_metrics  \\\n",
       "pair_id                                                                                          \n",
       "RP-2080_PCYC_CH10_T_01_v2_Exome_OnPrem_pair  gs://fc-e05bb351-48d8-405a-97b3-95800bdb3176/9...   \n",
       "RP-2080_PCYC_CH10_T_02_v2_Exome_OnPrem_pair  gs://fc-e05bb351-48d8-405a-97b3-95800bdb3176/5...   \n",
       "RP-2080_PCYC_CH18_T_01_v2_Exome_OnPrem_pair  gs://fc-e05bb351-48d8-405a-97b3-95800bdb3176/5...   \n",
       "RP-2080_PCYC_CH18_T_02_v2_Exome_OnPrem_pair  gs://fc-e05bb351-48d8-405a-97b3-95800bdb3176/5...   \n",
       "RP-2080_PCYC_CH1_T_01_v2_Exome_OnPrem_pair   gs://fc-e05bb351-48d8-405a-97b3-95800bdb3176/5...   \n",
       "\n",
       "                                                   unmatched_100pct_purity_MAF_Pass_muts_tonly  \\\n",
       "pair_id                                                                                          \n",
       "RP-2080_PCYC_CH10_T_01_v2_Exome_OnPrem_pair  gs://fc-114522e7-10cc-413a-91aa-6c35cd653f4d/8...   \n",
       "RP-2080_PCYC_CH10_T_02_v2_Exome_OnPrem_pair  gs://fc-114522e7-10cc-413a-91aa-6c35cd653f4d/8...   \n",
       "RP-2080_PCYC_CH18_T_01_v2_Exome_OnPrem_pair  gs://fc-114522e7-10cc-413a-91aa-6c35cd653f4d/8...   \n",
       "RP-2080_PCYC_CH18_T_02_v2_Exome_OnPrem_pair  gs://fc-114522e7-10cc-413a-91aa-6c35cd653f4d/8...   \n",
       "RP-2080_PCYC_CH1_T_01_v2_Exome_OnPrem_pair   gs://fc-114522e7-10cc-413a-91aa-6c35cd653f4d/8...   \n",
       "\n",
       "                                                                                mut_legos_html  \\\n",
       "pair_id                                                                                          \n",
       "RP-2080_PCYC_CH10_T_01_v2_Exome_OnPrem_pair  gs://fc-e05bb351-48d8-405a-97b3-95800bdb3176/9...   \n",
       "RP-2080_PCYC_CH10_T_02_v2_Exome_OnPrem_pair  gs://fc-e05bb351-48d8-405a-97b3-95800bdb3176/5...   \n",
       "RP-2080_PCYC_CH18_T_01_v2_Exome_OnPrem_pair  gs://fc-e05bb351-48d8-405a-97b3-95800bdb3176/5...   \n",
       "RP-2080_PCYC_CH18_T_02_v2_Exome_OnPrem_pair  gs://fc-e05bb351-48d8-405a-97b3-95800bdb3176/5...   \n",
       "RP-2080_PCYC_CH1_T_01_v2_Exome_OnPrem_pair   gs://fc-e05bb351-48d8-405a-97b3-95800bdb3176/5...   \n",
       "\n",
       "                                                          tumor_bam_base_distribution_by_cycle  \\\n",
       "pair_id                                                                                          \n",
       "RP-2080_PCYC_CH10_T_01_v2_Exome_OnPrem_pair  gs://fc-e05bb351-48d8-405a-97b3-95800bdb3176/9...   \n",
       "RP-2080_PCYC_CH10_T_02_v2_Exome_OnPrem_pair  gs://fc-e05bb351-48d8-405a-97b3-95800bdb3176/5...   \n",
       "RP-2080_PCYC_CH18_T_01_v2_Exome_OnPrem_pair  gs://fc-e05bb351-48d8-405a-97b3-95800bdb3176/5...   \n",
       "RP-2080_PCYC_CH18_T_02_v2_Exome_OnPrem_pair  gs://fc-e05bb351-48d8-405a-97b3-95800bdb3176/5...   \n",
       "RP-2080_PCYC_CH1_T_01_v2_Exome_OnPrem_pair   gs://fc-e05bb351-48d8-405a-97b3-95800bdb3176/5...   \n",
       "\n",
       "                                                   participant  \\\n",
       "pair_id                                                          \n",
       "RP-2080_PCYC_CH10_T_01_v2_Exome_OnPrem_pair  RP-2080_PCYC_CH10   \n",
       "RP-2080_PCYC_CH10_T_02_v2_Exome_OnPrem_pair  RP-2080_PCYC_CH10   \n",
       "RP-2080_PCYC_CH18_T_01_v2_Exome_OnPrem_pair  RP-2080_PCYC_CH18   \n",
       "RP-2080_PCYC_CH18_T_02_v2_Exome_OnPrem_pair  RP-2080_PCYC_CH18   \n",
       "RP-2080_PCYC_CH1_T_01_v2_Exome_OnPrem_pair    RP-2080_PCYC_CH1   \n",
       "\n",
       "                                                                              lego_plotter_ais  \\\n",
       "pair_id                                                                                          \n",
       "RP-2080_PCYC_CH10_T_01_v2_Exome_OnPrem_pair  ['gs://fc-e05bb351-48d8-405a-97b3-95800bdb3176...   \n",
       "RP-2080_PCYC_CH10_T_02_v2_Exome_OnPrem_pair  ['gs://fc-e05bb351-48d8-405a-97b3-95800bdb3176...   \n",
       "RP-2080_PCYC_CH18_T_01_v2_Exome_OnPrem_pair  ['gs://fc-e05bb351-48d8-405a-97b3-95800bdb3176...   \n",
       "RP-2080_PCYC_CH18_T_02_v2_Exome_OnPrem_pair  ['gs://fc-e05bb351-48d8-405a-97b3-95800bdb3176...   \n",
       "RP-2080_PCYC_CH1_T_01_v2_Exome_OnPrem_pair   ['gs://fc-e05bb351-48d8-405a-97b3-95800bdb3176...   \n",
       "\n",
       "                                                             tumor_bam_gc_bias_summary_metrics  \\\n",
       "pair_id                                                                                          \n",
       "RP-2080_PCYC_CH10_T_01_v2_Exome_OnPrem_pair  gs://fc-e05bb351-48d8-405a-97b3-95800bdb3176/9...   \n",
       "RP-2080_PCYC_CH10_T_02_v2_Exome_OnPrem_pair  gs://fc-e05bb351-48d8-405a-97b3-95800bdb3176/5...   \n",
       "RP-2080_PCYC_CH18_T_01_v2_Exome_OnPrem_pair  gs://fc-e05bb351-48d8-405a-97b3-95800bdb3176/5...   \n",
       "RP-2080_PCYC_CH18_T_02_v2_Exome_OnPrem_pair  gs://fc-e05bb351-48d8-405a-97b3-95800bdb3176/5...   \n",
       "RP-2080_PCYC_CH1_T_01_v2_Exome_OnPrem_pair   gs://fc-e05bb351-48d8-405a-97b3-95800bdb3176/5...   \n",
       "\n",
       "                                                                                  deTiN_indels  \\\n",
       "pair_id                                                                                          \n",
       "RP-2080_PCYC_CH10_T_01_v2_Exome_OnPrem_pair  gs://fc-e05bb351-48d8-405a-97b3-95800bdb3176/9...   \n",
       "RP-2080_PCYC_CH10_T_02_v2_Exome_OnPrem_pair  gs://fc-e05bb351-48d8-405a-97b3-95800bdb3176/5...   \n",
       "RP-2080_PCYC_CH18_T_01_v2_Exome_OnPrem_pair  gs://fc-e05bb351-48d8-405a-97b3-95800bdb3176/5...   \n",
       "RP-2080_PCYC_CH18_T_02_v2_Exome_OnPrem_pair  gs://fc-e05bb351-48d8-405a-97b3-95800bdb3176/5...   \n",
       "RP-2080_PCYC_CH1_T_01_v2_Exome_OnPrem_pair   gs://fc-e05bb351-48d8-405a-97b3-95800bdb3176/5...   \n",
       "\n",
       "                                             ... number_mutations_rejected  \\\n",
       "pair_id                                      ...                             \n",
       "RP-2080_PCYC_CH10_T_01_v2_Exome_OnPrem_pair  ...                  [15, 23]   \n",
       "RP-2080_PCYC_CH10_T_02_v2_Exome_OnPrem_pair  ...                  [18, 29]   \n",
       "RP-2080_PCYC_CH18_T_01_v2_Exome_OnPrem_pair  ...                  [27, 40]   \n",
       "RP-2080_PCYC_CH18_T_02_v2_Exome_OnPrem_pair  ...                  [18, 27]   \n",
       "RP-2080_PCYC_CH1_T_01_v2_Exome_OnPrem_pair   ...                    [6, 8]   \n",
       "\n",
       "                                              TiN  \\\n",
       "pair_id                                             \n",
       "RP-2080_PCYC_CH10_T_01_v2_Exome_OnPrem_pair  0.01   \n",
       "RP-2080_PCYC_CH10_T_02_v2_Exome_OnPrem_pair  0.00   \n",
       "RP-2080_PCYC_CH18_T_01_v2_Exome_OnPrem_pair  0.01   \n",
       "RP-2080_PCYC_CH18_T_02_v2_Exome_OnPrem_pair  0.00   \n",
       "RP-2080_PCYC_CH1_T_01_v2_Exome_OnPrem_pair   0.02   \n",
       "\n",
       "                                                          tumor_bam_pre_adapter_detail_metrics  \\\n",
       "pair_id                                                                                          \n",
       "RP-2080_PCYC_CH10_T_01_v2_Exome_OnPrem_pair  gs://fc-e05bb351-48d8-405a-97b3-95800bdb3176/9...   \n",
       "RP-2080_PCYC_CH10_T_02_v2_Exome_OnPrem_pair  gs://fc-e05bb351-48d8-405a-97b3-95800bdb3176/5...   \n",
       "RP-2080_PCYC_CH18_T_01_v2_Exome_OnPrem_pair  gs://fc-e05bb351-48d8-405a-97b3-95800bdb3176/5...   \n",
       "RP-2080_PCYC_CH18_T_02_v2_Exome_OnPrem_pair  gs://fc-e05bb351-48d8-405a-97b3-95800bdb3176/5...   \n",
       "RP-2080_PCYC_CH1_T_01_v2_Exome_OnPrem_pair   gs://fc-e05bb351-48d8-405a-97b3-95800bdb3176/5...   \n",
       "\n",
       "                                                                         absolute_highres_plot  \\\n",
       "pair_id                                                                                          \n",
       "RP-2080_PCYC_CH10_T_01_v2_Exome_OnPrem_pair  gs://fc-e05bb351-48d8-405a-97b3-95800bdb3176/9...   \n",
       "RP-2080_PCYC_CH10_T_02_v2_Exome_OnPrem_pair  gs://fc-e05bb351-48d8-405a-97b3-95800bdb3176/5...   \n",
       "RP-2080_PCYC_CH18_T_01_v2_Exome_OnPrem_pair  gs://fc-e05bb351-48d8-405a-97b3-95800bdb3176/5...   \n",
       "RP-2080_PCYC_CH18_T_02_v2_Exome_OnPrem_pair  gs://fc-e05bb351-48d8-405a-97b3-95800bdb3176/5...   \n",
       "RP-2080_PCYC_CH1_T_01_v2_Exome_OnPrem_pair   gs://fc-e05bb351-48d8-405a-97b3-95800bdb3176/5...   \n",
       "\n",
       "                                                                absolute_annotated_maf_capture  \\\n",
       "pair_id                                                                                          \n",
       "RP-2080_PCYC_CH10_T_01_v2_Exome_OnPrem_pair  gs://fc-e05bb351-48d8-405a-97b3-95800bdb3176/7...   \n",
       "RP-2080_PCYC_CH10_T_02_v2_Exome_OnPrem_pair  gs://fc-e05bb351-48d8-405a-97b3-95800bdb3176/7...   \n",
       "RP-2080_PCYC_CH18_T_01_v2_Exome_OnPrem_pair  gs://fc-e05bb351-48d8-405a-97b3-95800bdb3176/7...   \n",
       "RP-2080_PCYC_CH18_T_02_v2_Exome_OnPrem_pair  gs://fc-e05bb351-48d8-405a-97b3-95800bdb3176/7...   \n",
       "RP-2080_PCYC_CH1_T_01_v2_Exome_OnPrem_pair   gs://fc-e05bb351-48d8-405a-97b3-95800bdb3176/7...   \n",
       "\n",
       "                                            ffpe_OBF_q_val  \\\n",
       "pair_id                                                      \n",
       "RP-2080_PCYC_CH10_T_01_v2_Exome_OnPrem_pair          44.91   \n",
       "RP-2080_PCYC_CH10_T_02_v2_Exome_OnPrem_pair          46.26   \n",
       "RP-2080_PCYC_CH18_T_01_v2_Exome_OnPrem_pair          46.82   \n",
       "RP-2080_PCYC_CH18_T_02_v2_Exome_OnPrem_pair          45.21   \n",
       "RP-2080_PCYC_CH1_T_01_v2_Exome_OnPrem_pair           47.43   \n",
       "\n",
       "                                                                             deTiN_aSCNA_model  \\\n",
       "pair_id                                                                                          \n",
       "RP-2080_PCYC_CH10_T_01_v2_Exome_OnPrem_pair  gs://fc-e05bb351-48d8-405a-97b3-95800bdb3176/9...   \n",
       "RP-2080_PCYC_CH10_T_02_v2_Exome_OnPrem_pair  gs://fc-e05bb351-48d8-405a-97b3-95800bdb3176/5...   \n",
       "RP-2080_PCYC_CH18_T_01_v2_Exome_OnPrem_pair  gs://fc-e05bb351-48d8-405a-97b3-95800bdb3176/5...   \n",
       "RP-2080_PCYC_CH18_T_02_v2_Exome_OnPrem_pair  gs://fc-e05bb351-48d8-405a-97b3-95800bdb3176/5...   \n",
       "RP-2080_PCYC_CH1_T_01_v2_Exome_OnPrem_pair   gs://fc-e05bb351-48d8-405a-97b3-95800bdb3176/5...   \n",
       "\n",
       "                                                        ffpe_OBF_passed_and_rejected_mutations  \\\n",
       "pair_id                                                                                          \n",
       "RP-2080_PCYC_CH10_T_01_v2_Exome_OnPrem_pair  gs://fc-e05bb351-48d8-405a-97b3-95800bdb3176/9...   \n",
       "RP-2080_PCYC_CH10_T_02_v2_Exome_OnPrem_pair  gs://fc-e05bb351-48d8-405a-97b3-95800bdb3176/5...   \n",
       "RP-2080_PCYC_CH18_T_01_v2_Exome_OnPrem_pair  gs://fc-e05bb351-48d8-405a-97b3-95800bdb3176/5...   \n",
       "RP-2080_PCYC_CH18_T_02_v2_Exome_OnPrem_pair  gs://fc-e05bb351-48d8-405a-97b3-95800bdb3176/5...   \n",
       "RP-2080_PCYC_CH1_T_01_v2_Exome_OnPrem_pair   gs://fc-e05bb351-48d8-405a-97b3-95800bdb3176/5...   \n",
       "\n",
       "                                                                 all_filters_passed_merged_maf  \\\n",
       "pair_id                                                                                          \n",
       "RP-2080_PCYC_CH10_T_01_v2_Exome_OnPrem_pair  gs://fc-e05bb351-48d8-405a-97b3-95800bdb3176/9...   \n",
       "RP-2080_PCYC_CH10_T_02_v2_Exome_OnPrem_pair  gs://fc-e05bb351-48d8-405a-97b3-95800bdb3176/5...   \n",
       "RP-2080_PCYC_CH18_T_01_v2_Exome_OnPrem_pair  gs://fc-e05bb351-48d8-405a-97b3-95800bdb3176/5...   \n",
       "RP-2080_PCYC_CH18_T_02_v2_Exome_OnPrem_pair  gs://fc-e05bb351-48d8-405a-97b3-95800bdb3176/5...   \n",
       "RP-2080_PCYC_CH1_T_01_v2_Exome_OnPrem_pair   gs://fc-e05bb351-48d8-405a-97b3-95800bdb3176/5...   \n",
       "\n",
       "                                             absolute_called_solution_capture_notes  \n",
       "pair_id                                                                              \n",
       "RP-2080_PCYC_CH10_T_01_v2_Exome_OnPrem_pair                                     NaN  \n",
       "RP-2080_PCYC_CH10_T_02_v2_Exome_OnPrem_pair                                     NaN  \n",
       "RP-2080_PCYC_CH18_T_01_v2_Exome_OnPrem_pair                                     NaN  \n",
       "RP-2080_PCYC_CH18_T_02_v2_Exome_OnPrem_pair                                     NaN  \n",
       "RP-2080_PCYC_CH1_T_01_v2_Exome_OnPrem_pair                                      NaN  \n",
       "\n",
       "[5 rows x 143 columns]"
      ]
     },
     "metadata": {},
     "output_type": "display_data"
    },
    {
     "data": {
      "text/html": [
       "<div>\n",
       "<style scoped>\n",
       "    .dataframe tbody tr th:only-of-type {\n",
       "        vertical-align: middle;\n",
       "    }\n",
       "\n",
       "    .dataframe tbody tr th {\n",
       "        vertical-align: top;\n",
       "    }\n",
       "\n",
       "    .dataframe thead th {\n",
       "        text-align: right;\n",
       "    }\n",
       "</style>\n",
       "<table border=\"1\" class=\"dataframe\">\n",
       "  <thead>\n",
       "    <tr style=\"text-align: right;\">\n",
       "      <th></th>\n",
       "      <th>purity</th>\n",
       "      <th>ploidy</th>\n",
       "      <th>flags</th>\n",
       "    </tr>\n",
       "    <tr>\n",
       "      <th>pair_id</th>\n",
       "      <th></th>\n",
       "      <th></th>\n",
       "      <th></th>\n",
       "    </tr>\n",
       "  </thead>\n",
       "  <tbody>\n",
       "    <tr>\n",
       "      <th>RP-2080_PCYC_CH10_T_01_v2_Exome_OnPrem_pair</th>\n",
       "      <td>NaN</td>\n",
       "      <td>NaN</td>\n",
       "      <td>NaN</td>\n",
       "    </tr>\n",
       "    <tr>\n",
       "      <th>RP-2080_PCYC_CH10_T_02_v2_Exome_OnPrem_pair</th>\n",
       "      <td>NaN</td>\n",
       "      <td>NaN</td>\n",
       "      <td>NaN</td>\n",
       "    </tr>\n",
       "    <tr>\n",
       "      <th>RP-2080_PCYC_CH18_T_01_v2_Exome_OnPrem_pair</th>\n",
       "      <td>NaN</td>\n",
       "      <td>NaN</td>\n",
       "      <td>NaN</td>\n",
       "    </tr>\n",
       "    <tr>\n",
       "      <th>RP-2080_PCYC_CH18_T_02_v2_Exome_OnPrem_pair</th>\n",
       "      <td>NaN</td>\n",
       "      <td>NaN</td>\n",
       "      <td>NaN</td>\n",
       "    </tr>\n",
       "    <tr>\n",
       "      <th>RP-2080_PCYC_CH1_T_01_v2_Exome_OnPrem_pair</th>\n",
       "      <td>NaN</td>\n",
       "      <td>NaN</td>\n",
       "      <td>NaN</td>\n",
       "    </tr>\n",
       "  </tbody>\n",
       "</table>\n",
       "</div>"
      ],
      "text/plain": [
       "                                             purity  ploidy  flags\n",
       "pair_id                                                           \n",
       "RP-2080_PCYC_CH10_T_01_v2_Exome_OnPrem_pair     NaN     NaN    NaN\n",
       "RP-2080_PCYC_CH10_T_02_v2_Exome_OnPrem_pair     NaN     NaN    NaN\n",
       "RP-2080_PCYC_CH18_T_01_v2_Exome_OnPrem_pair     NaN     NaN    NaN\n",
       "RP-2080_PCYC_CH18_T_02_v2_Exome_OnPrem_pair     NaN     NaN    NaN\n",
       "RP-2080_PCYC_CH1_T_01_v2_Exome_OnPrem_pair      NaN     NaN    NaN"
      ]
     },
     "metadata": {},
     "output_type": "display_data"
    },
    {
     "data": {
      "text/html": [
       "<div>\n",
       "<style scoped>\n",
       "    .dataframe tbody tr th:only-of-type {\n",
       "        vertical-align: middle;\n",
       "    }\n",
       "\n",
       "    .dataframe tbody tr th {\n",
       "        vertical-align: top;\n",
       "    }\n",
       "\n",
       "    .dataframe thead th {\n",
       "        text-align: right;\n",
       "    }\n",
       "</style>\n",
       "<table border=\"1\" class=\"dataframe\">\n",
       "  <thead>\n",
       "    <tr style=\"text-align: right;\">\n",
       "      <th></th>\n",
       "      <th>purity</th>\n",
       "      <th>ploidy</th>\n",
       "      <th>flags</th>\n",
       "      <th>index</th>\n",
       "      <th>timestamp</th>\n",
       "    </tr>\n",
       "  </thead>\n",
       "  <tbody>\n",
       "  </tbody>\n",
       "</table>\n",
       "</div>"
      ],
      "text/plain": [
       "Empty DataFrame\n",
       "Columns: [purity, ploidy, flags, index, timestamp]\n",
       "Index: []"
      ]
     },
     "metadata": {},
     "output_type": "display_data"
    }
   ],
   "source": [
    "display(rd.data.head())\n",
    "display(rd.annot.head())\n",
    "display(rd.history.head())"
   ]
  },
  {
   "cell_type": "code",
   "execution_count": 26,
   "id": "27c51986",
   "metadata": {},
   "outputs": [
    {
     "data": {
      "text/plain": [
       "['strelka_all_indels',\n",
       " 'normal_bam_base_distribution_by_cycle',\n",
       " 'tumor_bam_base_distribution_by_cycle_metrics',\n",
       " 'unmatched_100pct_purity_MAF_Pass_muts_tonly',\n",
       " 'mut_legos_html',\n",
       " 'tumor_bam_base_distribution_by_cycle',\n",
       " 'participant',\n",
       " 'lego_plotter_ais',\n",
       " 'tumor_bam_gc_bias_summary_metrics',\n",
       " 'deTiN_indels',\n",
       " 'interval_maf',\n",
       " 'filter_passed_and_rejected_mutations',\n",
       " 'cross_check_fingprt_report',\n",
       " 'lego_plotter_pngs',\n",
       " 'tumor_bam_hybrid_selection_metrics',\n",
       " 'tumor_bam_quality_by_cycle',\n",
       " 'normal_bam_converted_oxog_metrics',\n",
       " 'normal_bam_pre_adapter_summary_metrics',\n",
       " 'mutect1_call_stats',\n",
       " 'alleliccapseg_skew',\n",
       " 'unmatched_MAF_Logs_tonly',\n",
       " 'tumor_bam_insert_size_histogram',\n",
       " 'deTiN_SSNVs_plot',\n",
       " 'deTiN_TiN_modes_plot',\n",
       " 'unmatched_Seg_file_Pass_tonly',\n",
       " 'purity_old',\n",
       " 'absolute_segdat_file',\n",
       " 'normal_bam_bam_validation',\n",
       " 'contest_base_report',\n",
       " 'normal_bam_quality_by_cycle_metrics',\n",
       " 'copy_number_qc_report',\n",
       " 'cross_check_fingprt_min_lod_lanes',\n",
       " 'gatk_het_ad_tumor',\n",
       " 'normal_bam_gc_bias_detail_metrics',\n",
       " 'contest_validation',\n",
       " 'blat_all_maf',\n",
       " 'mutect_force_call_cs',\n",
       " 'oxoG_OBF_passed_mutations',\n",
       " 'number_mutations_passed',\n",
       " 'blat_passed_mutations',\n",
       " 'absolute_highres_plot_called_solution',\n",
       " 'gatk_cnv_pre_tn_coverage',\n",
       " 'normal_bam_alignment_summary_metrics',\n",
       " 'absolute_table',\n",
       " 'fracContam',\n",
       " 'tumor_bam_quality_by_cycle_metrics',\n",
       " 'gatk_cnv_tn_coverage',\n",
       " 'ffpe_OBF_passed_mutations',\n",
       " 'lego_plotter_pss',\n",
       " 'mutect_force_call_pw',\n",
       " 'mutect_force_call_cw',\n",
       " 'tumor_bam_gc_bias',\n",
       " 'case_sample',\n",
       " 'tumor_bam_bam_validation',\n",
       " 'gatk_cnv_coverage_file',\n",
       " 'mutation_validator_validated_maf',\n",
       " 'mutect1_snv_mutect2_indel_strelka_indel_annotated_maf',\n",
       " 'oxoG_OBF_number_mutations_passed',\n",
       " 'deTiN_call_stats',\n",
       " 'wxs_ploidy',\n",
       " 'deTiN_aSCNA_kmeans_RSS_plot',\n",
       " 'control_sample',\n",
       " 'MuTect1_merged_power_wig',\n",
       " 'deTiN_segments',\n",
       " 'normal_bam_lane_list',\n",
       " 'blat_number_mutations_passed',\n",
       " 'strelka_passed_snvs',\n",
       " 'oxoG_OBF_passed_and_rejected_mutations',\n",
       " 'variant_effect_report',\n",
       " 'tumor_bam_lane_list',\n",
       " 'tumor_bam_read_coverage_lane',\n",
       " 'gatk_cnv_all_plots',\n",
       " 'tumor_bam_insert_size_metrics',\n",
       " 'normal_bam_bait_bias_detail_metrics',\n",
       " 'strelka_all_snvs',\n",
       " 'cross_check_fingprt_metrics',\n",
       " 'normal_bam_quality_by_cycle',\n",
       " 'gatk_het_ad_normal',\n",
       " 'mutect2_call_stats',\n",
       " 'wxs_purity',\n",
       " 'filter_passed_mutations',\n",
       " 'unmatched_MAF_Pass_muts_tonly',\n",
       " 'contestAFFile',\n",
       " 'tumor_bam_quality_distribution',\n",
       " 'tumor_bam_bait_bias_summary_metrics',\n",
       " 'forcecalled_maf',\n",
       " 'copy_number_qc_mix_ups',\n",
       " 'normal_bam_bait_bias_summary_metrics',\n",
       " 'oxoG_OBF_number_mutations_rejected',\n",
       " 'normal_bam_hybrid_selection_metrics',\n",
       " 'lego_plotter_figs',\n",
       " 'TiN_CI',\n",
       " 'absolute_seg_file',\n",
       " 'gatk_cnv_seg_file',\n",
       " 'normal_bam_gc_bias_summary_metrics',\n",
       " 'tumor_bam_bait_bias_detail_metrics',\n",
       " 'copy_number_qc_report_png',\n",
       " 'alleliccapseg_plot',\n",
       " 'cross_check_fingprt_min_lod_value',\n",
       " 'normal_bam_pre_adapter_detail_metrics',\n",
       " 'normal_bam_insert_size_metrics',\n",
       " 'normal_bam_insert_size_histogram',\n",
       " 'absolute_rdata',\n",
       " 'ffpe_OBF_number_mutations_passed',\n",
       " 'blat_number_mutations_rejected',\n",
       " 'after_filters_merged_maf',\n",
       " 'normal_bam_base_distribution_by_cycle_metrics',\n",
       " 'strelka_passed_indels',\n",
       " 'contamination_data',\n",
       " 'unmatched_100pct_purity_MAF_Logs_tonly',\n",
       " 'deTiN_number_added_SSNVs',\n",
       " 'MuTect1_merged_coverage_wig',\n",
       " 'oxoG_OBF_q_val',\n",
       " 'deTiN_aSCNA_scatter_plot',\n",
       " 'tumor_bam_pre_adapter_summary_metrics',\n",
       " 'tumor_bam_quality_yield_metrics',\n",
       " 'normal_bam_gc_bias',\n",
       " 'normal_bam_quality_distribution_metrics',\n",
       " 'tumor_bam_gc_bias_detail_metrics',\n",
       " 'variant_effect_output',\n",
       " 'absolute_called_solution_capture',\n",
       " 'tumor_bam_converted_oxog_metrics',\n",
       " 'ffpe_OBF_figures',\n",
       " 'ploidy_old',\n",
       " 'normal_bam_quality_distribution',\n",
       " 'normal_bam_read_coverage_lane',\n",
       " 'tumor_bam_quality_distribution_metrics',\n",
       " 'tumor_bam_alignment_summary_metrics',\n",
       " 'oxoG_OBF_figures',\n",
       " 'ffpe_OBF_number_mutations_rejected',\n",
       " 'normal_bam_quality_yield_metrics',\n",
       " 'alleliccapseg_tsv',\n",
       " 'unmatched_100pct_purity_Seg_file_Pass_tonly',\n",
       " 'number_mutations_rejected',\n",
       " 'TiN',\n",
       " 'tumor_bam_pre_adapter_detail_metrics',\n",
       " 'absolute_highres_plot',\n",
       " 'absolute_annotated_maf_capture',\n",
       " 'ffpe_OBF_q_val',\n",
       " 'deTiN_aSCNA_model',\n",
       " 'ffpe_OBF_passed_and_rejected_mutations',\n",
       " 'all_filters_passed_merged_maf',\n",
       " 'absolute_called_solution_capture_notes']"
      ]
     },
     "execution_count": 26,
     "metadata": {},
     "output_type": "execute_result"
    }
   ],
   "source": [
    "rd.data.columns.tolist()"
   ]
  },
  {
   "cell_type": "markdown",
   "id": "8af3e4bf",
   "metadata": {},
   "source": [
    "# Set up App"
   ]
  },
  {
   "cell_type": "code",
   "execution_count": 62,
   "id": "6ec8bc79",
   "metadata": {},
   "outputs": [],
   "source": [
    "app = MatchedPurityReviewer.gen_review_data_app(review_data_obj=rd, \n",
    "                                                sample_info_cols=['absolute_highres_plot', 'TiN_CI'],\n",
    "                                                acs_col='alleliccapseg_tsv')"
   ]
  },
  {
   "cell_type": "code",
   "execution_count": 63,
   "id": "50d776a6",
   "metadata": {
    "scrolled": false
   },
   "outputs": [
    {
     "name": "stdout",
     "output_type": "stream",
     "text": [
      "Dash app running on http://0.0.0.0:8056/\n"
     ]
    },
    {
     "name": "stderr",
     "output_type": "stream",
     "text": [
      "/home/cchu/.local/lib/python3.7/site-packages/jupyter_dash/jupyter_app.py:139: UserWarning:\n",
      "\n",
      "The 'environ['werkzeug.server.shutdown']' function is deprecated and will be removed in Werkzeug 2.1.\n",
      "\n"
     ]
    }
   ],
   "source": [
    "app.run_app(mode='external', port=8056)"
   ]
  },
  {
   "cell_type": "code",
   "execution_count": 65,
   "id": "6e045e98",
   "metadata": {},
   "outputs": [],
   "source": [
    "seg_df = pd.read_csv(rd.data.iloc[0]['alleliccapseg_tsv'], sep='\\t')"
   ]
  },
  {
   "cell_type": "code",
   "execution_count": 112,
   "id": "a735908a",
   "metadata": {},
   "outputs": [],
   "source": [
    "import plotly.express as px\n",
    "def plot_cnp_histogram(seg_df, \n",
    "                       mu_major_col, \n",
    "                       mu_minor_col, \n",
    "                       length_col,\n",
    "                       max_mu=2, step=0.05):\n",
    "    # bin over \n",
    "    mu_bins = np.arange(0, max_mu + step, step)\n",
    "    mu_bins_counts = {b: 0 for b in mu_bins}\n",
    "    for _, r in seg_df.iterrows():\n",
    "        mu_bins_counts[mu_bins[np.argmax(r[mu_major_col] < mu_bins) - 1]] = r[length_col]\n",
    "        mu_bins_counts[mu_bins[np.argmax(r[mu_minor_col] < mu_bins) - 1]] = r[length_col]\n",
    "    \n",
    "    mu_bin_counts_df = pd.DataFrame.from_dict(mu_bins_counts, \n",
    "                                              orient='index',\n",
    "                                              columns=['count'])\n",
    "    mu_bin_counts_df.index.name = 'mu_bin'\n",
    "    fig = px.bar(mu_bin_counts_df.reset_index(), x='count', y='mu_bin', orientation='h')\n",
    "    fig.update_layout(plot_bgcolor='rgba(0,0,0,0)')\n",
    "    fig.show()\n",
    "    return fig\n",
    "\n"
   ]
  },
  {
   "cell_type": "code",
   "execution_count": 113,
   "id": "9f81f5e9",
   "metadata": {},
   "outputs": [
    {
     "data": {
      "application/vnd.plotly.v1+json": {
       "config": {
        "plotlyServerURL": "https://plot.ly"
       },
       "data": [
        {
         "alignmentgroup": "True",
         "hovertemplate": "count=%{x}<br>mu_bin=%{y}<extra></extra>",
         "legendgroup": "",
         "marker": {
          "color": "#636efa",
          "pattern": {
           "shape": ""
          }
         },
         "name": "",
         "offsetgroup": "",
         "orientation": "h",
         "showlegend": false,
         "textposition": "auto",
         "type": "bar",
         "x": [
          0,
          3914372,
          0,
          0,
          0,
          0,
          0,
          0,
          0,
          0,
          0,
          0,
          0,
          0,
          7067,
          520603,
          124038,
          0,
          0,
          77006148,
          31707024,
          73539,
          0,
          0,
          124038,
          0,
          520603,
          0,
          0,
          0,
          0,
          0,
          0,
          0,
          0,
          0,
          0,
          0,
          0,
          0,
          7536
         ],
         "xaxis": "x",
         "y": [
          0,
          0.05,
          0.1,
          0.15000000000000002,
          0.2,
          0.25,
          0.30000000000000004,
          0.35000000000000003,
          0.4,
          0.45,
          0.5,
          0.55,
          0.6000000000000001,
          0.65,
          0.7000000000000001,
          0.75,
          0.8,
          0.8500000000000001,
          0.9,
          0.9500000000000001,
          1,
          1.05,
          1.1,
          1.1500000000000001,
          1.2000000000000002,
          1.25,
          1.3,
          1.35,
          1.4000000000000001,
          1.4500000000000002,
          1.5,
          1.55,
          1.6,
          1.6500000000000001,
          1.7000000000000002,
          1.75,
          1.8,
          1.85,
          1.9000000000000001,
          1.9500000000000002,
          2
         ],
         "yaxis": "y"
        }
       ],
       "layout": {
        "barmode": "relative",
        "legend": {
         "tracegroupgap": 0
        },
        "margin": {
         "t": 60
        },
        "plot_bgcolor": "rgba(0,0,0,0)",
        "template": {
         "data": {
          "bar": [
           {
            "error_x": {
             "color": "#2a3f5f"
            },
            "error_y": {
             "color": "#2a3f5f"
            },
            "marker": {
             "line": {
              "color": "#E5ECF6",
              "width": 0.5
             },
             "pattern": {
              "fillmode": "overlay",
              "size": 10,
              "solidity": 0.2
             }
            },
            "type": "bar"
           }
          ],
          "barpolar": [
           {
            "marker": {
             "line": {
              "color": "#E5ECF6",
              "width": 0.5
             },
             "pattern": {
              "fillmode": "overlay",
              "size": 10,
              "solidity": 0.2
             }
            },
            "type": "barpolar"
           }
          ],
          "carpet": [
           {
            "aaxis": {
             "endlinecolor": "#2a3f5f",
             "gridcolor": "white",
             "linecolor": "white",
             "minorgridcolor": "white",
             "startlinecolor": "#2a3f5f"
            },
            "baxis": {
             "endlinecolor": "#2a3f5f",
             "gridcolor": "white",
             "linecolor": "white",
             "minorgridcolor": "white",
             "startlinecolor": "#2a3f5f"
            },
            "type": "carpet"
           }
          ],
          "choropleth": [
           {
            "colorbar": {
             "outlinewidth": 0,
             "ticks": ""
            },
            "type": "choropleth"
           }
          ],
          "contour": [
           {
            "colorbar": {
             "outlinewidth": 0,
             "ticks": ""
            },
            "colorscale": [
             [
              0,
              "#0d0887"
             ],
             [
              0.1111111111111111,
              "#46039f"
             ],
             [
              0.2222222222222222,
              "#7201a8"
             ],
             [
              0.3333333333333333,
              "#9c179e"
             ],
             [
              0.4444444444444444,
              "#bd3786"
             ],
             [
              0.5555555555555556,
              "#d8576b"
             ],
             [
              0.6666666666666666,
              "#ed7953"
             ],
             [
              0.7777777777777778,
              "#fb9f3a"
             ],
             [
              0.8888888888888888,
              "#fdca26"
             ],
             [
              1,
              "#f0f921"
             ]
            ],
            "type": "contour"
           }
          ],
          "contourcarpet": [
           {
            "colorbar": {
             "outlinewidth": 0,
             "ticks": ""
            },
            "type": "contourcarpet"
           }
          ],
          "heatmap": [
           {
            "colorbar": {
             "outlinewidth": 0,
             "ticks": ""
            },
            "colorscale": [
             [
              0,
              "#0d0887"
             ],
             [
              0.1111111111111111,
              "#46039f"
             ],
             [
              0.2222222222222222,
              "#7201a8"
             ],
             [
              0.3333333333333333,
              "#9c179e"
             ],
             [
              0.4444444444444444,
              "#bd3786"
             ],
             [
              0.5555555555555556,
              "#d8576b"
             ],
             [
              0.6666666666666666,
              "#ed7953"
             ],
             [
              0.7777777777777778,
              "#fb9f3a"
             ],
             [
              0.8888888888888888,
              "#fdca26"
             ],
             [
              1,
              "#f0f921"
             ]
            ],
            "type": "heatmap"
           }
          ],
          "heatmapgl": [
           {
            "colorbar": {
             "outlinewidth": 0,
             "ticks": ""
            },
            "colorscale": [
             [
              0,
              "#0d0887"
             ],
             [
              0.1111111111111111,
              "#46039f"
             ],
             [
              0.2222222222222222,
              "#7201a8"
             ],
             [
              0.3333333333333333,
              "#9c179e"
             ],
             [
              0.4444444444444444,
              "#bd3786"
             ],
             [
              0.5555555555555556,
              "#d8576b"
             ],
             [
              0.6666666666666666,
              "#ed7953"
             ],
             [
              0.7777777777777778,
              "#fb9f3a"
             ],
             [
              0.8888888888888888,
              "#fdca26"
             ],
             [
              1,
              "#f0f921"
             ]
            ],
            "type": "heatmapgl"
           }
          ],
          "histogram": [
           {
            "marker": {
             "pattern": {
              "fillmode": "overlay",
              "size": 10,
              "solidity": 0.2
             }
            },
            "type": "histogram"
           }
          ],
          "histogram2d": [
           {
            "colorbar": {
             "outlinewidth": 0,
             "ticks": ""
            },
            "colorscale": [
             [
              0,
              "#0d0887"
             ],
             [
              0.1111111111111111,
              "#46039f"
             ],
             [
              0.2222222222222222,
              "#7201a8"
             ],
             [
              0.3333333333333333,
              "#9c179e"
             ],
             [
              0.4444444444444444,
              "#bd3786"
             ],
             [
              0.5555555555555556,
              "#d8576b"
             ],
             [
              0.6666666666666666,
              "#ed7953"
             ],
             [
              0.7777777777777778,
              "#fb9f3a"
             ],
             [
              0.8888888888888888,
              "#fdca26"
             ],
             [
              1,
              "#f0f921"
             ]
            ],
            "type": "histogram2d"
           }
          ],
          "histogram2dcontour": [
           {
            "colorbar": {
             "outlinewidth": 0,
             "ticks": ""
            },
            "colorscale": [
             [
              0,
              "#0d0887"
             ],
             [
              0.1111111111111111,
              "#46039f"
             ],
             [
              0.2222222222222222,
              "#7201a8"
             ],
             [
              0.3333333333333333,
              "#9c179e"
             ],
             [
              0.4444444444444444,
              "#bd3786"
             ],
             [
              0.5555555555555556,
              "#d8576b"
             ],
             [
              0.6666666666666666,
              "#ed7953"
             ],
             [
              0.7777777777777778,
              "#fb9f3a"
             ],
             [
              0.8888888888888888,
              "#fdca26"
             ],
             [
              1,
              "#f0f921"
             ]
            ],
            "type": "histogram2dcontour"
           }
          ],
          "mesh3d": [
           {
            "colorbar": {
             "outlinewidth": 0,
             "ticks": ""
            },
            "type": "mesh3d"
           }
          ],
          "parcoords": [
           {
            "line": {
             "colorbar": {
              "outlinewidth": 0,
              "ticks": ""
             }
            },
            "type": "parcoords"
           }
          ],
          "pie": [
           {
            "automargin": true,
            "type": "pie"
           }
          ],
          "scatter": [
           {
            "marker": {
             "colorbar": {
              "outlinewidth": 0,
              "ticks": ""
             }
            },
            "type": "scatter"
           }
          ],
          "scatter3d": [
           {
            "line": {
             "colorbar": {
              "outlinewidth": 0,
              "ticks": ""
             }
            },
            "marker": {
             "colorbar": {
              "outlinewidth": 0,
              "ticks": ""
             }
            },
            "type": "scatter3d"
           }
          ],
          "scattercarpet": [
           {
            "marker": {
             "colorbar": {
              "outlinewidth": 0,
              "ticks": ""
             }
            },
            "type": "scattercarpet"
           }
          ],
          "scattergeo": [
           {
            "marker": {
             "colorbar": {
              "outlinewidth": 0,
              "ticks": ""
             }
            },
            "type": "scattergeo"
           }
          ],
          "scattergl": [
           {
            "marker": {
             "colorbar": {
              "outlinewidth": 0,
              "ticks": ""
             }
            },
            "type": "scattergl"
           }
          ],
          "scattermapbox": [
           {
            "marker": {
             "colorbar": {
              "outlinewidth": 0,
              "ticks": ""
             }
            },
            "type": "scattermapbox"
           }
          ],
          "scatterpolar": [
           {
            "marker": {
             "colorbar": {
              "outlinewidth": 0,
              "ticks": ""
             }
            },
            "type": "scatterpolar"
           }
          ],
          "scatterpolargl": [
           {
            "marker": {
             "colorbar": {
              "outlinewidth": 0,
              "ticks": ""
             }
            },
            "type": "scatterpolargl"
           }
          ],
          "scatterternary": [
           {
            "marker": {
             "colorbar": {
              "outlinewidth": 0,
              "ticks": ""
             }
            },
            "type": "scatterternary"
           }
          ],
          "surface": [
           {
            "colorbar": {
             "outlinewidth": 0,
             "ticks": ""
            },
            "colorscale": [
             [
              0,
              "#0d0887"
             ],
             [
              0.1111111111111111,
              "#46039f"
             ],
             [
              0.2222222222222222,
              "#7201a8"
             ],
             [
              0.3333333333333333,
              "#9c179e"
             ],
             [
              0.4444444444444444,
              "#bd3786"
             ],
             [
              0.5555555555555556,
              "#d8576b"
             ],
             [
              0.6666666666666666,
              "#ed7953"
             ],
             [
              0.7777777777777778,
              "#fb9f3a"
             ],
             [
              0.8888888888888888,
              "#fdca26"
             ],
             [
              1,
              "#f0f921"
             ]
            ],
            "type": "surface"
           }
          ],
          "table": [
           {
            "cells": {
             "fill": {
              "color": "#EBF0F8"
             },
             "line": {
              "color": "white"
             }
            },
            "header": {
             "fill": {
              "color": "#C8D4E3"
             },
             "line": {
              "color": "white"
             }
            },
            "type": "table"
           }
          ]
         },
         "layout": {
          "annotationdefaults": {
           "arrowcolor": "#2a3f5f",
           "arrowhead": 0,
           "arrowwidth": 1
          },
          "autotypenumbers": "strict",
          "coloraxis": {
           "colorbar": {
            "outlinewidth": 0,
            "ticks": ""
           }
          },
          "colorscale": {
           "diverging": [
            [
             0,
             "#8e0152"
            ],
            [
             0.1,
             "#c51b7d"
            ],
            [
             0.2,
             "#de77ae"
            ],
            [
             0.3,
             "#f1b6da"
            ],
            [
             0.4,
             "#fde0ef"
            ],
            [
             0.5,
             "#f7f7f7"
            ],
            [
             0.6,
             "#e6f5d0"
            ],
            [
             0.7,
             "#b8e186"
            ],
            [
             0.8,
             "#7fbc41"
            ],
            [
             0.9,
             "#4d9221"
            ],
            [
             1,
             "#276419"
            ]
           ],
           "sequential": [
            [
             0,
             "#0d0887"
            ],
            [
             0.1111111111111111,
             "#46039f"
            ],
            [
             0.2222222222222222,
             "#7201a8"
            ],
            [
             0.3333333333333333,
             "#9c179e"
            ],
            [
             0.4444444444444444,
             "#bd3786"
            ],
            [
             0.5555555555555556,
             "#d8576b"
            ],
            [
             0.6666666666666666,
             "#ed7953"
            ],
            [
             0.7777777777777778,
             "#fb9f3a"
            ],
            [
             0.8888888888888888,
             "#fdca26"
            ],
            [
             1,
             "#f0f921"
            ]
           ],
           "sequentialminus": [
            [
             0,
             "#0d0887"
            ],
            [
             0.1111111111111111,
             "#46039f"
            ],
            [
             0.2222222222222222,
             "#7201a8"
            ],
            [
             0.3333333333333333,
             "#9c179e"
            ],
            [
             0.4444444444444444,
             "#bd3786"
            ],
            [
             0.5555555555555556,
             "#d8576b"
            ],
            [
             0.6666666666666666,
             "#ed7953"
            ],
            [
             0.7777777777777778,
             "#fb9f3a"
            ],
            [
             0.8888888888888888,
             "#fdca26"
            ],
            [
             1,
             "#f0f921"
            ]
           ]
          },
          "colorway": [
           "#636efa",
           "#EF553B",
           "#00cc96",
           "#ab63fa",
           "#FFA15A",
           "#19d3f3",
           "#FF6692",
           "#B6E880",
           "#FF97FF",
           "#FECB52"
          ],
          "font": {
           "color": "#2a3f5f"
          },
          "geo": {
           "bgcolor": "white",
           "lakecolor": "white",
           "landcolor": "#E5ECF6",
           "showlakes": true,
           "showland": true,
           "subunitcolor": "white"
          },
          "hoverlabel": {
           "align": "left"
          },
          "hovermode": "closest",
          "mapbox": {
           "style": "light"
          },
          "paper_bgcolor": "white",
          "plot_bgcolor": "#E5ECF6",
          "polar": {
           "angularaxis": {
            "gridcolor": "white",
            "linecolor": "white",
            "ticks": ""
           },
           "bgcolor": "#E5ECF6",
           "radialaxis": {
            "gridcolor": "white",
            "linecolor": "white",
            "ticks": ""
           }
          },
          "scene": {
           "xaxis": {
            "backgroundcolor": "#E5ECF6",
            "gridcolor": "white",
            "gridwidth": 2,
            "linecolor": "white",
            "showbackground": true,
            "ticks": "",
            "zerolinecolor": "white"
           },
           "yaxis": {
            "backgroundcolor": "#E5ECF6",
            "gridcolor": "white",
            "gridwidth": 2,
            "linecolor": "white",
            "showbackground": true,
            "ticks": "",
            "zerolinecolor": "white"
           },
           "zaxis": {
            "backgroundcolor": "#E5ECF6",
            "gridcolor": "white",
            "gridwidth": 2,
            "linecolor": "white",
            "showbackground": true,
            "ticks": "",
            "zerolinecolor": "white"
           }
          },
          "shapedefaults": {
           "line": {
            "color": "#2a3f5f"
           }
          },
          "ternary": {
           "aaxis": {
            "gridcolor": "white",
            "linecolor": "white",
            "ticks": ""
           },
           "baxis": {
            "gridcolor": "white",
            "linecolor": "white",
            "ticks": ""
           },
           "bgcolor": "#E5ECF6",
           "caxis": {
            "gridcolor": "white",
            "linecolor": "white",
            "ticks": ""
           }
          },
          "title": {
           "x": 0.05
          },
          "xaxis": {
           "automargin": true,
           "gridcolor": "white",
           "linecolor": "white",
           "ticks": "",
           "title": {
            "standoff": 15
           },
           "zerolinecolor": "white",
           "zerolinewidth": 2
          },
          "yaxis": {
           "automargin": true,
           "gridcolor": "white",
           "linecolor": "white",
           "ticks": "",
           "title": {
            "standoff": 15
           },
           "zerolinecolor": "white",
           "zerolinewidth": 2
          }
         }
        },
        "xaxis": {
         "anchor": "y",
         "domain": [
          0,
          1
         ],
         "title": {
          "text": "count"
         }
        },
        "yaxis": {
         "anchor": "x",
         "domain": [
          0,
          1
         ],
         "title": {
          "text": "mu_bin"
         }
        }
       }
      },
      "text/html": [
       "<div>                            <div id=\"1e50ad68-d844-49d6-8c45-c7805b4c525d\" class=\"plotly-graph-div\" style=\"height:525px; width:100%;\"></div>            <script type=\"text/javascript\">                require([\"plotly\"], function(Plotly) {                    window.PLOTLYENV=window.PLOTLYENV || {};                                    if (document.getElementById(\"1e50ad68-d844-49d6-8c45-c7805b4c525d\")) {                    Plotly.newPlot(                        \"1e50ad68-d844-49d6-8c45-c7805b4c525d\",                        [{\"alignmentgroup\":\"True\",\"hovertemplate\":\"count=%{x}<br>mu_bin=%{y}<extra></extra>\",\"legendgroup\":\"\",\"marker\":{\"color\":\"#636efa\",\"pattern\":{\"shape\":\"\"}},\"name\":\"\",\"offsetgroup\":\"\",\"orientation\":\"h\",\"showlegend\":false,\"textposition\":\"auto\",\"x\":[0.0,3914372.0,0.0,0.0,0.0,0.0,0.0,0.0,0.0,0.0,0.0,0.0,0.0,0.0,7067.0,520603.0,124038.0,0.0,0.0,77006148.0,31707024.0,73539.0,0.0,0.0,124038.0,0.0,520603.0,0.0,0.0,0.0,0.0,0.0,0.0,0.0,0.0,0.0,0.0,0.0,0.0,0.0,7536.0],\"xaxis\":\"x\",\"y\":[0.0,0.05,0.1,0.15000000000000002,0.2,0.25,0.30000000000000004,0.35000000000000003,0.4,0.45,0.5,0.55,0.6000000000000001,0.65,0.7000000000000001,0.75,0.8,0.8500000000000001,0.9,0.9500000000000001,1.0,1.05,1.1,1.1500000000000001,1.2000000000000002,1.25,1.3,1.35,1.4000000000000001,1.4500000000000002,1.5,1.55,1.6,1.6500000000000001,1.7000000000000002,1.75,1.8,1.85,1.9000000000000001,1.9500000000000002,2.0],\"yaxis\":\"y\",\"type\":\"bar\"}],                        {\"template\":{\"data\":{\"bar\":[{\"error_x\":{\"color\":\"#2a3f5f\"},\"error_y\":{\"color\":\"#2a3f5f\"},\"marker\":{\"line\":{\"color\":\"#E5ECF6\",\"width\":0.5},\"pattern\":{\"fillmode\":\"overlay\",\"size\":10,\"solidity\":0.2}},\"type\":\"bar\"}],\"barpolar\":[{\"marker\":{\"line\":{\"color\":\"#E5ECF6\",\"width\":0.5},\"pattern\":{\"fillmode\":\"overlay\",\"size\":10,\"solidity\":0.2}},\"type\":\"barpolar\"}],\"carpet\":[{\"aaxis\":{\"endlinecolor\":\"#2a3f5f\",\"gridcolor\":\"white\",\"linecolor\":\"white\",\"minorgridcolor\":\"white\",\"startlinecolor\":\"#2a3f5f\"},\"baxis\":{\"endlinecolor\":\"#2a3f5f\",\"gridcolor\":\"white\",\"linecolor\":\"white\",\"minorgridcolor\":\"white\",\"startlinecolor\":\"#2a3f5f\"},\"type\":\"carpet\"}],\"choropleth\":[{\"colorbar\":{\"outlinewidth\":0,\"ticks\":\"\"},\"type\":\"choropleth\"}],\"contour\":[{\"colorbar\":{\"outlinewidth\":0,\"ticks\":\"\"},\"colorscale\":[[0.0,\"#0d0887\"],[0.1111111111111111,\"#46039f\"],[0.2222222222222222,\"#7201a8\"],[0.3333333333333333,\"#9c179e\"],[0.4444444444444444,\"#bd3786\"],[0.5555555555555556,\"#d8576b\"],[0.6666666666666666,\"#ed7953\"],[0.7777777777777778,\"#fb9f3a\"],[0.8888888888888888,\"#fdca26\"],[1.0,\"#f0f921\"]],\"type\":\"contour\"}],\"contourcarpet\":[{\"colorbar\":{\"outlinewidth\":0,\"ticks\":\"\"},\"type\":\"contourcarpet\"}],\"heatmap\":[{\"colorbar\":{\"outlinewidth\":0,\"ticks\":\"\"},\"colorscale\":[[0.0,\"#0d0887\"],[0.1111111111111111,\"#46039f\"],[0.2222222222222222,\"#7201a8\"],[0.3333333333333333,\"#9c179e\"],[0.4444444444444444,\"#bd3786\"],[0.5555555555555556,\"#d8576b\"],[0.6666666666666666,\"#ed7953\"],[0.7777777777777778,\"#fb9f3a\"],[0.8888888888888888,\"#fdca26\"],[1.0,\"#f0f921\"]],\"type\":\"heatmap\"}],\"heatmapgl\":[{\"colorbar\":{\"outlinewidth\":0,\"ticks\":\"\"},\"colorscale\":[[0.0,\"#0d0887\"],[0.1111111111111111,\"#46039f\"],[0.2222222222222222,\"#7201a8\"],[0.3333333333333333,\"#9c179e\"],[0.4444444444444444,\"#bd3786\"],[0.5555555555555556,\"#d8576b\"],[0.6666666666666666,\"#ed7953\"],[0.7777777777777778,\"#fb9f3a\"],[0.8888888888888888,\"#fdca26\"],[1.0,\"#f0f921\"]],\"type\":\"heatmapgl\"}],\"histogram\":[{\"marker\":{\"pattern\":{\"fillmode\":\"overlay\",\"size\":10,\"solidity\":0.2}},\"type\":\"histogram\"}],\"histogram2d\":[{\"colorbar\":{\"outlinewidth\":0,\"ticks\":\"\"},\"colorscale\":[[0.0,\"#0d0887\"],[0.1111111111111111,\"#46039f\"],[0.2222222222222222,\"#7201a8\"],[0.3333333333333333,\"#9c179e\"],[0.4444444444444444,\"#bd3786\"],[0.5555555555555556,\"#d8576b\"],[0.6666666666666666,\"#ed7953\"],[0.7777777777777778,\"#fb9f3a\"],[0.8888888888888888,\"#fdca26\"],[1.0,\"#f0f921\"]],\"type\":\"histogram2d\"}],\"histogram2dcontour\":[{\"colorbar\":{\"outlinewidth\":0,\"ticks\":\"\"},\"colorscale\":[[0.0,\"#0d0887\"],[0.1111111111111111,\"#46039f\"],[0.2222222222222222,\"#7201a8\"],[0.3333333333333333,\"#9c179e\"],[0.4444444444444444,\"#bd3786\"],[0.5555555555555556,\"#d8576b\"],[0.6666666666666666,\"#ed7953\"],[0.7777777777777778,\"#fb9f3a\"],[0.8888888888888888,\"#fdca26\"],[1.0,\"#f0f921\"]],\"type\":\"histogram2dcontour\"}],\"mesh3d\":[{\"colorbar\":{\"outlinewidth\":0,\"ticks\":\"\"},\"type\":\"mesh3d\"}],\"parcoords\":[{\"line\":{\"colorbar\":{\"outlinewidth\":0,\"ticks\":\"\"}},\"type\":\"parcoords\"}],\"pie\":[{\"automargin\":true,\"type\":\"pie\"}],\"scatter\":[{\"marker\":{\"colorbar\":{\"outlinewidth\":0,\"ticks\":\"\"}},\"type\":\"scatter\"}],\"scatter3d\":[{\"line\":{\"colorbar\":{\"outlinewidth\":0,\"ticks\":\"\"}},\"marker\":{\"colorbar\":{\"outlinewidth\":0,\"ticks\":\"\"}},\"type\":\"scatter3d\"}],\"scattercarpet\":[{\"marker\":{\"colorbar\":{\"outlinewidth\":0,\"ticks\":\"\"}},\"type\":\"scattercarpet\"}],\"scattergeo\":[{\"marker\":{\"colorbar\":{\"outlinewidth\":0,\"ticks\":\"\"}},\"type\":\"scattergeo\"}],\"scattergl\":[{\"marker\":{\"colorbar\":{\"outlinewidth\":0,\"ticks\":\"\"}},\"type\":\"scattergl\"}],\"scattermapbox\":[{\"marker\":{\"colorbar\":{\"outlinewidth\":0,\"ticks\":\"\"}},\"type\":\"scattermapbox\"}],\"scatterpolar\":[{\"marker\":{\"colorbar\":{\"outlinewidth\":0,\"ticks\":\"\"}},\"type\":\"scatterpolar\"}],\"scatterpolargl\":[{\"marker\":{\"colorbar\":{\"outlinewidth\":0,\"ticks\":\"\"}},\"type\":\"scatterpolargl\"}],\"scatterternary\":[{\"marker\":{\"colorbar\":{\"outlinewidth\":0,\"ticks\":\"\"}},\"type\":\"scatterternary\"}],\"surface\":[{\"colorbar\":{\"outlinewidth\":0,\"ticks\":\"\"},\"colorscale\":[[0.0,\"#0d0887\"],[0.1111111111111111,\"#46039f\"],[0.2222222222222222,\"#7201a8\"],[0.3333333333333333,\"#9c179e\"],[0.4444444444444444,\"#bd3786\"],[0.5555555555555556,\"#d8576b\"],[0.6666666666666666,\"#ed7953\"],[0.7777777777777778,\"#fb9f3a\"],[0.8888888888888888,\"#fdca26\"],[1.0,\"#f0f921\"]],\"type\":\"surface\"}],\"table\":[{\"cells\":{\"fill\":{\"color\":\"#EBF0F8\"},\"line\":{\"color\":\"white\"}},\"header\":{\"fill\":{\"color\":\"#C8D4E3\"},\"line\":{\"color\":\"white\"}},\"type\":\"table\"}]},\"layout\":{\"annotationdefaults\":{\"arrowcolor\":\"#2a3f5f\",\"arrowhead\":0,\"arrowwidth\":1},\"autotypenumbers\":\"strict\",\"coloraxis\":{\"colorbar\":{\"outlinewidth\":0,\"ticks\":\"\"}},\"colorscale\":{\"diverging\":[[0,\"#8e0152\"],[0.1,\"#c51b7d\"],[0.2,\"#de77ae\"],[0.3,\"#f1b6da\"],[0.4,\"#fde0ef\"],[0.5,\"#f7f7f7\"],[0.6,\"#e6f5d0\"],[0.7,\"#b8e186\"],[0.8,\"#7fbc41\"],[0.9,\"#4d9221\"],[1,\"#276419\"]],\"sequential\":[[0.0,\"#0d0887\"],[0.1111111111111111,\"#46039f\"],[0.2222222222222222,\"#7201a8\"],[0.3333333333333333,\"#9c179e\"],[0.4444444444444444,\"#bd3786\"],[0.5555555555555556,\"#d8576b\"],[0.6666666666666666,\"#ed7953\"],[0.7777777777777778,\"#fb9f3a\"],[0.8888888888888888,\"#fdca26\"],[1.0,\"#f0f921\"]],\"sequentialminus\":[[0.0,\"#0d0887\"],[0.1111111111111111,\"#46039f\"],[0.2222222222222222,\"#7201a8\"],[0.3333333333333333,\"#9c179e\"],[0.4444444444444444,\"#bd3786\"],[0.5555555555555556,\"#d8576b\"],[0.6666666666666666,\"#ed7953\"],[0.7777777777777778,\"#fb9f3a\"],[0.8888888888888888,\"#fdca26\"],[1.0,\"#f0f921\"]]},\"colorway\":[\"#636efa\",\"#EF553B\",\"#00cc96\",\"#ab63fa\",\"#FFA15A\",\"#19d3f3\",\"#FF6692\",\"#B6E880\",\"#FF97FF\",\"#FECB52\"],\"font\":{\"color\":\"#2a3f5f\"},\"geo\":{\"bgcolor\":\"white\",\"lakecolor\":\"white\",\"landcolor\":\"#E5ECF6\",\"showlakes\":true,\"showland\":true,\"subunitcolor\":\"white\"},\"hoverlabel\":{\"align\":\"left\"},\"hovermode\":\"closest\",\"mapbox\":{\"style\":\"light\"},\"paper_bgcolor\":\"white\",\"plot_bgcolor\":\"#E5ECF6\",\"polar\":{\"angularaxis\":{\"gridcolor\":\"white\",\"linecolor\":\"white\",\"ticks\":\"\"},\"bgcolor\":\"#E5ECF6\",\"radialaxis\":{\"gridcolor\":\"white\",\"linecolor\":\"white\",\"ticks\":\"\"}},\"scene\":{\"xaxis\":{\"backgroundcolor\":\"#E5ECF6\",\"gridcolor\":\"white\",\"gridwidth\":2,\"linecolor\":\"white\",\"showbackground\":true,\"ticks\":\"\",\"zerolinecolor\":\"white\"},\"yaxis\":{\"backgroundcolor\":\"#E5ECF6\",\"gridcolor\":\"white\",\"gridwidth\":2,\"linecolor\":\"white\",\"showbackground\":true,\"ticks\":\"\",\"zerolinecolor\":\"white\"},\"zaxis\":{\"backgroundcolor\":\"#E5ECF6\",\"gridcolor\":\"white\",\"gridwidth\":2,\"linecolor\":\"white\",\"showbackground\":true,\"ticks\":\"\",\"zerolinecolor\":\"white\"}},\"shapedefaults\":{\"line\":{\"color\":\"#2a3f5f\"}},\"ternary\":{\"aaxis\":{\"gridcolor\":\"white\",\"linecolor\":\"white\",\"ticks\":\"\"},\"baxis\":{\"gridcolor\":\"white\",\"linecolor\":\"white\",\"ticks\":\"\"},\"bgcolor\":\"#E5ECF6\",\"caxis\":{\"gridcolor\":\"white\",\"linecolor\":\"white\",\"ticks\":\"\"}},\"title\":{\"x\":0.05},\"xaxis\":{\"automargin\":true,\"gridcolor\":\"white\",\"linecolor\":\"white\",\"ticks\":\"\",\"title\":{\"standoff\":15},\"zerolinecolor\":\"white\",\"zerolinewidth\":2},\"yaxis\":{\"automargin\":true,\"gridcolor\":\"white\",\"linecolor\":\"white\",\"ticks\":\"\",\"title\":{\"standoff\":15},\"zerolinecolor\":\"white\",\"zerolinewidth\":2}}},\"xaxis\":{\"anchor\":\"y\",\"domain\":[0.0,1.0],\"title\":{\"text\":\"count\"}},\"yaxis\":{\"anchor\":\"x\",\"domain\":[0.0,1.0],\"title\":{\"text\":\"mu_bin\"}},\"legend\":{\"tracegroupgap\":0},\"margin\":{\"t\":60},\"barmode\":\"relative\",\"plot_bgcolor\":\"rgba(0,0,0,0)\"},                        {\"responsive\": true}                    ).then(function(){\n",
       "                            \n",
       "var gd = document.getElementById('1e50ad68-d844-49d6-8c45-c7805b4c525d');\n",
       "var x = new MutationObserver(function (mutations, observer) {{\n",
       "        var display = window.getComputedStyle(gd).display;\n",
       "        if (!display || display === 'none') {{\n",
       "            console.log([gd, 'removed!']);\n",
       "            Plotly.purge(gd);\n",
       "            observer.disconnect();\n",
       "        }}\n",
       "}});\n",
       "\n",
       "// Listen for the removal of the full notebook cells\n",
       "var notebookContainer = gd.closest('#notebook-container');\n",
       "if (notebookContainer) {{\n",
       "    x.observe(notebookContainer, {childList: true});\n",
       "}}\n",
       "\n",
       "// Listen for the clearing of the current output cell\n",
       "var outputEl = gd.closest('.output');\n",
       "if (outputEl) {{\n",
       "    x.observe(outputEl, {childList: true});\n",
       "}}\n",
       "\n",
       "                        })                };                });            </script>        </div>"
      ]
     },
     "metadata": {},
     "output_type": "display_data"
    },
    {
     "data": {
      "text/plain": [
       "{0.0: 0,\n",
       " 0.05: 3914372.0,\n",
       " 0.1: 0,\n",
       " 0.15000000000000002: 0,\n",
       " 0.2: 0,\n",
       " 0.25: 0,\n",
       " 0.30000000000000004: 0,\n",
       " 0.35000000000000003: 0,\n",
       " 0.4: 0,\n",
       " 0.45: 0,\n",
       " 0.5: 0,\n",
       " 0.55: 0,\n",
       " 0.6000000000000001: 0,\n",
       " 0.65: 0,\n",
       " 0.7000000000000001: 7067.0,\n",
       " 0.75: 520603.0,\n",
       " 0.8: 124038.0,\n",
       " 0.8500000000000001: 0,\n",
       " 0.9: 0,\n",
       " 0.9500000000000001: 77006148.0,\n",
       " 1.0: 31707024.0,\n",
       " 1.05: 73539.0,\n",
       " 1.1: 0,\n",
       " 1.1500000000000001: 0,\n",
       " 1.2000000000000002: 124038.0,\n",
       " 1.25: 0,\n",
       " 1.3: 520603.0,\n",
       " 1.35: 0,\n",
       " 1.4000000000000001: 0,\n",
       " 1.4500000000000002: 0,\n",
       " 1.5: 0,\n",
       " 1.55: 0,\n",
       " 1.6: 0,\n",
       " 1.6500000000000001: 0,\n",
       " 1.7000000000000002: 0,\n",
       " 1.75: 0,\n",
       " 1.8: 0,\n",
       " 1.85: 0,\n",
       " 1.9000000000000001: 0,\n",
       " 1.9500000000000002: 0,\n",
       " 2.0: 7536.0}"
      ]
     },
     "execution_count": 113,
     "metadata": {},
     "output_type": "execute_result"
    }
   ],
   "source": [
    "mu_bins_counts = plot_cnp_histogram(seg_df, 'mu.major', 'mu.minor', 'length')\n",
    "mu_bins_counts"
   ]
  },
  {
   "cell_type": "code",
   "execution_count": null,
   "id": "856b02f7",
   "metadata": {},
   "outputs": [],
   "source": []
  }
 ],
 "metadata": {
  "kernelspec": {
   "display_name": "Python 3 (ipykernel)",
   "language": "python",
   "name": "python3"
  },
  "language_info": {
   "codemirror_mode": {
    "name": "ipython",
    "version": 3
   },
   "file_extension": ".py",
   "mimetype": "text/x-python",
   "name": "python",
   "nbconvert_exporter": "python",
   "pygments_lexer": "ipython3",
   "version": "3.7.3"
  }
 },
 "nbformat": 4,
 "nbformat_minor": 5
}
