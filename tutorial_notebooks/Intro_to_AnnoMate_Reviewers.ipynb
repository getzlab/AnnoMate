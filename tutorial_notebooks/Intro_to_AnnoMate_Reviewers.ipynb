{
 "cells": [
  {
   "cell_type": "markdown",
   "id": "d2aedd2d-b1d5-4d2d-8e95-61ff06292438",
   "metadata": {
    "tags": []
   },
   "source": [
    "# Intro to AnnoMate Reviewers\n",
    "\n",
    "All `Reviewer` types in this package follow the same general framework for setting up the dashboard. \n",
    "\n",
    "This notebook will walk you through how to interact with a basic reviewer, which extends to other `Reviewer` types.\n",
    "\n",
    "If you want to know how to **create** your own custom reviewer, see `Developer_AnnoMate_Tutorial`"
   ]
  },
  {
   "cell_type": "markdown",
   "id": "670b8f2a-af59-4f15-8551-fa038ea8849e",
   "metadata": {
    "tags": []
   },
   "source": [
    "## Installation"
   ]
  },
  {
   "cell_type": "markdown",
   "id": "9e1078a8-0e56-4642-9b6f-3610ddf1377f",
   "metadata": {},
   "source": [
    "Using pypi (recommended)\n",
    "1. Create an environment: `conda create --name <my-env> --file requirements.txt python==3.8`\n",
    "1. Activate environment: `conda activate <my-env>`\n",
    "1. Install AnnoMate: `pip install AnnoMate`"
   ]
  },
  {
   "cell_type": "markdown",
   "id": "49d4fe42-17fe-4ea6-aaa7-85b7c0718788",
   "metadata": {},
   "source": [
    "Using git:\n",
    "1. Download the repository: `git clone git@github.com:getzlab/AnnoMate.git` \n",
    "1. `cd AnnoMate`\n",
    "1. Create an environment: `conda create --name <my-env> --file requirements.txt python==3.8`\n",
    "1. Activate environment: `conda activate <my-env>`\n",
    "1. Install package: `pip install -e .`"
   ]
  },
  {
   "cell_type": "markdown",
   "id": "e637c8ae-2ca2-487a-9522-de96383ae80f",
   "metadata": {},
   "source": [
    "Running from docker container: You need to open at least 2 ports if you are using Mac or Windows:\n",
    "1. A port to open jupyter lab (in this case, `<jupyter_port>`)\n",
    "2. A port to open the dash app (`<dash_port>`)\n",
    "```\n",
    "docker run -it -p <jupyter_port>:<jupyter_port> -p <dash_port>:<dash_port> gcr.io/broad-getzlab-workflows/annomate:dev_branch_v385\n",
    "cd AnnoMate/tutorial_notebooks\n",
    "jupyter lab --ip 0.0.0.0 --port <jupyter_port> --no-browser --allow-root\n",
    "```"
   ]
  },
  {
   "cell_type": "markdown",
   "id": "6429e242-eb91-4419-ba41-3b63e6f1ae6d",
   "metadata": {},
   "source": [
    "## Running this notebook\n",
    "\n",
    "Make sure to update your kernel to the conda environment `<my-env>` you just created.\n"
   ]
  },
  {
   "cell_type": "markdown",
   "id": "31fae173",
   "metadata": {},
   "source": [
    "## Imports\n",
    "For this tutorial, we just need a few packages"
   ]
  },
  {
   "cell_type": "code",
   "execution_count": 1,
   "id": "a9657940",
   "metadata": {},
   "outputs": [],
   "source": [
    "%load_ext autoreload\n",
    "%autoreload 2"
   ]
  },
  {
   "cell_type": "code",
   "execution_count": 2,
   "id": "ef37cc47",
   "metadata": {},
   "outputs": [],
   "source": [
    "import pandas as pd\n",
    "import os"
   ]
  },
  {
   "cell_type": "markdown",
   "id": "16ca2f26",
   "metadata": {},
   "source": [
    "## The high level steps\n",
    "\n",
    "There are 7 steps to get started reviewing in your jupyter notebook:\n",
    "1. Pick your reviewer\n",
    "1. Instatiate the selected reviewer\n",
    "1. Set up the review data\n",
    "1. Set up the app\n",
    "1. Set up defaults settings\n",
    "1. Run your reviewer!\n",
    "\n",
    "It may seem to be a lot of steps, but it will actually only look something like this"
   ]
  },
  {
   "cell_type": "raw",
   "id": "77d37b6e",
   "metadata": {},
   "source": [
    "from AnnoMate.Reviewers import MyCustomReviewer\n",
    "import pandas as pd\n",
    "\n",
    "# Get your data\n",
    "df = pd.read_csv(\"file.tsv\", sep='\\t')\n",
    "\n",
    "# Set up reviewer\n",
    "reviewer = MyCustomReviewer()\n",
    "reviewer.set_review_data('review_session.pkl', df)\n",
    "reviewer.set_review_app()\n",
    "reviewer.set_default_review_data_annotations_configuration()\n",
    "reviewer.run()"
   ]
  },
  {
   "cell_type": "markdown",
   "id": "845e88af",
   "metadata": {},
   "source": [
    "First, we will go through some basic terminology. Next, we will walk through each step below using basic functionality. In the last section, we will go through more advanced options for each step."
   ]
  },
  {
   "cell_type": "markdown",
   "id": "4ccbdf3d",
   "metadata": {},
   "source": [
    "## General Terminology\n",
    "\n",
    "- A **Subject Type** refers to what \"level\" or \"item\" you are reviewing. For example, you may be reviewing samples (ie purity), participants (ie clinical data or comprehensive data), mutations (checking if it is an artifact), etc.\n",
    "\n",
    "- A **Subject** is an individual item you are currently reviewing or manually annotating.\n",
    "\n",
    "- A **Reviewer** is the class in the `AnnoMate` package that manages the data you want to review and implements a user interface for you to review each **Subject** one at a time, view/interact its corresponding data, and make annotations.\n",
    "\n",
    "- An **Annotation** is some value associated with a given **Review Subject** given some kind of analysis or manual observation. A Review Subject can have multiple annotations. An Annotation may have certain parameters about what kinds of values are allowed (a list of options, or a range of values, etc.)\n",
    "\n",
    "- **Data** in this context is actually an object that stores collection of tables. It includes the information to review for your Review Subject type (ie sample table from Terra), and the annotations you will eventally make for it. Its purpose is to \"freeze\" the data you are reviewing and couple the data with the annotations you make. Once this object is made, it will store all the data in a pickle file. From then on, only your annotations can be (easily) modified in a specific way (by the `ReviewData` class)\n",
    "\n",
    "- An **ReviewDataApp** is a user interface to display your Data, such as displaying charts or graphs of the information associated with your Review Subject Type, and a way to add annotations for the currently displayed Review Subject. In this package, we use `plotly.dash` to create dashboards for this purpose.\n",
    "\n",
    "![](https://github.com/getzlab/AnnoMate/blob/master/images/Reviewer%20Diagram.jpg)\n"
   ]
  },
  {
   "cell_type": "markdown",
   "id": "c0c6d3a5",
   "metadata": {},
   "source": [
    "## Basic Reviewer Run"
   ]
  },
  {
   "cell_type": "markdown",
   "id": "2cb8f9d4",
   "metadata": {},
   "source": [
    "### 1. Select your reviewer\n",
    "\n",
    "Check out the ReviewerCatalog at [example_notebooks/ReviewerCatalog.ipynb](https://github.com/getzlab/AnnoMate/blob/master/example_notebooks/ReviewerCatalog.ipynb) for different reviewers.\n",
    "\n",
    "For this tutorial, we will use `MyCustomReviewer`. Go to `AnnoMate/Reviewers/` to view other available prebuilt options. \n",
    "\n",
    "**This tutorial only applies to any `Reviewer` that inherits from `AnnoMate.ReviewerTemplate`**\n",
    "\n",
    "Let's import `MyCustomReviewer`. This reviewer is built to review some dummy sample data. "
   ]
  },
  {
   "cell_type": "code",
   "execution_count": 3,
   "id": "fdeffded",
   "metadata": {},
   "outputs": [],
   "source": [
    "from AnnoMate.Reviewers.ExampleReviewer import ExampleReviewer"
   ]
  },
  {
   "cell_type": "markdown",
   "id": "5271e6b3",
   "metadata": {},
   "source": [
    "### 2. Instantiate the selected reviewer\n",
    "\n",
    "This step is super simple, just create an object, no parameters required"
   ]
  },
  {
   "cell_type": "code",
   "execution_count": 4,
   "id": "8933f1a7",
   "metadata": {},
   "outputs": [],
   "source": [
    "my_reviewer = ExampleReviewer()"
   ]
  },
  {
   "cell_type": "markdown",
   "id": "7efd1dac",
   "metadata": {},
   "source": [
    "### 3. Set up the review data\n",
    "\n",
    "At this step you give `my_reviewer` data you want to start reviewing. \n",
    "\n",
    "The type of data you need depends on the type of reviewer you are using. You can see what data it requires by typing the reviewer's `.set_review_data()` in a cell, place your cursor at the end and press `Shift+Tab`.\n",
    "\n",
    "You will see these following required parameters:\n",
    "- `data_path: pathlib.Path`: Path to directory to save your data.\n",
    "- `description: str`: describe what data you are reviewing. It's a good idea to also include why\n",
    "\n",
    "The remaining parameters are optional, and allows you to prefill the annotation and history information. See X section below for more information.\n",
    "\n",
    "Depending on the reviewer you may additional arguments or tables (`**kwargs`), which should be included in the docstring. Alternatively, you can look at the source code directly.\n",
    "\n",
    "`MyCustomReviewer` only requires a single dataframe.\n",
    "\n",
    "> What is the `data_path` for? All the data you review is used to create a `Data` object. This object saves all the data you want to review, and a corresponding `annot_df` and `history_df` dataframes. This data is all stored in this directory in a file named `data.pkl`. There will also be an automatically generated `metadata_config.yaml` file in this directory that stores information about the current state of the reviewer. **The user should not touch this file**.\n",
    "> - The `annot_df` dataframe stores the annotations you are recording for each item you are reviewing\n",
    "> - The `history_df` dataframe stores all the changes that have been made to the annotation table\n",
    ">\n",
    "> The `description` parameter is for you to describe the source of the data and what the review process is for.\n",
    ">\n",
    "> **The purpose of this is to always couple the annotations with the data that was actually used to review it.**\n"
   ]
  },
  {
   "cell_type": "code",
   "execution_count": 5,
   "id": "829afcf7",
   "metadata": {},
   "outputs": [
    {
     "data": {
      "text/html": [
       "<div>\n",
       "<style scoped>\n",
       "    .dataframe tbody tr th:only-of-type {\n",
       "        vertical-align: middle;\n",
       "    }\n",
       "\n",
       "    .dataframe tbody tr th {\n",
       "        vertical-align: top;\n",
       "    }\n",
       "\n",
       "    .dataframe thead th {\n",
       "        text-align: right;\n",
       "    }\n",
       "</style>\n",
       "<table border=\"1\" class=\"dataframe\">\n",
       "  <thead>\n",
       "    <tr style=\"text-align: right;\">\n",
       "      <th></th>\n",
       "      <th>gender</th>\n",
       "      <th>age</th>\n",
       "      <th>tissue_origin</th>\n",
       "      <th>treatments_file</th>\n",
       "      <th>mutations_file</th>\n",
       "    </tr>\n",
       "    <tr>\n",
       "      <th>sample_id</th>\n",
       "      <th></th>\n",
       "      <th></th>\n",
       "      <th></th>\n",
       "      <th></th>\n",
       "      <th></th>\n",
       "    </tr>\n",
       "  </thead>\n",
       "  <tbody>\n",
       "    <tr>\n",
       "      <th>sample_0</th>\n",
       "      <td>female</td>\n",
       "      <td>57</td>\n",
       "      <td>skin</td>\n",
       "      <td>./example_data/AnnoMate_Tutorial/treatments/sa...</td>\n",
       "      <td>./example_data/AnnoMate_Tutorial/mut_vafs/samp...</td>\n",
       "    </tr>\n",
       "    <tr>\n",
       "      <th>sample_1</th>\n",
       "      <td>male</td>\n",
       "      <td>66</td>\n",
       "      <td>breast</td>\n",
       "      <td>./example_data/AnnoMate_Tutorial/treatments/sa...</td>\n",
       "      <td>./example_data/AnnoMate_Tutorial/mut_vafs/samp...</td>\n",
       "    </tr>\n",
       "    <tr>\n",
       "      <th>sample_2</th>\n",
       "      <td>male</td>\n",
       "      <td>65</td>\n",
       "      <td>lung</td>\n",
       "      <td>./example_data/AnnoMate_Tutorial/treatments/sa...</td>\n",
       "      <td>./example_data/AnnoMate_Tutorial/mut_vafs/samp...</td>\n",
       "    </tr>\n",
       "    <tr>\n",
       "      <th>sample_3</th>\n",
       "      <td>male</td>\n",
       "      <td>66</td>\n",
       "      <td>skin</td>\n",
       "      <td>./example_data/AnnoMate_Tutorial/treatments/sa...</td>\n",
       "      <td>./example_data/AnnoMate_Tutorial/mut_vafs/samp...</td>\n",
       "    </tr>\n",
       "    <tr>\n",
       "      <th>sample_4</th>\n",
       "      <td>male</td>\n",
       "      <td>48</td>\n",
       "      <td>bone marrow</td>\n",
       "      <td>./example_data/AnnoMate_Tutorial/treatments/sa...</td>\n",
       "      <td>./example_data/AnnoMate_Tutorial/mut_vafs/samp...</td>\n",
       "    </tr>\n",
       "  </tbody>\n",
       "</table>\n",
       "</div>"
      ],
      "text/plain": [
       "           gender  age tissue_origin  \\\n",
       "sample_id                              \n",
       "sample_0   female   57          skin   \n",
       "sample_1     male   66        breast   \n",
       "sample_2     male   65          lung   \n",
       "sample_3     male   66          skin   \n",
       "sample_4     male   48   bone marrow   \n",
       "\n",
       "                                             treatments_file  \\\n",
       "sample_id                                                      \n",
       "sample_0   ./example_data/AnnoMate_Tutorial/treatments/sa...   \n",
       "sample_1   ./example_data/AnnoMate_Tutorial/treatments/sa...   \n",
       "sample_2   ./example_data/AnnoMate_Tutorial/treatments/sa...   \n",
       "sample_3   ./example_data/AnnoMate_Tutorial/treatments/sa...   \n",
       "sample_4   ./example_data/AnnoMate_Tutorial/treatments/sa...   \n",
       "\n",
       "                                              mutations_file  \n",
       "sample_id                                                     \n",
       "sample_0   ./example_data/AnnoMate_Tutorial/mut_vafs/samp...  \n",
       "sample_1   ./example_data/AnnoMate_Tutorial/mut_vafs/samp...  \n",
       "sample_2   ./example_data/AnnoMate_Tutorial/mut_vafs/samp...  \n",
       "sample_3   ./example_data/AnnoMate_Tutorial/mut_vafs/samp...  \n",
       "sample_4   ./example_data/AnnoMate_Tutorial/mut_vafs/samp...  "
      ]
     },
     "execution_count": 5,
     "metadata": {},
     "output_type": "execute_result"
    }
   ],
   "source": [
    "# Load data\n",
    "fn = 'example_data/AnnoMate_Tutorial/data_to_review_example.tsv'\n",
    "df = pd.read_csv(fn, sep='\\t')\n",
    "df = df.set_index('sample_id')\n",
    "df.head()"
   ]
  },
  {
   "cell_type": "code",
   "execution_count": 6,
   "id": "ae59c4c8",
   "metadata": {},
   "outputs": [
    {
     "data": {
      "text/html": [
       "<div>\n",
       "<style scoped>\n",
       "    .dataframe tbody tr th:only-of-type {\n",
       "        vertical-align: middle;\n",
       "    }\n",
       "\n",
       "    .dataframe tbody tr th {\n",
       "        vertical-align: top;\n",
       "    }\n",
       "\n",
       "    .dataframe thead th {\n",
       "        text-align: right;\n",
       "    }\n",
       "</style>\n",
       "<table border=\"1\" class=\"dataframe\">\n",
       "  <thead>\n",
       "    <tr style=\"text-align: right;\">\n",
       "      <th></th>\n",
       "      <th>gene</th>\n",
       "      <th>vaf</th>\n",
       "      <th>sample_id</th>\n",
       "      <th>cov</th>\n",
       "      <th>t_alt_count</th>\n",
       "      <th>t_ref_count</th>\n",
       "    </tr>\n",
       "  </thead>\n",
       "  <tbody>\n",
       "    <tr>\n",
       "      <th>0</th>\n",
       "      <td>gene_0</td>\n",
       "      <td>0.334632</td>\n",
       "      <td>sample_0</td>\n",
       "      <td>110</td>\n",
       "      <td>36</td>\n",
       "      <td>74</td>\n",
       "    </tr>\n",
       "    <tr>\n",
       "      <th>1</th>\n",
       "      <td>gene_1</td>\n",
       "      <td>0.246997</td>\n",
       "      <td>sample_0</td>\n",
       "      <td>106</td>\n",
       "      <td>26</td>\n",
       "      <td>80</td>\n",
       "    </tr>\n",
       "    <tr>\n",
       "      <th>2</th>\n",
       "      <td>gene_2</td>\n",
       "      <td>0.357634</td>\n",
       "      <td>sample_0</td>\n",
       "      <td>133</td>\n",
       "      <td>47</td>\n",
       "      <td>86</td>\n",
       "    </tr>\n",
       "    <tr>\n",
       "      <th>3</th>\n",
       "      <td>gene_3</td>\n",
       "      <td>0.789236</td>\n",
       "      <td>sample_0</td>\n",
       "      <td>85</td>\n",
       "      <td>67</td>\n",
       "      <td>18</td>\n",
       "    </tr>\n",
       "    <tr>\n",
       "      <th>4</th>\n",
       "      <td>gene_4</td>\n",
       "      <td>0.654362</td>\n",
       "      <td>sample_0</td>\n",
       "      <td>146</td>\n",
       "      <td>95</td>\n",
       "      <td>51</td>\n",
       "    </tr>\n",
       "  </tbody>\n",
       "</table>\n",
       "</div>"
      ],
      "text/plain": [
       "     gene       vaf sample_id  cov  t_alt_count  t_ref_count\n",
       "0  gene_0  0.334632  sample_0  110           36           74\n",
       "1  gene_1  0.246997  sample_0  106           26           80\n",
       "2  gene_2  0.357634  sample_0  133           47           86\n",
       "3  gene_3  0.789236  sample_0   85           67           18\n",
       "4  gene_4  0.654362  sample_0  146           95           51"
      ]
     },
     "execution_count": 6,
     "metadata": {},
     "output_type": "execute_result"
    }
   ],
   "source": [
    "mut_df = pd.read_csv(df.iloc[0]['mutations_file'], sep='\\t')\n",
    "mut_df.head()"
   ]
  },
  {
   "cell_type": "code",
   "execution_count": 7,
   "id": "f7fd1f9d-d9f1-44c4-b9f9-d20d667a3d7e",
   "metadata": {},
   "outputs": [
    {
     "name": "stderr",
     "output_type": "stream",
     "text": [
      "/Users/cchu/opt/anaconda3/envs/test/lib/python3.8/site-packages/AnnoMate/ReviewDataInterface.py:41: UserWarning: Loading existing data pkl file\n",
      "  warnings.warn(f\"Loading existing data pkl file\")\n"
     ]
    }
   ],
   "source": [
    "output_pkl_path = './example_reviewer_data'\n",
    "my_reviewer.set_review_data(data_path=output_pkl_path, \n",
    "                            description='Intro to reviewers review session part 2',\n",
    "                            sample_df=df,\n",
    "                            preprocessing_str='Testing preprocessing')"
   ]
  },
  {
   "cell_type": "markdown",
   "id": "f26bf72d",
   "metadata": {},
   "source": [
    "This cell will create your data path directory if it doesn't exist already, creating the before mentioned pickle and config files with it. When these files are initially generated the reviewer is in **test mode**. This means when the above cell is rerun:\n",
    "- Changes to input data (in this case sample_df) will be update in the data object\n",
    "- Changes to annototations / annotation history made in the dashboard will not be saved and be reset \n",
    "\n",
    "Once test mode* is disabled, rerunning the above cell should give you a warning. Now, any time that directory `./example_reviewer_data` is passed to *any* reviewer's `set_review_data()` parameter `data_path`, it will simply load whatever is currently in the `data.pkl` file. It will NOT update any of its attributes to whatever the value of the other parameters (in this case, `description`, `sample_df`, `preprocessing_str`, etc.).\n",
    "\n",
    "> **Why do this?** Often times we use `dalmatian` to pull data from Terra workspaces. Sometimes the data in Terra changes because we run workflows multiple times with different parameters. We want to avoid losing what data we were originally looking at to produce the annotations we currently have.\n",
    ">\n",
    "> If you do want to \"update\" your data, make a new session pointing to a different pickle file path. More on this later.\n",
    "\n",
    "\n",
    "You can also see that changes were made to the input dataframe\n",
    "\n",
    "*See section 6 to learn how to disable test mode"
   ]
  },
  {
   "cell_type": "code",
   "execution_count": 8,
   "id": "32ab23ca-c27d-4c0d-9149-08c24b244d26",
   "metadata": {},
   "outputs": [
    {
     "data": {
      "text/plain": [
       "dict_keys(['index', 'description', 'annot_col_config_dict', 'annot_df', 'history_df', 'df'])"
      ]
     },
     "execution_count": 8,
     "metadata": {},
     "output_type": "execute_result"
    }
   ],
   "source": [
    "my_reviewer.list_data_attributes()"
   ]
  },
  {
   "cell_type": "code",
   "execution_count": 9,
   "id": "161965c4",
   "metadata": {},
   "outputs": [
    {
     "data": {
      "text/html": [
       "<div>\n",
       "<style scoped>\n",
       "    .dataframe tbody tr th:only-of-type {\n",
       "        vertical-align: middle;\n",
       "    }\n",
       "\n",
       "    .dataframe tbody tr th {\n",
       "        vertical-align: top;\n",
       "    }\n",
       "\n",
       "    .dataframe thead th {\n",
       "        text-align: right;\n",
       "    }\n",
       "</style>\n",
       "<table border=\"1\" class=\"dataframe\">\n",
       "  <thead>\n",
       "    <tr style=\"text-align: right;\">\n",
       "      <th></th>\n",
       "      <th>gender</th>\n",
       "      <th>age</th>\n",
       "      <th>tissue_origin</th>\n",
       "      <th>treatments_file</th>\n",
       "      <th>mutations_file</th>\n",
       "      <th>new_column</th>\n",
       "    </tr>\n",
       "    <tr>\n",
       "      <th>sample_id</th>\n",
       "      <th></th>\n",
       "      <th></th>\n",
       "      <th></th>\n",
       "      <th></th>\n",
       "      <th></th>\n",
       "      <th></th>\n",
       "    </tr>\n",
       "  </thead>\n",
       "  <tbody>\n",
       "    <tr>\n",
       "      <th>sample_0</th>\n",
       "      <td>female</td>\n",
       "      <td>57</td>\n",
       "      <td>skin</td>\n",
       "      <td>./example_data/AnnoMate_Tutorial/treatments/sa...</td>\n",
       "      <td>./example_data/AnnoMate_Tutorial/mut_vafs/samp...</td>\n",
       "      <td>Testing preprocessing</td>\n",
       "    </tr>\n",
       "    <tr>\n",
       "      <th>sample_1</th>\n",
       "      <td>male</td>\n",
       "      <td>66</td>\n",
       "      <td>breast</td>\n",
       "      <td>./example_data/AnnoMate_Tutorial/treatments/sa...</td>\n",
       "      <td>./example_data/AnnoMate_Tutorial/mut_vafs/samp...</td>\n",
       "      <td>Testing preprocessing</td>\n",
       "    </tr>\n",
       "    <tr>\n",
       "      <th>sample_2</th>\n",
       "      <td>male</td>\n",
       "      <td>65</td>\n",
       "      <td>lung</td>\n",
       "      <td>./example_data/AnnoMate_Tutorial/treatments/sa...</td>\n",
       "      <td>./example_data/AnnoMate_Tutorial/mut_vafs/samp...</td>\n",
       "      <td>Testing preprocessing</td>\n",
       "    </tr>\n",
       "    <tr>\n",
       "      <th>sample_3</th>\n",
       "      <td>male</td>\n",
       "      <td>66</td>\n",
       "      <td>skin</td>\n",
       "      <td>./example_data/AnnoMate_Tutorial/treatments/sa...</td>\n",
       "      <td>./example_data/AnnoMate_Tutorial/mut_vafs/samp...</td>\n",
       "      <td>Testing preprocessing</td>\n",
       "    </tr>\n",
       "    <tr>\n",
       "      <th>sample_4</th>\n",
       "      <td>male</td>\n",
       "      <td>48</td>\n",
       "      <td>bone marrow</td>\n",
       "      <td>./example_data/AnnoMate_Tutorial/treatments/sa...</td>\n",
       "      <td>./example_data/AnnoMate_Tutorial/mut_vafs/samp...</td>\n",
       "      <td>Testing preprocessing</td>\n",
       "    </tr>\n",
       "  </tbody>\n",
       "</table>\n",
       "</div>"
      ],
      "text/plain": [
       "           gender  age tissue_origin  \\\n",
       "sample_id                              \n",
       "sample_0   female   57          skin   \n",
       "sample_1     male   66        breast   \n",
       "sample_2     male   65          lung   \n",
       "sample_3     male   66          skin   \n",
       "sample_4     male   48   bone marrow   \n",
       "\n",
       "                                             treatments_file  \\\n",
       "sample_id                                                      \n",
       "sample_0   ./example_data/AnnoMate_Tutorial/treatments/sa...   \n",
       "sample_1   ./example_data/AnnoMate_Tutorial/treatments/sa...   \n",
       "sample_2   ./example_data/AnnoMate_Tutorial/treatments/sa...   \n",
       "sample_3   ./example_data/AnnoMate_Tutorial/treatments/sa...   \n",
       "sample_4   ./example_data/AnnoMate_Tutorial/treatments/sa...   \n",
       "\n",
       "                                              mutations_file  \\\n",
       "sample_id                                                      \n",
       "sample_0   ./example_data/AnnoMate_Tutorial/mut_vafs/samp...   \n",
       "sample_1   ./example_data/AnnoMate_Tutorial/mut_vafs/samp...   \n",
       "sample_2   ./example_data/AnnoMate_Tutorial/mut_vafs/samp...   \n",
       "sample_3   ./example_data/AnnoMate_Tutorial/mut_vafs/samp...   \n",
       "sample_4   ./example_data/AnnoMate_Tutorial/mut_vafs/samp...   \n",
       "\n",
       "                      new_column  \n",
       "sample_id                         \n",
       "sample_0   Testing preprocessing  \n",
       "sample_1   Testing preprocessing  \n",
       "sample_2   Testing preprocessing  \n",
       "sample_3   Testing preprocessing  \n",
       "sample_4   Testing preprocessing  "
      ]
     },
     "execution_count": 9,
     "metadata": {},
     "output_type": "execute_result"
    }
   ],
   "source": [
    "my_reviewer.get_data_attribute('df').head()"
   ]
  },
  {
   "cell_type": "markdown",
   "id": "41f38a4c",
   "metadata": {},
   "source": [
    "### 4. Set up the app\n",
    "\n",
    "Depending on the reviewer, you may have options to customize how the dashboard app will be displayed. In this example, we need to provide information about which columns in the input table we want to use as the mutation file and which of the columns in the sample table to display.\n",
    "\n",
    "Feel free to change the `sample_cols` parameter to any set of columns or order from the input dataframe above."
   ]
  },
  {
   "cell_type": "code",
   "execution_count": 10,
   "id": "cdc0779a",
   "metadata": {},
   "outputs": [],
   "source": [
    "my_reviewer.set_review_app(mut_file_col='mutations_file', \n",
    "                           sample_cols=['gender', 'age', 'tissue_origin'])"
   ]
  },
  {
   "cell_type": "markdown",
   "id": "6773d336",
   "metadata": {},
   "source": [
    "### 5. Set up default settings\n",
    "\n",
    "For now, lets just set up the default annotations to record and other settings. More details in the Advanced section below."
   ]
  },
  {
   "cell_type": "code",
   "execution_count": 11,
   "id": "2875d634",
   "metadata": {},
   "outputs": [],
   "source": [
    "my_reviewer.set_default_review_data_annotations_configuration()\n",
    "my_reviewer.set_default_autofill()"
   ]
  },
  {
   "cell_type": "code",
   "execution_count": 12,
   "id": "6f611126-58d6-48b7-a056-01737bc2b263",
   "metadata": {},
   "outputs": [
    {
     "data": {
      "text/html": [
       "<div>\n",
       "<style scoped>\n",
       "    .dataframe tbody tr th:only-of-type {\n",
       "        vertical-align: middle;\n",
       "    }\n",
       "\n",
       "    .dataframe tbody tr th {\n",
       "        vertical-align: top;\n",
       "    }\n",
       "\n",
       "    .dataframe thead th {\n",
       "        text-align: right;\n",
       "    }\n",
       "</style>\n",
       "<table border=\"1\" class=\"dataframe\">\n",
       "  <thead>\n",
       "    <tr style=\"text-align: right;\">\n",
       "      <th></th>\n",
       "      <th>Notes</th>\n",
       "      <th>Flag</th>\n",
       "    </tr>\n",
       "  </thead>\n",
       "  <tbody>\n",
       "    <tr>\n",
       "      <th>sample_0</th>\n",
       "      <td></td>\n",
       "      <td>Remove</td>\n",
       "    </tr>\n",
       "    <tr>\n",
       "      <th>sample_1</th>\n",
       "      <td></td>\n",
       "      <td>Remove</td>\n",
       "    </tr>\n",
       "    <tr>\n",
       "      <th>sample_2</th>\n",
       "      <td>Nothing to say</td>\n",
       "      <td>Keep</td>\n",
       "    </tr>\n",
       "    <tr>\n",
       "      <th>sample_3</th>\n",
       "      <td></td>\n",
       "      <td>Remove</td>\n",
       "    </tr>\n",
       "    <tr>\n",
       "      <th>sample_4</th>\n",
       "      <td>Not good</td>\n",
       "      <td>Remove</td>\n",
       "    </tr>\n",
       "  </tbody>\n",
       "</table>\n",
       "</div>"
      ],
      "text/plain": [
       "                   Notes    Flag\n",
       "sample_0                  Remove\n",
       "sample_1                  Remove\n",
       "sample_2  Nothing to say    Keep\n",
       "sample_3                  Remove\n",
       "sample_4        Not good  Remove"
      ]
     },
     "execution_count": 12,
     "metadata": {},
     "output_type": "execute_result"
    }
   ],
   "source": [
    "my_reviewer.get_annot().head()"
   ]
  },
  {
   "cell_type": "code",
   "execution_count": 13,
   "id": "2be96b08-e7c6-477a-812b-a3a7c39d9128",
   "metadata": {},
   "outputs": [
    {
     "data": {
      "text/html": [
       "<div>\n",
       "<style scoped>\n",
       "    .dataframe tbody tr th:only-of-type {\n",
       "        vertical-align: middle;\n",
       "    }\n",
       "\n",
       "    .dataframe tbody tr th {\n",
       "        vertical-align: top;\n",
       "    }\n",
       "\n",
       "    .dataframe thead th {\n",
       "        text-align: right;\n",
       "    }\n",
       "</style>\n",
       "<table border=\"1\" class=\"dataframe\">\n",
       "  <thead>\n",
       "    <tr style=\"text-align: right;\">\n",
       "      <th></th>\n",
       "      <th>index</th>\n",
       "      <th>timestamp</th>\n",
       "      <th>source_data_fn</th>\n",
       "      <th>Notes</th>\n",
       "      <th>Flag</th>\n",
       "    </tr>\n",
       "  </thead>\n",
       "  <tbody>\n",
       "    <tr>\n",
       "      <th>0</th>\n",
       "      <td>sample_0</td>\n",
       "      <td>2024-05-29 11:21:53.051037</td>\n",
       "      <td>./example_reviewer_data/data.pkl</td>\n",
       "      <td></td>\n",
       "      <td>Remove</td>\n",
       "    </tr>\n",
       "    <tr>\n",
       "      <th>0</th>\n",
       "      <td>sample_1</td>\n",
       "      <td>2024-05-29 11:21:56.466574</td>\n",
       "      <td>./example_reviewer_data/data.pkl</td>\n",
       "      <td></td>\n",
       "      <td>Remove</td>\n",
       "    </tr>\n",
       "    <tr>\n",
       "      <th>0</th>\n",
       "      <td>sample_2</td>\n",
       "      <td>2024-05-29 11:22:02.213915</td>\n",
       "      <td>./example_reviewer_data/data.pkl</td>\n",
       "      <td>Nothing to say</td>\n",
       "      <td>Keep</td>\n",
       "    </tr>\n",
       "    <tr>\n",
       "      <th>0</th>\n",
       "      <td>sample_3</td>\n",
       "      <td>2024-05-29 11:22:05.466076</td>\n",
       "      <td>./example_reviewer_data/data.pkl</td>\n",
       "      <td></td>\n",
       "      <td>Remove</td>\n",
       "    </tr>\n",
       "    <tr>\n",
       "      <th>0</th>\n",
       "      <td>sample_4</td>\n",
       "      <td>2024-05-29 11:22:12.998607</td>\n",
       "      <td>./example_reviewer_data/data.pkl</td>\n",
       "      <td>Not good</td>\n",
       "      <td>Remove</td>\n",
       "    </tr>\n",
       "  </tbody>\n",
       "</table>\n",
       "</div>"
      ],
      "text/plain": [
       "      index                  timestamp                    source_data_fn  \\\n",
       "0  sample_0 2024-05-29 11:21:53.051037  ./example_reviewer_data/data.pkl   \n",
       "0  sample_1 2024-05-29 11:21:56.466574  ./example_reviewer_data/data.pkl   \n",
       "0  sample_2 2024-05-29 11:22:02.213915  ./example_reviewer_data/data.pkl   \n",
       "0  sample_3 2024-05-29 11:22:05.466076  ./example_reviewer_data/data.pkl   \n",
       "0  sample_4 2024-05-29 11:22:12.998607  ./example_reviewer_data/data.pkl   \n",
       "\n",
       "            Notes    Flag  \n",
       "0                  Remove  \n",
       "0                  Remove  \n",
       "0  Nothing to say    Keep  \n",
       "0                  Remove  \n",
       "0        Not good  Remove  "
      ]
     },
     "execution_count": 13,
     "metadata": {},
     "output_type": "execute_result"
    }
   ],
   "source": [
    "my_reviewer.get_history().head()"
   ]
  },
  {
   "cell_type": "markdown",
   "id": "1605ce20",
   "metadata": {},
   "source": [
    "### 6. Run the reviewer!\n",
    "\n",
    "You can run the app inside the notebook (`mode='inline'`, the default) or in a separate window (`mode='external'` or `mode='tab'`).\n",
    "\n",
    "If you are running your notebook in a VM, you will need to create an ssh connection, and specify the host and port address"
   ]
  },
  {
   "cell_type": "code",
   "execution_count": 14,
   "id": "b00fd0cf",
   "metadata": {},
   "outputs": [
    {
     "name": "stdout",
     "output_type": "stream",
     "text": [
      "Setting auto_export_path to ./example_reviewer_data/data.auto_export\n",
      "Using ./example_reviewer_data/data.auto_export for auto exporting.\n",
      "Dash app running on http://0.0.0.0:8055/\n"
     ]
    },
    {
     "data": {
      "application/javascript": [
       "window.open('http://0.0.0.0:8055/')"
      ],
      "text/plain": [
       "<IPython.core.display.Javascript object>"
      ]
     },
     "metadata": {},
     "output_type": "display_data"
    }
   ],
   "source": [
    "my_reviewer.run(collapsable=True, port=8055, mode='tab')"
   ]
  },
  {
   "cell_type": "markdown",
   "id": "2a06283e-b1cb-452a-8d8d-46e2ebf538ea",
   "metadata": {},
   "source": [
    "> **If you are using a VM:** Make sure to open a ssh tunnel to the specified port number\n",
    "> - `~C` to open the ssh prompt (will look like `ssh>`)\n",
    "> - Type and enter `-L <port number>:localhost:<port number>`\n",
    "\n",
    "> **If you are running from a docker container:** Make sure to open the port for accessing the dash app (`reviewer.run(port=<new_port_number>, ...)`) when you open the container\n",
    "> - `docker run -it -p <jupyter_port>:<jupyter_port> -p <dash_port>:<dash_port> gcr.io/broad-getzlab-workflows/annomate:dev_branch_v385`\n",
    "> - You can add more ports by adding more `-p <port_number>:<port_number>` arguments\n",
    "> - If you are on Linux, you can replace `-p` arguments with `--network host`"
   ]
  },
  {
   "cell_type": "markdown",
   "id": "3f7eb9ef-1dcf-4623-9a23-f03a261b927a",
   "metadata": {},
   "source": [
    "You can set `collapsable=False` if you do not want collapsable components."
   ]
  },
  {
   "cell_type": "markdown",
   "id": "a015ccb4",
   "metadata": {},
   "source": [
    "Go ahead and \"review\" some of the data by selecting different rows in the drop down menu and inputting annotations into the input form at the top left. Press `submit`, and you will see your inputs update the history table. If you change your annotations for that sample again, the annotation table will keep the most recent change, but you will see in the history table it will show both your new and previous annotations.\n",
    "\n",
    "\n",
    "For this exercise, fill in annotations for at least 8 samples, where at least four of them you annotate `Remove` for the `Flag` annotation\n",
    "\n",
    "You can view your progress by accessing the annotation table or history table:"
   ]
  },
  {
   "cell_type": "code",
   "execution_count": 15,
   "id": "8bff62a2",
   "metadata": {},
   "outputs": [
    {
     "data": {
      "text/html": [
       "<div>\n",
       "<style scoped>\n",
       "    .dataframe tbody tr th:only-of-type {\n",
       "        vertical-align: middle;\n",
       "    }\n",
       "\n",
       "    .dataframe tbody tr th {\n",
       "        vertical-align: top;\n",
       "    }\n",
       "\n",
       "    .dataframe thead th {\n",
       "        text-align: right;\n",
       "    }\n",
       "</style>\n",
       "<table border=\"1\" class=\"dataframe\">\n",
       "  <thead>\n",
       "    <tr style=\"text-align: right;\">\n",
       "      <th></th>\n",
       "      <th>Notes</th>\n",
       "      <th>Flag</th>\n",
       "    </tr>\n",
       "  </thead>\n",
       "  <tbody>\n",
       "    <tr>\n",
       "      <th>sample_0</th>\n",
       "      <td></td>\n",
       "      <td>Remove</td>\n",
       "    </tr>\n",
       "    <tr>\n",
       "      <th>sample_1</th>\n",
       "      <td></td>\n",
       "      <td>Remove</td>\n",
       "    </tr>\n",
       "    <tr>\n",
       "      <th>sample_2</th>\n",
       "      <td>Nothing to say</td>\n",
       "      <td>Keep</td>\n",
       "    </tr>\n",
       "    <tr>\n",
       "      <th>sample_3</th>\n",
       "      <td></td>\n",
       "      <td>Remove</td>\n",
       "    </tr>\n",
       "    <tr>\n",
       "      <th>sample_4</th>\n",
       "      <td>Not good</td>\n",
       "      <td>Remove</td>\n",
       "    </tr>\n",
       "  </tbody>\n",
       "</table>\n",
       "</div>"
      ],
      "text/plain": [
       "                   Notes    Flag\n",
       "sample_0                  Remove\n",
       "sample_1                  Remove\n",
       "sample_2  Nothing to say    Keep\n",
       "sample_3                  Remove\n",
       "sample_4        Not good  Remove"
      ]
     },
     "execution_count": 15,
     "metadata": {},
     "output_type": "execute_result"
    }
   ],
   "source": [
    "# only viewing samples with annotations\n",
    "my_reviewer.get_annot().head()"
   ]
  },
  {
   "cell_type": "code",
   "execution_count": 16,
   "id": "852bf6fa-9016-493a-89e9-cfa29e37d9c1",
   "metadata": {},
   "outputs": [
    {
     "data": {
      "text/html": [
       "<div>\n",
       "<style scoped>\n",
       "    .dataframe tbody tr th:only-of-type {\n",
       "        vertical-align: middle;\n",
       "    }\n",
       "\n",
       "    .dataframe tbody tr th {\n",
       "        vertical-align: top;\n",
       "    }\n",
       "\n",
       "    .dataframe thead th {\n",
       "        text-align: right;\n",
       "    }\n",
       "</style>\n",
       "<table border=\"1\" class=\"dataframe\">\n",
       "  <thead>\n",
       "    <tr style=\"text-align: right;\">\n",
       "      <th></th>\n",
       "      <th>index</th>\n",
       "      <th>timestamp</th>\n",
       "      <th>source_data_fn</th>\n",
       "      <th>Notes</th>\n",
       "      <th>Flag</th>\n",
       "    </tr>\n",
       "  </thead>\n",
       "  <tbody>\n",
       "    <tr>\n",
       "      <th>0</th>\n",
       "      <td>sample_0</td>\n",
       "      <td>2024-05-29 11:21:53.051037</td>\n",
       "      <td>./example_reviewer_data/data.pkl</td>\n",
       "      <td></td>\n",
       "      <td>Remove</td>\n",
       "    </tr>\n",
       "    <tr>\n",
       "      <th>0</th>\n",
       "      <td>sample_1</td>\n",
       "      <td>2024-05-29 11:21:56.466574</td>\n",
       "      <td>./example_reviewer_data/data.pkl</td>\n",
       "      <td></td>\n",
       "      <td>Remove</td>\n",
       "    </tr>\n",
       "    <tr>\n",
       "      <th>0</th>\n",
       "      <td>sample_2</td>\n",
       "      <td>2024-05-29 11:22:02.213915</td>\n",
       "      <td>./example_reviewer_data/data.pkl</td>\n",
       "      <td>Nothing to say</td>\n",
       "      <td>Keep</td>\n",
       "    </tr>\n",
       "    <tr>\n",
       "      <th>0</th>\n",
       "      <td>sample_3</td>\n",
       "      <td>2024-05-29 11:22:05.466076</td>\n",
       "      <td>./example_reviewer_data/data.pkl</td>\n",
       "      <td></td>\n",
       "      <td>Remove</td>\n",
       "    </tr>\n",
       "    <tr>\n",
       "      <th>0</th>\n",
       "      <td>sample_4</td>\n",
       "      <td>2024-05-29 11:22:12.998607</td>\n",
       "      <td>./example_reviewer_data/data.pkl</td>\n",
       "      <td>Not good</td>\n",
       "      <td>Remove</td>\n",
       "    </tr>\n",
       "  </tbody>\n",
       "</table>\n",
       "</div>"
      ],
      "text/plain": [
       "      index                  timestamp                    source_data_fn  \\\n",
       "0  sample_0 2024-05-29 11:21:53.051037  ./example_reviewer_data/data.pkl   \n",
       "0  sample_1 2024-05-29 11:21:56.466574  ./example_reviewer_data/data.pkl   \n",
       "0  sample_2 2024-05-29 11:22:02.213915  ./example_reviewer_data/data.pkl   \n",
       "0  sample_3 2024-05-29 11:22:05.466076  ./example_reviewer_data/data.pkl   \n",
       "0  sample_4 2024-05-29 11:22:12.998607  ./example_reviewer_data/data.pkl   \n",
       "\n",
       "            Notes    Flag  \n",
       "0                  Remove  \n",
       "0                  Remove  \n",
       "0  Nothing to say    Keep  \n",
       "0                  Remove  \n",
       "0        Not good  Remove  "
      ]
     },
     "execution_count": 16,
     "metadata": {},
     "output_type": "execute_result"
    }
   ],
   "source": [
    "my_reviewer.get_history()"
   ]
  },
  {
   "cell_type": "markdown",
   "id": "cc355478-4b2f-4dea-b8f4-f2743a3737d2",
   "metadata": {},
   "source": [
    "### Disable test mode"
   ]
  },
  {
   "cell_type": "markdown",
   "id": "8da6a3c8-18eb-4382-9aab-4031be0ad167",
   "metadata": {},
   "source": [
    "On initial load, you'll notice a `Freeze data` button. Once you are happy with your input data and are ready to start reviewing your data, press this button to disable test mode and freeze your data. Note that once this button is pressed, you will not be able to unfreeze your data / revert back to test mode."
   ]
  },
  {
   "cell_type": "markdown",
   "id": "7fea16ef",
   "metadata": {},
   "source": [
    "Now you can export this table to a file that you can then share, upload to Terra, or use for further analysis."
   ]
  },
  {
   "cell_type": "markdown",
   "id": "73cf1af9-7850-4c69-987a-34d8d968225d",
   "metadata": {},
   "source": [
    "## Export your data\n",
    "\n",
    "This is highly recommended to run periodically. Exporting will write the `annot_df` and `history_df` dataframes to a tsv file in the directory specified. \n",
    "\n",
    "We include a boolean parameter to `export_by_day`, which will create a sub-directory inside the input directory labeled by the current date (YYYY-MM-DD) and save the current state of your review in that folder.\n",
    "\n",
    "We also include a boolean parameter `dry_run` so you can see where the data will be exported."
   ]
  },
  {
   "cell_type": "code",
   "execution_count": 17,
   "id": "725efe31",
   "metadata": {},
   "outputs": [
    {
     "name": "stdout",
     "output_type": "stream",
     "text": [
      "Making new directory data/example_reviewer_data/2024-06-03\n",
      "Export directory will be data/example_reviewer_data/2024-06-03. Nothing exported yet.\n"
     ]
    }
   ],
   "source": [
    "export_dir = f'data/example_reviewer_data'\n",
    "if not os.path.exists(export_dir):\n",
    "    os.mkdir(export_dir)\n",
    "    \n",
    "my_reviewer.export_data(export_dir, export_by_day=True)"
   ]
  },
  {
   "cell_type": "code",
   "execution_count": 18,
   "id": "e26441c4-57df-4d06-b8cb-915f97dc9c56",
   "metadata": {},
   "outputs": [
    {
     "name": "stdout",
     "output_type": "stream",
     "text": [
      "index is not a dataframe. Not exporting.\n",
      "description is not a dataframe. Not exporting.\n",
      "annot_col_config_dict is not a dataframe. Not exporting.\n",
      "Saving annot_df to data/example_reviewer_data/2024-06-03/annot_df.tsv\n",
      "Saving history_df to data/example_reviewer_data/2024-06-03/history_df.tsv\n",
      "Saving df to data/example_reviewer_data/2024-06-03/df.tsv\n",
      "Exported to data/example_reviewer_data/2024-06-03\n"
     ]
    },
    {
     "name": "stderr",
     "output_type": "stream",
     "text": [
      "/Users/cchu/opt/anaconda3/envs/test/lib/python3.8/site-packages/AnnoMate/ReviewerTemplate.py:513: UserWarning:\n",
      "\n",
      "Directory data/example_reviewer_data/2024-06-03 already exists\n",
      "\n"
     ]
    }
   ],
   "source": [
    "# Actually saving the data\n",
    "my_reviewer.export_data(export_dir, export_by_day=True, dry_run=False)"
   ]
  },
  {
   "cell_type": "markdown",
   "id": "8c640b9d",
   "metadata": {},
   "source": [
    "## Advanced Reviewer Run\n",
    "\n",
    "We will go through each step again, but show how you can further customize your reviewer for your needs.\n",
    "\n",
    "Let's suppose you are done reviewing all the samples in `my_reviewer` above, and now I want to do some more exploration on the samples I decided to `Remove`."
   ]
  },
  {
   "cell_type": "markdown",
   "id": "073478e1",
   "metadata": {},
   "source": [
    "### 1. and 2. Pick and instantiate your reviewer\n",
    "\n",
    "We will just use the same one as before, but this time create a separate reviewer"
   ]
  },
  {
   "cell_type": "code",
   "execution_count": 19,
   "id": "cec30f2c",
   "metadata": {},
   "outputs": [],
   "source": [
    "my_reviewer_2 = ExampleReviewer()"
   ]
  },
  {
   "cell_type": "markdown",
   "id": "332cba50",
   "metadata": {},
   "source": [
    "### 3. Set up the review data\n",
    "\n",
    "For this exercise, let's identify which samples you \"removed\" from the previous review. \n"
   ]
  },
  {
   "cell_type": "code",
   "execution_count": 20,
   "id": "1cf5f2b7",
   "metadata": {},
   "outputs": [
    {
     "name": "stdout",
     "output_type": "stream",
     "text": [
      "['sample_0', 'sample_1', 'sample_3', 'sample_4']\n"
     ]
    }
   ],
   "source": [
    "keep_samples_index = \\\n",
    "    my_reviewer.get_annot().loc[\n",
    "        my_reviewer.get_annot()['Flag'] == 'Remove'\n",
    "    ].index.tolist()\n",
    "\n",
    "print(keep_samples_index)"
   ]
  },
  {
   "cell_type": "markdown",
   "id": "851a9335",
   "metadata": {},
   "source": [
    "It would be very useful in this new review session to know why I initially thought I should remove those samples. We can include the previous annotation and history data in this new review session. \n",
    "\n",
    "You may have seen in `ReviewerTemplate.set_review_data` there were several other parameters that were not discussed. Those parameters are to allow you to \"pre-fill\" annotations and history.\n",
    "\n",
    "There are two main ways to do this:\n",
    "\n",
    "1. **Manually input the `annot_df`, `annot_col_config_dict`, and `history_df` yourself.** This may be appropriate if you have some post processing done on the annotations done separately, or you only have access to an `annot_df` but no history.\n",
    "1. **Preferred: Load existing data pickle object or exported data files** If you are just continuing review from a previous review session. You can do this by either passing in the path to the data pickle file (`load_existing_data_pkl_fn`), or to a directory that contains the exported tables from a review session (`load_existing_exported_data_dir`). \n",
    "\n",
    "> The latter method is preferred because the history tables include a column that indicates the source of the \n",
    "> annotations (column `source_data_fn`), which allows you to easily go back to that review session and read the \n",
    "> description. A work around is to manually generate your own history table with the columns corresponding to your\n",
    "> input annotation table, plus `['index', 'timestamp', 'source_data_fn']`. \n",
    "\n",
    "\n",
    "**NOTE**: you still need to set up the input data you want to review yourself. Often times new or updated data is available. If you want to use the data you used for original review sessions, you can pull directly from the data object or the exported files. \n",
    "\n",
    "\n",
    "For this exercise, let's pass in the pickle file directly."
   ]
  },
  {
   "cell_type": "code",
   "execution_count": 21,
   "id": "bcaac9d1",
   "metadata": {},
   "outputs": [
    {
     "name": "stdout",
     "output_type": "stream",
     "text": [
      "Loading data from previous review with pickle file\n"
     ]
    }
   ],
   "source": [
    "new_output_path = './example_reviewer_data_removed'\n",
    "my_reviewer_2.set_review_data(\n",
    "    index=keep_samples_index,\n",
    "    data_path=new_output_path,\n",
    "    description=\"Reviewing more data to see if I can explain why these samples should be removed.\",\n",
    "    sample_df=my_reviewer.get_data_attribute('df'), # reuse exactly the same data as before\n",
    "    load_existing_data_pkl_fn=f'{output_pkl_path}/data.pkl',\n",
    "    preprocessing_str='New data'\n",
    ")\n"
   ]
  },
  {
   "cell_type": "code",
   "execution_count": 22,
   "id": "386d24d6-311c-4678-9832-503aadd8e058",
   "metadata": {},
   "outputs": [
    {
     "name": "stderr",
     "output_type": "stream",
     "text": [
      "/Users/cchu/opt/anaconda3/envs/test/lib/python3.8/site-packages/AnnoMate/ReviewerTemplate.py:477: UserWarning:\n",
      "\n",
      "Data is not frozen. Annotations will not be saved. Please freeze data in the dashboard to save annotations.\n",
      "\n"
     ]
    },
    {
     "data": {
      "text/html": [
       "<div>\n",
       "<style scoped>\n",
       "    .dataframe tbody tr th:only-of-type {\n",
       "        vertical-align: middle;\n",
       "    }\n",
       "\n",
       "    .dataframe tbody tr th {\n",
       "        vertical-align: top;\n",
       "    }\n",
       "\n",
       "    .dataframe thead th {\n",
       "        text-align: right;\n",
       "    }\n",
       "</style>\n",
       "<table border=\"1\" class=\"dataframe\">\n",
       "  <thead>\n",
       "    <tr style=\"text-align: right;\">\n",
       "      <th></th>\n",
       "      <th>Notes</th>\n",
       "      <th>Flag</th>\n",
       "    </tr>\n",
       "  </thead>\n",
       "  <tbody>\n",
       "    <tr>\n",
       "      <th>sample_0</th>\n",
       "      <td></td>\n",
       "      <td>Remove</td>\n",
       "    </tr>\n",
       "    <tr>\n",
       "      <th>sample_1</th>\n",
       "      <td></td>\n",
       "      <td>Remove</td>\n",
       "    </tr>\n",
       "    <tr>\n",
       "      <th>sample_3</th>\n",
       "      <td></td>\n",
       "      <td>Remove</td>\n",
       "    </tr>\n",
       "    <tr>\n",
       "      <th>sample_4</th>\n",
       "      <td>Not good</td>\n",
       "      <td>Remove</td>\n",
       "    </tr>\n",
       "  </tbody>\n",
       "</table>\n",
       "</div>"
      ],
      "text/plain": [
       "             Notes    Flag\n",
       "sample_0            Remove\n",
       "sample_1            Remove\n",
       "sample_3            Remove\n",
       "sample_4  Not good  Remove"
      ]
     },
     "execution_count": 22,
     "metadata": {},
     "output_type": "execute_result"
    }
   ],
   "source": [
    "my_reviewer_2.get_annot()"
   ]
  },
  {
   "cell_type": "markdown",
   "id": "8ef096fb",
   "metadata": {},
   "source": [
    "### 4. Set up the app\n",
    "\n",
    "In the previous review session, all we saw was a mutation table. What if we also want to view the treatment data?\n",
    "\n",
    "You can add additional tables and graphs to the dashboard.\n",
    "\n",
    "First, run `set_review_app` like before. Note that if you have updated files to plot, make sure you reference the correct column name. In this case, we are still reviewig the original files in `mutations_file`."
   ]
  },
  {
   "cell_type": "code",
   "execution_count": 23,
   "id": "1e23f569",
   "metadata": {},
   "outputs": [],
   "source": [
    "my_reviewer_2.set_review_app(\n",
    "    mut_file_col='mutations_file', \n",
    "    sample_cols=['gender', 'age', 'tissue_origin', 'mutations_file']\n",
    ")\n"
   ]
  },
  {
   "cell_type": "markdown",
   "id": "df28c4fd",
   "metadata": {},
   "source": [
    "Then you can add your own `AppComponent`. For more advanced features, see `Developer_AnnoMate_Tutorial.ipynb`.\n",
    "\n",
    "For now, let's just use the built in function to add a table."
   ]
  },
  {
   "cell_type": "code",
   "execution_count": 24,
   "id": "f44d22bb",
   "metadata": {},
   "outputs": [
    {
     "data": {
      "text/html": [
       "<div>\n",
       "<style scoped>\n",
       "    .dataframe tbody tr th:only-of-type {\n",
       "        vertical-align: middle;\n",
       "    }\n",
       "\n",
       "    .dataframe tbody tr th {\n",
       "        vertical-align: top;\n",
       "    }\n",
       "\n",
       "    .dataframe thead th {\n",
       "        text-align: right;\n",
       "    }\n",
       "</style>\n",
       "<table border=\"1\" class=\"dataframe\">\n",
       "  <thead>\n",
       "    <tr style=\"text-align: right;\">\n",
       "      <th></th>\n",
       "      <th>treatment_name</th>\n",
       "      <th>response</th>\n",
       "      <th>tx_start</th>\n",
       "    </tr>\n",
       "  </thead>\n",
       "  <tbody>\n",
       "    <tr>\n",
       "      <th>0</th>\n",
       "      <td>anti-TNF</td>\n",
       "      <td>remission</td>\n",
       "      <td>95</td>\n",
       "    </tr>\n",
       "    <tr>\n",
       "      <th>1</th>\n",
       "      <td>anti-TNF</td>\n",
       "      <td>remission</td>\n",
       "      <td>183</td>\n",
       "    </tr>\n",
       "    <tr>\n",
       "      <th>2</th>\n",
       "      <td>Anthracycline</td>\n",
       "      <td>remission</td>\n",
       "      <td>203</td>\n",
       "    </tr>\n",
       "  </tbody>\n",
       "</table>\n",
       "</div>"
      ],
      "text/plain": [
       "  treatment_name   response  tx_start\n",
       "0       anti-TNF  remission        95\n",
       "1       anti-TNF  remission       183\n",
       "2  Anthracycline  remission       203"
      ]
     },
     "execution_count": 24,
     "metadata": {},
     "output_type": "execute_result"
    }
   ],
   "source": [
    "pd.read_csv(my_reviewer_2.get_data_attribute('df').iloc[0]['treatments_file'], sep='\\t')"
   ]
  },
  {
   "cell_type": "code",
   "execution_count": 25,
   "id": "9fd80758",
   "metadata": {},
   "outputs": [],
   "source": [
    "my_reviewer_2.app.add_table_from_path(\n",
    "    data_table_source='df', # reference which table in the Data object to use.\n",
    "    table_title='Treatment file',\n",
    "    component_id='treatment-component-id',\n",
    "    table_fn_col='treatments_file', \n",
    "    table_cols=['treatment_name', 'response', 'tx_start']\n",
    ")\n"
   ]
  },
  {
   "cell_type": "markdown",
   "id": "852f94ae",
   "metadata": {},
   "source": [
    "## 5. Set up settings\n",
    "\n",
    "Above, we just used default settings already implemented for us. This included what annotations to record and how they are displayed in the app. \n",
    "\n",
    "To create your own annotations, use `add_review_data_annotation(annot_name: str, data_annot: DataAnnotation)` for each annotation you want to use. This will create new columns in the `review_data.data.annot_df` dataframe if `annot_name` does not already exist. If it does, it will update the annotation's metadata with `data_annot`, which specifies information about the data type of the annotation (string, float, etc.), valid options, and default values. \n",
    "\n",
    "Similarly, you can specify or change how your annotation inputs will be displayed in the app with `add_annotation_display_component(name: str, annot_display_component: AnnotationDisplayComponent)`. \n",
    "- `name` must refer to an annotation column in the `annot_df` dataframe (determined with `add_review_data_annotation()` or default settings). \n",
    "- `annot_display_component` is an `AnnotationDisplayComponent` object. Examples include text area (`TextAnnotationDisplay()`), checklist (`ChecklistAnnotationDisplay()`), etc. See more options in `AnnoMate.AnnotationDisplayComponent`. For each`AnnotationDisplayComponent` object, you can set a default display value to prefill the annotation panel with a valid option using the `default_display_value` parameter.\n",
    "\n",
    "\n",
    "Let's keep the default configuration, but make some modifications:\n",
    "1. Add an additional option \"Report\" for the existing \"Flag\" annotation and set a default value\n",
    "1. Modify the display of `Notes` to just be a single text line\n",
    "1. Add an annotation to record the current color of the histogram\n",
    "\n",
    "**NOTE**: Once those annotations are added, they will stay. If you already made annotations and you change the data type or valid values afterwards, the reviewer will check that existing values are valid. If not, you will not be able to make those changes to the configuration."
   ]
  },
  {
   "cell_type": "code",
   "execution_count": 26,
   "id": "b89c3fea-2afd-4075-a473-e8a85fcc7f5c",
   "metadata": {},
   "outputs": [],
   "source": [
    "from AnnoMate.Data import DataAnnotation\n",
    "import AnnoMate.AnnotationDisplayComponent as adc\n",
    "import numpy as np"
   ]
  },
  {
   "cell_type": "code",
   "execution_count": 27,
   "id": "6153a01e-65d4-4300-a06e-b005ef474990",
   "metadata": {},
   "outputs": [],
   "source": [
    "my_reviewer_2.set_default_review_data_annotations_configuration()"
   ]
  },
  {
   "cell_type": "code",
   "execution_count": 28,
   "id": "9849c027-aa61-45e5-a70d-76abe4142cd9",
   "metadata": {},
   "outputs": [],
   "source": [
    "# 1. Update all the options for the 'Flag' annotation\n",
    "my_reviewer_2.add_review_data_annotation(\n",
    "    annot_name='Flag', \n",
    "    review_data_annotation=DataAnnotation(\n",
    "        annot_value_type='string', \n",
    "        options=['Keep', 'Remove', 'Report'], \n",
    "    )\n",
    ")\n",
    "my_reviewer_2.add_annotation_display_component(\n",
    "    annot_name='Flag', \n",
    "    annot_display_component=adc.RadioitemAnnotationDisplay(default_display_value='Keep')\n",
    ")\n",
    "\n",
    "# 2. Update the display for the 'Notes' annotation\n",
    "my_reviewer_2.add_annotation_display_component(\n",
    "    annot_name='Notes', \n",
    "    annot_display_component=adc.TextAnnotationDisplay()\n",
    ")\n",
    "\n",
    "# 3. Add a histogram color annotation\n",
    "my_reviewer_2.add_review_data_annotation(\n",
    "    annot_name='Histogram color', \n",
    "    review_data_annotation=DataAnnotation(\n",
    "        annot_value_type='string', \n",
    "        options=['red', 'green', 'blue'], \n",
    "    )\n",
    ")\n",
    "my_reviewer_2.add_annotation_display_component(\n",
    "    annot_name='Histogram color', \n",
    "    annot_display_component=adc.SelectAnnotationDisplay()\n",
    ")\n"
   ]
  },
  {
   "cell_type": "markdown",
   "id": "3cf9f93c-12bc-44da-8564-343425264b9e",
   "metadata": {},
   "source": [
    "Then, let's add more annotations to explore some of other predefined `DataAnnotation` and `AnnotationDisplayComponent` options"
   ]
  },
  {
   "cell_type": "code",
   "execution_count": 29,
   "id": "3f91079d-0084-4abf-a4b0-ecb292e65d7f",
   "metadata": {},
   "outputs": [],
   "source": [
    "# Text area\n",
    "my_reviewer_2.add_review_data_annotation(\n",
    "    annot_name='A Number', \n",
    "    review_data_annotation=DataAnnotation(\n",
    "        annot_value_type='float', \n",
    "    )\n",
    ")\n",
    "my_reviewer_2.add_annotation_display_component(\n",
    "    annot_name='A Number', \n",
    "    annot_display_component=adc.NumberAnnotationDisplay())\n",
    "\n",
    "# Radioitem: \n",
    "my_reviewer_2.add_review_data_annotation(\n",
    "    annot_name='A radioitem', \n",
    "    review_data_annotation=DataAnnotation(\n",
    "        annot_value_type='string', \n",
    "        options=['Option a', 'Option b', 'Option c']\n",
    "    )\n",
    ")\n",
    "my_reviewer_2.add_annotation_display_component(\n",
    "    annot_name='A radioitem', \n",
    "    annot_display_component=adc.RadioitemAnnotationDisplay())\n",
    "\n",
    "# Checklist: only compatible with multi type (save a list of options)\n",
    "my_reviewer_2.add_review_data_annotation(\n",
    "    annot_name='A checklist', \n",
    "    review_data_annotation=DataAnnotation(\n",
    "        annot_value_type='multi', \n",
    "        options=['Option 1', 'Option 2', 'Option 3']\n",
    "    )\n",
    ")\n",
    "my_reviewer_2.add_annotation_display_component(\n",
    "    annot_name='A checklist', \n",
    "    annot_display_component=adc.ChecklistAnnotationDisplay(default_display_value=['Option 1']))\n",
    "\n",
    "\n",
    "# Dropdown/Select\n",
    "my_reviewer_2.add_review_data_annotation(\n",
    "    annot_name='A dropdown menu', \n",
    "    review_data_annotation=DataAnnotation(\n",
    "        annot_value_type='string', \n",
    "        options=['Option A', 'Option B', 'Option C']\n",
    "    )\n",
    ")\n",
    "my_reviewer_2.add_annotation_display_component(\n",
    "    annot_name='A dropdown menu', \n",
    "    annot_display_component=adc.SelectAnnotationDisplay())\n",
    "\n",
    "# Multiselect Dropdown menu\n",
    "my_reviewer_2.add_review_data_annotation(\n",
    "    annot_name='A multi-select dropdown menu', \n",
    "    review_data_annotation=DataAnnotation(\n",
    "        annot_value_type='multi', \n",
    "        options=['Option x', 'Option y', 'Option z']\n",
    "    )\n",
    ")\n",
    "my_reviewer_2.add_annotation_display_component(\n",
    "    annot_name='A multi-select dropdown menu', \n",
    "    annot_display_component=adc.MultiValueSelectAnnotationDisplay())\n"
   ]
  },
  {
   "cell_type": "markdown",
   "id": "e520edc6-57f6-4c63-ae0c-ee72ea2284db",
   "metadata": {},
   "source": [
    "Sometimes you may not want to review all the annotations in the annotation table in the dashboard. There are two ways to do this:\n",
    "- Do not run `reviewer.set_default_review_data_annotations_configuration()`, which will add all the default annotations and displays. However, you would then need to add annotation columns yourself if you did not load directly from another review session\n",
    "- You can remove any pre-built annotation display components by referencing the corresponding annotation name. **NOTE** that this does NOT delete anything in the annotation table. It will only change the annotation panel input options in the dashboard."
   ]
  },
  {
   "cell_type": "code",
   "execution_count": 30,
   "id": "7d013fe3-fd80-49de-818f-29a2748722b7",
   "metadata": {},
   "outputs": [
    {
     "data": {
      "text/plain": [
       "True"
      ]
     },
     "execution_count": 30,
     "metadata": {},
     "output_type": "execute_result"
    }
   ],
   "source": [
    "my_reviewer_2.add_review_data_annotation(\n",
    "    annot_name='Test removing annotation', \n",
    "    review_data_annotation=DataAnnotation(\n",
    "        annot_value_type='float', \n",
    "    )\n",
    ")\n",
    "my_reviewer_2.add_annotation_display_component(\n",
    "    annot_name='Test removing annotation', \n",
    "    annot_display_component=adc.NumberAnnotationDisplay())\n",
    "\n",
    "'Test removing annotation' in my_reviewer_2.annot_app_display_types_dict.keys()"
   ]
  },
  {
   "cell_type": "code",
   "execution_count": 31,
   "id": "f1e83bc2-f597-4e80-82f4-558265058096",
   "metadata": {},
   "outputs": [
    {
     "data": {
      "text/plain": [
       "False"
      ]
     },
     "execution_count": 31,
     "metadata": {},
     "output_type": "execute_result"
    }
   ],
   "source": [
    "removed_annot_display_component = my_reviewer_2.remove_annotation_display_component('Test removing annotation')\n",
    "'Test removing annotation' in my_reviewer_2.annot_app_display_types_dict.keys()"
   ]
  },
  {
   "cell_type": "markdown",
   "id": "7d92b39d-02c1-442c-bf76-6702aa9a3875",
   "metadata": {},
   "source": [
    "Annotation \"Test removing annotation\" will still be in the annotation dataframe. However, since there is no associated display component it's value will not be displayed."
   ]
  },
  {
   "cell_type": "markdown",
   "id": "7a4f78c5",
   "metadata": {},
   "source": [
    "### 5.1 Autofill\n",
    "\n",
    "Sometimes there are parts of the dashboard that can calculate annotations on the fly. In this case, say we want to record what color the histogram plot was last plotted with. It would be tedious and error prone for a reviewer to have to keep copying data into the correpsonding input. \n",
    "\n",
    "Autofill allows the you to simply press a button and it will take the data in the dashboard from specified components and fill the annotation input panel for you.\n",
    "\n",
    "Depending on the app, there will already be a default autofill setting. For those, just call \n",
    "```\n",
    "my_reviewer_2.set_default_autofill()\n",
    "```\n",
    "\n",
    "In this case, `ExampleReviewer` has no autofill specified. You can add your own using `add_autofill()`. This is also useful when you have added your own custom components.\n",
    "\n",
    "You may have to look at the source code to see what components were added and what layout components have values you can access.\n"
   ]
  },
  {
   "cell_type": "code",
   "execution_count": 32,
   "id": "67cb42cd",
   "metadata": {},
   "outputs": [],
   "source": [
    "from dash.dependencies import State\n",
    "my_reviewer_2.add_autofill(\n",
    "    autofill_button_name='Mut vafs',\n",
    "    fill_value=State('mut-figure-color-radioitem', 'value'),\n",
    "    annot_name='Histogram color'\n",
    ")"
   ]
  },
  {
   "cell_type": "markdown",
   "id": "44926117",
   "metadata": {},
   "source": [
    "## 6. Run the app!"
   ]
  },
  {
   "cell_type": "code",
   "execution_count": 33,
   "id": "7871969b",
   "metadata": {},
   "outputs": [
    {
     "name": "stdout",
     "output_type": "stream",
     "text": [
      "Setting auto_export_path to ./example_reviewer_data_removed/data.auto_export\n",
      "Using ./example_reviewer_data_removed/data.auto_export for auto exporting.\n",
      "Dash app running on http://0.0.0.0:8052/\n"
     ]
    },
    {
     "name": "stderr",
     "output_type": "stream",
     "text": [
      "/Users/cchu/opt/anaconda3/envs/test/lib/python3.8/site-packages/AnnoMate/ReviewDataApp.py:738: UserWarning:\n",
      "\n",
      "You are in test mode. Your data will not be saved.\n",
      "\n"
     ]
    },
    {
     "data": {
      "application/javascript": [
       "window.open('http://0.0.0.0:8052/')"
      ],
      "text/plain": [
       "<IPython.core.display.Javascript object>"
      ]
     },
     "metadata": {},
     "output_type": "display_data"
    }
   ],
   "source": [
    "my_reviewer_2.run(port=8052, mode='tab')"
   ]
  },
  {
   "cell_type": "markdown",
   "id": "a6efa4f6-434c-4e72-af90-58b9b63afa70",
   "metadata": {},
   "source": [
    "### Navigate data to review inside the dashboard"
   ]
  },
  {
   "cell_type": "markdown",
   "id": "33f385c2-4f11-4a2a-88e3-2e90d8aaae73",
   "metadata": {},
   "source": [
    "Pass in a dataframe with the index that matches the index from the Data object to also traverse your data through a table. You specify which columns you want to include, in addition to the columns in your annotation table which are added automatically."
   ]
  },
  {
   "cell_type": "code",
   "execution_count": 34,
   "id": "b7630df3-40b5-4e8a-9638-cdf4cd59022b",
   "metadata": {},
   "outputs": [
    {
     "name": "stdout",
     "output_type": "stream",
     "text": [
      "Setting auto_export_path to ./example_reviewer_data_removed/data.auto_export\n",
      "Using ./example_reviewer_data_removed/data.auto_export for auto exporting.\n",
      "Dash app running on http://0.0.0.0:8052/\n"
     ]
    },
    {
     "name": "stderr",
     "output_type": "stream",
     "text": [
      "/Users/cchu/opt/anaconda3/envs/test/lib/python3.8/site-packages/AnnoMate/ReviewDataApp.py:738: UserWarning:\n",
      "\n",
      "You are in test mode. Your data will not be saved.\n",
      "\n"
     ]
    },
    {
     "data": {
      "application/javascript": [
       "window.open('http://0.0.0.0:8052/')"
      ],
      "text/plain": [
       "<IPython.core.display.Javascript object>"
      ]
     },
     "metadata": {},
     "output_type": "display_data"
    }
   ],
   "source": [
    "my_reviewer_2.run(\n",
    "    review_data_table_df=df.loc[keep_samples_index, ['gender', 'age', 'tissue_origin']], \n",
    "    review_data_table_page_size=7,\n",
    "    port=8052,\n",
    "    mode='tab'\n",
    ")"
   ]
  },
  {
   "cell_type": "code",
   "execution_count": 35,
   "id": "83dee02a-8415-4a1c-9b85-b2598883a0c7",
   "metadata": {},
   "outputs": [
    {
     "name": "stderr",
     "output_type": "stream",
     "text": [
      "/Users/cchu/opt/anaconda3/envs/test/lib/python3.8/site-packages/AnnoMate/ReviewerTemplate.py:477: UserWarning:\n",
      "\n",
      "Data is not frozen. Annotations will not be saved. Please freeze data in the dashboard to save annotations.\n",
      "\n"
     ]
    },
    {
     "data": {
      "text/html": [
       "<div>\n",
       "<style scoped>\n",
       "    .dataframe tbody tr th:only-of-type {\n",
       "        vertical-align: middle;\n",
       "    }\n",
       "\n",
       "    .dataframe tbody tr th {\n",
       "        vertical-align: top;\n",
       "    }\n",
       "\n",
       "    .dataframe thead th {\n",
       "        text-align: right;\n",
       "    }\n",
       "</style>\n",
       "<table border=\"1\" class=\"dataframe\">\n",
       "  <thead>\n",
       "    <tr style=\"text-align: right;\">\n",
       "      <th></th>\n",
       "      <th>Notes</th>\n",
       "      <th>Flag</th>\n",
       "      <th>Histogram color</th>\n",
       "      <th>A Number</th>\n",
       "      <th>A radioitem</th>\n",
       "      <th>A checklist</th>\n",
       "      <th>A dropdown menu</th>\n",
       "      <th>A multi-select dropdown menu</th>\n",
       "      <th>Test removing annotation</th>\n",
       "    </tr>\n",
       "  </thead>\n",
       "  <tbody>\n",
       "    <tr>\n",
       "      <th>sample_0</th>\n",
       "      <td></td>\n",
       "      <td>Remove</td>\n",
       "      <td></td>\n",
       "      <td>NaN</td>\n",
       "      <td></td>\n",
       "      <td></td>\n",
       "      <td></td>\n",
       "      <td></td>\n",
       "      <td>NaN</td>\n",
       "    </tr>\n",
       "    <tr>\n",
       "      <th>sample_1</th>\n",
       "      <td></td>\n",
       "      <td>Remove</td>\n",
       "      <td></td>\n",
       "      <td>NaN</td>\n",
       "      <td></td>\n",
       "      <td></td>\n",
       "      <td></td>\n",
       "      <td></td>\n",
       "      <td>NaN</td>\n",
       "    </tr>\n",
       "    <tr>\n",
       "      <th>sample_3</th>\n",
       "      <td></td>\n",
       "      <td>Remove</td>\n",
       "      <td></td>\n",
       "      <td>NaN</td>\n",
       "      <td></td>\n",
       "      <td></td>\n",
       "      <td></td>\n",
       "      <td></td>\n",
       "      <td>NaN</td>\n",
       "    </tr>\n",
       "    <tr>\n",
       "      <th>sample_4</th>\n",
       "      <td>Not good</td>\n",
       "      <td>Remove</td>\n",
       "      <td></td>\n",
       "      <td>NaN</td>\n",
       "      <td></td>\n",
       "      <td></td>\n",
       "      <td></td>\n",
       "      <td></td>\n",
       "      <td>NaN</td>\n",
       "    </tr>\n",
       "  </tbody>\n",
       "</table>\n",
       "</div>"
      ],
      "text/plain": [
       "             Notes    Flag Histogram color  A Number A radioitem A checklist  \\\n",
       "sample_0            Remove                       NaN                           \n",
       "sample_1            Remove                       NaN                           \n",
       "sample_3            Remove                       NaN                           \n",
       "sample_4  Not good  Remove                       NaN                           \n",
       "\n",
       "         A dropdown menu A multi-select dropdown menu  \\\n",
       "sample_0                                                \n",
       "sample_1                                                \n",
       "sample_3                                                \n",
       "sample_4                                                \n",
       "\n",
       "          Test removing annotation  \n",
       "sample_0                       NaN  \n",
       "sample_1                       NaN  \n",
       "sample_3                       NaN  \n",
       "sample_4                       NaN  "
      ]
     },
     "execution_count": 35,
     "metadata": {},
     "output_type": "execute_result"
    }
   ],
   "source": [
    "my_reviewer_2.get_annot()"
   ]
  },
  {
   "cell_type": "markdown",
   "id": "774325cd",
   "metadata": {},
   "source": [
    "You should see that the new inputs was added to the annotation panel. Additionally, the new table with treatment data is added to the bottom.\n",
    "\n",
    "Select a sample from the dropdown and change the color of the histogram. \n",
    "\n",
    "Then, go back up to the annotaiton panel and press the `Mut val` button. This should autofill the `Histogram color` input to the same color you selected."
   ]
  },
  {
   "cell_type": "markdown",
   "id": "0a6a8463-1be3-4955-8f50-306317df2afb",
   "metadata": {},
   "source": [
    "### Auto export or \"backup\" your annotations\n",
    "\n",
    "The data is automatically saved to a pickle object. However, you may want to maintain a back up copy of your data that is independet of the pickle file. Sometimes if you make environment changes, pickle may not be able to load the original data object and your annotations may be hard to retrieve.\n",
    "\n",
    "It's recommended to set `auto_export=True` and set a directory (local or bucket url) to save at minimum your annotation and history tables, which is set by default. If you have additional attributes from the data object you want to save (`reviewer.get_data_attributes()`), you can explicitly pass a list to `attributes_to_export`.\n",
    "\n",
    "If you do not set `auto_export_path`, it will automatically create a directory inside the path passed to `data_path` in `reviewer.set_review_data(...)`. "
   ]
  },
  {
   "cell_type": "code",
   "execution_count": 36,
   "id": "d05f523a-a3d6-4ae0-8279-c9d115a2ecf8",
   "metadata": {},
   "outputs": [
    {
     "name": "stdout",
     "output_type": "stream",
     "text": [
      "Setting auto_export_path to ./example_reviewer_data_removed/data.auto_export\n",
      "Using ./example_reviewer_data_removed/data.auto_export for auto exporting.\n",
      "Dash app running on http://0.0.0.0:8052/\n"
     ]
    },
    {
     "name": "stderr",
     "output_type": "stream",
     "text": [
      "/Users/cchu/opt/anaconda3/envs/test/lib/python3.8/site-packages/AnnoMate/ReviewDataApp.py:738: UserWarning:\n",
      "\n",
      "You are in test mode. Your data will not be saved.\n",
      "\n"
     ]
    }
   ],
   "source": [
    "my_reviewer_2.run(\n",
    "    port=8052,\n",
    "    auto_export=True,\n",
    ")"
   ]
  },
  {
   "cell_type": "markdown",
   "id": "e81a4c65-bad3-44f6-ae35-874315414511",
   "metadata": {},
   "source": [
    "### Change order of components\n",
    "\n",
    "You may want to exclude rendering certain components from a pre-built reviewer. Or, you may have added a new component and you want to put it adjacent to a particular existing component. By default, the order of the components are displayed in order in which they are added (via `app.add_component(...)`). However, you can change the order and/or exclude certain components to render when running the reviewer."
   ]
  },
  {
   "cell_type": "markdown",
   "id": "50d7a2c0-53c8-4b2b-93b7-f8e7602b2803",
   "metadata": {},
   "source": [
    "View all the component names:"
   ]
  },
  {
   "cell_type": "code",
   "execution_count": 37,
   "id": "8e272002-5cb0-4017-9189-385ba1fe47e4",
   "metadata": {},
   "outputs": [
    {
     "data": {
      "text/plain": [
       "odict_keys(['sample-info-component', 'Maf file', 'Mut vafs', 'Treatment file'])"
      ]
     },
     "execution_count": 37,
     "metadata": {},
     "output_type": "execute_result"
    }
   ],
   "source": [
    "my_reviewer_2.app.more_components.keys()"
   ]
  },
  {
   "cell_type": "markdown",
   "id": "38cbaece-a1bf-4844-a352-b1244213ea86",
   "metadata": {},
   "source": [
    "Specify a new order and/or subset of components to display"
   ]
  },
  {
   "cell_type": "code",
   "execution_count": 38,
   "id": "068c61f2-ecd0-467c-a9e9-6894fbf16730",
   "metadata": {},
   "outputs": [
    {
     "name": "stdout",
     "output_type": "stream",
     "text": [
      "Setting auto_export_path to ./example_reviewer_data_removed/data.auto_export\n",
      "Using ./example_reviewer_data_removed/data.auto_export for auto exporting.\n"
     ]
    },
    {
     "name": "stderr",
     "output_type": "stream",
     "text": [
      "/Users/cchu/opt/anaconda3/envs/test/lib/python3.8/site-packages/AnnoMate/ReviewDataApp.py:738: UserWarning:\n",
      "\n",
      "You are in test mode. Your data will not be saved.\n",
      "\n"
     ]
    },
    {
     "name": "stdout",
     "output_type": "stream",
     "text": [
      "Dash app running on http://0.0.0.0:8052/\n"
     ]
    }
   ],
   "source": [
    "my_reviewer_2.run(\n",
    "    port=8052,\n",
    "    components_name_order=['sample-info-component', 'Treatment file', 'Mut vafs']\n",
    ")"
   ]
  },
  {
   "cell_type": "markdown",
   "id": "fe4762ca-2cb4-41f2-a486-74d4cfd4c08e",
   "metadata": {},
   "source": [
    "**NOTE**: Some reviewers may have components that listen to each other, so if you keep one but not the other, some of the predefined interactivity may lead to error messages. You may run into similar errors for autofill buttons which may be pulling data from components that are excluded. \n",
    "\n",
    "Also, the data needed to rendered excluded components will still be required when setting the review data (`reviewer.set_review_data(...)`)."
   ]
  },
  {
   "cell_type": "markdown",
   "id": "e07c9eca",
   "metadata": {},
   "source": [
    "# Final words\n",
    "\n",
    "You can always go back and change the parameters of setting the app and annotation configurations, adding or editing the components of the app, etc.\n",
    "\n",
    "The one thing that will NOT change after disabling test mode is `set_review_data()`. This review data can only be frozen once per `data_path`. You may re-set your review data as much as you'd like in test mode, but once you click the 'Freeze data' button, disabling test mode, no more changes to the input data can be made (annotaions can still be made and components can still be added). If you wish to start over, you must manually delete the data path. Else, reference a new path.\n",
    "\n",
    "This feature allows you to make these changes to the app on the fly, and you can restart the notebook and it will not change the annotations you have already made.\n",
    "\n"
   ]
  }
 ],
 "metadata": {
  "kernelspec": {
   "display_name": "Python [conda env:test]",
   "language": "python",
   "name": "conda-env-test-py"
  },
  "language_info": {
   "codemirror_mode": {
    "name": "ipython",
    "version": 3
   },
   "file_extension": ".py",
   "mimetype": "text/x-python",
   "name": "python",
   "nbconvert_exporter": "python",
   "pygments_lexer": "ipython3",
   "version": "3.8.0"
  }
 },
 "nbformat": 4,
 "nbformat_minor": 5
}
