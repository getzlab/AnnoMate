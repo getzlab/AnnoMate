{
 "cells": [
  {
   "cell_type": "markdown",
   "id": "0ec8abf5-655d-4877-905b-44c4a76a1461",
   "metadata": {},
   "source": [
    "# Generate fake data"
   ]
  },
  {
   "cell_type": "code",
   "execution_count": 1,
   "id": "fba9c066-3212-4c2d-bb63-5cfa3054d4a0",
   "metadata": {},
   "outputs": [],
   "source": [
    "import pandas as pd\n",
    "import numpy as np\n",
    "import functools\n",
    "import time"
   ]
  },
  {
   "cell_type": "code",
   "execution_count": 4,
   "id": "ae167a8b-648f-4f2b-bbae-03031bfbb62d",
   "metadata": {},
   "outputs": [],
   "source": [
    "df = pd.DataFrame(index=[f'sample_{i}' for i in range(20)])\n",
    "df.index.name = 'sample_id'\n",
    "df['gender'] = ['male' if i > 5 else 'female' for i in np.random.randint(low=0, high=10, size=20)]\n",
    "df['age'] = np.random.randint(low=30, high=80, size=20)\n",
    "tissue_origins = ['breast', 'lung', 'skin', 'bone marrow']\n",
    "df['tissue_origin'] = [tissue_origins[i] for i in np.random.randint(low=0, high=len(tissue_origins), size=df.shape[0])]"
   ]
  },
  {
   "cell_type": "code",
   "execution_count": 5,
   "id": "677fd802-559c-461e-bcc4-5a4b732be131",
   "metadata": {},
   "outputs": [],
   "source": [
    "output_dir = './example_data/AnnoMate_Tutorial'"
   ]
  },
  {
   "cell_type": "code",
   "execution_count": 7,
   "id": "96db85f8-d4d7-4bd1-bb8a-a315af53465e",
   "metadata": {},
   "outputs": [],
   "source": [
    "data_dir = f'treatments'\n",
    "treatments = ['XRT', 'HSCT', 'Anthracycline', 'anti-TNF']\n",
    "response = ['remission', 'relapse']\n",
    "for sample_id, r in df.iterrows():\n",
    "    fn = f'{data_dir}/{sample_id}.treatments.tsv'\n",
    "    treat_df = pd.DataFrame(index=range(np.random.randint(low=1, high=5)))\n",
    "    treat_df['treatment_name'] = [treatments[i] for i in np.random.randint(low=0, high=len(treatments), size=treat_df.shape[0])]\n",
    "    treat_df['response'] = [response[i] for i in np.random.randint(low=0, high=len(response), size=treat_df.shape[0])]\n",
    "    \n",
    "    rand_first = np.random.randint(low=0, high=100) \n",
    "    rand_step = np.cumsum(np.random.randint(low=0, high=100, size=treat_df.shape[0]) )\n",
    "    treat_df['tx_start'] = [rand_first + rand_step[i] for i in range(treat_df.shape[0])]\n",
    "    treat_df.to_csv(fn, sep='\\t', index=False)\n",
    "    df.loc[sample_id, 'treatments_file'] = f'{output_dir}/{fn}'\n"
   ]
  },
  {
   "cell_type": "code",
   "execution_count": 10,
   "id": "da31de3d-a9ba-402a-8f9a-fa00a5bca657",
   "metadata": {},
   "outputs": [],
   "source": [
    "mut_vafs_dir = f'mut_vafs'\n",
    "for sample_id, r in df.iterrows():\n",
    "    fn = f'{mut_vafs_dir}/{sample_id}.mut_vafs.tsv'\n",
    "    \n",
    "    size = np.random.randint(low=10, high=50)\n",
    "    mut_df = pd.DataFrame(index=list(range(size)))\n",
    "    mut_df['gene'] = [f'gene_{i}' for i in range(size)]\n",
    "    mut_df['vaf'] = np.random.random(size=size)\n",
    "    mut_df['sample_id'] = sample_id\n",
    "    mut_df['cov'] = np.random.randint(low=50, high=200, size=size) \n",
    "    mut_df['t_alt_count'] = (mut_df['cov'] * mut_df['vaf']).astype(int)\n",
    "    mut_df['t_ref_count'] = mut_df['cov'] - mut_df['t_alt_count']\n",
    "    mut_df.to_csv(fn, sep='\\t', index=False)\n",
    "    df.loc[sample_id, 'mutations_file'] = f'{output_dir}/{fn}'\n",
    "    "
   ]
  },
  {
   "cell_type": "code",
   "execution_count": 11,
   "id": "d67bde83-023a-4c48-bf60-3f7cac8da463",
   "metadata": {},
   "outputs": [],
   "source": [
    "df.to_csv('data_to_review_example.tsv', sep='\\t')"
   ]
  },
  {
   "cell_type": "code",
   "execution_count": null,
   "id": "d6033ef1-5c98-4383-9da1-e08254d42296",
   "metadata": {},
   "outputs": [],
   "source": []
  }
 ],
 "metadata": {
  "kernelspec": {
   "display_name": "Python 3",
   "language": "python",
   "name": "python3"
  },
  "language_info": {
   "codemirror_mode": {
    "name": "ipython",
    "version": 3
   },
   "file_extension": ".py",
   "mimetype": "text/x-python",
   "name": "python",
   "nbconvert_exporter": "python",
   "pygments_lexer": "ipython3",
   "version": "3.7.0"
  }
 },
 "nbformat": 4,
 "nbformat_minor": 5
}
