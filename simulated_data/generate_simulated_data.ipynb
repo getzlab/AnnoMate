{
 "cells": [
  {
   "cell_type": "code",
   "execution_count": 1,
   "id": "001af146-924e-473a-bc9f-51f7562920c7",
   "metadata": {
    "tags": []
   },
   "outputs": [],
   "source": [
    "import pandas as pd\n",
    "import plotly.express as px\n",
    "import numpy as np\n",
    "import statistics as stat\n",
    "import random\n",
    "import matplotlib.pyplot as plt\n",
    "import re\n",
    "import pysam\n",
    "import scipy.stats as s\n",
    "import math\n",
    "import pickle\n",
    "\n",
    "# from https://github.com/getzlab/cnv_suite\n",
    "from cnv_suite import simulate\n",
    "from cnv_suite import visualize"
   ]
  },
  {
   "cell_type": "markdown",
   "id": "18cafc72-7bd5-4c30-a5f0-a3200d4b6149",
   "metadata": {},
   "source": [
    "## Helpful methods for CNV_Profile and Phylogeny classes in cnv_suite"
   ]
  },
  {
   "cell_type": "code",
   "execution_count": 2,
   "id": "9b34ebe3-c284-4321-97f5-80a3c22ea2ca",
   "metadata": {},
   "outputs": [],
   "source": [
    "# add methods to simulate.CNV_Profile().phylogeny to set the phylogeny manually\n",
    "\n",
    "def set_phylogeny(self, phylogeny_dict):\n",
    "    self.num_subclones = phylogeny_dict['num_subclones']\n",
    "    self.parents = phylogeny_dict['parents']\n",
    "    self.ccfs = phylogeny_dict['ccfs']\n",
    "    \n",
    "def get_children(self, node):\n",
    "    \"\"\"Return children for the specified clone\n",
    "        \n",
    "    :param node: index of desired clone\n",
    "    :return: (dict) representing the child clones and their respective CCFs\"\"\"\n",
    "\n",
    "    cluster_list=[]\n",
    "    for k, v in self.parents.items():\n",
    "        if v==node:\n",
    "            cluster_list.append(k)\n",
    "\n",
    "    return cluster_list\n",
    "    \n",
    "simulate.cnv_profile.Phylogeny.set_phylogeny = set_phylogeny\n",
    "simulate.cnv_profile.Phylogeny.get_children = get_children"
   ]
  },
  {
   "cell_type": "code",
   "execution_count": 3,
   "id": "06d760f1-6dce-4264-92da-a154699a5a00",
   "metadata": {
    "tags": []
   },
   "outputs": [],
   "source": [
    "# add methods to simulate.CNV_Profile().CNV_Profile to get and set the cnv events manually\n",
    "\n",
    "def set_events_and_phylogeny(self, event_trees, phylogeny):\n",
    "    self.event_trees = event_trees\n",
    "    self.phylogeny =  phylogeny\n",
    "    \n",
    "def pickle_events(self, out_file_name):\n",
    "    event_trees = self.event_trees\n",
    "    \n",
    "    # open a file, where you ant to store the data\n",
    "    file = open(out_file_name, 'wb')\n",
    "    pickle.dump(event_trees, file)\n",
    "    file.close()\n",
    "    \n",
    "simulate.cnv_profile.CNV_Profile.pickle_events = pickle_events\n",
    "simulate.cnv_profile.CNV_Profile.set_events_and_phylogeny = set_events_and_phylogeny"
   ]
  },
  {
   "cell_type": "markdown",
   "id": "c19c2455-0da3-438b-961c-0ad7c5466068",
   "metadata": {},
   "source": [
    "## Set output folder and reference data folder"
   ]
  },
  {
   "cell_type": "code",
   "execution_count": 4,
   "id": "e7dc0175-1537-4ae7-85bf-fd2f19d4a0cf",
   "metadata": {
    "tags": []
   },
   "outputs": [],
   "source": [
    "output_folder = './output_data'"
   ]
  },
  {
   "cell_type": "markdown",
   "id": "a0e6b42b-93c7-41eb-9ffe-18997ee6053c",
   "metadata": {},
   "source": [
    "## Populate reference data folder"
   ]
  },
  {
   "cell_type": "code",
   "execution_count": 5,
   "id": "3acc6d91-31be-4796-bcaa-2a2792469edc",
   "metadata": {},
   "outputs": [],
   "source": [
    "# need to implement streaming directly from the cloud...for now just download target intervals, fasta, fasta index, and fasta dict locally\n",
    "\n",
    "# target_interval_file = 'gs://getzlab-workflows-reference_files-oa/hg19/twist/broad_custom_exome_v1.Homo_sapiens_assembly19.targets.interval_list'\n",
    "# fasta_file_path = 'gs://getzlab-workflows-reference_files-oa/hg19/Homo_sapiens_assembly19.fasta'\n",
    "# fasta_index_file_path = 'gs://getzlab-workflows-reference_files-oa/hg19/Homo_sapiens_assembly19.fasta.fai'\n",
    "# fasta_dict_file_path = 'gs://getzlab-workflows-reference_files-oa/hg19/Homo_sapiens_assembly19.dict'\n",
    "\n",
    "reference_folder = './reference_files'\n",
    "target_interval_file = f'{reference_folder}/hg19_twist_broad_custom_exome_v1.Homo_sapiens_assembly19.targets.interval_list'\n",
    "fasta_file_path = f'{reference_folder}/hg19_Homo_sapiens_assembly19.fasta'"
   ]
  },
  {
   "cell_type": "markdown",
   "id": "7bdd4a22-695b-47a2-9476-d800fd7ce1e6",
   "metadata": {},
   "source": [
    "## Set phylogeny for simulated patients"
   ]
  },
  {
   "cell_type": "code",
   "execution_count": 6,
   "id": "07b7e573-7962-4a75-8ccf-db5e3ee30d4b",
   "metadata": {
    "tags": []
   },
   "outputs": [],
   "source": [
    "# generate phylogeny\n",
    "patient_id = 'patient1'\n",
    "sample_id_dict = {'t1': f'{patient_id}_t1', 't2': f'{patient_id}_t2', 't3': f'{patient_id}_t3'}\n",
    "\n",
    "timepoints_dict = {'t1': 0, 't2': 100, 't3': 300}\n",
    "\n",
    "clones_dict = {'num_subclones': 6,\n",
    "                       'parents': {1: None, 2:1, 3:1, 4:2, 5:4, 6:4, 7:3}\n",
    "                      }\n",
    "\n",
    "# be careful when setting your own phylogeny that the ccfs are consistent:\n",
    "# at all time points, the ccfs of a clone must be greater than or equal to the sum of the ccfs of its children\n",
    "\n",
    "ccfs_dict = {'t1': {1:1.0, 2:0.9,  3:0.1,  4:0.8,  5:0.15,  6:0.1,  7:0.05},\n",
    "             't2': {1:1,   2:0.95, 3:0.05, 4:0.9,  5:0.3,   6:0.05, 7:0.03},\n",
    "             't3': {1:1,   2:0.3,  3:0.6,  4:0.1,  5:0.05,  6:0.03, 7:0.45}\n",
    "            }\n",
    "purity_dict = {'t1': 0.7, 't2': .45, 't3':.9}\n",
    "\n",
    "timepoints=list(ccfs_dict.keys())\n",
    "\n",
    "phylogeny_dict={}\n",
    "\n",
    "for t in timepoints:\n",
    "    phylogeny = simulate.CNV_Profile().phylogeny\n",
    "    phy_dict = clones_dict\n",
    "    phy_dict['ccfs'] = ccfs_dict[t]\n",
    "    phylogeny.set_phylogeny(phy_dict)\n",
    "    phylogeny_dict[t] = phylogeny"
   ]
  },
  {
   "cell_type": "markdown",
   "id": "991bb362-4823-4bbe-9b97-b4006b7676bb",
   "metadata": {},
   "source": [
    "## Generate CNV profiles"
   ]
  },
  {
   "cell_type": "code",
   "execution_count": 7,
   "id": "ad21bdcc-41e8-47d3-b720-7a209c4693c1",
   "metadata": {
    "tags": []
   },
   "outputs": [],
   "source": [
    "# Generate copy number events, then store so they can be reloaded for each timepoint.\n",
    "# Note: CNV_Profile.event_trees are specific to the phylogeny, so don't reuse them if you change that, just generate new ones\n",
    "\n",
    "### generate ###\n",
    "\n",
    "# patient1_cnv_profile = simulate.CNV_Profile()\n",
    "# patient1_cnv_profile.phylogeny = p1_t1_phy\n",
    "# patient1_cnv_profile.add_cnv_events(arm_num=20, focal_num=600, p_whole=0.6, ratio_clonal=0.5,\n",
    "#                        median_focal_length=1.8 * 10**6)\n",
    "# patient1_cnv_profile.pickle_events('p1_cnv_events_600_focal_20_arm.pkl')\n",
    "\n",
    "################\n",
    "\n",
    "##### load #####\n",
    "\n",
    "file = open(f'{output_folder}/p1_cnv_events_600_focal_20_arm.pkl', 'rb')\n",
    "event_trees = pickle.load(file)\n",
    "file.close()\n",
    "\n",
    "################"
   ]
  },
  {
   "cell_type": "code",
   "execution_count": 8,
   "id": "7f36fd2e-226f-4079-a78e-691ab286c46e",
   "metadata": {
    "tags": []
   },
   "outputs": [],
   "source": [
    "# generate a cnv_profile for each timepoint, \n",
    "# using defined phylogeny and event_trees loaded from pickle file\n",
    "\n",
    "cnv_profiles_dict={}\n",
    "\n",
    "for t in timepoints:\n",
    "    cnv_profile = simulate.CNV_Profile()\n",
    "    cnv_profile.set_events_and_phylogeny(event_trees,phylogeny_dict[t])\n",
    "    cnv_profile.calculate_profiles()\n",
    "    \n",
    "    cnv_profiles_dict[t] = cnv_profile"
   ]
  },
  {
   "cell_type": "code",
   "execution_count": 11,
   "id": "ef3f51d9-ecc2-44dd-8739-5ab5e977c054",
   "metadata": {
    "tags": []
   },
   "outputs": [
    {
     "data": {
      "text/html": [
       "<div>\n",
       "<style scoped>\n",
       "    .dataframe tbody tr th:only-of-type {\n",
       "        vertical-align: middle;\n",
       "    }\n",
       "\n",
       "    .dataframe tbody tr th {\n",
       "        vertical-align: top;\n",
       "    }\n",
       "\n",
       "    .dataframe thead th {\n",
       "        text-align: right;\n",
       "    }\n",
       "</style>\n",
       "<table border=\"1\" class=\"dataframe\">\n",
       "  <thead>\n",
       "    <tr style=\"text-align: right;\">\n",
       "      <th></th>\n",
       "      <th>Chromosome</th>\n",
       "      <th>Start.bp</th>\n",
       "      <th>End.bp</th>\n",
       "      <th>mu.major</th>\n",
       "      <th>mu.minor</th>\n",
       "    </tr>\n",
       "  </thead>\n",
       "  <tbody>\n",
       "    <tr>\n",
       "      <th>31</th>\n",
       "      <td>1</td>\n",
       "      <td>1</td>\n",
       "      <td>52520725</td>\n",
       "      <td>1.00</td>\n",
       "      <td>1.00</td>\n",
       "    </tr>\n",
       "    <tr>\n",
       "      <th>26</th>\n",
       "      <td>1</td>\n",
       "      <td>52520725</td>\n",
       "      <td>53550904</td>\n",
       "      <td>1.00</td>\n",
       "      <td>0.85</td>\n",
       "    </tr>\n",
       "    <tr>\n",
       "      <th>6</th>\n",
       "      <td>1</td>\n",
       "      <td>53550904</td>\n",
       "      <td>63711847</td>\n",
       "      <td>1.00</td>\n",
       "      <td>1.00</td>\n",
       "    </tr>\n",
       "    <tr>\n",
       "      <th>23</th>\n",
       "      <td>1</td>\n",
       "      <td>63711847</td>\n",
       "      <td>63740957</td>\n",
       "      <td>1.00</td>\n",
       "      <td>0.00</td>\n",
       "    </tr>\n",
       "    <tr>\n",
       "      <th>3</th>\n",
       "      <td>1</td>\n",
       "      <td>63740957</td>\n",
       "      <td>65529663</td>\n",
       "      <td>3.00</td>\n",
       "      <td>0.00</td>\n",
       "    </tr>\n",
       "    <tr>\n",
       "      <th>...</th>\n",
       "      <td>...</td>\n",
       "      <td>...</td>\n",
       "      <td>...</td>\n",
       "      <td>...</td>\n",
       "      <td>...</td>\n",
       "    </tr>\n",
       "    <tr>\n",
       "      <th>27</th>\n",
       "      <td>24</td>\n",
       "      <td>50419606</td>\n",
       "      <td>52290928</td>\n",
       "      <td>1.00</td>\n",
       "      <td>1.00</td>\n",
       "    </tr>\n",
       "    <tr>\n",
       "      <th>26</th>\n",
       "      <td>24</td>\n",
       "      <td>52290928</td>\n",
       "      <td>52771293</td>\n",
       "      <td>1.00</td>\n",
       "      <td>0.00</td>\n",
       "    </tr>\n",
       "    <tr>\n",
       "      <th>7</th>\n",
       "      <td>24</td>\n",
       "      <td>52771293</td>\n",
       "      <td>53545940</td>\n",
       "      <td>1.00</td>\n",
       "      <td>1.00</td>\n",
       "    </tr>\n",
       "    <tr>\n",
       "      <th>37</th>\n",
       "      <td>24</td>\n",
       "      <td>53545940</td>\n",
       "      <td>56044669</td>\n",
       "      <td>1.05</td>\n",
       "      <td>1.00</td>\n",
       "    </tr>\n",
       "    <tr>\n",
       "      <th>0</th>\n",
       "      <td>24</td>\n",
       "      <td>56044669</td>\n",
       "      <td>57227415</td>\n",
       "      <td>1.00</td>\n",
       "      <td>1.00</td>\n",
       "    </tr>\n",
       "  </tbody>\n",
       "</table>\n",
       "<p>1233 rows × 5 columns</p>\n",
       "</div>"
      ],
      "text/plain": [
       "   Chromosome  Start.bp    End.bp  mu.major  mu.minor\n",
       "31          1         1  52520725      1.00      1.00\n",
       "26          1  52520725  53550904      1.00      0.85\n",
       "6           1  53550904  63711847      1.00      1.00\n",
       "23          1  63711847  63740957      1.00      0.00\n",
       "3           1  63740957  65529663      3.00      0.00\n",
       "..        ...       ...       ...       ...       ...\n",
       "27         24  50419606  52290928      1.00      1.00\n",
       "26         24  52290928  52771293      1.00      0.00\n",
       "7          24  52771293  53545940      1.00      1.00\n",
       "37         24  53545940  56044669      1.05      1.00\n",
       "0          24  56044669  57227415      1.00      1.00\n",
       "\n",
       "[1233 rows x 5 columns]"
      ]
     },
     "execution_count": 11,
     "metadata": {},
     "output_type": "execute_result"
    }
   ],
   "source": [
    "cnv_profiles_dict['t1'].cnv_profile_df"
   ]
  },
  {
   "cell_type": "markdown",
   "id": "903e07ea-a51f-4ee5-a62d-42359e93e900",
   "metadata": {},
   "source": [
    "## Save copy number seg files"
   ]
  },
  {
   "cell_type": "code",
   "execution_count": 12,
   "id": "6de155a0-20c8-4493-81b2-85a3b2ea62df",
   "metadata": {
    "tags": []
   },
   "outputs": [],
   "source": [
    "cnv_file_dict={}\n",
    "\n",
    "for t in timepoints:\n",
    "    fn = f'simulated_seg.{t}.tsv'\n",
    "    cnv_profiles_dict[t].cnv_profile_df.to_csv(f'{output_folder}/{fn}', index=False, sep='\\t')\n",
    "    cnv_file_dict[t] = fn"
   ]
  },
  {
   "cell_type": "markdown",
   "id": "ba78fb11-2216-4a94-899f-20c81203f401",
   "metadata": {},
   "source": [
    "## Display CNV profiles"
   ]
  },
  {
   "cell_type": "code",
   "execution_count": null,
   "id": "ea5d3448-a2b7-42ea-b173-a0647eee97f4",
   "metadata": {
    "tags": []
   },
   "outputs": [],
   "source": [
    "for t in timepoints:\n",
    "\n",
    "    fig, ax = plt.subplots(1,1)\n",
    "    fig = visualize.plot_cnv_profile.plot_acr_static(cnv_profiles_dict[t].cnv_profile_df, \n",
    "                                                     ax, cnv_profile.csize, \n",
    "                                                     segment_colors='difference', \n",
    "                                                     sigmas=False, \n",
    "                                                     min_seg_lw=3, \n",
    "                                                     y_upper_lim=3)\n"
   ]
  },
  {
   "cell_type": "markdown",
   "id": "6cb900b7-da48-45d6-9a10-96c5fc21d380",
   "metadata": {},
   "source": [
    "## Get target intervals and fasta file"
   ]
  },
  {
   "cell_type": "code",
   "execution_count": null,
   "id": "a1d273ad-5fe5-44c2-8bd0-c0006d5200a1",
   "metadata": {
    "tags": []
   },
   "outputs": [],
   "source": [
    "target_intervals_df = pd.read_csv(target_interval_file,sep='\\t', comment='@', \n",
    "                                 names=['chrom', 'start', 'stop', 'plus','target_name'])"
   ]
  },
  {
   "cell_type": "code",
   "execution_count": null,
   "id": "69420257-30ae-46cc-87d5-ce4db1a8ed30",
   "metadata": {
    "tags": []
   },
   "outputs": [],
   "source": [
    "target_intervals_df = target_intervals_df[(target_intervals_df.chrom!='MT') & \n",
    "                                          (target_intervals_df.chrom!='Y') & \n",
    "                                          (target_intervals_df.chrom!='GL000228.1')]\n",
    "target_intervals_df = target_intervals_df.rename(columns={'stop':'end'})\n",
    "target_intervals_df['chrom'] = target_intervals_df['chrom'].apply(lambda x: '23' if x=='X' else str(x))"
   ]
  },
  {
   "cell_type": "code",
   "execution_count": null,
   "id": "797971b8-c90e-43c0-8640-96f435d5baf8",
   "metadata": {
    "tags": []
   },
   "outputs": [],
   "source": [
    "target_intervals_df['interval_length']=target_intervals_df['end']-target_intervals_df['start']\n",
    "total_intervals_length = target_intervals_df['interval_length'].sum()\n",
    "target_intervals_df['interval_weight'] = target_intervals_df['interval_length']/total_intervals_length"
   ]
  },
  {
   "cell_type": "code",
   "execution_count": null,
   "id": "89f32d3b-eea8-42d2-a3d6-d7cba1fd88ea",
   "metadata": {
    "tags": []
   },
   "outputs": [],
   "source": [
    "target_intervals_df['chrom'] = target_intervals_df['chrom'].astype(str)\n",
    "target_intervals_df['start'] = target_intervals_df['start'].astype(int)\n",
    "target_intervals_df['end'] = target_intervals_df['end'].astype(int)"
   ]
  },
  {
   "cell_type": "markdown",
   "id": "550f6674-23bd-481d-b417-aaaa92945d3a",
   "metadata": {},
   "source": [
    "## Generate coverage"
   ]
  },
  {
   "cell_type": "code",
   "execution_count": null,
   "id": "699b067f-3679-4b12-8d5d-bd95fa6e8d97",
   "metadata": {
    "tags": []
   },
   "outputs": [],
   "source": [
    "# Only run once to generate, later need to load saved binned coverage instead\n",
    "\n",
    "### generate ###\n",
    "\n",
    "# sigma = 2\n",
    "# x_coverage = 120\n",
    "\n",
    "# binned_coverage_dict = {}\n",
    "\n",
    "# for t in timepoints:\n",
    "#     binned_coverage_df = target_intervals_df[['chrom','start','end']].copy()\n",
    "#     dispersion_norm = np.random.normal(0, sigma, binned_coverage_df.shape[0])\n",
    "#     binned_coverage = x_coverage * (binned_coverage_df['end'] - binned_coverage_df['start'])\n",
    "#     this_chr_coverage = np.asarray([np.random.poisson(cov + np.exp(disp)) for cov, disp in\n",
    "#                                    zip(binned_coverage, dispersion_norm)])\n",
    "#     binned_coverage_df['cov'] = this_chr_coverage\n",
    "#     binned_coverage_df.to_csv(f'{output_folder}/binned_coverage.{str(t)}.tsv', sep='\\t', index=False, header=False)\n",
    "#     binned_coverage_dict[t] = binned_coverage_df\n",
    "\n",
    "################\n",
    "\n",
    "##### load #####\n",
    "\n",
    "binned_coverage_dict = {}\n",
    "\n",
    "for t in timepoints:\n",
    "    binned_coverage_dict[t] = pd.read_csv(f'{output_folder}/binned_coverage.{str(t)}.tsv', sep='\\t', header=None, names=['chrom','start','end','cov'] )\n",
    "\n",
    "################"
   ]
  },
  {
   "cell_type": "code",
   "execution_count": null,
   "id": "ff0d0735-233a-4acb-ae31-e9fd81a10eaa",
   "metadata": {
    "tags": []
   },
   "outputs": [],
   "source": [
    "corrected_binned_coverage_dict = {}\n",
    "\n",
    "for t in timepoints:\n",
    "    corrected_binned_coverage_df = cnv_profiles_dict[t].generate_coverage(purity_dict[t], f'{output_folder}/binned_coverage.{str(t)}.tsv')\n",
    "    corrected_binned_coverage_df['chrom'] = corrected_binned_coverage_df['chrom'].astype(str)\n",
    "    corrected_binned_coverage_df['start'] = corrected_binned_coverage_df['start'].astype(int)\n",
    "    corrected_binned_coverage_df['end'] = corrected_binned_coverage_df['end'].astype(int)\n",
    "    \n",
    "    corrected_binned_coverage_dict[t] = corrected_binned_coverage_df.copy()"
   ]
  },
  {
   "cell_type": "markdown",
   "id": "fef7687a-bc52-4266-b2b7-3fb74302a047",
   "metadata": {},
   "source": [
    "## Combine corrected coverage with other interval metrics"
   ]
  },
  {
   "cell_type": "code",
   "execution_count": null,
   "id": "78d9b529-7bd7-445e-b0cf-fd4c7fba6151",
   "metadata": {
    "tags": []
   },
   "outputs": [],
   "source": [
    "interval_data_dict={}\n",
    "\n",
    "for t in timepoints:\n",
    "    interval_data_df = target_intervals_df.merge(corrected_binned_coverage_dict[t], on=['chrom', 'start', 'end'])\n",
    "    interval_data_dict[t] = interval_data_df.copy()"
   ]
  },
  {
   "cell_type": "markdown",
   "id": "5297398b-ed2f-40f8-adf9-fde21d017bfc",
   "metadata": {},
   "source": [
    "## Generate SNVs"
   ]
  },
  {
   "cell_type": "code",
   "execution_count": null,
   "id": "139a8626-c2f8-4232-94ad-aaa2fb0dfd14",
   "metadata": {
    "tags": []
   },
   "outputs": [],
   "source": [
    "def get_alt_allele(ref_allele):\n",
    "    possible_alleles = ['C', 'G', 'A', 'T']\n",
    "    possible_alleles.remove(ref_allele)\n",
    "    allele_index = random.choices(population=range(0,3), k=1)[0]\n",
    "    \n",
    "    return possible_alleles[allele_index]\n",
    "\n",
    "def get_chrom_pos(interval, interval_data_df, fasta_file_path):\n",
    "    interval_row = interval_data_df[interval_data_df.target_name==interval].iloc[0]\n",
    "    \n",
    "    #chrom = target_intervals_df.loc[interval,'chrom']\n",
    "    #start = target_intervals_df.loc[interval,'start']\n",
    "    #stop = target_intervals_df.loc[interval,'stop']\n",
    "    \n",
    "    chrom = interval_row['chrom']\n",
    "    \n",
    "    if chrom == '23':\n",
    "        chrom = 'X'\n",
    "    \n",
    "    start = interval_row['start']\n",
    "    end = interval_row['end']\n",
    "    pos = random.choices(population=range(start,end), k=1)[0]\n",
    "\n",
    "    ref_base_str = pysam.faidx(fasta_file_path, str(chrom)+':'+str(pos)+'-'+str(pos))\n",
    "    ref_base = ref_base_str[-2]\n",
    "    alt_base = get_alt_allele(ref_base)\n",
    "    \n",
    "    if chrom == 'X':\n",
    "        chrom = '23'\n",
    "    \n",
    "    \n",
    "    \n",
    "    return chrom, pos, ref_base, alt_base\n",
    "\n"
   ]
  },
  {
   "cell_type": "code",
   "execution_count": null,
   "id": "62637b4b-91f5-4b7a-9687-e7041813d1fb",
   "metadata": {
    "tags": []
   },
   "outputs": [],
   "source": [
    "# Only run once to generate SNVs, later need to load saved SNVs instead\n",
    "\n",
    "### generate ###\n",
    "\n",
    "# num_variants = 100\n",
    "# variants_df = pd.DataFrame(index=range(num_variants))\n",
    "\n",
    "# variants_df['interval'] = random.choices(population=target_intervals_df.target_name, weights=target_intervals_df.interval_weight, k=num_variants)\n",
    "# variants_df[['chrom','pos', 'ref_allele', 'alt_allele']] = variants_df.apply(lambda x: get_chrom_pos(x.interval, interval_data_df, fasta_file_path), axis=1, result_type='expand')\n",
    "# variants_df['cluster'] = variants_df.apply(lambda x: random.choices(range(cnv_profiles_dict[timepoints[0]].phylogeny.num_subclones))[0]+1, axis=1)\n",
    "# variants_df['allele'] = variants_df.apply(lambda x: 'maternal' if random.choices(range(2))[0]==0 else 'paternal', axis=1)\n",
    "\n",
    "# variants_df.to_csv(f'{output_folder}/variants.tsv', sep='\\t', index=False)\n",
    "\n",
    "################\n",
    "\n",
    "##### load #####\n",
    "\n",
    "variants_df = pd.read_csv(f'{output_folder}/variants.tsv', sep='\\t')\n",
    "\n",
    "################"
   ]
  },
  {
   "cell_type": "code",
   "execution_count": null,
   "id": "897eee1d-3d2e-48a6-96b7-ce70b3c62cbe",
   "metadata": {
    "tags": []
   },
   "outputs": [],
   "source": [
    "variants_df"
   ]
  },
  {
   "cell_type": "markdown",
   "id": "d0e6eeb9-5a55-4a41-a0d1-96ecee8c6e45",
   "metadata": {},
   "source": [
    "## Add local ploidy, coverage, overlapping copy number events, multiplicity trees, vafs, and alt/ref counts to variants dataframes"
   ]
  },
  {
   "cell_type": "markdown",
   "id": "fdebb32b-fa31-459b-8261-fbac23bc70e9",
   "metadata": {},
   "source": [
    "\n",
    "Now that every mutation is assigned a cluster, we know what its cancer cell fraction is.  Given CCF, coverage, purity, and ploidy, we need to determine the variant allele fraction.\n",
    "\n",
    "The vaf is determined by calculating the average number of copies of the mutation in all of the clusters, and adding up their contributions scaled by the CCF.  This value is scaled by the purity to obtain the average number of copies of the mutation per cell for the entire sample.  When divided by the local ploidy, this gives the variant allele fraction.\n",
    "\n",
    "Given the true variant allele fraction, the alt and ref counts are determined by drawing from a binomial distribution with a mean of the vaf and a variance inversely proportional to the coverage."
   ]
  },
  {
   "cell_type": "code",
   "execution_count": null,
   "id": "a14439b7-5eab-4f00-9d73-1482a15de2c7",
   "metadata": {
    "tags": []
   },
   "outputs": [],
   "source": [
    "def get_cov_and_ploidy(interval, interval_data_df):\n",
    "    interval_row = interval_data_df[interval_data_df.target_name==interval].iloc[0]\n",
    "    \n",
    "    start = interval_row['start']\n",
    "    end = interval_row['end']\n",
    "    avg_covcorr = round(interval_row['covcorr']/(end-start))\n",
    "    ploidy = interval_row['ploidy']\n",
    "    \n",
    "    return int(avg_covcorr), ploidy\n",
    "\n",
    "def get_overlapping_events(mut, cnv_profile):\n",
    "    chrom = str(mut.chrom)\n",
    "    # if chrom=='X':\n",
    "    #     chrom='23'\n",
    "    \n",
    "    if mut.allele=='paternal':\n",
    "        events = cnv_profile.event_trees[chrom].paternal_tree.at(mut.pos)\n",
    "        alt_allele_events = cnv_profile.event_trees[chrom].maternal_tree.at(mut.pos)\n",
    "    elif mut.allele=='maternal':\n",
    "        events = cnv_profile.event_trees[chrom].maternal_tree.at(mut.pos)\n",
    "        alt_allele_events = cnv_profile.event_trees[chrom].paternal_tree.at(mut.pos)\n",
    "    return events, alt_allele_events\n",
    "\n",
    "def get_mut_and_unmut_copies_in_clone(upstream_mut, upstream_unmut, events, mut, clone):\n",
    "    cn_change = 0\n",
    "    is_possible = True\n",
    "    \n",
    "    unmut_copies = upstream_unmut\n",
    "    mut_copies = upstream_mut\n",
    "    \n",
    "    for event in events:\n",
    "        if (event.data.type!= 'haploid') & (event.data.cluster_num==clone):\n",
    "            cn_change += event.data.cn_change\n",
    "            \n",
    "    if cn_change + upstream_mut + upstream_unmut < 0:\n",
    "        raise Exception(\"Invalid CNAs!\")\n",
    "    \n",
    "    # when examining a clone that the mutation doesn't occur in\n",
    "    if mut.cluster!=clone: \n",
    "        \n",
    "        # if copy gain, amplify mutated allele if one exists\n",
    "        if cn_change > 0:\n",
    "            if  mut_copies>0:\n",
    "                mut_copies = upstream_mut + cn_change\n",
    "            else:\n",
    "                unmut_copies = upstream_unmut + cn_change \n",
    "            \n",
    "        # if copy loss, delete unmutated allele if one exists\n",
    "        elif cn_change < 0:\n",
    "            if unmut_copies>0:\n",
    "                unmut_copies = upstream_unmut + cn_change\n",
    "            else:\n",
    "                mut_copies = upstream_mut + cn_change\n",
    "            \n",
    "    # when examining the clone where the mutation occurs\n",
    "    else:\n",
    "        if upstream_mut !=0:\n",
    "            print(\"Warning: Possibly overlapping mutations: already mutated copies at mutation event!\")\n",
    "            print(f'clone: {clone}')\n",
    "        if (cn_change < 0) &  (upstream_unmut + cn_change <= 0) :\n",
    "            print(\"No copies of allele left to mutate!\")\n",
    "            is_possible = False\n",
    "        else:\n",
    "            \n",
    "            # if overlapping CN amplification event in same clone\n",
    "            if cn_change > 0:\n",
    "                mut_copies += 1+cn_change\n",
    "                unmut_copies += -1\n",
    "                \n",
    "            # if overlapping CN deletion event in same clone...should I even allow this?\n",
    "            elif cn_change < 0:\n",
    "                mut_copies += 1\n",
    "                unmut_copies += -1 + cn_change\n",
    "                \n",
    "            # if no overlapping CN event in same clone\n",
    "            elif cn_change == 0:\n",
    "                mut_copies += 1\n",
    "                unmut_copies -= 1\n",
    "        \n",
    "    if mut_copies < 0:\n",
    "        print(\"Can't have a negative number of mutated alleles!\")\n",
    "        is_possible = False\n",
    "    if unmut_copies < 0:\n",
    "        print(\"Can't have a negative number of unmutated alleles!\")\n",
    "        is_possible = False\n",
    "    return mut_copies, unmut_copies, is_possible\n",
    "\n",
    "def get_mut_multiplicity(mut, phylogeny):\n",
    "    \n",
    "    # mut is a series with: interval, chrom, pos, avg_covcorr, ploidy, ref_allele, cluster, allele, overlapping_CN_events\n",
    "    print(f'chrom: {mut.chrom}, pos: {mut.pos}, cluster: {mut.cluster}, allele: {mut.allele}')\n",
    "    \n",
    "    mut_multiplicity_dict = {}\n",
    "    \n",
    "    for node in phylogeny.ccfs.keys():\n",
    "        if node == 1:\n",
    "            unmut_copies = 1\n",
    "        else:\n",
    "            unmut_copies = 0\n",
    "\n",
    "        mut_multiplicity_dict[node]={'mut_copies':0, 'unmut_copies':unmut_copies}\n",
    "    \n",
    "    # iterate through nodes in the tree from top down \n",
    "    # such that every parent node is complete before any of it's children\n",
    "    \n",
    "    children = [1]\n",
    "    nodes_calculated = []\n",
    "    \n",
    "    while children:\n",
    "        new_children = []\n",
    "        for child in children:\n",
    "            \n",
    "            if child!=1:\n",
    "                parent = phylogeny.parents[child]\n",
    "                upstream_mut = mut_multiplicity_dict[parent]['mut_copies']\n",
    "                upstream_unmut = mut_multiplicity_dict[parent]['unmut_copies']\n",
    "            else:\n",
    "                upstream_mut = 0\n",
    "                upstream_unmut = 1 # assume normal cells have one copy of each allele\n",
    "            \n",
    "            mut_num, unmut_num, is_possible = get_mut_and_unmut_copies_in_clone(upstream_mut,\n",
    "                                                                   upstream_unmut, \n",
    "                                                                   mut.overlapping_CN_events, \n",
    "                                                                   mut,\n",
    "                                                                   child)\n",
    "            if not is_possible:\n",
    "                return None\n",
    "            else:\n",
    "                mut_multiplicity_dict[child]['mut_copies'] = mut_num\n",
    "                mut_multiplicity_dict[child]['unmut_copies'] = unmut_num\n",
    "            \n",
    "            new_children = new_children + phylogeny.get_children(child)\n",
    "            nodes_calculated.append(child)\n",
    "        children = new_children\n",
    "    \n",
    "    return mut_multiplicity_dict\n",
    "\n",
    "def get_true_vaf(mut, phylogeny, purity):\n",
    "    if mut.multiplicity is not None:\n",
    "        total_mut_copies = 0\n",
    "        for node in mut.multiplicity:\n",
    "            node_fraction = phylogeny.ccfs[node]\n",
    "            for child in phylogeny.get_children(node):\n",
    "                node_fraction -= phylogeny.ccfs[child]\n",
    "            total_mut_copies += node_fraction*mut.multiplicity[node]['mut_copies']*purity\n",
    "        vaf = total_mut_copies/mut.ploidy\n",
    "        if vaf > 1:\n",
    "            raise Exception(\"More mutated copies than local ploidy!\")\n",
    "        return vaf\n",
    "    else:\n",
    "        return None\n",
    "    \n",
    "def get_alt_count(mut):\n",
    "    if not math.isnan(mut.vaf):\n",
    "        t_alt_count = round(s.binom.rvs(int(mut.avg_covcorr), mut.vaf, size=1)[0])\n",
    "        return int(t_alt_count)\n",
    "    \n",
    "def get_local_allelic_cn(mut, ccfs, purity):\n",
    "    a1 = 0\n",
    "    a2 = 0\n",
    "    \n",
    "    for i in mut.overlapping_CN_events:\n",
    "        a1 += i.data.cn_change*ccfs[i.data.cluster_num]\n",
    "    for i in mut.alt_overlapping_CN_events:\n",
    "        a2 += i.data.cn_change*ccfs[i.data.cluster_num]\n",
    "    a1 = a1*purity+2*(1-purity)\n",
    "    a2 = a2*purity+2*(1-purity)\n",
    "\n",
    "    return a1, a2"
   ]
  },
  {
   "cell_type": "code",
   "execution_count": null,
   "id": "2a7872c4-aaab-4ce0-9534-a1ead5582827",
   "metadata": {
    "scrolled": true,
    "tags": []
   },
   "outputs": [],
   "source": [
    "variants_dict = {}\n",
    "for t in timepoints:\n",
    "    variants_df[['avg_covcorr', 'ploidy']] = variants_df.apply(lambda x: get_cov_and_ploidy(x.interval, interval_data_dict[t]), axis=1, result_type='expand')\n",
    "    variants_df[['overlapping_CN_events','alt_overlapping_CN_events']] = variants_df.apply(lambda x: get_overlapping_events(x, cnv_profiles_dict[t]), axis=1, result_type='expand')\n",
    "    variants_df['multiplicity'] = variants_df.apply(lambda x: get_mut_multiplicity(x, cnv_profiles_dict[t].phylogeny), axis=1)\n",
    "    variants_df['vaf'] = variants_df.apply(lambda x: get_true_vaf(x, cnv_profiles_dict[t].phylogeny, purity_dict[t]), axis=1)\n",
    "    variants_df['t_alt_count'] = variants_df.apply(lambda x: get_alt_count(x), axis=1)\n",
    "    variants_df['t_ref_count'] = variants_df['avg_covcorr']-variants_df['t_alt_count']\n",
    "    variants_df[['local_cn_a1','local_cn_a2']] = variants_df.apply(lambda x: get_local_allelic_cn(x, ccfs_dict[t], purity_dict[t]), axis=1, result_type='expand')\n",
    "    variants_dict[t] = variants_df.copy()\n",
    "    "
   ]
  },
  {
   "cell_type": "markdown",
   "id": "8af6a86e-a318-4bdb-82cd-2a0b1e96bf17",
   "metadata": {},
   "source": [
    "## Save maf files"
   ]
  },
  {
   "cell_type": "code",
   "execution_count": null,
   "id": "6d208be8-87b7-40d3-95c9-902fa233e3ba",
   "metadata": {
    "tags": []
   },
   "outputs": [],
   "source": [
    "maf_file_dict={}\n",
    "\n",
    "for t in timepoints:\n",
    "    variants_dict[t]['Hugo_Symbol']='Unknown'\n",
    "    variants_dict[t] = variants_dict[t].rename(columns={'chrom': 'Chromosome', \n",
    "                                                        'pos':'Start_position', \n",
    "                                                        'ref_allele':'Reference_Allele', \n",
    "                                                        'alt_allele':'Tumor_Seq_Allele2'})\n",
    "    variants_dict[t] = variants_dict[t][['Hugo_Symbol', \n",
    "                                         'Chromosome',\n",
    "                                         'Start_position',\n",
    "                                         'Reference_Allele',\n",
    "                                         'Tumor_Seq_Allele2',\n",
    "                                         't_alt_count',\n",
    "                                         't_ref_count',\n",
    "                                         'local_cn_a1',\n",
    "                                         'local_cn_a2',\n",
    "                                         'cluster',\n",
    "                                         'allele',\n",
    "                                         'avg_covcorr',\n",
    "                                         'ploidy',\n",
    "                                         'overlapping_CN_events',\n",
    "                                         'alt_overlapping_CN_events',\n",
    "                                         'multiplicity',\n",
    "                                         'vaf'\n",
    "                                        ]]\n",
    "    fn = f'simulated_maf.{t}.maf'\n",
    "    variants_dict[t][(~variants_dict['t1'].vaf.isna())].to_csv(f'{output_folder}/{fn}', index=False, sep='\\t')\n",
    "    maf_file_dict[t] = fn\n",
    "    \n",
    "    '''\n",
    "    \n",
    "    simulated maf file output columns:\n",
    "         Hugo_Symbol: gene name or \"Unknown\"\n",
    "         Chromosome: chromosome number, 23 for X chromosome\n",
    "         Start_position: mutation position\n",
    "         Reference_Allele: reference allele at chromosome/start position\n",
    "         Tumor_Seq_Allele2: simulated alternate allele at chromosome/start position\n",
    "         t_alt_count: simulated number of alternate reads\n",
    "         t_ref_count: simulated number of reference reads\n",
    "         local_cn_a1: local copy number of allele 1 (needed as input to PhylogicNDT if seg files aren't provided)\n",
    "         local_cn_a2: local copy number of allele 2 (needed as input to PhylogicNDT if seg files aren't provided)\n",
    "         cluster: simulated cluster assignment (not typically known)\n",
    "         allele: simulated maternal/paternal allele assignment (not typically known)\n",
    "         avg_covcorr: simulated coverage\n",
    "         ploidy: local ploidy (not typically known)\n",
    "         overlapping_CN_events: interval tree giving CN events that overlap with mutation\n",
    "         alt_overlapping_CN_events: interval tree giving CN events on opposite allele (maternal/parternal)\n",
    "         multiplicity: dictionary giving interval multiplicity of mutation in each subclone (not typically known)\n",
    "         vaf: simulated variant allele fraction\n",
    "     \n",
    "     '''"
   ]
  },
  {
   "cell_type": "markdown",
   "id": "da8b7b85-b899-4873-a1c2-c241527672e6",
   "metadata": {},
   "source": [
    "## Run PhylogicNDT"
   ]
  },
  {
   "cell_type": "code",
   "execution_count": null,
   "id": "0f2434c6-2d4e-48df-b6f8-92e7a317ca2e",
   "metadata": {
    "tags": []
   },
   "outputs": [],
   "source": [
    "# make PhylogicNDT sif file\n",
    "\n",
    "sampleIDs = list(sample_id_dict.values())\n",
    "sample_mafs = list(maf_file_dict.values())\n",
    "sample_cn_profiles = [''] * len(timepoints)\n",
    "purities = map(str, list(purity_dict.values()))\n",
    "times = map(str, list(timepoints_dict.values()))\n",
    "\n",
    "with open(f'{output_folder}/{patient_id}.sif', 'w') as f:\n",
    "    f.write('sample_id\\tmaf_fn\\tseg_fn\\tpurity\\ttimepoint')\n",
    "    for line in sorted(zip(sampleIDs, sample_mafs, sample_cn_profiles, purities, times), key=lambda k: (float(k[4]), k[0])):\n",
    "        f.write('\\n'+'\\t'.join(line))\n"
   ]
  },
  {
   "cell_type": "code",
   "execution_count": null,
   "id": "08ca9c70-9dc1-43e6-bfe1-5b084e5beb21",
   "metadata": {
    "tags": []
   },
   "outputs": [],
   "source": [
    "# run the following commands in terminal where PhylogicNDT is installed from the same working directory used here\n",
    "# python2 /phylogicndt/PhylogicNDT.py Cluster -i \"patient1\" -sif \"patient1.sif\" --maf_input_type \"calc_ccf\" -rb\n"
   ]
  }
 ],
 "metadata": {
  "kernelspec": {
   "display_name": "Python 3 (ipykernel)",
   "language": "python",
   "name": "python3"
  },
  "language_info": {
   "codemirror_mode": {
    "name": "ipython",
    "version": 3
   },
   "file_extension": ".py",
   "mimetype": "text/x-python",
   "name": "python",
   "nbconvert_exporter": "python",
   "pygments_lexer": "ipython3",
   "version": "3.9.16"
  }
 },
 "nbformat": 4,
 "nbformat_minor": 5
}
