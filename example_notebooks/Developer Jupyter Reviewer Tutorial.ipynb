{
 "cells": [
  {
   "cell_type": "markdown",
   "id": "edb82b21",
   "metadata": {},
   "source": [
    "# Developer Jupyter Reviewer Tutorial\n",
    "\n",
    "This tutorial is for developers who want to make a Reviewer object from scratch.\n",
    "\n",
    "If you are looking to use a pre-made Reviewer, refer to the Quick Start Jupyter Reviewer Tutorial (TBD)\n"
   ]
  },
  {
   "cell_type": "markdown",
   "id": "633fbe55-d590-4b97-9392-351eb61711ef",
   "metadata": {
    "tags": []
   },
   "source": [
    "# Introduction\n"
   ]
  },
  {
   "cell_type": "markdown",
   "id": "1ad5f3cb-48f5-4342-a619-760ee22a78a2",
   "metadata": {},
   "source": [
    "There are 3 parts you need to generate to make a standard Jupyter Reviewer:\n",
    "\n",
    "**1. ReviewData Object** A ReviewData object consists of 3 pandas dataframes:\n",
    "1. data: a dataframe with data that a user wants to review, row by row (ie samples, participants, mutations, etc.)\n",
    "2. annot: annotations that a user wants to write for each row (ie notes, flags, etc.)\n",
    "3. history: a timeline of changes a user makes to the annot table\n",
    "\n",
    "**2. ReviewDataApp** A ReviewDataApp is a plotly.dash application to display data in a particular way to review data in a ReviewData object, and already includes prebuilt functionality for a user to add annotations and view history of the ReviewData.\n",
    "\n",
    "As a developer, you will define custom dash components you want to display for the type of review you are implementing (purity, mutation, etc.). This includes tables, graphs, or other components of interest. plotly.dash also enables interactivity, so you can define special functions to allow for interactive viewing of charts and graphs, and to auto-calculate values you may want to use for your annotations (more on autofill below).\n",
    "\n",
    "When a ReviewDataApp is passed a ReviewData object, it will read the ReviewData object to render your components.\n",
    "\n",
    "**3. Autofill Dictionary** Autofill allows you to connect outputs of the ReviewDataApp to the annotations for the ReviewData object. At runtime, it will add buttons in the top annotation panel where a user can click and the current values of the selected components in the dash will map to the specified annotation inputs in the annotation panel.\n",
    "\n",
    "The following tutorial will walk through each of these steps in more detail."
   ]
  },
  {
   "cell_type": "markdown",
   "id": "f95b8e00-3967-4e4c-be18-c42278b9ca4d",
   "metadata": {},
   "source": [
    "## What a user sees\n",
    "\n",
    "A user using your custom Reviewer will have a notebook that looks like the following:\n"
   ]
  },
  {
   "cell_type": "code",
   "execution_count": null,
   "id": "fc1b9454-0801-4905-975e-8eaf89548b8e",
   "metadata": {},
   "outputs": [],
   "source": [
    "import YourReviewer\n",
    "\n",
    "# instantiate Your reviewer\n",
    "reviewer = YourReviewer()\n",
    "\n",
    "# set the review object\n",
    "reviewer.set_review_data()\n",
    "\n",
    "# set the review app\n",
    "reviewer.set_review_app()\n",
    "\n",
    "# run the app\n",
    "reviewer.run()\n"
   ]
  },
  {
   "cell_type": "markdown",
   "id": "9711e836-38c1-4946-aeae-42f46e57c18f",
   "metadata": {
    "tags": []
   },
   "source": [
    "# The basic structure"
   ]
  },
  {
   "cell_type": "markdown",
   "id": "257a0efb-70ce-4f63-832a-a7b9b1cad368",
   "metadata": {},
   "source": [
    "To build your custom reviewer, you will need to do the following:\n",
    "\n",
    "1. Create a new class that inherits `ReviewerTemplate`\n",
    "1. Define 3 abstract methods:\n",
    "    1. gen_review_data()\n",
    "    2. gen_review_app()\n",
    "    3. gen_autofill()\n",
    "    \n",
    "    \n",
    "Your file will look something like the following:\n"
   ]
  },
  {
   "cell_type": "raw",
   "id": "0cb07dfd-3fe0-4e99-bfba-c52c8ed6fb81",
   "metadata": {},
   "source": [
    "from jupyter_reviewer.ReviewData import ReviewData, ReviewDataAnnotation\n",
    "from jupyter_reviewer.ReviewDataApp import ReviewDataApp, AppComponent\n",
    "from jupyter_reviewer.ReviewerTemplate import ReviewerTemplate\n",
    "\n",
    "# other imports\n",
    "\n",
    "class MyCustomReviewer(ReviewerTemplate):\n",
    "    \n",
    "    def gen_review_data(self,\n",
    "                        review_data_fn: str, \n",
    "                        description: str='', \n",
    "                        df: pd.DataFrame = pd.DataFrame(), \n",
    "                        review_data_annotation_dict: {str: ReviewDataAnnotation} = {}, \n",
    "                        reuse_existing_review_data_fn: str = None,\n",
    "                       ) -> ReviewData:\n",
    "        \n",
    "        # Preprocessing\n",
    "\n",
    "        return  ReviewData(...)\n",
    "    \n",
    "    def gen_review_app(self, test_param) -> ReviewDataApp:\n",
    "        app = ReviewDataApp()\n",
    "        app.add_table_from_path(...)\n",
    "        app.add_component(AppComponent(...), ...)\n",
    "        ...\n",
    "        \n",
    "        return app\n",
    "    \n",
    "    def gen_autofill(self):\n",
    "        self.add_autofill(...)"
   ]
  },
  {
   "cell_type": "markdown",
   "id": "75daca7c-529c-4f3a-9b0a-8cefac572dc0",
   "metadata": {
    "tags": []
   },
   "source": [
    "## gen_review_data()"
   ]
  },
  {
   "cell_type": "markdown",
   "id": "7dc32aa5-6c24-4940-8396-88c23a66d50c",
   "metadata": {},
   "source": [
    "To crete a `ReviewData` object, the following parameters must be defined:\n",
    "- `review_data_fn`: A file path to save the object as a pkl file.\n",
    "- `description`: A string describing the ReviewData object's source of data and purpose\n",
    "- `df`: pandas dataframe containing the data to review. Each row corresponds to a single item to be annotated.\n",
    "- `review_data_annotation_dict`: A dictionary of `ReviewDataAnnotation` objects where you can define what annotations you want for your review (name with the key). This dictionary will be used to render the annotation inputs in the `ReviewDataApp`.\n",
    "- `reuse_existing_review_data_fn`: You can reuse the annotations of a previous `ReviewData` object.\n",
    "\n",
    "For your custom reviewer, you may have specific plots or calculations you want to make, and known/common annotations that a someone reviewing the data should use. You define these special features for your type of reviewer in `gen_review_data(self, ...)`. The main features would be:\n",
    "1. Preprocessing the input `df` dataframe, such as precomputing data/graphs and adding columns you may need for your ReviewDataApp. \n",
    "2. `review_data_annotation_dict`: a str: `ReviewDataAnnotation` dictionary. The key string will be the column name in the review data object's annotation table. `ReviewDataAnnotation` consists of:\n",
    "    1. `type`: view `ReviewData.AnnotationType` Enum\n",
    "    1. `options`: a list of valid values (for checklist and radioitems)\n",
    "    1. `validate_input`: a named, non-local function (cannot be a lambda function) that takes a single parameter and returns True/False\n",
    "\n",
    "Once you have done any preprocessing and defined any default annotations, you can create and return the `ReviewData` object. "
   ]
  },
  {
   "cell_type": "raw",
   "id": "9b236d84-8bb4-4101-9e97-03b029f7b746",
   "metadata": {},
   "source": [
    "from jupyter_reviewer.ReviewData import ReviewData, ReviewDataAnnotation\n",
    "from jupyter_reviewer.ReviewDataApp import ReviewDataApp, AppComponent\n",
    "from jupyter_reviewer.ReviewerTemplate import ReviewerTemplate\n",
    "\n",
    "class PrebuiltReviewer(ReviewerTemplate):\n",
    "    def gen_review_data(self,\n",
    "                        review_data_fn: str, \n",
    "                        description: str='', \n",
    "                        df: pd.DataFrame = pd.DataFrame(), \n",
    "                        review_data_annotation_dict: {str: ReviewDataAnnotation} = {}, \n",
    "                        reuse_existing_review_data_fn: str = None,\n",
    "                        # Define more parameters\n",
    "                        another_param:str='preprocess',\n",
    "                        col_to_preprocess: str='', \n",
    "                       ):\n",
    "        \n",
    "        # Simple Preprocessing\n",
    "        df['new_column'] = another_param\n",
    "        df[f'preprocessed_data'] = df[col_to_preprocess].apply(lambda x: x + 1)\n",
    "\n",
    "        return  ReviewData(review_data_fn=review_data_fn,\n",
    "                           description=description,\n",
    "                           df=df,\n",
    "                           review_data_annotation_dict = {'purity': ReviewDataAnnotation('number', validate_input=validate_purity),\n",
    "                                                          'rating': ReviewDataAnnotation('number', options=range(10)),\n",
    "                                                          'description': ReviewDataAnnotation('text'),\n",
    "                                                          'class': ReviewDataAnnotation('radioitem', options=[f'Option {n}' for n in range(4)])},\n",
    "                           reuse_existing_review_data_fn=reuse_existing_review_data_fn\n",
    "                          )\n",
    "    \n",
    "    "
   ]
  },
  {
   "cell_type": "markdown",
   "id": "add9e025-c145-404d-8832-0ba6c75cc95c",
   "metadata": {
    "jp-MarkdownHeadingCollapsed": true,
    "tags": []
   },
   "source": [
    "## gen_review_app()"
   ]
  },
  {
   "cell_type": "markdown",
   "id": "3344a04c-ce37-43d1-bfdd-febd41bbf616",
   "metadata": {},
   "source": [
    "This creates a dash application where you can define what components to include. The `ReviewDataApp` already has built-in components to handle interating through the items in any `ReviewData` object, rendering the annotation inputs defined by the `ReviewData` object's `review_data_annotation_list`, and the history."
   ]
  },
  {
   "cell_type": "markdown",
   "id": "3c233df1-2a69-4e49-9aee-1244d0487d8c",
   "metadata": {},
   "source": [
    "**What is Dash?**\n",
    "\n",
    "Dash is a library that makes it easy to generate custom dashboards in python. I recommend reviewing the [Dash Tutorial](https://dash.plotly.com/installation) first before proceeding. \n",
    "\n",
    "In short, to create a dash app, you define:\n",
    "1. Layout: how you want the app to look\n",
    "2. Callbacks: functions to define interactivity with the components in your layout\n",
    "\n",
    "The `ReviewDataApp` is built so it is simple for you to easily add components and interactivity without having to deal directly with some of the idiosyncrasies of the package. \n"
   ]
  },
  {
   "cell_type": "markdown",
   "id": "98acc536-d049-4f81-b42c-63e4af58d0fe",
   "metadata": {},
   "source": [
    "To create your custom app, you first instantiate a `ReviewDataApp`. Then you add a series of `AppComponent`'s."
   ]
  },
  {
   "cell_type": "code",
   "execution_count": null,
   "id": "93788d93-702e-43ff-8a8a-9dd2f0fba253",
   "metadata": {},
   "outputs": [],
   "source": [
    "app = ReviewDataApp()\n",
    "app.add_component(AppComponent(...), ...)\n",
    "app.add_component(AppComponent(...), ...)"
   ]
  },
  {
   "cell_type": "markdown",
   "id": "1a0444f7-b7e6-4e9d-bf16-c3280ae2191e",
   "metadata": {},
   "source": [
    "**AppComponent()**\n",
    "To create an `AppComponent`, you will specify:\n",
    "- **`name`**: A string naming the particular component\n",
    "- **`layout`**: Using plotly dash's html and boostrap libraries, define how your component will look like (Divs, Graphs, Tables, etc.)\n",
    "- **`callback_output`**: A list of `Output()`'s. The first argument is the id of the subcomponent in your layout, and the second argument is what attribute of that component to update with your callback functions\n",
    "- **`callback_input`**: A list of `Input()`'s. The arguments are similar to `Output()`. If these subcomponents' attributes change, it will run your `internal_callback` function.\n",
    "- **`callback_state`**: A list of `State()`'s. The arguments are similar to `Output()`. If the `internal_callback` function is triggered, the current values of these subcomponent attributes will be passed as parameters to the `internal_callback` function.\n",
    "- **`new_data_callback`**: A function that who's first two arguments are assumed to be (1) a `ReviewData` object's `data` table, and (2) an index value of the `ReviewData` object. The next parameters are defined IN ORDER of the `Input()`'s defined by the `callback_input` argument followed by the `State()`'s defined by the `callback_state`argument. The output of this function is a **list** that corresponds IN ORDER of the `Output()`'s listed in `callback_output`. This function will be called whenever a user switches to a new item to review.\n",
    "- **`internal_callback`**: A function with the the EXACT signature as `new_data_callback`. This function will be called whenever a user changes the attributes of subcomponents listed in `callback_input`.\n",
    "\n",
    "\n",
    "**Custom args for callback functions**\n",
    "Sometimes your callback functions need parameters that may be specific to your reviewer type, or defined by the user (ex. pointing to a specific column name in the ReviewDataObject, specific parameters for displaying graphs, etc.). When adding a component to the app, you can also specify these arguments with keywords arguments.\n",
    "\n",
    "```\n",
    "premade_component = AppComponent(..., new_data_callback=lambda df, idx, y: df.loc[idx] + y, ...)\n",
    "\n",
    "class PrebuiltReviewer(ReviewerTemplate):\n",
    "    ...\n",
    "    \n",
    "    # Specific to reviewer type\n",
    "    def gen_review_app(self):\n",
    "        app = ReviewDataApp()\n",
    "        app.add_component(premade_component,\n",
    "                          y=10) \n",
    "        return app\n",
    "        \n",
    "    # OR define by the user\n",
    "    def gen_review_app(self, y):\n",
    "        app = ReviewDataApp()\n",
    "        app.add_component(premade_component,\n",
    "                          y=y) \n",
    "        return app\n",
    "```\n",
    "\n",
    "**Premade components**\n",
    "\n",
    "`ReviewDataApp` objects also includes a function `add_table_from_path()` to create a simple table reading a file from a column.\n"
   ]
  },
  {
   "cell_type": "code",
   "execution_count": null,
   "id": "4fd009e2-d3d9-4786-91ad-208919029f79",
   "metadata": {},
   "outputs": [],
   "source": [
    "def gen_review_app(self, test_param) -> ReviewDataApp:\n",
    "        app = ReviewDataApp()\n",
    "        app.add_table_from_path(table_name='DFCI MAF file', \n",
    "                                component_name='maf-component-id', \n",
    "                                table_fn_col='DFCI_bucket_sample_dfci_maf_fn', \n",
    "                                table_cols=['Hugo_Symbol', 'Chromosome', 't_alt_count', 't_ref_count', 'Tumor_Sample_Barcode'])\n",
    "\n",
    "\n",
    "        def gen_data_summary_table(df, idx, cols):\n",
    "            r = df.loc[idx]\n",
    "            return [[html.H1(f'{r.name} Data Summary'), dbc.Table.from_dataframe(r[cols].to_frame().reset_index())]]\n",
    "\n",
    "        app.add_component(AppComponent(name='sample-info-component', \n",
    "                                       layout=html.Div(children=[html.H1('Data Summary'), \n",
    "                                                       dbc.Table.from_dataframe(df=pd.DataFrame())],\n",
    "                                                       id='sample-info-component'\n",
    "                                                      ), \n",
    "                                       callback_output=[Output('sample-info-component', 'children')],\n",
    "                                       new_data_callback=gen_data_summary_table),\n",
    "                               cols=['BETA_ploidy',\n",
    "                                     'BETA_purity',\n",
    "                                     'BETA_purity_lower',\n",
    "                                     'BETA_purity_upper']\n",
    "                              )\n",
    "\n",
    "        def plot_interactive_graph(df: pd.DataFrame, idx: str, slider_value, test_param):\n",
    "            x = np.arange(0, 1, 0.1)\n",
    "            fig = go.Figure()\n",
    "            fig.add_trace(go.Scatter(x=x, y=x))\n",
    "            print(f'plot_interactive_graph: {test_param}')\n",
    "            return [fig, 0.5]\n",
    "\n",
    "        def interactive_graph_change_lines(df: pd.DataFrame, idx:str, slider_value, test_param):\n",
    "            fig = plot_interactive_graph(df, idx, slider_value, test_param)[0] # cache?\n",
    "            fig.add_vline(slider_value)\n",
    "            print(f'interactive_graph_change_lines: {test_param}')\n",
    "            return [fig, dash.no_update] # or just return the original file\n",
    "\n",
    "\n",
    "        app.add_component(AppComponent('test-interactive-graph',\n",
    "                                      html.Div(children=[dcc.Graph(figure={}, id='a-figure'), \n",
    "                                                dcc.Slider(0, 1, 0.1, value=0.5, \n",
    "                                                           id='a-slider'\n",
    "                                                          )\n",
    "                                               ]),\n",
    "                                      new_data_callback=plot_interactive_graph,\n",
    "                                      internal_callback=interactive_graph_change_lines,\n",
    "                                      callback_output=[Output('a-figure', 'figure'), Output('a-slider', 'value')],\n",
    "                                      callback_input=[Input('a-slider', 'value')],\n",
    "                                      callback_states_for_autofill=[State('a-slider', 'value')] # see Autofill\n",
    "                                   ),\n",
    "                       test_param=test_param\n",
    "                       )\n",
    "        \n",
    "        return app\n",
    "    "
   ]
  },
  {
   "cell_type": "markdown",
   "id": "3ea81b40-7307-483c-b98b-75116d8ffee2",
   "metadata": {
    "jp-MarkdownHeadingCollapsed": true,
    "tags": []
   },
   "source": [
    "## gen_autofill()"
   ]
  },
  {
   "cell_type": "markdown",
   "id": "b6a7fda4-ec2a-4256-a6fa-44482469efee",
   "metadata": {},
   "source": [
    "Sometimes you may have a lot of annotations, or one of your components produces an value that you want to use as an annotation. It can be annoying sometimes to have to manually type things, so the `ReviewDataApp` has functionality to handle linking the current state of your subcomponents in the app to the annotation input panel.\n",
    "\n",
    "You can add these \"links\" with `self.add_autofill()`:\n",
    "- component_name: the name of the component to read from.\n",
    "- autofill_dict: a dictionary linking the annotation column name in the reviewdata object (key) to the State of something in the layout of the app, or a constant value.\n",
    "\n",
    "Prereqs: Only States specified when creating components with `AppComponent()` with parameter `callback_states_for_autofill` can be used for autofilling\n"
   ]
  },
  {
   "cell_type": "code",
   "execution_count": null,
   "id": "f8057a84-be10-4f3c-8ad4-83b66826cc8b",
   "metadata": {},
   "outputs": [],
   "source": [
    "def gen_autofill(self):\n",
    "    self.add_autofill('test-interactive-graph', {'purity': State('a-slider', 'value'), \n",
    "                                                 'class': 'Option 1'})"
   ]
  },
  {
   "cell_type": "markdown",
   "id": "afbf1be8-cf14-4846-8b8f-f2bae9995e23",
   "metadata": {},
   "source": [
    "# Full example"
   ]
  },
  {
   "cell_type": "code",
   "execution_count": 1,
   "id": "9d7950db",
   "metadata": {},
   "outputs": [],
   "source": [
    "%load_ext autoreload\n",
    "%autoreload 2"
   ]
  },
  {
   "cell_type": "code",
   "execution_count": 14,
   "id": "5055350e",
   "metadata": {},
   "outputs": [],
   "source": [
    "import pandas as pd\n",
    "import numpy as np\n",
    "import functools\n",
    "import time\n",
    "import os"
   ]
  },
  {
   "cell_type": "code",
   "execution_count": 15,
   "id": "26e67cc8-d01a-4f10-9225-4c2c76ef8fb6",
   "metadata": {},
   "outputs": [],
   "source": [
    "from JupyterReviewer.ReviewData import ReviewData, ReviewDataAnnotation\n",
    "from JupyterReviewer.ReviewDataApp import ReviewDataApp, AppComponent\n",
    "from JupyterReviewer.ReviewerTemplate import ReviewerTemplate\n",
    "\n",
    "\n",
    "\n",
    "import plotly.express as px\n",
    "from plotly.subplots import make_subplots\n",
    "from jupyter_dash import JupyterDash\n",
    "from dash import dcc\n",
    "from dash import html\n",
    "from dash.dependencies import Input, Output, State\n",
    "from dash.exceptions import PreventUpdate\n",
    "from dash import Dash, dash_table\n",
    "import dash\n",
    "import dash_bootstrap_components as dbc\n",
    "import functools\n",
    "import plotly.graph_objects as go\n",
    "\n",
    "# For pickling to work, need to explicitly define function\n",
    "def validate_purity(x):\n",
    "    return x < 0.5\n",
    "class PrebuiltReviewer(ReviewerTemplate):\n",
    "    def gen_review_data(self,\n",
    "                        review_data_fn: str, \n",
    "                        description: str='', \n",
    "                        df: pd.DataFrame = pd.DataFrame(), \n",
    "                        review_data_annotation_dict: {str: ReviewDataAnnotation} = {}, \n",
    "                        reuse_existing_review_data_fn: str = None,\n",
    "                       ):\n",
    "        \n",
    "        df['new_column'] = 'preprocessing'\n",
    "\n",
    "        return  ReviewData(review_data_fn=review_data_fn,\n",
    "                           description=description,\n",
    "                           df=df,\n",
    "                           review_data_annotation_list = {'purity': ReviewDataAnnotation('number', validate_input=validate_purity),\n",
    "                                                          'rating': ReviewDataAnnotation('number', options=range(10)),\n",
    "                                                          'description': ReviewDataAnnotation('text'),\n",
    "                                                          'class': ReviewDataAnnotation('radioitem', options=[f'Option {n}' for n in range(4)]),\n",
    "                                                         })\n",
    "    \n",
    "    def gen_review_app(self, test_param) -> ReviewDataApp:\n",
    "        app = ReviewDataApp()\n",
    "        app.add_table_from_path(table_name='DFCI MAF file', \n",
    "                                component_name='maf-component-id', \n",
    "                                table_fn_col='DFCI_bucket_sample_dfci_maf_fn', \n",
    "                                table_cols=['Hugo_Symbol', 'Chromosome', 't_alt_count', 't_ref_count', 'Tumor_Sample_Barcode'])\n",
    "\n",
    "\n",
    "        def gen_data_summary_table(df, idx, cols):\n",
    "            r = df.loc[idx]\n",
    "            return [[html.H1(f'{r.name} Data Summary'), dbc.Table.from_dataframe(r[cols].to_frame().reset_index())]]\n",
    "\n",
    "        app.add_component(AppComponent(name='sample-info-component', \n",
    "                                              layout=html.Div(children=[html.H1('Data Summary'), \n",
    "                                                                 dbc.Table.from_dataframe(df=pd.DataFrame())],\n",
    "                                                       id='sample-info-component'\n",
    "                                                      ), \n",
    "                                              callback_output=[Output('sample-info-component', 'children')],\n",
    "                                              new_data_callback=gen_data_summary_table, \n",
    "                                              ),\n",
    "                               cols=['BETA_ploidy',\n",
    "                                     'BETA_purity',\n",
    "                                     'BETA_purity_lower',\n",
    "                                     'BETA_purity_upper']\n",
    "                              )\n",
    "\n",
    "        def plot_interactive_graph(df: pd.DataFrame, idx: str, slider_value, test_param):\n",
    "            x = np.arange(0, 1, 0.1)\n",
    "            fig = go.Figure()\n",
    "            fig.add_trace(go.Scatter(x=x, y=x))\n",
    "            print(f'plot_interactive_graph: {test_param}')\n",
    "            return [fig, 0.5]\n",
    "\n",
    "        def interactive_graph_change_lines(df: pd.DataFrame, idx:str, slider_value, test_param):\n",
    "            fig = plot_interactive_graph(df, idx, slider_value, test_param)[0] # cache?\n",
    "            fig.add_vline(slider_value)\n",
    "            print(f'interactive_graph_change_lines: {test_param}')\n",
    "            return [fig, dash.no_update] # or just return the original file\n",
    "\n",
    "\n",
    "        app.add_component(AppComponent('test-interactive-graph',\n",
    "                                      html.Div(children=[dcc.Graph(figure={}, id='a-figure'), \n",
    "                                                dcc.Slider(0, 1, 0.1, value=0.5, \n",
    "                                                           id='a-slider'\n",
    "                                                          )\n",
    "                                               ]),\n",
    "                                      new_data_callback=plot_interactive_graph,\n",
    "                                      internal_callback=interactive_graph_change_lines,\n",
    "                                      callback_output=[Output('a-figure', 'figure'), Output('a-slider', 'value')],\n",
    "                                      callback_input=[Input('a-slider', 'value')],\n",
    "                                      callback_states_for_autofill=[State('a-slider', 'value')]\n",
    "                                   ),\n",
    "                       test_param=test_param\n",
    "                       )\n",
    "        \n",
    "        return app\n",
    "    \n",
    "    def gen_autofill(self):\n",
    "        self.add_autofill('test-interactive-graph', {'purity': State('a-slider', 'value'), \n",
    "                                                     'class': 'Option 1'})\n",
    "    \n",
    "    "
   ]
  },
  {
   "cell_type": "markdown",
   "id": "bb78b5ba-3b3d-48d9-946a-67a45cf158a7",
   "metadata": {},
   "source": [
    "# User POV"
   ]
  },
  {
   "cell_type": "code",
   "execution_count": null,
   "id": "98765e54-9136-44cb-bd74-a1682dade013",
   "metadata": {},
   "outputs": [],
   "source": [
    "test_reviewer = PrebuiltReviewer()\n",
    "test_reviewer.set_review_data(review_data_fn = '/Users/cchu/Desktop/Methods/JupyterReviewer/data/Prebuilt_reviewer.Dev_Reviewer.pkl', \n",
    "                                description='testing', \n",
    "                                df = cchu_purities_df, # optional if directory above already exists. \n",
    "                                 review_data_annotation_dict = {'purity': ReviewDataAnnotation('number', validate_input=validate_purity),\n",
    "                                                                'rating': ReviewDataAnnotation('number', options=range(10)),\n",
    "                                                                'description': ReviewDataAnnotation('text'),\n",
    "                                                                'class': ReviewDataAnnotation('radioitem', options=[f'Option {n}' for n in range(4)]),\n",
    "                                                               }\n",
    "                             )\n",
    "test_reviewer.set_review_app(test_param='testing param kwargs')\n",
    "\n",
    "# User customization\n",
    "test_reviewer.app.add_component(AppComponent('test-add-component', html.Div(html.H1('New component'))))\n",
    "test_reviewer.review_data.add_annotation(ReviewDataAnnotation('another_annotation', 'number'))\n",
    "\n",
    "# Run\n",
    "test_reviewer.run()"
   ]
  },
  {
   "cell_type": "code",
   "execution_count": null,
   "id": "d8431143-09e0-4482-977a-9fd869cf9791",
   "metadata": {},
   "outputs": [],
   "source": [
    "# User can reuse the app\n",
    "another_reviewer = PrebuiltReviewer()\n",
    "another_reviewer.set_review_data(...)\n",
    "another_reviewer.app = test_reviewer.app # do not need to re-add customizations\n",
    "another_reviewer.autofill_dict = test_reviewer.autofill_dict\n",
    "test_reviewer.run()\n"
   ]
  },
  {
   "cell_type": "markdown",
   "id": "3635526c",
   "metadata": {},
   "source": [
    "# Reviewing Data \n",
    "\n",
    "1. Enforce consistent and meaningful annotation\n",
    "1. Consolidate multiple sources of data in a single place\n",
    "1. Make review dashboard flexible for different needs\n",
    "\n",
    "The only constrains are:\n",
    "1. Each row corresponds to specific data item you want to annotated. It is independent of the other rows in the table\n",
    "1. History can not be \"undone\"\n",
    "\n",
    "Below is an example of a table where each row corresponds to a sample. In each column is all the data that I plan to use or look at to annotat. \n",
    "- existing annotations (such as clinical data)\n",
    "- paths to files I can plot as a graph or display as a table\n",
    "\n",
    "Recommendations:\n",
    "- Do as much automation for annotations as possible first. You can use this tool to manually check and update these annotations\n",
    "- Preprocess your files so when each sample's data is rendered, it will take less time to switch between samples."
   ]
  },
  {
   "cell_type": "markdown",
   "id": "9e128e09",
   "metadata": {},
   "source": [
    "## Setting up your review session\n",
    "\n",
    "`ReviewData` is an object meant to mirror how one may go about annotations by going row by row in a spreadsheet, and filling in/editing the corresponding columns. Instantiate your `ReviewData` session by specifying:\n",
    "1. A directory to store the meta data related to your review session\n",
    "1. A pandas dataframe with all the information you need for each data point. The data point id's must be the index\n",
    "1. Specify what you want to annotate and set validation (in progress)\n",
    "\n",
    "If the ReviewData Session directory already exists and as the expected files, it will simply reload those existing files. Some caveats:\n",
    "1. If you add items to `annotation_data`, it will add the column to the annot table. However, deleting one from the list will not remove it from the table. However, later you will see you cannot update that column in the app\n",
    "1. any changes to df between re-runs will NOT change any of the values or paths in the data table. You will have to manually update the path/data.tsv file if this is what you want to do. Depending on why you may want to update your input data, generally I recommend making a new session. (there is an option to \"autofill\" annotations, so you do not necessarily have to completely redo everything)"
   ]
  },
  {
   "cell_type": "code",
   "execution_count": 13,
   "id": "e6aff5d0",
   "metadata": {},
   "outputs": [
    {
     "name": "stdout",
     "output_type": "stream",
     "text": [
      "Loading existing review session review_sessions/Jupyter_Reviewer_Tutorial.pkl...\n"
     ]
    },
    {
     "data": {
      "text/html": [
       "<div>\n",
       "<style scoped>\n",
       "    .dataframe tbody tr th:only-of-type {\n",
       "        vertical-align: middle;\n",
       "    }\n",
       "\n",
       "    .dataframe tbody tr th {\n",
       "        vertical-align: top;\n",
       "    }\n",
       "\n",
       "    .dataframe thead th {\n",
       "        text-align: right;\n",
       "    }\n",
       "</style>\n",
       "<table border=\"1\" class=\"dataframe\">\n",
       "  <thead>\n",
       "    <tr style=\"text-align: right;\">\n",
       "      <th></th>\n",
       "      <th>Purity</th>\n",
       "      <th>Flag</th>\n",
       "      <th>Notes</th>\n",
       "      <th>Follow up</th>\n",
       "    </tr>\n",
       "  </thead>\n",
       "  <tbody>\n",
       "    <tr>\n",
       "      <th>0</th>\n",
       "      <td>NaN</td>\n",
       "      <td>NaN</td>\n",
       "      <td>NaN</td>\n",
       "      <td>NaN</td>\n",
       "    </tr>\n",
       "    <tr>\n",
       "      <th>1</th>\n",
       "      <td>NaN</td>\n",
       "      <td>NaN</td>\n",
       "      <td>NaN</td>\n",
       "      <td>NaN</td>\n",
       "    </tr>\n",
       "    <tr>\n",
       "      <th>2</th>\n",
       "      <td>NaN</td>\n",
       "      <td>NaN</td>\n",
       "      <td>NaN</td>\n",
       "      <td>NaN</td>\n",
       "    </tr>\n",
       "    <tr>\n",
       "      <th>3</th>\n",
       "      <td>NaN</td>\n",
       "      <td>NaN</td>\n",
       "      <td>NaN</td>\n",
       "      <td>NaN</td>\n",
       "    </tr>\n",
       "    <tr>\n",
       "      <th>4</th>\n",
       "      <td>NaN</td>\n",
       "      <td>NaN</td>\n",
       "      <td>NaN</td>\n",
       "      <td>NaN</td>\n",
       "    </tr>\n",
       "  </tbody>\n",
       "</table>\n",
       "</div>"
      ],
      "text/plain": [
       "   Purity  Flag  Notes  Follow up\n",
       "0     NaN   NaN    NaN        NaN\n",
       "1     NaN   NaN    NaN        NaN\n",
       "2     NaN   NaN    NaN        NaN\n",
       "3     NaN   NaN    NaN        NaN\n",
       "4     NaN   NaN    NaN        NaN"
      ]
     },
     "execution_count": 13,
     "metadata": {},
     "output_type": "execute_result"
    }
   ],
   "source": [
    "if not os.path.exists('review_sessions'):\n",
    "    os.mkdir('review_sessions')\n",
    "    \n",
    "# get local path\n",
    "def valid_purity(x):\n",
    "    return (x >= 0) and (x < 1)\n",
    "\n",
    "rd_path = 'review_sessions/Jupyter_Reviewer_Tutorial.pkl'\n",
    "rd = ReviewData(review_data_fn=rd_path,\n",
    "                df=data_df,\n",
    "                description='Example jupyter reviewer description',\n",
    "                review_data_annotation_list=[ReviewDataAnnotation('Purity', annot_type='number', validate_input=valid_purity),\n",
    "                                             ReviewDataAnnotation('Flag', annot_type='number', options=range(10)),\n",
    "                                             ReviewDataAnnotation('Notes', annot_type='text'),\n",
    "                                             ReviewDataAnnotation('Follow up', annot_type='radioitem', options=['Continue', 'Rerun', 'Remove'])]\n",
    "               )\n",
    "rd.annot.head()\n"
   ]
  },
  {
   "cell_type": "markdown",
   "id": "8f83edc8",
   "metadata": {},
   "source": [
    "# Interactive Review data with Plotly Dash\n",
    "\n",
    "Plotly dash is a packages that allows you to create dashboards pythonically. It has built in objects and functions to easily assemble components so you can display multiple things at once and implement interactivity.\n"
   ]
  },
  {
   "cell_type": "code",
   "execution_count": 22,
   "id": "db6da9ba",
   "metadata": {},
   "outputs": [],
   "source": [
    "import plotly.express as px\n",
    "from plotly.subplots import make_subplots\n",
    "from jupyter_dash import JupyterDash\n",
    "from dash import dcc\n",
    "from dash import html\n",
    "from dash.dependencies import Input, Output, State\n",
    "from dash.exceptions import PreventUpdate\n",
    "from dash import Dash, dash_table\n",
    "import dash\n",
    "import dash_bootstrap_components as dbc\n",
    "import functools"
   ]
  },
  {
   "cell_type": "markdown",
   "id": "5db41543",
   "metadata": {},
   "source": [
    "## 1. Instantiate the App by passing in you `ReviewData` object"
   ]
  },
  {
   "cell_type": "code",
   "execution_count": 24,
   "id": "181492f1",
   "metadata": {},
   "outputs": [],
   "source": [
    "test_app = ReviewDataApp(test_rd)"
   ]
  },
  {
   "cell_type": "markdown",
   "id": "aa547784",
   "metadata": {},
   "source": [
    "To run, call `run_app()`"
   ]
  },
  {
   "cell_type": "markdown",
   "id": "14eb1406",
   "metadata": {},
   "source": [
    "## 2. Add simple components\n",
    "\n",
    "\n",
    "Already implemented is a table from a given path. \n"
   ]
  },
  {
   "cell_type": "code",
   "execution_count": 25,
   "id": "441c71a2",
   "metadata": {},
   "outputs": [],
   "source": [
    "test_app.add_table_from_path('DFCI MAF file', \n",
    "                             'maf-component-id', \n",
    "                             'DFCI_local_sample_dfci_maf_fn', \n",
    "                             ['Hugo_Symbol', 'Chromosome', 't_alt_count', 't_ref_count', 'Tumor_Sample_Barcode'])\n",
    "\n"
   ]
  },
  {
   "cell_type": "markdown",
   "id": "3567ab72",
   "metadata": {},
   "source": [
    "## 3. Custom components\n",
    "\n",
    "You may want to use this if you want to display:\n",
    "- graphs\n",
    "- implement interactive components\n",
    "- utilize multiple inputs to produce a plot (note that it's better to precompute as much as possible)\n",
    "\n",
    "To add a custom component, you need to define:\n",
    "1. A name for the component\n",
    "1. A dash layout (link to site on how to make these). Fill your components with empty data first.\n",
    "1. callback_output: define which components in your dash layout \n"
   ]
  },
  {
   "cell_type": "code",
   "execution_count": null,
   "id": "bdac5d72",
   "metadata": {},
   "outputs": [],
   "source": [
    "\n",
    "def gen_data_summary_table(df, idx, cols):\n",
    "    r = df.loc[idx]\n",
    "    return [[html.H1(f'{r.name} Data Summary'), dbc.Table.from_dataframe(r[cols].to_frame().reset_index())]]\n",
    "\n",
    "test_app.add_custom_component('sample-info-component', \n",
    "                              html.Div(children=[html.H1('Data Summary'), \n",
    "                                                 dbc.Table.from_dataframe(df=pd.DataFrame())],\n",
    "                                       id='sample-info-component'\n",
    "                                      ), \n",
    "                              callback_output=[Output('sample-info-component', 'children')],\n",
    "                              new_data_callback=gen_data_summary_table, \n",
    "                              cols=['BETA_ploidy',\n",
    "                                     'BETA_purity',\n",
    "                                     'BETA_purity_lower',\n",
    "                                     'BETA_purity_upper'])\n",
    "\n"
   ]
  },
  {
   "cell_type": "markdown",
   "id": "2108ab5d",
   "metadata": {},
   "source": [
    "**How to write a callback**\n",
    "\n",
    "1. The first parameter must be a pandas series. Automatically, the `ReviewDataApp` will pass in the data associated with the current row as the first parameter. All data references are made via key access to the `ReviewData` data table. \n",
    "1. Any additional arguments can be specified in `test_app.add_custom_component()` as `kwargs`. This way, you can reuse existing functions, and customize arguments\n",
    "1. Your output must look like your `callback_output` argument, with the outputs corresponding by order of which components to send the results to\n",
    "    1. You may notive that in the above example, `gen_data_summary_table()` returns a nested list. This is because my `callback_output` parameter is a list with a single dash `Output()` object. This dash `Output()` object refers to the `children` of the component `'sample-info-component'`, which refers to the `html.Div` dash component. \n",
    "    1. The outer brackets correspond to the outer brackets of my input to `callback_output`. The inner bracket is to value sent to update the `children` attribute of the `html.Div` object, which consists of a list of two components. \n",
    "    \n",
    "Alternatively, you can pass a dictionary to `callback_output` specifying keywords to assign values to each specified dash `Output()` object."
   ]
  },
  {
   "cell_type": "markdown",
   "id": "cc7a7a8d",
   "metadata": {},
   "source": [
    "## 4. Custom Interactive Components\n",
    "\n",
    "Each component can be made of multiple components. If you have multiple components you want to have interact with each other, then they need to be grouped into one large component. Each time you `add_custom_component()`, those components cannot interact with the components added in separate calls. \n",
    "\n",
    "Below is an example where an interactive table can be used to modify the graph and recalculate the purity based on the selected mutations. \n"
   ]
  },
  {
   "cell_type": "code",
   "execution_count": 27,
   "id": "a8508e9e",
   "metadata": {},
   "outputs": [],
   "source": [
    "from scipy.stats import beta, kruskal\n",
    "import plotly.graph_objects as go\n",
    "\n",
    "tumor_f_bin_width = 1.0/500.0\n",
    "tumor_f_bins = np.arange(0, 1, tumor_f_bin_width)\n",
    "pval_threshold = 1.1E-4\n",
    "def plot_beta(maf_df, data_id):\n",
    "    \n",
    "    if maf_df.empty:\n",
    "        raise ValueError(\"There are no mutations in the maf dataframe.\")\n",
    "\n",
    "    for idx, r in maf_df.iterrows():\n",
    "        pdf = beta.pdf(tumor_f_bins, r['t_alt_count'] + 1, r['t_ref_count'] + 1)\n",
    "        maf_df.loc[idx, tumor_f_bins] = pdf / (sum(pdf) * tumor_f_bin_width)\n",
    "\n",
    "    sum_pdf = maf_df[tumor_f_bins].sum(axis=0)\n",
    "    sum_pdf = sum_pdf / (sum_pdf.sum() * tumor_f_bin_width)\n",
    "    if 'tumor_f' not in maf_df.columns:\n",
    "        maf_df['tumor_f'] = maf_df['t_alt_count'].astype(float) / (maf_df['t_alt_count'] + maf_df['t_ref_count'])\n",
    "    maf_df = maf_df.sort_values(by='tumor_f',\n",
    "                                ascending=False).reset_index()\n",
    "\n",
    "    clonal_muts = [maf_df.index[0]]  # Get the first one\n",
    "    for j in np.arange(maf_df.shape[0], 1, -1):\n",
    "        h_stat, pval = kruskal(*maf_df.iloc[:j].apply(lambda x: np.concatenate((np.ones(x['t_alt_count']),\n",
    "                                                                                np.zeros(x['t_ref_count']))),\n",
    "                                                      axis=1).tolist())\n",
    "        if pval > pval_threshold:\n",
    "            clonal_muts = maf_df.index[:j].tolist()\n",
    "            break\n",
    "\n",
    "    subclonal_muts = maf_df.index[clonal_muts[-1] + 1:].tolist() if clonal_muts[-1] < maf_df.shape[0] else []\n",
    "\n",
    "    clonal_prod_pdf = maf_df.loc[clonal_muts, tumor_f_bins].product(axis=0)\n",
    "    clonal_prod_pdf = clonal_prod_pdf / (clonal_prod_pdf.sum() * tumor_f_bin_width)\n",
    "    half_purity = clonal_prod_pdf.argmax()\n",
    "    purity = clonal_prod_pdf.index[half_purity] * 2\n",
    "\n",
    "    log_clonal_prod_pdf = np.log10(clonal_prod_pdf)\n",
    "    log_clonal_prod_pdf = log_clonal_prod_pdf - np.max(log_clonal_prod_pdf)\n",
    "    cis = log_clonal_prod_pdf[log_clonal_prod_pdf >= -1].index.tolist()\n",
    "    purity_lower_ci = cis[0] * 2\n",
    "    purity_upper_ci = cis[-1] * 2\n",
    "    \n",
    "    # plotly plot\n",
    "    # Step 1: make the figure\n",
    "    maf_df['clonal_status'] = maf_df.index.map(lambda x: 'clonal' if x in clonal_muts else 'subclonal')\n",
    "    maf_df['Mut_Label'] = maf_df['Hugo_Symbol'] + ':' + maf_df['Start_position'].astype(str) + ':' + maf_df['Protein_Change'].astype(str) + ':' + maf_df['Variant_Classification'].astype(str)\n",
    "    to_plot_maf_df = maf_df.set_index('Mut_Label')[list(tumor_f_bins)].stack().reset_index()\n",
    "    to_plot_maf_df['clonal_status'] = to_plot_maf_df['Mut_Label'].map(maf_df[['Mut_Label', 'clonal_status']].set_index('Mut_Label')['clonal_status'])\n",
    "    to_plot_maf_df['pdf_log10'] = np.log10(to_plot_maf_df[0])\n",
    "    fig = px.line(to_plot_maf_df, x='level_1', y='pdf_log10', color='clonal_status', \n",
    "                  hover_data=['Mut_Label'], title=f'{data_id}: purity = {round(purity, 2)} [{round(purity_lower_ci, 2)} - {round(purity_upper_ci, 2)}]')\n",
    "    fig.add_trace(go.Scatter(x=tumor_f_bins, y=np.log10(clonal_prod_pdf),\n",
    "                    mode='lines',\n",
    "                    name='clonal product pdf'))\n",
    "    fig.add_trace(go.Scatter(x=tumor_f_bins, y=np.log10(sum_pdf),\n",
    "                    mode='lines',\n",
    "                    name='all mutations sum pdf'))\n",
    "    \n",
    "    fig.add_vrect(x0=cis[0], x1=cis[-1], line_width=0, fillcolor=\"red\", opacity=0.2)\n",
    "    fig.add_vline(x=clonal_prod_pdf.index[half_purity], name='Half purity')\n",
    "    \n",
    "    ylim_min=10 ** (-4)\n",
    "    ylim_max=10 ** 2\n",
    "    fig.update_yaxes(range=[np.log10(ylim_min), np.log10(ylim_max)])\n",
    "\n",
    "    return fig, purity, purity_lower_ci, purity_upper_ci\n"
   ]
  },
  {
   "cell_type": "code",
   "execution_count": 28,
   "id": "f8e05872",
   "metadata": {},
   "outputs": [],
   "source": [
    "beta_table_cols = ['CHIP_mut_status', \n",
    "                  'aSCNA', \n",
    "                  'Hugo_Symbol', \n",
    "                  'Chromosome', \n",
    "                  'Start_position', \n",
    "                  'Variant_Classification', \n",
    "                  'Protein_Change', \n",
    "                  't_alt_count', \n",
    "                  't_ref_count', \n",
    "                  'total_count', \n",
    "                  'tumor_f', \n",
    "                  'gnomADg_AF']\n",
    "blank_beta_df = pd.DataFrame(columns=beta_table_cols)\n",
    "blank_beta_df.loc[0, beta_table_cols] = 'Test'\n",
    "\n",
    "@functools.lru_cache(maxsize=32) # faster to reload\n",
    "def read_maf(fn):\n",
    "    return pd.read_csv(fn, sep='\\t')\n",
    "\n",
    "def beta_graph_callback(df, idx, \n",
    "                        reload_beta_graph_button, \n",
    "                        selected_rows, \n",
    "                        beta_table_fn_col, \n",
    "                        beta_table_display_col):\n",
    "    r = df.loc[idx]\n",
    "    maf_df = read_maf(r[beta_table_fn_col])\n",
    "    selected_rows = maf_df[maf_df['pass_known_driver_filter']].reset_index().index.tolist()\n",
    "    fig, purity, purity_lower_ci, purity_upper_ci = plot_beta(maf_df.loc[selected_rows], r.name)\n",
    "    return [fig, maf_df[beta_table_display_col].to_dict('records'), selected_rows, purity, 2]\n",
    "\n",
    "def internal_beta_graph_callback(df, idx, \n",
    "                        reload_beta_graph_button, \n",
    "                        selected_rows, \n",
    "                        beta_table_fn_col, \n",
    "                        beta_table_display_col):\n",
    "    r = df.loc[idx]\n",
    "    maf_df = read_maf(r[beta_table_fn_col])\n",
    "    fig, purity, purity_lower_ci, purity_upper_ci = plot_beta(maf_df.loc[selected_rows], r.name)\n",
    "    return [fig, maf_df[beta_table_display_col].to_dict('records'), selected_rows, purity, 2]\n",
    "    \n",
    "test_app.add_custom_component('beta-graph', \n",
    "                              html.Div([html.H1(\"Beta MAF\"), \n",
    "                                        html.Button('Reload Beta Plot', id='reload-beta-button', n_clicks=0),\n",
    "                                        dash_table.DataTable(\n",
    "                                                              id='beta-maf-table',\n",
    "                                                              columns=[{\"name\": i, \"id\": i} for i in beta_table_cols],\n",
    "                                                              data=blank_beta_df.to_dict('records'),\n",
    "                                                              filter_action=\"native\",\n",
    "                                                              sort_action=\"native\",\n",
    "                                                              sort_mode=\"multi\",\n",
    "                                                              column_selectable=\"single\",\n",
    "                                                              row_selectable=\"multi\",\n",
    "                                                              selected_columns=[],\n",
    "                                                              selected_rows=[0],\n",
    "                                                              page_action=\"native\",\n",
    "                                                              page_current= 0,\n",
    "                                                              page_size= 12,\n",
    "                                         ), \n",
    "                                        html.Div([html.P('Purity: ', style={'display': 'inline'}), html.P(0, id='beta-graph-purity', style={'display': 'inline'})]), \n",
    "                                        html.Div([html.P('Ploidy: ', style={'display': 'inline'}), html.P(0, id='beta-graph-ploidy', style={'display': 'inline'})]), \n",
    "                                        dcc.Graph(id='beta-graph', figure={})]), # todo just make name the heading\n",
    "                              callback_output=[Output('beta-graph', 'figure'), \n",
    "                                               Output('beta-maf-table', 'data'), \n",
    "                                               Output('beta-maf-table', 'selected_rows'),\n",
    "                                               Output('beta-graph-purity', 'children'),\n",
    "                                               Output('beta-graph-ploidy', 'children')\n",
    "                                              ],\n",
    "                              callback_input=[Input('reload-beta-button', 'n_clicks'), \n",
    "                                               State('beta-maf-table', 'selected_rows')],\n",
    "                              new_data_callback=beta_graph_callback, \n",
    "                              internal_callback=internal_beta_graph_callback,\n",
    "                              add_autofill=True,\n",
    "                              autofill_dict={'purity': Input('beta-graph-purity', 'children')},\n",
    "                              beta_table_fn_col='BETA_annot_maf_fn',\n",
    "                              beta_table_display_col=beta_table_cols\n",
    "                             )"
   ]
  },
  {
   "cell_type": "markdown",
   "id": "ffac5bdd",
   "metadata": {},
   "source": [
    "This is also an example of where you can specify the outputs of this component can be used to autofill annotations if you recalculate something. The requirements are:\n",
    "1. The data you want to prefill is the value of one of your output components (temporarily storing your data)\n",
    "1. `autofill_dict` keys must correspond to the names of the columns in the review data object annotation table you made\n",
    "\n"
   ]
  },
  {
   "cell_type": "markdown",
   "id": "67f4c23e",
   "metadata": {},
   "source": [
    "# Run the app\n",
    "\n",
    "If you are running the notebook in a VM, you may need to specify a host and port. To view, you will need to forward the correspoding port. \n",
    "\n",
    "You can run directly in the notebook with `mode='inline'`, or in a separate window with `mode='external'`"
   ]
  },
  {
   "cell_type": "code",
   "execution_count": 29,
   "id": "deb437e4",
   "metadata": {},
   "outputs": [
    {
     "name": "stdout",
     "output_type": "stream",
     "text": [
      "Dash app running on http://0.0.0.0:8065/\n"
     ]
    },
    {
     "name": "stderr",
     "output_type": "stream",
     "text": [
      "/home/cchu/.local/lib/python3.7/site-packages/jupyter_dash/jupyter_app.py:139: UserWarning:\n",
      "\n",
      "The 'environ['werkzeug.server.shutdown']' function is deprecated and will be removed in Werkzeug 2.1.\n",
      "\n",
      "/home/cchu/.local/lib/python3.7/site-packages/pandas/core/arraylike.py:364: RuntimeWarning:\n",
      "\n",
      "divide by zero encountered in log10\n",
      "\n"
     ]
    }
   ],
   "source": [
    "test_app.run(mode='external', port=8065)"
   ]
  },
  {
   "cell_type": "code",
   "execution_count": null,
   "id": "b7606b6e",
   "metadata": {},
   "outputs": [],
   "source": []
  },
  {
   "cell_type": "markdown",
   "id": "dfb938ce",
   "metadata": {},
   "source": [
    "This produces the baseline dashboard, which simply allows you to iterate through each row, add annotations, and view the history of annotations.\n",
    "\n",
    "Run app parameters:\n",
    "- mode:\n",
    "- port:\n",
    "- host:"
   ]
  }
 ],
 "metadata": {
  "kernelspec": {
   "display_name": "Python 3 (ipykernel)",
   "language": "python",
   "name": "python3"
  },
  "language_info": {
   "codemirror_mode": {
    "name": "ipython",
    "version": 3
   },
   "file_extension": ".py",
   "mimetype": "text/x-python",
   "name": "python",
   "nbconvert_exporter": "python",
   "pygments_lexer": "ipython3",
   "version": "3.8.13"
  }
 },
 "nbformat": 4,
 "nbformat_minor": 5
}
