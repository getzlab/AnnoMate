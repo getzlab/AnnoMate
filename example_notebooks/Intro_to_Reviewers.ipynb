{
 "cells": [
  {
   "cell_type": "markdown",
   "id": "d2aedd2d-b1d5-4d2d-8e95-61ff06292438",
   "metadata": {
    "tags": []
   },
   "source": [
    "# Intro to Reviewers\n",
    "\n",
    "All `Reviewer` types in this package follow the same general framework for setting up the dashboard. \n",
    "\n",
    "This notebook will walk you through how to interact with a basic reviewer, which extends to other `Reviewer` types.\n",
    "\n",
    "If you want to know how to **create** your own custom reviewer, see `Developer_Jupyter_Reviewer_Tutorial`"
   ]
  },
  {
   "cell_type": "markdown",
   "id": "670b8f2a-af59-4f15-8551-fa038ea8849e",
   "metadata": {
    "tags": []
   },
   "source": [
    "## Installation"
   ]
  },
  {
   "cell_type": "markdown",
   "id": "49d4fe42-17fe-4ea6-aaa7-85b7c0718788",
   "metadata": {},
   "source": [
    "1. Download the repository: `git clone git@github.com:getzlab/JupyterReviewer.git` \n",
    "1. `cd JupyterReviewer`\n",
    "1. Create an environment: `conda create --name <my-env> --file requirements.txt`\n",
    "1. Install package: `pip install -e .`"
   ]
  },
  {
   "cell_type": "markdown",
   "id": "31fae173",
   "metadata": {},
   "source": [
    "## Imports\n",
    "For this tutorial, we just need a few packages"
   ]
  },
  {
   "cell_type": "code",
   "execution_count": 1,
   "id": "a9657940",
   "metadata": {},
   "outputs": [],
   "source": [
    "%load_ext autoreload\n",
    "%autoreload 2"
   ]
  },
  {
   "cell_type": "code",
   "execution_count": 2,
   "id": "ef37cc47",
   "metadata": {},
   "outputs": [],
   "source": [
    "import pandas as pd\n",
    "import os"
   ]
  },
  {
   "cell_type": "markdown",
   "id": "16ca2f26",
   "metadata": {},
   "source": [
    "## The high level steps\n",
    "\n",
    "There are 7 steps to get started reviewing in your jupyter notebook:\n",
    "1. Pick your reviewer\n",
    "1. Instatiate the selected reviewer\n",
    "1. Set up the review data\n",
    "1. Set up the app\n",
    "1. Set up defaults settings\n",
    "1. Run your reviewer!\n",
    "\n",
    "It may seem to be a lot of steps, but it will actually only look something like this"
   ]
  },
  {
   "cell_type": "raw",
   "id": "77d37b6e",
   "metadata": {},
   "source": [
    "from JupyterReviewer.Reviewers import MyCustomReviewer\n",
    "import pandas as pd\n",
    "\n",
    "# Get your data\n",
    "df = pd.read_csv(\"file.tsv\", sep='\\t')\n",
    "\n",
    "# Set up reviewer\n",
    "reviewer = MyCustomReviewer()\n",
    "reviewer.set_review_data('review_session.pkl', df)\n",
    "reviewer.set_review_app()\n",
    "reviewer.set_default_review_data_annotations_configuration()\n",
    "reviewer.run()"
   ]
  },
  {
   "cell_type": "markdown",
   "id": "845e88af",
   "metadata": {},
   "source": [
    "First, we will go through some basic terminology. Next, we will walk through each step below using basic functionality. In the last section, we will go through more advanced options for each step."
   ]
  },
  {
   "cell_type": "markdown",
   "id": "4ccbdf3d",
   "metadata": {},
   "source": [
    "## General Terminology\n",
    "\n",
    "- A **Subject Type** refers to what \"level\" or \"item\" you are reviewing. For example, you may be reviewing samples (ie purity), participants (ie clinical data or comprehensive data), mutations (checking if it is an artifact), etc.\n",
    "\n",
    "- A **Subject** is an individual item you are currently reviewing or manually annotating.\n",
    "\n",
    "- A **Reviewer** is the class in the `JupyterReviewer` package that manages the data you want to review and implements a user interface for you to review each **Subject** one at a time, view/interact its corresponding data, and make annotations.\n",
    "\n",
    "- An **Annotation** is some value associated with a given **Review Subject** given some kind of analysis or manual observation. A Review Subject can have multiple annotations. An Annotation may have certain parameters about what kinds of values are allowed (a list of options, or a range of values, etc.)\n",
    "\n",
    "- **Data** in this context is actually an object that stores collection of tables. It includes the information to review for your Review Subject type (ie sample table from Terra), and the annotations you will eventally make for it. Its purpose is to \"freeze\" the data you are reviewing and couple the data with the annotations you make. Once this object is made, it will store all the data in a pickle file. From then on, only your annotations can be (easily) modified in a specific way (by the `ReviewData` class)\n",
    "\n",
    "- An **ReviewDataApp** is a user interface to display your Data, such as displaying charts or graphs of the information associated with your Review Subject Type, and a way to add annotations for the currently displayed Review Subject. In this package, we use `plotly.dash` to create dashboards for this purpose.\n",
    "\n",
    "![](https://github.com/getzlab/JupyterReviewer/blob/master/images/Reviewer%20Diagram.jpg)\n"
   ]
  },
  {
   "cell_type": "markdown",
   "id": "c0c6d3a5",
   "metadata": {},
   "source": [
    "## Basic Reviewer Run"
   ]
  },
  {
   "cell_type": "markdown",
   "id": "2cb8f9d4",
   "metadata": {},
   "source": [
    "### 1. Select your reviewer\n",
    "\n",
    "For this tutorial, we will use `MyCustomReviewer`. Go to `JupyterReviewer/Reviewers/` to view other available prebuilt options. \n",
    "\n",
    "**This tutorial only applies to any `Reviewer` that inherits from `JupyterReviewer.ReviewerTemplate`**\n",
    "\n",
    "Let's import `MyCustomReviewer`. This reviewer is built to review some dummy sample data. "
   ]
  },
  {
   "cell_type": "code",
   "execution_count": 3,
   "id": "fdeffded",
   "metadata": {},
   "outputs": [],
   "source": [
    "from JupyterReviewer.Reviewers.ExampleReviewer import ExampleReviewer"
   ]
  },
  {
   "cell_type": "markdown",
   "id": "5271e6b3",
   "metadata": {},
   "source": [
    "### 2. Instantiate the selected reviewer\n",
    "\n",
    "This step is super simple, just create an object, no parameters required"
   ]
  },
  {
   "cell_type": "code",
   "execution_count": 4,
   "id": "8933f1a7",
   "metadata": {},
   "outputs": [],
   "source": [
    "my_reviewer = ExampleReviewer()"
   ]
  },
  {
   "cell_type": "markdown",
   "id": "7efd1dac",
   "metadata": {},
   "source": [
    "### 3. Set up the review data\n",
    "\n",
    "At this step you give `my_reviewer` data you want to start reviewing. \n",
    "\n",
    "The type of data you need depends on the type of reviewer you are using. You can see what data it requires by typing the reviewer's `.set_review_data()` in a cell, place your cursor at the end and press `Shift+Tab`.\n",
    "\n",
    "You will see these following required parameters:\n",
    "- `data_pkl_fn: pathlib.Path`: Path to save your data in a pickle file.\n",
    "- `description: str`: describe what data you are reviewing. It's a good idea to also include why\n",
    "\n",
    "The remaining parameters are optional, and allows you to prefill the annotation and history information. See X section below for more information.\n",
    "\n",
    "Depending on the reviewer you may additional arguments or tables (`**kwargs`), which should be included in the docstring. Alternatively, you can look at the source code directly.\n",
    "\n",
    "`MyCustomReviewer` only requires a single dataframe.\n",
    "\n",
    "> What is the `data_pkl_fn` for? All the data you review is used to create a `Data` object. This object saves all the data you want to review, and a corresponding `annot_df` and `history_df` dataframes. \n",
    "> - The `annot_df` dataframe stores the annotations you are recording for each item you are reviewing\n",
    "> - The `history_df` dataframe stores all the changes that have been made to the annotation table\n",
    ">\n",
    "> The `description` parameter is for you to describe the source of the data and what the review process is for.\n",
    ">\n",
    "> **The purpose of this is to always couple the annotations with the data that was actually used to review it.**\n"
   ]
  },
  {
   "cell_type": "code",
   "execution_count": 5,
   "id": "829afcf7",
   "metadata": {},
   "outputs": [
    {
     "data": {
      "text/html": [
       "<div>\n",
       "<style scoped>\n",
       "    .dataframe tbody tr th:only-of-type {\n",
       "        vertical-align: middle;\n",
       "    }\n",
       "\n",
       "    .dataframe tbody tr th {\n",
       "        vertical-align: top;\n",
       "    }\n",
       "\n",
       "    .dataframe thead th {\n",
       "        text-align: right;\n",
       "    }\n",
       "</style>\n",
       "<table border=\"1\" class=\"dataframe\">\n",
       "  <thead>\n",
       "    <tr style=\"text-align: right;\">\n",
       "      <th></th>\n",
       "      <th>gender</th>\n",
       "      <th>age</th>\n",
       "      <th>tissue_origin</th>\n",
       "      <th>treatments_file</th>\n",
       "      <th>mutations_file</th>\n",
       "    </tr>\n",
       "    <tr>\n",
       "      <th>sample_id</th>\n",
       "      <th></th>\n",
       "      <th></th>\n",
       "      <th></th>\n",
       "      <th></th>\n",
       "      <th></th>\n",
       "    </tr>\n",
       "  </thead>\n",
       "  <tbody>\n",
       "    <tr>\n",
       "      <th>sample_0</th>\n",
       "      <td>female</td>\n",
       "      <td>76</td>\n",
       "      <td>skin</td>\n",
       "      <td>./example_data/Jupyter_Reviewer_Tutorial/treat...</td>\n",
       "      <td>./example_data/Jupyter_Reviewer_Tutorial/mut_v...</td>\n",
       "    </tr>\n",
       "    <tr>\n",
       "      <th>sample_1</th>\n",
       "      <td>female</td>\n",
       "      <td>36</td>\n",
       "      <td>lung</td>\n",
       "      <td>./example_data/Jupyter_Reviewer_Tutorial/treat...</td>\n",
       "      <td>./example_data/Jupyter_Reviewer_Tutorial/mut_v...</td>\n",
       "    </tr>\n",
       "    <tr>\n",
       "      <th>sample_2</th>\n",
       "      <td>female</td>\n",
       "      <td>67</td>\n",
       "      <td>bone marrow</td>\n",
       "      <td>./example_data/Jupyter_Reviewer_Tutorial/treat...</td>\n",
       "      <td>./example_data/Jupyter_Reviewer_Tutorial/mut_v...</td>\n",
       "    </tr>\n",
       "    <tr>\n",
       "      <th>sample_3</th>\n",
       "      <td>male</td>\n",
       "      <td>53</td>\n",
       "      <td>breast</td>\n",
       "      <td>./example_data/Jupyter_Reviewer_Tutorial/treat...</td>\n",
       "      <td>./example_data/Jupyter_Reviewer_Tutorial/mut_v...</td>\n",
       "    </tr>\n",
       "    <tr>\n",
       "      <th>sample_4</th>\n",
       "      <td>male</td>\n",
       "      <td>37</td>\n",
       "      <td>skin</td>\n",
       "      <td>./example_data/Jupyter_Reviewer_Tutorial/treat...</td>\n",
       "      <td>./example_data/Jupyter_Reviewer_Tutorial/mut_v...</td>\n",
       "    </tr>\n",
       "  </tbody>\n",
       "</table>\n",
       "</div>"
      ],
      "text/plain": [
       "           gender  age tissue_origin  \\\n",
       "sample_id                              \n",
       "sample_0   female   76          skin   \n",
       "sample_1   female   36          lung   \n",
       "sample_2   female   67   bone marrow   \n",
       "sample_3     male   53        breast   \n",
       "sample_4     male   37          skin   \n",
       "\n",
       "                                             treatments_file  \\\n",
       "sample_id                                                      \n",
       "sample_0   ./example_data/Jupyter_Reviewer_Tutorial/treat...   \n",
       "sample_1   ./example_data/Jupyter_Reviewer_Tutorial/treat...   \n",
       "sample_2   ./example_data/Jupyter_Reviewer_Tutorial/treat...   \n",
       "sample_3   ./example_data/Jupyter_Reviewer_Tutorial/treat...   \n",
       "sample_4   ./example_data/Jupyter_Reviewer_Tutorial/treat...   \n",
       "\n",
       "                                              mutations_file  \n",
       "sample_id                                                     \n",
       "sample_0   ./example_data/Jupyter_Reviewer_Tutorial/mut_v...  \n",
       "sample_1   ./example_data/Jupyter_Reviewer_Tutorial/mut_v...  \n",
       "sample_2   ./example_data/Jupyter_Reviewer_Tutorial/mut_v...  \n",
       "sample_3   ./example_data/Jupyter_Reviewer_Tutorial/mut_v...  \n",
       "sample_4   ./example_data/Jupyter_Reviewer_Tutorial/mut_v...  "
      ]
     },
     "execution_count": 5,
     "metadata": {},
     "output_type": "execute_result"
    }
   ],
   "source": [
    "# Load data\n",
    "fn = 'example_data/Jupyter_Reviewer_Tutorial/data_to_review_example.tsv'\n",
    "df = pd.read_csv(fn, sep='\\t')\n",
    "df = df.set_index('sample_id')\n",
    "df.head()"
   ]
  },
  {
   "cell_type": "code",
   "execution_count": 6,
   "id": "ae59c4c8",
   "metadata": {},
   "outputs": [
    {
     "data": {
      "text/html": [
       "<div>\n",
       "<style scoped>\n",
       "    .dataframe tbody tr th:only-of-type {\n",
       "        vertical-align: middle;\n",
       "    }\n",
       "\n",
       "    .dataframe tbody tr th {\n",
       "        vertical-align: top;\n",
       "    }\n",
       "\n",
       "    .dataframe thead th {\n",
       "        text-align: right;\n",
       "    }\n",
       "</style>\n",
       "<table border=\"1\" class=\"dataframe\">\n",
       "  <thead>\n",
       "    <tr style=\"text-align: right;\">\n",
       "      <th></th>\n",
       "      <th>gene</th>\n",
       "      <th>vaf</th>\n",
       "      <th>sample_id</th>\n",
       "      <th>cov</th>\n",
       "      <th>t_alt_count</th>\n",
       "      <th>t_ref_count</th>\n",
       "    </tr>\n",
       "  </thead>\n",
       "  <tbody>\n",
       "    <tr>\n",
       "      <th>0</th>\n",
       "      <td>gene_0</td>\n",
       "      <td>0.324378</td>\n",
       "      <td>sample_0</td>\n",
       "      <td>184</td>\n",
       "      <td>59</td>\n",
       "      <td>125</td>\n",
       "    </tr>\n",
       "    <tr>\n",
       "      <th>1</th>\n",
       "      <td>gene_1</td>\n",
       "      <td>0.598717</td>\n",
       "      <td>sample_0</td>\n",
       "      <td>109</td>\n",
       "      <td>65</td>\n",
       "      <td>44</td>\n",
       "    </tr>\n",
       "    <tr>\n",
       "      <th>2</th>\n",
       "      <td>gene_2</td>\n",
       "      <td>0.664248</td>\n",
       "      <td>sample_0</td>\n",
       "      <td>189</td>\n",
       "      <td>125</td>\n",
       "      <td>64</td>\n",
       "    </tr>\n",
       "    <tr>\n",
       "      <th>3</th>\n",
       "      <td>gene_3</td>\n",
       "      <td>0.431641</td>\n",
       "      <td>sample_0</td>\n",
       "      <td>120</td>\n",
       "      <td>51</td>\n",
       "      <td>69</td>\n",
       "    </tr>\n",
       "    <tr>\n",
       "      <th>4</th>\n",
       "      <td>gene_4</td>\n",
       "      <td>0.058704</td>\n",
       "      <td>sample_0</td>\n",
       "      <td>149</td>\n",
       "      <td>8</td>\n",
       "      <td>141</td>\n",
       "    </tr>\n",
       "  </tbody>\n",
       "</table>\n",
       "</div>"
      ],
      "text/plain": [
       "     gene       vaf sample_id  cov  t_alt_count  t_ref_count\n",
       "0  gene_0  0.324378  sample_0  184           59          125\n",
       "1  gene_1  0.598717  sample_0  109           65           44\n",
       "2  gene_2  0.664248  sample_0  189          125           64\n",
       "3  gene_3  0.431641  sample_0  120           51           69\n",
       "4  gene_4  0.058704  sample_0  149            8          141"
      ]
     },
     "execution_count": 6,
     "metadata": {},
     "output_type": "execute_result"
    }
   ],
   "source": [
    "mut_df = pd.read_csv(df.iloc[0]['mutations_file'], sep='\\t')\n",
    "mut_df.head()"
   ]
  },
  {
   "cell_type": "code",
   "execution_count": 8,
   "id": "b02b5fef",
   "metadata": {},
   "outputs": [
    {
     "name": "stderr",
     "output_type": "stream",
     "text": [
      "/Users/cchu/Desktop/Methods/JupyterReviewer/JupyterReviewer/ReviewData.py:38: UserWarning: Loading existing data pkl file\n",
      "  warnings.warn(f\"Loading existing data pkl file\")\n"
     ]
    }
   ],
   "source": [
    "if not os.path.exists('data'):\n",
    "    os.mkdir('data')\n",
    "    \n",
    "output_pkl_fn = './data/example_reviewer_data.pkl'\n",
    "my_reviewer.set_review_data(data_pkl_fn=output_pkl_fn, \n",
    "                            description='Intro to reviewers review session part 2',\n",
    "                            sample_df=df,\n",
    "                            preprocessing_str='Testing preprocessing')"
   ]
  },
  {
   "cell_type": "markdown",
   "id": "f26bf72d",
   "metadata": {},
   "source": [
    "Try re-running the cell block above. It should give you a warning. Now, any time that file `./data/example_reviewer_data.pkl` is passed to *any* reviewer's `set_review_data()` parameter `data_pkl_fn`, it will simply load whatever is currently in that pickle file. It will NOT update any of its attributes to whatever the value of the other parameters (in this case, `description`, `sample_df`, `preprocessing_str`, etc.).\n",
    "\n",
    "> **Why do this?** Often times we use `dalmatian` to pull data from Terra workspaces. Sometimes the data in Terra changes because we run workflows multiple times with different parameters. We want to avoid losing what data we were originally looking at to produce the annotations we currently have.\n",
    ">\n",
    "> If you do want to \"update\" your data, make a new session pointing to a different pickle file path. More on this later.\n",
    "\n",
    "\n",
    "You can also see that changes were made to the input dataframe"
   ]
  },
  {
   "cell_type": "code",
   "execution_count": 9,
   "id": "161965c4",
   "metadata": {},
   "outputs": [
    {
     "data": {
      "text/html": [
       "<div>\n",
       "<style scoped>\n",
       "    .dataframe tbody tr th:only-of-type {\n",
       "        vertical-align: middle;\n",
       "    }\n",
       "\n",
       "    .dataframe tbody tr th {\n",
       "        vertical-align: top;\n",
       "    }\n",
       "\n",
       "    .dataframe thead th {\n",
       "        text-align: right;\n",
       "    }\n",
       "</style>\n",
       "<table border=\"1\" class=\"dataframe\">\n",
       "  <thead>\n",
       "    <tr style=\"text-align: right;\">\n",
       "      <th></th>\n",
       "      <th>sample_id</th>\n",
       "      <th>gender</th>\n",
       "      <th>age</th>\n",
       "      <th>tissue_origin</th>\n",
       "      <th>treatments_file</th>\n",
       "      <th>mutations_file</th>\n",
       "      <th>new_column</th>\n",
       "    </tr>\n",
       "  </thead>\n",
       "  <tbody>\n",
       "    <tr>\n",
       "      <th>0</th>\n",
       "      <td>sample_0</td>\n",
       "      <td>female</td>\n",
       "      <td>76</td>\n",
       "      <td>skin</td>\n",
       "      <td>./example_data/Jupyter_Reviewer_Tutorial/treat...</td>\n",
       "      <td>./example_data/Jupyter_Reviewer_Tutorial/mut_v...</td>\n",
       "      <td>New data</td>\n",
       "    </tr>\n",
       "    <tr>\n",
       "      <th>1</th>\n",
       "      <td>sample_1</td>\n",
       "      <td>female</td>\n",
       "      <td>36</td>\n",
       "      <td>lung</td>\n",
       "      <td>./example_data/Jupyter_Reviewer_Tutorial/treat...</td>\n",
       "      <td>./example_data/Jupyter_Reviewer_Tutorial/mut_v...</td>\n",
       "      <td>New data</td>\n",
       "    </tr>\n",
       "    <tr>\n",
       "      <th>2</th>\n",
       "      <td>sample_2</td>\n",
       "      <td>female</td>\n",
       "      <td>67</td>\n",
       "      <td>bone marrow</td>\n",
       "      <td>./example_data/Jupyter_Reviewer_Tutorial/treat...</td>\n",
       "      <td>./example_data/Jupyter_Reviewer_Tutorial/mut_v...</td>\n",
       "      <td>New data</td>\n",
       "    </tr>\n",
       "    <tr>\n",
       "      <th>3</th>\n",
       "      <td>sample_3</td>\n",
       "      <td>male</td>\n",
       "      <td>53</td>\n",
       "      <td>breast</td>\n",
       "      <td>./example_data/Jupyter_Reviewer_Tutorial/treat...</td>\n",
       "      <td>./example_data/Jupyter_Reviewer_Tutorial/mut_v...</td>\n",
       "      <td>New data</td>\n",
       "    </tr>\n",
       "    <tr>\n",
       "      <th>4</th>\n",
       "      <td>sample_4</td>\n",
       "      <td>male</td>\n",
       "      <td>37</td>\n",
       "      <td>skin</td>\n",
       "      <td>./example_data/Jupyter_Reviewer_Tutorial/treat...</td>\n",
       "      <td>./example_data/Jupyter_Reviewer_Tutorial/mut_v...</td>\n",
       "      <td>New data</td>\n",
       "    </tr>\n",
       "  </tbody>\n",
       "</table>\n",
       "</div>"
      ],
      "text/plain": [
       "  sample_id  gender  age tissue_origin  \\\n",
       "0  sample_0  female   76          skin   \n",
       "1  sample_1  female   36          lung   \n",
       "2  sample_2  female   67   bone marrow   \n",
       "3  sample_3    male   53        breast   \n",
       "4  sample_4    male   37          skin   \n",
       "\n",
       "                                     treatments_file  \\\n",
       "0  ./example_data/Jupyter_Reviewer_Tutorial/treat...   \n",
       "1  ./example_data/Jupyter_Reviewer_Tutorial/treat...   \n",
       "2  ./example_data/Jupyter_Reviewer_Tutorial/treat...   \n",
       "3  ./example_data/Jupyter_Reviewer_Tutorial/treat...   \n",
       "4  ./example_data/Jupyter_Reviewer_Tutorial/treat...   \n",
       "\n",
       "                                      mutations_file new_column  \n",
       "0  ./example_data/Jupyter_Reviewer_Tutorial/mut_v...   New data  \n",
       "1  ./example_data/Jupyter_Reviewer_Tutorial/mut_v...   New data  \n",
       "2  ./example_data/Jupyter_Reviewer_Tutorial/mut_v...   New data  \n",
       "3  ./example_data/Jupyter_Reviewer_Tutorial/mut_v...   New data  \n",
       "4  ./example_data/Jupyter_Reviewer_Tutorial/mut_v...   New data  "
      ]
     },
     "execution_count": 9,
     "metadata": {},
     "output_type": "execute_result"
    }
   ],
   "source": [
    "my_reviewer.review_data.data.df.head()"
   ]
  },
  {
   "cell_type": "markdown",
   "id": "41f38a4c",
   "metadata": {},
   "source": [
    "### 4. Set up the app\n",
    "\n",
    "Depending on the reviewer, you may have options to customize how the dashboard app will be displayed. In this example, we need to provide information about which columns in the input table we want to use as the mutation file and which of the columns in the sample table to display.\n",
    "\n",
    "Feel free to change the `sample_cols` parameter to any set of columns or order from the input dataframe above."
   ]
  },
  {
   "cell_type": "code",
   "execution_count": 10,
   "id": "cdc0779a",
   "metadata": {},
   "outputs": [],
   "source": [
    "my_reviewer.set_review_app(mut_file_col='mutations_file', \n",
    "                           sample_cols=['gender', 'age', 'tissue_origin'])"
   ]
  },
  {
   "cell_type": "markdown",
   "id": "6773d336",
   "metadata": {},
   "source": [
    "### 5. Set up default settings\n",
    "\n",
    "For now, lets just set up the default annotations to record and other settings. More details in the Advanced section below."
   ]
  },
  {
   "cell_type": "code",
   "execution_count": 11,
   "id": "2875d634",
   "metadata": {},
   "outputs": [],
   "source": [
    "my_reviewer.set_default_review_data_annotations_configuration()\n",
    "my_reviewer.set_default_autofill()"
   ]
  },
  {
   "cell_type": "code",
   "execution_count": 12,
   "id": "6f611126-58d6-48b7-a056-01737bc2b263",
   "metadata": {},
   "outputs": [
    {
     "data": {
      "text/html": [
       "<div>\n",
       "<style scoped>\n",
       "    .dataframe tbody tr th:only-of-type {\n",
       "        vertical-align: middle;\n",
       "    }\n",
       "\n",
       "    .dataframe tbody tr th {\n",
       "        vertical-align: top;\n",
       "    }\n",
       "\n",
       "    .dataframe thead th {\n",
       "        text-align: right;\n",
       "    }\n",
       "</style>\n",
       "<table border=\"1\" class=\"dataframe\">\n",
       "  <thead>\n",
       "    <tr style=\"text-align: right;\">\n",
       "      <th></th>\n",
       "      <th>Notes</th>\n",
       "      <th>Flag</th>\n",
       "    </tr>\n",
       "  </thead>\n",
       "  <tbody>\n",
       "    <tr>\n",
       "      <th>0</th>\n",
       "      <td>Never mind</td>\n",
       "      <td>Remove</td>\n",
       "    </tr>\n",
       "    <tr>\n",
       "      <th>1</th>\n",
       "      <td>Something fishy</td>\n",
       "      <td>Remove</td>\n",
       "    </tr>\n",
       "    <tr>\n",
       "      <th>2</th>\n",
       "      <td>Missing driver gene</td>\n",
       "      <td>Remove</td>\n",
       "    </tr>\n",
       "    <tr>\n",
       "      <th>3</th>\n",
       "      <td>Looks good</td>\n",
       "      <td>Keep</td>\n",
       "    </tr>\n",
       "    <tr>\n",
       "      <th>4</th>\n",
       "      <td>nan</td>\n",
       "      <td>NaN</td>\n",
       "    </tr>\n",
       "  </tbody>\n",
       "</table>\n",
       "</div>"
      ],
      "text/plain": [
       "                 Notes    Flag\n",
       "0           Never mind  Remove\n",
       "1      Something fishy  Remove\n",
       "2  Missing driver gene  Remove\n",
       "3           Looks good    Keep\n",
       "4                  nan     NaN"
      ]
     },
     "execution_count": 12,
     "metadata": {},
     "output_type": "execute_result"
    }
   ],
   "source": [
    "my_reviewer.review_data.data.annot_df.head()"
   ]
  },
  {
   "cell_type": "markdown",
   "id": "1605ce20",
   "metadata": {},
   "source": [
    "### 6. Run the reviewer!\n",
    "\n",
    "You can run the app inside the notebook (`mode='inline'`) or in a separate window (`mode='external'`, the default).\n",
    "\n",
    "If you are running your notebook in a VM, you will need to create an ssh connection, and specify the host and port address"
   ]
  },
  {
   "cell_type": "code",
   "execution_count": 13,
   "id": "b00fd0cf",
   "metadata": {},
   "outputs": [
    {
     "name": "stdout",
     "output_type": "stream",
     "text": [
      "Dash app running on http://0.0.0.0:8050/\n"
     ]
    }
   ],
   "source": [
    "my_reviewer.run()"
   ]
  },
  {
   "cell_type": "markdown",
   "id": "a015ccb4",
   "metadata": {},
   "source": [
    "Go ahead and \"review\" some of the data by selecting different rows in the drop down menu and inputting annotations into the input form at the top left. Press `submit`, and you will see your inputs update the history table. If you change your annotations for that sample again, the annotation table will keep the most recent change, but you will see in the history table it will show both your new and previous annotations.\n",
    "\n",
    "\n",
    "For this exercise, fill in annotations for at least 8 samples, where at least four of them you annotate `Remove` for the `Flag` annotation\n",
    "\n",
    "You can view your progress by accessing the annotation table:"
   ]
  },
  {
   "cell_type": "code",
   "execution_count": 14,
   "id": "8bff62a2",
   "metadata": {},
   "outputs": [
    {
     "data": {
      "text/html": [
       "<div>\n",
       "<style scoped>\n",
       "    .dataframe tbody tr th:only-of-type {\n",
       "        vertical-align: middle;\n",
       "    }\n",
       "\n",
       "    .dataframe tbody tr th {\n",
       "        vertical-align: top;\n",
       "    }\n",
       "\n",
       "    .dataframe thead th {\n",
       "        text-align: right;\n",
       "    }\n",
       "</style>\n",
       "<table border=\"1\" class=\"dataframe\">\n",
       "  <thead>\n",
       "    <tr style=\"text-align: right;\">\n",
       "      <th></th>\n",
       "      <th>index</th>\n",
       "      <th>timestamp</th>\n",
       "      <th>source_data_fn</th>\n",
       "      <th>Notes</th>\n",
       "      <th>Flag</th>\n",
       "    </tr>\n",
       "  </thead>\n",
       "  <tbody>\n",
       "    <tr>\n",
       "      <th>0</th>\n",
       "      <td>0</td>\n",
       "      <td>2022-07-22 11:29:52.585575</td>\n",
       "      <td>./data/example_reviewer_data.pkl</td>\n",
       "      <td>Hello!</td>\n",
       "      <td>Keep</td>\n",
       "    </tr>\n",
       "    <tr>\n",
       "      <th>0</th>\n",
       "      <td>1</td>\n",
       "      <td>2022-07-22 11:30:03.995091</td>\n",
       "      <td>./data/example_reviewer_data.pkl</td>\n",
       "      <td>Something fishy</td>\n",
       "      <td>Remove</td>\n",
       "    </tr>\n",
       "    <tr>\n",
       "      <th>0</th>\n",
       "      <td>3</td>\n",
       "      <td>2022-07-22 11:42:26.443766</td>\n",
       "      <td>./data/example_reviewer_data.pkl</td>\n",
       "      <td>Looks good</td>\n",
       "      <td>Keep</td>\n",
       "    </tr>\n",
       "    <tr>\n",
       "      <th>0</th>\n",
       "      <td>6</td>\n",
       "      <td>2022-07-22 11:42:37.593032</td>\n",
       "      <td>./data/example_reviewer_data.pkl</td>\n",
       "      <td>Perfect example</td>\n",
       "      <td>Keep</td>\n",
       "    </tr>\n",
       "    <tr>\n",
       "      <th>0</th>\n",
       "      <td>17</td>\n",
       "      <td>2022-07-22 11:42:50.034915</td>\n",
       "      <td>./data/example_reviewer_data.pkl</td>\n",
       "      <td>Sketchy</td>\n",
       "      <td>Remove</td>\n",
       "    </tr>\n",
       "    <tr>\n",
       "      <th>0</th>\n",
       "      <td>16</td>\n",
       "      <td>2022-07-22 11:43:02.220459</td>\n",
       "      <td>./data/example_reviewer_data.pkl</td>\n",
       "      <td></td>\n",
       "      <td>Keep</td>\n",
       "    </tr>\n",
       "    <tr>\n",
       "      <th>0</th>\n",
       "      <td>13</td>\n",
       "      <td>2022-07-22 11:43:11.262853</td>\n",
       "      <td>./data/example_reviewer_data.pkl</td>\n",
       "      <td>not sure</td>\n",
       "      <td></td>\n",
       "    </tr>\n",
       "    <tr>\n",
       "      <th>0</th>\n",
       "      <td>0</td>\n",
       "      <td>2022-07-22 11:48:50.382558</td>\n",
       "      <td>./data/example_reviewer_data.pkl</td>\n",
       "      <td>Never mind</td>\n",
       "      <td>Remove</td>\n",
       "    </tr>\n",
       "    <tr>\n",
       "      <th>0</th>\n",
       "      <td>2</td>\n",
       "      <td>2022-07-22 11:49:07.147002</td>\n",
       "      <td>./data/example_reviewer_data.pkl</td>\n",
       "      <td>MIssing driver gene</td>\n",
       "      <td>Remove</td>\n",
       "    </tr>\n",
       "    <tr>\n",
       "      <th>0</th>\n",
       "      <td>2</td>\n",
       "      <td>2022-07-22 11:49:14.797824</td>\n",
       "      <td>./data/example_reviewer_data.pkl</td>\n",
       "      <td>Missing driver gene</td>\n",
       "      <td>Remove</td>\n",
       "    </tr>\n",
       "  </tbody>\n",
       "</table>\n",
       "</div>"
      ],
      "text/plain": [
       "  index                  timestamp                    source_data_fn  \\\n",
       "0     0 2022-07-22 11:29:52.585575  ./data/example_reviewer_data.pkl   \n",
       "0     1 2022-07-22 11:30:03.995091  ./data/example_reviewer_data.pkl   \n",
       "0     3 2022-07-22 11:42:26.443766  ./data/example_reviewer_data.pkl   \n",
       "0     6 2022-07-22 11:42:37.593032  ./data/example_reviewer_data.pkl   \n",
       "0    17 2022-07-22 11:42:50.034915  ./data/example_reviewer_data.pkl   \n",
       "0    16 2022-07-22 11:43:02.220459  ./data/example_reviewer_data.pkl   \n",
       "0    13 2022-07-22 11:43:11.262853  ./data/example_reviewer_data.pkl   \n",
       "0     0 2022-07-22 11:48:50.382558  ./data/example_reviewer_data.pkl   \n",
       "0     2 2022-07-22 11:49:07.147002  ./data/example_reviewer_data.pkl   \n",
       "0     2 2022-07-22 11:49:14.797824  ./data/example_reviewer_data.pkl   \n",
       "\n",
       "                 Notes    Flag  \n",
       "0               Hello!    Keep  \n",
       "0      Something fishy  Remove  \n",
       "0           Looks good    Keep  \n",
       "0      Perfect example    Keep  \n",
       "0              Sketchy  Remove  \n",
       "0                         Keep  \n",
       "0             not sure          \n",
       "0           Never mind  Remove  \n",
       "0  MIssing driver gene  Remove  \n",
       "0  Missing driver gene  Remove  "
      ]
     },
     "execution_count": 14,
     "metadata": {},
     "output_type": "execute_result"
    }
   ],
   "source": [
    "# only viewing samples with annotations\n",
    "my_reviewer.review_data.data.history_df.dropna()"
   ]
  },
  {
   "cell_type": "markdown",
   "id": "7fea16ef",
   "metadata": {},
   "source": [
    "Now you can export this table to a file that you can then share, upload to Terra, or use for further analysis."
   ]
  },
  {
   "cell_type": "code",
   "execution_count": 15,
   "id": "725efe31",
   "metadata": {},
   "outputs": [],
   "source": [
    "from datetime import date\n",
    "export_dir = f'data/example_reviewer_data.exported_{date.today()}'\n",
    "if not os.path.exists(export_dir):\n",
    "    os.mkdir(export_dir)\n",
    "    \n",
    "my_reviewer.review_data.export_data(export_dir)"
   ]
  },
  {
   "cell_type": "markdown",
   "id": "8c640b9d",
   "metadata": {},
   "source": [
    "## Advanced Reviewer Run\n",
    "\n",
    "We will go through each step again, but show how you can further customize your reviewer for your needs.\n",
    "\n",
    "Let's suppose you are done reviewing all the samples in `my_reviewer` above, and now I want to do some more exploration on the samples I decided to `Remove`."
   ]
  },
  {
   "cell_type": "markdown",
   "id": "073478e1",
   "metadata": {},
   "source": [
    "### 1. and 2. Pick and instantiate your reviewer\n",
    "\n",
    "We will just use the same one as before, but this time create a separate reviewer"
   ]
  },
  {
   "cell_type": "code",
   "execution_count": 16,
   "id": "cec30f2c",
   "metadata": {},
   "outputs": [],
   "source": [
    "my_reviewer_2 = ExampleReviewer()"
   ]
  },
  {
   "cell_type": "markdown",
   "id": "332cba50",
   "metadata": {},
   "source": [
    "### 3. Set up the review data\n",
    "\n",
    "For this exercise, let's identify which samples you kept from the previous review. \n"
   ]
  },
  {
   "cell_type": "code",
   "execution_count": 17,
   "id": "1cf5f2b7",
   "metadata": {},
   "outputs": [
    {
     "name": "stdout",
     "output_type": "stream",
     "text": [
      "[0, 1, 2, 17]\n"
     ]
    }
   ],
   "source": [
    "keep_samples_index = \\\n",
    "    my_reviewer.review_data.data.annot_df.loc[\n",
    "        my_reviewer.review_data.data.annot_df['Flag'] == 'Remove'\n",
    "    ].index.tolist()\n",
    "\n",
    "print(keep_samples_index)"
   ]
  },
  {
   "cell_type": "markdown",
   "id": "851a9335",
   "metadata": {},
   "source": [
    "It would be very useful in this new review session to know why I initially thought I should remove those samples. We can include the previous annotation and history data in this new review session. \n",
    "\n",
    "You may have seen in `ReviewerTemplate.set_review_data` there were several other parameters that were not discussed. Those parameters are to allow you to \"pre-fill\" annotations and history.\n",
    "\n",
    "There are two main ways to do this:\n",
    "\n",
    "1. **Manually input the `annot_df`, `annot_col_config_dict`, and `history_df` yourself.** This may be appropriate if you have some post processing done on the annotations done separately, or you only have access to an `annot_df` but no history.\n",
    "1. **Preferred: Load existing data pickle object or exported data files** If you are just continuing review from a previous review session. You can do this by either passing in the path to the data pickle file (`load_existing_data_pkl_fn`), or to a directory that contains the exported tables from a review session (`load_existing_exported_data_dir`). \n",
    "\n",
    "> The latter method is preferred because the history tables include a column that indicates the source of the \n",
    "> annotations (column `source_data_fn`), which allows you to easily go back to that review session and read the \n",
    "> description. A work around is to manually generate your own history table with the columns corresponding to your\n",
    "> input annotation table, plus `['index', 'timestamp', 'source_data_fn']`. \n",
    "\n",
    "\n",
    "**NOTE**: you still need to set up the input data you want to review yourself. Often times new or updated data is available. If you want to use the data you used for original review sessions, you can pull directly from the data object or the exported files. \n",
    "\n",
    "\n",
    "For this exercise, let's pass in the pickle file directly."
   ]
  },
  {
   "cell_type": "code",
   "execution_count": 18,
   "id": "bcaac9d1",
   "metadata": {},
   "outputs": [
    {
     "name": "stdout",
     "output_type": "stream",
     "text": [
      "Loading data from previous review with pickle file\n"
     ]
    },
    {
     "name": "stderr",
     "output_type": "stream",
     "text": [
      "/Users/cchu/Desktop/Methods/JupyterReviewer/JupyterReviewer/ReviewData.py:38: UserWarning:\n",
      "\n",
      "Loading existing data pkl file\n",
      "\n"
     ]
    }
   ],
   "source": [
    "new_output_pkl_fn = './data/example_reviewer_data_2.pkl'\n",
    "my_reviewer_2.set_review_data(index=keep_samples_index,\n",
    "                              data_pkl_fn=new_output_pkl_fn,\n",
    "                              description=\"Reviewing more data to see if I can explain why these samples should be removed.\",\n",
    "                              sample_df=my_reviewer.review_data.data.df, # reuse exactly the same data as before\n",
    "                              load_existing_data_pkl_fn=output_pkl_fn,\n",
    "                              preprocessing_str='New data'\n",
    "                             )\n"
   ]
  },
  {
   "cell_type": "markdown",
   "id": "8ef096fb",
   "metadata": {},
   "source": [
    "### 4. Set up the app\n",
    "\n",
    "In the previous review session, all we saw was a mutation table. What if we also want to view the treatment data?\n",
    "\n",
    "You can add additional tables and graphs to the dashboard.\n",
    "\n",
    "First, run `set_review_app` like before. Note that if you have updated files to plot, make sure you reference the correct column name. In this case, we are still reviewig the original files in `mutations_file`."
   ]
  },
  {
   "cell_type": "code",
   "execution_count": 19,
   "id": "1e23f569",
   "metadata": {},
   "outputs": [],
   "source": [
    "my_reviewer_2.set_review_app(mut_file_col='mutations_file', \n",
    "                             sample_cols=['sample_id', 'gender', 'age', 'tissue_origin', 'mutations_file'])\n"
   ]
  },
  {
   "cell_type": "markdown",
   "id": "df28c4fd",
   "metadata": {},
   "source": [
    "Then you can add your own `AppComponent`. For more advanced features, see `Developer_JupyterReviewer_Tutorial.ipynb`.\n",
    "\n",
    "For now, let's just use the built in function to add a table."
   ]
  },
  {
   "cell_type": "code",
   "execution_count": 20,
   "id": "f44d22bb",
   "metadata": {},
   "outputs": [
    {
     "data": {
      "text/html": [
       "<div>\n",
       "<style scoped>\n",
       "    .dataframe tbody tr th:only-of-type {\n",
       "        vertical-align: middle;\n",
       "    }\n",
       "\n",
       "    .dataframe tbody tr th {\n",
       "        vertical-align: top;\n",
       "    }\n",
       "\n",
       "    .dataframe thead th {\n",
       "        text-align: right;\n",
       "    }\n",
       "</style>\n",
       "<table border=\"1\" class=\"dataframe\">\n",
       "  <thead>\n",
       "    <tr style=\"text-align: right;\">\n",
       "      <th></th>\n",
       "      <th>treatment_name</th>\n",
       "      <th>response</th>\n",
       "      <th>tx_start</th>\n",
       "    </tr>\n",
       "  </thead>\n",
       "  <tbody>\n",
       "    <tr>\n",
       "      <th>0</th>\n",
       "      <td>XRT</td>\n",
       "      <td>remission</td>\n",
       "      <td>162</td>\n",
       "    </tr>\n",
       "    <tr>\n",
       "      <th>1</th>\n",
       "      <td>Anthracycline</td>\n",
       "      <td>remission</td>\n",
       "      <td>225</td>\n",
       "    </tr>\n",
       "  </tbody>\n",
       "</table>\n",
       "</div>"
      ],
      "text/plain": [
       "  treatment_name   response  tx_start\n",
       "0            XRT  remission       162\n",
       "1  Anthracycline  remission       225"
      ]
     },
     "execution_count": 20,
     "metadata": {},
     "output_type": "execute_result"
    }
   ],
   "source": [
    "pd.read_csv(my_reviewer.review_data.data.df.iloc[0]['treatments_file'], sep='\\t')"
   ]
  },
  {
   "cell_type": "code",
   "execution_count": 21,
   "id": "9fd80758",
   "metadata": {},
   "outputs": [],
   "source": [
    "my_reviewer_2.app.add_table_from_path(data_table_source='df', # reference which table in the Data object to use.\n",
    "                                      table_title='Treatment file',\n",
    "                                      component_id='treatment-component-id',\n",
    "                                      table_fn_col='treatments_file', \n",
    "                                      table_cols=['treatment_name', 'response', 'tx_start'])\n"
   ]
  },
  {
   "cell_type": "markdown",
   "id": "852f94ae",
   "metadata": {},
   "source": [
    "## 5. Set up settings\n",
    "\n",
    "Above, we just used default settings already implemented for us. This included what annotations to record and how they are displayed in the app. \n",
    "\n",
    "To create your own annotations, use `add_review_data_annotation(annot_name: str, data_annot: DataAnnotation)` for each annotation you want to use. This will create new columns in the `review_data.data.annot_df` dataframe if `annot_name` does not already exist. If it does, it will update the annotation's metadata with `data_annot`, which specifies information about the data type of the annotation (string, float, etc.), valid options, and default values. \n",
    "\n",
    "Similarly, you can specify or change how your annotation inputs will be displayed in the app with `add_review_data_annotations_app_display(name: str, app_display_type: str)`. `name` must refer to an annotation column in the `annot_df` dataframe (determined with `add_review_data_annotation()` or default settings). `app_display_type` indicates what kind of input format to display (id checklist, text, float, etc.).\n",
    "\n",
    "\n",
    "Let's keep the default configuration, but add:\n",
    "- annotation to indicate how sure we are we want to remove or keep the sample\n",
    "- annotation to indicate what color the mutation histogram was\n",
    "- modify the display of `Notes`\n"
   ]
  },
  {
   "cell_type": "code",
   "execution_count": 22,
   "id": "e4e7972d",
   "metadata": {},
   "outputs": [],
   "source": [
    "from JupyterReviewer.Data import DataAnnotation\n",
    "my_reviewer_2.set_default_review_data_annotations_configuration() # sets both annotation columns and display\n",
    "\n",
    "# Add additional annotation\n",
    "my_reviewer_2.add_review_data_annotation(\n",
    "    annot_name='Confidence', \n",
    "    review_data_annotation=DataAnnotation(\n",
    "        annot_value_type='string', \n",
    "        options=['Confident', 'Unsure'], \n",
    "        default='Confident'))\n",
    "\n",
    "my_reviewer_2.add_review_data_annotation(\n",
    "    annot_name='Histogram color', \n",
    "    review_data_annotation=DataAnnotation(\n",
    "        annot_value_type='string', \n",
    "        options=['red', 'blue', 'green']))\n",
    "\n",
    "# Specify display type for additional annotation\n",
    "my_reviewer_2.add_review_data_annotations_app_display(\n",
    "    annot_name='Confidence', \n",
    "    app_display_type='select')\n",
    "my_reviewer_2.add_review_data_annotations_app_display(\n",
    "    annot_name='Histogram color', \n",
    "    app_display_type='select')\n",
    "\n",
    "# Edit 'Notes' annotation to be displayed with 'text' instead of 'textarea'\n",
    "my_reviewer_2.add_review_data_annotations_app_display(\n",
    "    annot_name='Notes', \n",
    "    app_display_type='text')\n"
   ]
  },
  {
   "cell_type": "markdown",
   "id": "7a4f78c5",
   "metadata": {},
   "source": [
    "### 5.1 Autofill\n",
    "\n",
    "Sometimes there are parts of the dashboard that can calculate annotations on the fly. In this case, say we want to record what color the histogram plot was last plotted with. It would be tedious and error prone for a reviewer to have to keep copying data into the correpsonding input. \n",
    "\n",
    "Autofill allows the you to simply press a button and it will take the data in the dashboard from specified components and fill the annotation input panel for you.\n",
    "\n",
    "Depending on the app, there will already be a default autofill setting. For those, just call \n",
    "```\n",
    "my_reviewer_2.set_default_autofill()\n",
    "```\n",
    "\n",
    "In this case, `ExampleReviewer` has no autofill specified. You can add your own using `add_autofill()`. This is also useful when you have added your own custom components.\n",
    "\n",
    "You may have to look at the source code to see what components were added and what layout components have values you can access.\n"
   ]
  },
  {
   "cell_type": "code",
   "execution_count": 23,
   "id": "67cb42cd",
   "metadata": {},
   "outputs": [],
   "source": [
    "from dash.dependencies import State\n",
    "my_reviewer_2.add_autofill(autofill_button_name='Mut vafs',\n",
    "                           fill_value=State('mut-figure-color-radioitem', 'value'),\n",
    "                           annot_col='Histogram color'\n",
    "                           )"
   ]
  },
  {
   "cell_type": "markdown",
   "id": "44926117",
   "metadata": {},
   "source": [
    "## 6. Run the app!"
   ]
  },
  {
   "cell_type": "code",
   "execution_count": 24,
   "id": "7871969b",
   "metadata": {},
   "outputs": [
    {
     "name": "stdout",
     "output_type": "stream",
     "text": [
      "Dash app running on http://0.0.0.0:8050/\n"
     ]
    }
   ],
   "source": [
    "my_reviewer_2.run()"
   ]
  },
  {
   "cell_type": "markdown",
   "id": "774325cd",
   "metadata": {},
   "source": [
    "You should see that the new inputs was added to the annotation panel. Additionally, the new table with treatment data is added to the bottom.\n",
    "\n",
    "Select a sample from the dropdown and change the color of the histogram. \n",
    "\n",
    "Then, go back up to the annotaiton panel and press the `Mut val` button. This should autofill the `Histogram color` input to the same color you selected."
   ]
  },
  {
   "cell_type": "markdown",
   "id": "e07c9eca",
   "metadata": {},
   "source": [
    "# Final words\n",
    "\n",
    "You can always go back and change the parameters of setting the app and annotation configurations, adding or editing the components of the app, etc.\n",
    "\n",
    "The one thing that will NOT change after initial instantiation is `set_review_data()`. This can only be set once per `data_pkl_fn`. If you wish to start over, you must manually delete the pickle file. Else, create a new one.\n",
    "\n",
    "This feature allows you to make these changes to the app on the fly, and you can restart the notebook and it will not change the annotations you have already made.\n",
    "\n"
   ]
  }
 ],
 "metadata": {
  "kernelspec": {
   "display_name": "Python 3 (ipykernel)",
   "language": "python",
   "name": "python3"
  },
  "language_info": {
   "codemirror_mode": {
    "name": "ipython",
    "version": 3
   },
   "file_extension": ".py",
   "mimetype": "text/x-python",
   "name": "python",
   "nbconvert_exporter": "python",
   "pygments_lexer": "ipython3",
   "version": "3.8.8"
  }
 },
 "nbformat": 4,
 "nbformat_minor": 5
}
