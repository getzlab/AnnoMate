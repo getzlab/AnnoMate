{
 "cells": [
  {
   "cell_type": "markdown",
   "id": "edb82b21",
   "metadata": {},
   "source": [
    "# Developer Jupyter Reviewer Tutorial\n",
    "\n",
    "This tutorial is for developers who want to make a Reviewer object from scratch.\n",
    "\n",
    "If you are looking to use a pre-made Reviewer, refer to the Quick Start Jupyter Reviewer Tutorial (TBD)\n"
   ]
  },
  {
   "cell_type": "markdown",
   "id": "633fbe55-d590-4b97-9392-351eb61711ef",
   "metadata": {
    "tags": []
   },
   "source": [
    "# Introduction\n"
   ]
  },
  {
   "cell_type": "markdown",
   "id": "1ad5f3cb-48f5-4342-a619-760ee22a78a2",
   "metadata": {},
   "source": [
    "There are 3 parts you need to generate to make a standard Jupyter Reviewer:\n",
    "\n",
    "**1. ReviewData Object** A ReviewData object consists of 3 pandas dataframes:\n",
    "1. data: a dataframe with data that a user wants to review, row by row (ie samples, participants, mutations, etc.)\n",
    "2. annot: a dataframe with annotations that a user wants to write for each row (ie notes, flags, etc.)\n",
    "3. history: a timeline of changes a user makes to the annot table\n",
    "\n",
    "\n",
    "**2. ReviewData Annotations** Set what kind of data the reviewer needs to enter\n",
    "\n",
    "**3. ReviewDataApp** A ReviewDataApp is a plotly.dash application to display data in a particular way to review data in a ReviewData object, and already includes prebuilt functionality for a user to add annotations and view history of the ReviewData.\n",
    "\n",
    "As a developer, you will define custom dash components you want to display for the type of review you are implementing (purity, mutation, etc.). This includes tables, graphs, or other components of interest. plotly.dash also enables interactivity, so you can define special functions to allow for interactive viewing of charts and graphs, and to auto-calculate values you may want to use for your annotations (more on autofill below).\n",
    "\n",
    "When a ReviewDataApp is passed a ReviewData object, it will read the ReviewData object to render your components.\n",
    "\n",
    "**4. ReviewData Annotation display parameters** Define how to display the annotation inputs in the app\n",
    "\n",
    "**5. Autofill Dictionary** Autofill allows you to connect outputs of the ReviewDataApp to the annotations for the ReviewData object. At runtime, it will add buttons in the top annotation panel where a user can click and the current values of the selected components in the dash will map to the specified annotation inputs in the annotation panel.\n",
    "\n",
    "The following tutorial will walk through each of these steps in more detail."
   ]
  },
  {
   "cell_type": "markdown",
   "id": "f95b8e00-3967-4e4c-be18-c42278b9ca4d",
   "metadata": {},
   "source": [
    "## What a user sees\n",
    "\n",
    "A user using your custom Reviewer will have a notebook that looks like the following:\n"
   ]
  },
  {
   "cell_type": "raw",
   "id": "8a6933ba-4d48-49b0-8be5-239cf91c8fe7",
   "metadata": {},
   "source": [
    "from JupyterReviewer.Reviewers import PrebuiltReviewer\n",
    "import pandas as pd\n",
    "\n",
    "# Get your data\n",
    "df = pd.read_csv(\"file.tsv\", sep='\\t')\n",
    "\n",
    "# Set up reviewer\n",
    "reviewer = PrebuiltReviewer()\n",
    "reviewer.set_review_data('review_session.pkl', df)\n",
    "reviewer.set_review_app()\n",
    "reviewer.set_default_review_data_annotations_configuration()\n",
    "reviewer.run()\n"
   ]
  },
  {
   "cell_type": "markdown",
   "id": "9711e836-38c1-4946-aeae-42f46e57c18f",
   "metadata": {
    "tags": []
   },
   "source": [
    "# The basic structure"
   ]
  },
  {
   "cell_type": "markdown",
   "id": "257a0efb-70ce-4f63-832a-a7b9b1cad368",
   "metadata": {},
   "source": [
    "To build your custom reviewer, you will need to do the following:\n",
    "\n",
    "1. Create a new class that inherits `ReviewerTemplate` in the `JupyterReviewer/Reviewers/` directory\n",
    "1. Define 5 abstract methods (* are optional):\n",
    "    1. gen_data()\n",
    "    1. gen_review_app()\n",
    "    1. *set_default_review_data_annotations()\n",
    "    1. *set_default_review_data_annotation_app_display()\n",
    "    1. *set_default_autofill()\n",
    "    \n",
    "Your file will look something like the following:\n"
   ]
  },
  {
   "cell_type": "raw",
   "id": "0cb07dfd-3fe0-4e99-bfba-c52c8ed6fb81",
   "metadata": {},
   "source": [
    "from jupyter_reviewer.ReviewData import ReviewData, ReviewDataAnnotation\n",
    "from jupyter_reviewer.ReviewDataApp import ReviewDataApp, AppComponent\n",
    "from jupyter_reviewer.ReviewerTemplate import ReviewerTemplate\n",
    "\n",
    "# other imports\n",
    "\n",
    "class PrebuiltReviewer(ReviewerTemplate):\n",
    "    \n",
    "    def gen_data(self,\n",
    "                 description: str,\n",
    "                 annot_df: pd.DataFrame = None,\n",
    "                 annot_col_config_dict: Dict = None,\n",
    "                 history_df: pd.DataFrame = None,\n",
    "                 index: List = None,\n",
    "                 df: pd.DataFrame\n",
    "                 ) -> ReviewData:\n",
    "        \n",
    "        # Preprocessing\n",
    "\n",
    "        return  Data(...)\n",
    "        \n",
    "    def set_default_review_data_annotations(self):\n",
    "        self.add_review_data_annotation('purity', ReviewDataAnnotation('float', validate_input=validate_purity))\n",
    "        ...\n",
    "        \n",
    "        \n",
    "    def gen_review_app(self, test_param) -> ReviewDataApp:\n",
    "        app = ReviewDataApp()\n",
    "        app.add_table_from_path(...)\n",
    "        app.add_component(AppComponent(...), ...)\n",
    "        ...\n",
    "        \n",
    "        return app\n",
    "    \n",
    "    def set_default_review_data_annotation_app_display(self):\n",
    "        self.add_review_data_annotations_app_display('purity', 'number')\n",
    "        ...\n",
    "    \n",
    "    def set_default_autofill(self):\n",
    "        self.add_autofill(...)\n",
    "        "
   ]
  },
  {
   "cell_type": "markdown",
   "id": "75daca7c-529c-4f3a-9b0a-8cefac572dc0",
   "metadata": {
    "tags": []
   },
   "source": [
    "## gen_data()"
   ]
  },
  {
   "cell_type": "markdown",
   "id": "7dc32aa5-6c24-4940-8396-88c23a66d50c",
   "metadata": {},
   "source": [
    "This function creates a `Data` objects, which will then be the `data` attribute to the `ReviewData` object interface. The `ReviewData` interface is an object that manages the alterations and saving of the `Data` object. \n",
    "\n",
    "To crete a `Data` object, the following parameters must be defined, either by the developer or the user, or both:\n",
    "- `description`: A string describing the ReviewData object's source of data and purpose\n",
    "- `df`: pandas dataframe containing the data to review. Each row corresponds to a single subject to be annotated.\n",
    "- `annot_df`, `history_df`, and `annot_col_config_dict`: can be prefilled annotation and history dataframes and their validation configurations from previous reviewer annotations.\n",
    "- `index`: List of unique Subjects to review\n",
    "\n",
    "For your custom reviewer, you may have specific plots or calculations you want to make, and known/common annotations that a someone reviewing the data should use. You define these special features for your type of reviewer in `gen_data(self, ...)`. The main features would be:\n",
    "1. Preprocessing the input `df` dataframe, such as precomputing data/graphs and adding columns you may need for your ReviewDataApp. \n",
    "2. `annot_col_config_dict`: a str: `ReviewDataAnnotation` dictionary. The key string will be the column name in the review data object's annotation table. `ReviewDataAnnotation` consists of:\n",
    "    1. `type`: view `ReviewData.AnnotationType` Enum\n",
    "    1. `options`: a list of valid values (for checklist and radioitems)\n",
    "    1. `validate_input`: a named, non-local function (cannot be a lambda function) that takes a single parameter and returns True/False\n",
    "\n",
    "Once you have done any preprocessing and defined any default annotations, you can create and return the `Data` object. "
   ]
  },
  {
   "cell_type": "raw",
   "id": "9b236d84-8bb4-4101-9e97-03b029f7b746",
   "metadata": {},
   "source": [
    "from jupyter_reviewer.ReviewData import ReviewData, ReviewDataAnnotation\n",
    "from jupyter_reviewer.ReviewDataApp import ReviewDataApp, AppComponent\n",
    "from jupyter_reviewer.ReviewerTemplate import ReviewerTemplate\n",
    "\n",
    "class PrebuiltReviewer(ReviewerTemplate):\n",
    "        def gen_data(self,\n",
    "                 description: str,\n",
    "                 annot_df: pd.DataFrame,\n",
    "                 annot_col_config_dict: Dict,\n",
    "                 history_df: pd.DataFrame,\n",
    "                 sample_df: pd.DataFrame,\n",
    "                 preprocessing_str: str,\n",
    "                 index: List = None,\n",
    "                 ) -> GenericData:\n",
    "        \"\"\"\n",
    "        Creates a dataframe with index corresponding to the primary dataframe's index\n",
    "\n",
    "        Parameters\n",
    "        ----------\n",
    "        sample_df: pd.DataFrame\n",
    "            dataframe with samples data and sample ids in the index\n",
    "        preprocessing_str: str\n",
    "            Example of preprocessing data\n",
    "        \"\"\"\n",
    "        \n",
    "        sample_df['new_column'] = preprocessing_str\n",
    "\n",
    "        if index is None:\n",
    "            index = sample_df.index.tolist()\n",
    "\n",
    "        return GenericData(index=index,\n",
    "                           description=description,\n",
    "                           df=sample_df,\n",
    "                           annot_df=annot_df,\n",
    "                           annot_col_config_dict=annot_col_config_dict,\n",
    "                           history_df=history_df\n",
    "                           )\n",
    "    \n",
    "    "
   ]
  },
  {
   "cell_type": "markdown",
   "id": "81df5fef",
   "metadata": {},
   "source": [
    "## set_default_review_data_annotations()\n",
    "\n",
    "Here you define what data to collect during the review session. Use the prebuilt method `self.add_review_data_annotation()`, which will add the columns to the `Data.annot_df` table and also store the corresponding validation parameters. These are associated with the `Data` object generated from the above `gen_data()`.\n",
    "\n",
    "Paramters for `ReviewerTemplate.add_review_data_annotation()` are:\n",
    "- name: The name of the column in `annot` table. It will also be used in the app.\n",
    "- review_data_annotation: a `ReviewDataAnnotation` object. Its parameters are:\n",
    "    - `annot_value_type`: one of `[\"multi\", \"float\", \"int\", \"string\"]`\n",
    "    - `options`: list of options that are valid for this annotation\n",
    "    - `validate_input`: A custom function to validate inputs\n",
    "    - `default`: value to automatically fill annotations with"
   ]
  },
  {
   "cell_type": "raw",
   "id": "4ecfac31",
   "metadata": {},
   "source": [
    "class PrebuiltReviewer(ReviewerTemplate):\n",
    "    def gen_data(self, ...)\n",
    "        ...\n",
    "        \n",
    "    def set_default_review_data_annotations(self):\n",
    "        self.add_review_data_annotation('A_float', DataAnnotation('float', validate_input=validate_purity))\n",
    "        self.add_review_data_annotation('rating', DataAnnotation('int', options=range(10)))\n",
    "        self.add_review_data_annotation('Notes', DataAnnotation('string'))\n",
    "        self.add_review_data_annotation('class', DataAnnotation('multi', options=[f'Option {n}' for n in range(4)])))\n",
    "        "
   ]
  },
  {
   "cell_type": "markdown",
   "id": "add9e025-c145-404d-8832-0ba6c75cc95c",
   "metadata": {
    "tags": []
   },
   "source": [
    "## gen_review_app()"
   ]
  },
  {
   "cell_type": "markdown",
   "id": "3344a04c-ce37-43d1-bfdd-febd41bbf616",
   "metadata": {},
   "source": [
    "This creates a dash application where you can define what components to include. The `ReviewDataApp` already has built-in components to handle interating through the items in any `ReviewData` object, rendering the annotation inputs defined by the `ReviewData` object's `review_data_annotation_list`, and the history."
   ]
  },
  {
   "cell_type": "markdown",
   "id": "3c233df1-2a69-4e49-9aee-1244d0487d8c",
   "metadata": {},
   "source": [
    "**What is Dash?**\n",
    "\n",
    "Dash is a library that makes it easy to generate custom dashboards in python. I recommend reviewing the [Dash Tutorial](https://dash.plotly.com/installation) first before proceeding. \n",
    "\n",
    "In short, to create a dash app, you define:\n",
    "1. Layout: how you want the app to look\n",
    "2. Callbacks: functions to define interactivity with the components in your layout\n",
    "\n",
    "The `ReviewDataApp` is built so it is simple for you to easily add components and interactivity without having to deal directly with some of the idiosyncrasies of the plotly dash package. \n"
   ]
  },
  {
   "cell_type": "markdown",
   "id": "98acc536-d049-4f81-b42c-63e4af58d0fe",
   "metadata": {},
   "source": [
    "To create your custom app, you first instantiate a `ReviewDataApp`. Then you add a series of `AppComponent`s."
   ]
  },
  {
   "cell_type": "raw",
   "id": "489ed9e2-17de-4e28-bc78-74f7d520c1e7",
   "metadata": {},
   "source": [
    "class PrebuiltReviewer(ReviewerTemplate):\n",
    "    def gen_review_app():\n",
    "        app = ReviewDataApp()\n",
    "        app.add_component(AppComponent(...), ...)\n",
    "        app.add_component(AppComponent(...), ...)\n",
    "        \n",
    "        return app\n",
    "        "
   ]
  },
  {
   "cell_type": "markdown",
   "id": "1a0444f7-b7e6-4e9d-bf16-c3280ae2191e",
   "metadata": {},
   "source": [
    "**AppComponent**\n",
    "\n",
    "To create an `AppComponent`, you will specify:\n",
    "- **`name`**: A string naming the particular component\n",
    "- **`layout`**: Using plotly dash's html and boostrap libraries, define how your component will look like (Divs, Graphs, Tables, etc.)\n",
    "- **`callback_output`**: A list of `Output()`'s. The first argument is the id of the subcomponent in your layout, and the second argument is what attribute of that component to update with your callback functions\n",
    "- **`callback_input`**: A list of `Input()`'s. The arguments are similar to `Output()`. If these subcomponents' attributes change, it will run your `internal_callback` function.\n",
    "- **`callback_state`**: A list of `State()`'s. The arguments are similar to `Output()`. If the `internal_callback` function is triggered, the current values of these subcomponent attributes will be passed as parameters to the `internal_callback` function.\n",
    "- **`new_data_callback`**: A function that who's first two arguments are assumed to be (1) The `ReviewData.data` object, and (2) an index value of the `ReviewData` object. \n",
    "    - The next parameters are defined IN ORDER of the `Input()`'s defined by the `callback_input` argument followed by the `State()`'s defined by the `callback_state`argument. \n",
    "    - The output of this function is a **list** that corresponds IN ORDER of the `Output()`'s listed in `callback_output`. This function will be called whenever a user switches to a new subject to review.\n",
    "- **`internal_callback`**: A function with the the EXACT signature as `new_data_callback`. This function will be called whenever a user changes the attributes of subcomponents listed in `callback_input`.\n",
    "\n",
    "\n",
    "**Custom args for callback functions**\n",
    "Sometimes your callback functions need parameters that may be specific to your reviewer type, or defined by the user (ex. pointing to a specific column name in the ReviewDataObject, specific parameters for displaying graphs, etc.). When adding a component to the app, you can also specify these arguments with keywords arguments.\n",
    "\n",
    "```\n",
    "premade_component = AppComponent(..., \n",
    "                                 new_data_callback=lambda df, idx, y: [df.loc[idx] + y], \n",
    "                                 ...)\n",
    "\n",
    "class ExampleReviewer(ReviewerTemplate):\n",
    "    ...\n",
    "    \n",
    "    # Specific to reviewer type\n",
    "    def gen_review_app(self):\n",
    "        app = ReviewDataApp()\n",
    "        app.add_component(premade_component,\n",
    "                          y=10) # <-------------------\n",
    "        return app\n",
    "        \n",
    "    # OR define by the user\n",
    "    def gen_review_app(self, y): # <-------------------\n",
    "        app = ReviewDataApp()\n",
    "        app.add_component(premade_component,\n",
    "                          y=y)  # <-------------------\n",
    "        return app\n",
    "```\n",
    "\n",
    "**Premade components**\n",
    "\n",
    "`ReviewDataApp` objects also includes a function `add_table_from_path()` to create a simple table reading a file from a column. You can use it just like `add_component()`, but you only need to specify which column in the Data object to get the file from, and which columns in the file's table to display.\n"
   ]
  },
  {
   "cell_type": "code",
   "execution_count": null,
   "id": "4fd009e2-d3d9-4786-91ad-208919029f79",
   "metadata": {},
   "outputs": [],
   "source": [
    "def gen_review_app(self, test_param) -> ReviewDataApp:\n",
    "        app = ReviewDataApp()\n",
    "        app.add_table_from_path(table_name='DFCI MAF file', \n",
    "                                component_name='maf-component-id', \n",
    "                                table_fn_col='DFCI_bucket_sample_dfci_maf_fn', \n",
    "                                table_cols=['Hugo_Symbol', 'Chromosome', 't_alt_count', 't_ref_count', 'Tumor_Sample_Barcode'])\n",
    "        \n",
    "        return app\n",
    "    "
   ]
  },
  {
   "cell_type": "markdown",
   "id": "3b5b15a5",
   "metadata": {},
   "source": [
    "## set_default_review_data_annotations_app_display()\n",
    "\n",
    "After the user has set the review data object's annotation data and the corresponding app, the user now has to specify how to display the annotations in the input form of the app.\n",
    "\n",
    "`Reviewer.set_default_review_data_annotations_app_display()` is only called in the public method `Reviewer.set_default_review_data_anontations_configuration()`, which is used if the user wants to use your default annotations and display configuration. \n",
    "\n",
    "To define `Reviewer.set_default_review_data_annotations_app_display()`, Use the prebuilt `self.add_review_data_annotations_app_display()` method for each annotation to include. The parameters are:\n",
    "- `name`: Corresponding name of a column that exists in the `ReviewData.annot` table (specified in `gen_review_data_annotations()`\n",
    "- `app_display_type`: one of `['text', 'textarea', 'number', 'checklist', 'radioitem', 'select']`\n"
   ]
  },
  {
   "cell_type": "raw",
   "id": "bde5158c",
   "metadata": {},
   "source": [
    "class PrebuiltReviewer:\n",
    "    ...\n",
    "    \n",
    "    def set_default_review_data_annotations_app_display(self):\n",
    "        self.add_review_data_annotations_app_display('A_float', 'number')\n",
    "        self.add_review_data_annotations_app_display('rating', 'number')\n",
    "        self.add_review_data_annotations_app_display('Notes', 'text')\n",
    "        self.add_review_data_annotations_app_display('class', 'radioitem')\n",
    "        \n",
    "    ..."
   ]
  },
  {
   "cell_type": "markdown",
   "id": "3ea81b40-7307-483c-b98b-75116d8ffee2",
   "metadata": {
    "tags": []
   },
   "source": [
    "## set_default_autofill()"
   ]
  },
  {
   "cell_type": "markdown",
   "id": "b6a7fda4-ec2a-4256-a6fa-44482469efee",
   "metadata": {},
   "source": [
    "Sometimes you may have a lot of annotations, or one of your components produces an value that you want to use as an annotation. It can be annoying sometimes to have to manually type things into the form, so the `ReviewDataApp` has functionality to handle linking the current state of your subcomponents in the app to the annotation input panel.\n",
    "\n",
    "You can set these \"links\" with `self.add_autofill()`:\n",
    "- `autofill_button_name`: the name of the component to read from.\n",
    "- `fill_value`: A `State` or raw value to fill the corresponding `annot_col` for the current subject being reviewed\n",
    "- `annot_col`: The column in the annotation table to use the `fill_value`\n",
    "\n",
    "If you use the same `autofill_button_name` when adding other autofills, then all `fill_value` -> `annot_col` associations will be fulfilled when that button is clicked. \n",
    "\n",
    "*Note that you can use `State` values from different `AppComponents` under a single autofill button.\n",
    "\n",
    "** Note that the user can add additional annotation if they like with `reviewer.add_autofill()` as well if they decide to add additional components or annotations to the existing reviewer.\n"
   ]
  },
  {
   "cell_type": "raw",
   "id": "d6b9eb7d",
   "metadata": {},
   "source": [
    "class PrebuiltReviewer:\n",
    "    ...\n",
    "    \n",
    "    def set_default_autofill(self):\n",
    "        self.add_autofill('test-autofill-button', State('a-slider', 'value'), 'A_float')\n",
    "        self.add_autofill('test-autofill-button', 'Option 1', 'class')\n",
    "        \n",
    "    ...\n",
    "    "
   ]
  },
  {
   "cell_type": "markdown",
   "id": "afbf1be8-cf14-4846-8b8f-f2bae9995e23",
   "metadata": {},
   "source": [
    "# Full example"
   ]
  },
  {
   "cell_type": "code",
   "execution_count": 1,
   "id": "9d7950db",
   "metadata": {},
   "outputs": [],
   "source": [
    "%load_ext autoreload\n",
    "%autoreload 2"
   ]
  },
  {
   "cell_type": "code",
   "execution_count": 3,
   "id": "5055350e",
   "metadata": {},
   "outputs": [],
   "source": [
    "import pandas as pd\n",
    "import numpy as np\n",
    "import functools\n",
    "import time\n",
    "import os"
   ]
  },
  {
   "cell_type": "code",
   "execution_count": 127,
   "id": "26e67cc8-d01a-4f10-9225-4c2c76ef8fb6",
   "metadata": {},
   "outputs": [],
   "source": [
    "from JupyterReviewer.Data import DataAnnotation\n",
    "from JupyterReviewer.DataTypes.GenericData import GenericData\n",
    "from JupyterReviewer.ReviewDataApp import ReviewDataApp, AppComponent\n",
    "from JupyterReviewer.ReviewerTemplate import ReviewerTemplate\n",
    "from typing import Dict, Union, List\n",
    "\n",
    "import plotly.express as px\n",
    "from plotly.subplots import make_subplots\n",
    "from jupyter_dash import JupyterDash\n",
    "from dash import dcc\n",
    "from dash import html\n",
    "from dash.dependencies import Input, Output, State\n",
    "from dash.exceptions import PreventUpdate\n",
    "from dash import Dash, dash_table\n",
    "import dash\n",
    "import dash_bootstrap_components as dbc\n",
    "import functools\n",
    "import plotly.graph_objects as go\n",
    "\n",
    "# For pickling to work, need to explicitly define function\n",
    "def validate_purity(x):\n",
    "    return x < 0.5\n",
    "\n",
    "class PrebuiltReviewer(ReviewerTemplate):\n",
    "    def gen_data(self,\n",
    "                 description: str,\n",
    "                 annot_df: pd.DataFrame,\n",
    "                 annot_col_config_dict: Dict,\n",
    "                 history_df: pd.DataFrame,\n",
    "                 df: pd.DataFrame,\n",
    "                 preprocessing_str: str,\n",
    "                 index: List = None,   \n",
    "                ):\n",
    "        \"\"\"\n",
    "        Parameters\n",
    "        ==========\n",
    "        df: pd.DataFrame\n",
    "            A dataframe\n",
    "        \n",
    "        \"\"\"\n",
    "        \n",
    "        df['new_column'] = preprocessing_str\n",
    "        \n",
    "        if index is None:\n",
    "            index = sample_df.index.tolist()\n",
    "\n",
    "        return  GenericData(index=index,\n",
    "                            description=description,\n",
    "                            df=df,\n",
    "                            annot_df=annot_df,\n",
    "                            annot_col_config_dict=annot_col_config_dict,\n",
    "                            history_df=history_df\n",
    "                           )\n",
    "    \n",
    "    def set_default_review_data_annotations(self):\n",
    "        self.add_review_data_annotation('A_float', DataAnnotation('float', validate_input=validate_purity))\n",
    "        self.add_review_data_annotation('rating', DataAnnotation('int', options=range(10)))\n",
    "        self.add_review_data_annotation('Notes', DataAnnotation('string'))\n",
    "        self.add_review_data_annotation('class', DataAnnotation('multi', options=[f'Option {n}' for n in range(4)]))\n",
    "    \n",
    "    def gen_review_app(self, test_param) -> ReviewDataApp:\n",
    "        \"\"\"\n",
    "        Parameters\n",
    "        ==========\n",
    "        \n",
    "        test_param: str\n",
    "            A string to demonstrate passing a parameters to a callback function\n",
    "        \"\"\"\n",
    "        app = ReviewDataApp()\n",
    "        app.add_table_from_path(data_table_source='df',\n",
    "                                table_title='file', \n",
    "                                component_id='maf-component-id', \n",
    "                                table_fn_col='mutations_file', \n",
    "                                table_cols=['gene', 'vaf', 'cov', 'sample_id'])\n",
    "\n",
    "\n",
    "        def gen_data_summary_table(data: GenericData, idx, cols):\n",
    "            r = data.df.loc[idx]\n",
    "            return [[html.H1(f'{r.name} Data Summary'), dbc.Table.from_dataframe(r[cols].to_frame().reset_index())]]\n",
    "\n",
    "        app.add_component(AppComponent(name='sample-info-component', \n",
    "                                      layout=html.Div(children=[html.H1('Data Summary'), \n",
    "                                                         dbc.Table.from_dataframe(df=pd.DataFrame())],\n",
    "                                               id='sample-info-component'\n",
    "                                              ), \n",
    "                                      callback_output=[Output('sample-info-component', 'children')],\n",
    "                                      new_data_callback=gen_data_summary_table, \n",
    "                                      ),\n",
    "                               cols=['gender',\n",
    "                                     'age', \n",
    "                                     'new_column']\n",
    "                              )\n",
    "\n",
    "        def plot_interactive_graph(data: GenericData, idx: str, slider_value, test_param):\n",
    "            x = np.arange(0, 1, 0.1)\n",
    "            fig = go.Figure()\n",
    "            fig.add_trace(go.Scatter(x=x, y=x))\n",
    "            print(f'plot_interactive_graph: {test_param}')\n",
    "            return [fig, 0.5]\n",
    "\n",
    "        def interactive_graph_change_lines(data: GenericData, idx:str, slider_value, test_param):\n",
    "            df = data.df\n",
    "            fig = plot_interactive_graph(df, idx, slider_value, test_param)[0] # cache?\n",
    "            fig.add_vline(slider_value)\n",
    "            print(f'interactive_graph_change_lines: {test_param}')\n",
    "            return [fig, dash.no_update] # or just return the original file\n",
    "\n",
    "\n",
    "        app.add_component(AppComponent('test-interactive-graph',\n",
    "                                      html.Div(children=[dcc.Graph(figure={}, id='a-figure'), \n",
    "                                                dcc.Slider(0, 1, 0.1, value=0.5, \n",
    "                                                           id='a-slider'\n",
    "                                                          )\n",
    "                                               ]),\n",
    "                                      new_data_callback=plot_interactive_graph,\n",
    "                                      internal_callback=interactive_graph_change_lines,\n",
    "                                      callback_output=[Output('a-figure', 'figure'), Output('a-slider', 'value')],\n",
    "                                      callback_input=[Input('a-slider', 'value')],\n",
    "                                   ),\n",
    "                       test_param=test_param\n",
    "                       )\n",
    "        \n",
    "        return app\n",
    "    \n",
    "    def set_default_review_data_annotations_app_display(self):\n",
    "        self.add_review_data_annotations_app_display('A_float', 'number')\n",
    "        self.add_review_data_annotations_app_display('rating', 'number')\n",
    "        self.add_review_data_annotations_app_display('Notes', 'text')\n",
    "        self.add_review_data_annotations_app_display('class', 'radioitem')\n",
    "    \n",
    "    def set_default_autofill(self):\n",
    "        self.add_autofill('test-autofill-button', State('a-slider', 'value'), 'A_float')\n",
    "        self.add_autofill('test-autofill-button', 'Option 1', 'class')\n",
    "    \n",
    "    "
   ]
  },
  {
   "cell_type": "markdown",
   "id": "bb78b5ba-3b3d-48d9-946a-67a45cf158a7",
   "metadata": {},
   "source": [
    "# User POV"
   ]
  },
  {
   "cell_type": "code",
   "execution_count": 128,
   "id": "61659d39-c3e7-4c49-86bc-b69def417359",
   "metadata": {},
   "outputs": [
    {
     "data": {
      "text/html": [
       "<div>\n",
       "<style scoped>\n",
       "    .dataframe tbody tr th:only-of-type {\n",
       "        vertical-align: middle;\n",
       "    }\n",
       "\n",
       "    .dataframe tbody tr th {\n",
       "        vertical-align: top;\n",
       "    }\n",
       "\n",
       "    .dataframe thead th {\n",
       "        text-align: right;\n",
       "    }\n",
       "</style>\n",
       "<table border=\"1\" class=\"dataframe\">\n",
       "  <thead>\n",
       "    <tr style=\"text-align: right;\">\n",
       "      <th></th>\n",
       "      <th>gender</th>\n",
       "      <th>age</th>\n",
       "      <th>tissue_origin</th>\n",
       "      <th>treatments_file</th>\n",
       "      <th>mutations_file</th>\n",
       "    </tr>\n",
       "    <tr>\n",
       "      <th>sample_id</th>\n",
       "      <th></th>\n",
       "      <th></th>\n",
       "      <th></th>\n",
       "      <th></th>\n",
       "      <th></th>\n",
       "    </tr>\n",
       "  </thead>\n",
       "  <tbody>\n",
       "    <tr>\n",
       "      <th>sample_0</th>\n",
       "      <td>female</td>\n",
       "      <td>76</td>\n",
       "      <td>skin</td>\n",
       "      <td>./example_data/Jupyter_Reviewer_Tutorial/treat...</td>\n",
       "      <td>./example_data/Jupyter_Reviewer_Tutorial/mut_v...</td>\n",
       "    </tr>\n",
       "    <tr>\n",
       "      <th>sample_1</th>\n",
       "      <td>female</td>\n",
       "      <td>36</td>\n",
       "      <td>lung</td>\n",
       "      <td>./example_data/Jupyter_Reviewer_Tutorial/treat...</td>\n",
       "      <td>./example_data/Jupyter_Reviewer_Tutorial/mut_v...</td>\n",
       "    </tr>\n",
       "    <tr>\n",
       "      <th>sample_2</th>\n",
       "      <td>female</td>\n",
       "      <td>67</td>\n",
       "      <td>bone marrow</td>\n",
       "      <td>./example_data/Jupyter_Reviewer_Tutorial/treat...</td>\n",
       "      <td>./example_data/Jupyter_Reviewer_Tutorial/mut_v...</td>\n",
       "    </tr>\n",
       "    <tr>\n",
       "      <th>sample_3</th>\n",
       "      <td>male</td>\n",
       "      <td>53</td>\n",
       "      <td>breast</td>\n",
       "      <td>./example_data/Jupyter_Reviewer_Tutorial/treat...</td>\n",
       "      <td>./example_data/Jupyter_Reviewer_Tutorial/mut_v...</td>\n",
       "    </tr>\n",
       "    <tr>\n",
       "      <th>sample_4</th>\n",
       "      <td>male</td>\n",
       "      <td>37</td>\n",
       "      <td>skin</td>\n",
       "      <td>./example_data/Jupyter_Reviewer_Tutorial/treat...</td>\n",
       "      <td>./example_data/Jupyter_Reviewer_Tutorial/mut_v...</td>\n",
       "    </tr>\n",
       "  </tbody>\n",
       "</table>\n",
       "</div>"
      ],
      "text/plain": [
       "           gender  age tissue_origin  \\\n",
       "sample_id                              \n",
       "sample_0   female   76          skin   \n",
       "sample_1   female   36          lung   \n",
       "sample_2   female   67   bone marrow   \n",
       "sample_3     male   53        breast   \n",
       "sample_4     male   37          skin   \n",
       "\n",
       "                                             treatments_file  \\\n",
       "sample_id                                                      \n",
       "sample_0   ./example_data/Jupyter_Reviewer_Tutorial/treat...   \n",
       "sample_1   ./example_data/Jupyter_Reviewer_Tutorial/treat...   \n",
       "sample_2   ./example_data/Jupyter_Reviewer_Tutorial/treat...   \n",
       "sample_3   ./example_data/Jupyter_Reviewer_Tutorial/treat...   \n",
       "sample_4   ./example_data/Jupyter_Reviewer_Tutorial/treat...   \n",
       "\n",
       "                                              mutations_file  \n",
       "sample_id                                                     \n",
       "sample_0   ./example_data/Jupyter_Reviewer_Tutorial/mut_v...  \n",
       "sample_1   ./example_data/Jupyter_Reviewer_Tutorial/mut_v...  \n",
       "sample_2   ./example_data/Jupyter_Reviewer_Tutorial/mut_v...  \n",
       "sample_3   ./example_data/Jupyter_Reviewer_Tutorial/mut_v...  \n",
       "sample_4   ./example_data/Jupyter_Reviewer_Tutorial/mut_v...  "
      ]
     },
     "execution_count": 128,
     "metadata": {},
     "output_type": "execute_result"
    }
   ],
   "source": [
    "fn = 'example_data/Jupyter_Reviewer_Tutorial/data_to_review_example.tsv'\n",
    "df = pd.read_csv(fn, sep='\\t', index_col=0)\n",
    "df.head()"
   ]
  },
  {
   "cell_type": "code",
   "execution_count": 129,
   "id": "98765e54-9136-44cb-bd74-a1682dade013",
   "metadata": {},
   "outputs": [
    {
     "name": "stderr",
     "output_type": "stream",
     "text": [
      "/Users/cchu/Desktop/Methods/JupyterReviewer/JupyterReviewer/ReviewData.py:38: UserWarning:\n",
      "\n",
      "Loading existing data pkl file\n",
      "\n"
     ]
    },
    {
     "name": "stdout",
     "output_type": "stream",
     "text": [
      "Dash app running on http://0.0.0.0:8085/\n",
      "plot_interactive_graph: testing param kwargs\n"
     ]
    }
   ],
   "source": [
    "test_reviewer = PrebuiltReviewer()\n",
    "test_reviewer.set_review_data(data_pkl_fn = '/Users/cchu/Desktop/Methods/JupyterReviewer/data/Prebuilt_reviewer.Dev_Reviewer_12.pkl', \n",
    "                              description='testing', \n",
    "                              df = df,\n",
    "                              index=df.index, \n",
    "                              preprocessing_str = 'A preprocessing str'\n",
    "                             )\n",
    "test_reviewer.set_review_app(test_param='testing param kwargs')\n",
    "test_reviewer.set_default_review_data_annotations_configuration()\n",
    "test_reviewer.set_default_autofill()\n",
    "\n",
    "# User customization\n",
    "test_reviewer.app.add_component(AppComponent('Test Add Component', html.Div(html.P('New component'))))\n",
    "test_reviewer.review_data.add_annotation('another_annotation', DataAnnotation('float'))\n",
    "test_reviewer.add_review_data_annotations_app_display('another_annotation', 'number')\n",
    "\n",
    "# Run\n",
    "test_reviewer.run(mode='external', port=8085)"
   ]
  },
  {
   "cell_type": "code",
   "execution_count": null,
   "id": "d8431143-09e0-4482-977a-9fd869cf9791",
   "metadata": {},
   "outputs": [],
   "source": [
    "# User can reuse the app\n",
    "another_reviewer = PrebuiltReviewer()\n",
    "another_reviewer.set_review_data(...)\n",
    "another_reviewer.app = test_reviewer.app # do not need to re-add customizations\n",
    "another_reviewer.autofill_dict = test_reviewer.autofill_dict # copy autofill settings\n",
    "test_reviewer.run()\n"
   ]
  }
 ],
 "metadata": {
  "kernelspec": {
   "display_name": "Python 3 (ipykernel)",
   "language": "python",
   "name": "python3"
  },
  "language_info": {
   "codemirror_mode": {
    "name": "ipython",
    "version": 3
   },
   "file_extension": ".py",
   "mimetype": "text/x-python",
   "name": "python",
   "nbconvert_exporter": "python",
   "pygments_lexer": "ipython3",
   "version": "3.8.13"
  }
 },
 "nbformat": 4,
 "nbformat_minor": 5
}
